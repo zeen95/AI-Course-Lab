{
 "cells": [
  {
   "cell_type": "markdown",
   "metadata": {},
   "source": [
    "# Using the python Zip() function "
   ]
  },
  {
   "cell_type": "code",
   "execution_count": 16,
   "metadata": {},
   "outputs": [
    {
     "name": "stdout",
     "output_type": "stream",
     "text": [
      "a x\n",
      "b y\n",
      "c z\n"
     ]
    }
   ],
   "source": [
    "a = ['a','b','c']\n",
    "b = ['x','y','z']\n",
    "for item in range(0,3):\n",
    "    print(a[item],b[item])"
   ]
  },
  {
   "cell_type": "code",
   "execution_count": 17,
   "metadata": {},
   "outputs": [
    {
     "name": "stdout",
     "output_type": "stream",
     "text": [
      "a\n",
      "b\n",
      "c\n"
     ]
    }
   ],
   "source": [
    "a = ['a','b','c']\n",
    "for item in a:\n",
    "    print(item)"
   ]
  },
  {
   "cell_type": "code",
   "execution_count": 18,
   "metadata": {},
   "outputs": [
    {
     "name": "stdout",
     "output_type": "stream",
     "text": [
      "a x\n",
      "b y\n",
      "c z\n"
     ]
    }
   ],
   "source": [
    "a = ['a','b','c']\n",
    "b = ['x','y','z']\n",
    "\n",
    "for item1, item2 in zip(a,b):\n",
    "    print(item1,item2)\n"
   ]
  },
  {
   "cell_type": "markdown",
   "metadata": {
    "slideshow": {
     "slide_type": "slide"
    }
   },
   "source": [
    "# Gradient Descent Algorithm "
   ]
  },
  {
   "cell_type": "code",
   "execution_count": 19,
   "metadata": {
    "slideshow": {
     "slide_type": "fragment"
    }
   },
   "outputs": [],
   "source": [
    "# necessary library imports\n",
    "import numpy as np\n",
    "import matplotlib.pyplot as plt\n",
    "%matplotlib inline"
   ]
  },
  {
   "cell_type": "markdown",
   "metadata": {
    "slideshow": {
     "slide_type": "slide"
    }
   },
   "source": [
    "Lets generate some dummy data to process. We create a numpy array of 10 floating point numbers between -2 and 10 to serve as input feature. We use $y= 2 + 1.25 x$ to generate the output variable y. "
   ]
  },
  {
   "cell_type": "code",
   "execution_count": 20,
   "metadata": {
    "slideshow": {
     "slide_type": "fragment"
    }
   },
   "outputs": [],
   "source": [
    "# generate data\n",
    "X = np.linspace(-2, 10, 10)\n",
    "y = 2 + X * 1.25"
   ]
  },
  {
   "cell_type": "code",
   "execution_count": 21,
   "metadata": {},
   "outputs": [
    {
     "data": {
      "text/plain": [
       "array([-0.5       ,  1.16666667,  2.83333333,  4.5       ,  6.16666667,\n",
       "        7.83333333,  9.5       , 11.16666667, 12.83333333, 14.5       ])"
      ]
     },
     "execution_count": 21,
     "metadata": {},
     "output_type": "execute_result"
    }
   ],
   "source": [
    "y"
   ]
  },
  {
   "cell_type": "code",
   "execution_count": 22,
   "metadata": {
    "slideshow": {
     "slide_type": "slide"
    }
   },
   "outputs": [
    {
     "data": {
      "text/plain": [
       "Text(0, 0.5, '$f(x) = 2 + 1.25 x $')"
      ]
     },
     "execution_count": 22,
     "metadata": {},
     "output_type": "execute_result"
    },
    {
     "data": {
      "image/png": "[encoded data removed]",
      "text/plain": [
       "<Figure size 432x288 with 1 Axes>"
      ]
     },
     "metadata": {
      "needs_background": "light"
     },
     "output_type": "display_data"
    }
   ],
   "source": [
    "plt.plot(X, y)\n",
    "plt.title(r'$w_0 = 2, w_1=1.25$')\n",
    "plt.xlabel(r'X')\n",
    "plt.ylabel(r'$f(x) = 2 + 1.25 x $')"
   ]
  },
  {
   "cell_type": "markdown",
   "metadata": {
    "slideshow": {
     "slide_type": "slide"
    }
   },
   "source": [
    "Lets define a function for the hypothesis i.e. $h(x; w_0,w_1)=w_0+w_1 x$"
   ]
  },
  {
   "cell_type": "code",
   "execution_count": 23,
   "metadata": {
    "slideshow": {
     "slide_type": "fragment"
    }
   },
   "outputs": [],
   "source": [
    "# hypothesis\n",
    "def h(x, w0, w1):\n",
    "    return w0 + w1 * x"
   ]
  },
  {
   "cell_type": "markdown",
   "metadata": {
    "slideshow": {
     "slide_type": "slide"
    }
   },
   "source": [
    "## Stochastic gradient descent"
   ]
  },
  {
   "cell_type": "code",
   "execution_count": 24,
   "metadata": {
    "slideshow": {
     "slide_type": "subslide"
    }
   },
   "outputs": [
    {
     "name": "stdout",
     "output_type": "stream",
     "text": [
      "Iteration: 1 \t w0:0.000000 \t w1:0.000000 \t J:0.000000\n",
      "======================================================================\n",
      "Iteration: 2 \t w0:0.765014 \t w1:2.694747 \t J:10.642866\n",
      "======================================================================\n",
      "Iteration: 3 \t w0:0.803627 \t w1:1.050436 \t J:0.621181\n",
      "======================================================================\n",
      "Iteration: 4 \t w0:1.153974 \t w1:1.844254 \t J:1.583566\n",
      "======================================================================\n",
      "Iteration: 5 \t w0:1.257816 \t w1:1.308058 \t J:0.001592\n",
      "======================================================================\n",
      "Iteration: 6 \t w0:1.439570 \t w1:1.529086 \t J:0.303296\n",
      "======================================================================\n",
      "Iteration: 7 \t w0:1.530777 \t w1:1.344882 \t J:0.014023\n",
      "======================================================================\n",
      "Iteration: 8 \t w0:1.634300 \t w1:1.397792 \t J:0.075417\n",
      "======================================================================\n",
      "Iteration: 9 \t w0:1.700533 \t w1:1.328817 \t J:0.014561\n",
      "======================================================================\n",
      "Iteration: 10 \t w0:1.763029 \t w1:1.335330 \t J:0.023159\n",
      "======================================================================\n",
      "Iteration: 11 \t w0:1.807990 \t w1:1.306213 \t J:0.008352\n",
      "======================================================================\n",
      "Iteration: 12 \t w0:1.846950 \t w1:1.301914 \t J:0.008171\n",
      "======================================================================\n",
      "Iteration: 13 \t w0:1.876614 \t w1:1.287880 \t J:0.003977\n",
      "======================================================================\n",
      "Iteration: 14 \t w0:1.901306 \t w1:1.282495 \t J:0.003121\n",
      "======================================================================\n",
      "Iteration: 15 \t w0:1.920627 \t w1:1.274911 \t J:0.001756\n",
      "======================================================================\n",
      "Iteration: 16 \t w0:1.936405 \t w1:1.270636 \t J:0.001243\n",
      "======================================================================\n",
      "Iteration: 17 \t w0:1.948914 \t w1:1.266201 \t J:0.000750\n",
      "======================================================================\n",
      "Iteration: 18 \t w0:1.959036 \t w1:1.263199 \t J:0.000505\n",
      "======================================================================\n",
      "Iteration: 19 \t w0:1.967112 \t w1:1.260481 \t J:0.000315\n",
      "======================================================================\n",
      "Iteration: 20 \t w0:1.973618 \t w1:1.258472 \t J:0.000207\n",
      "======================================================================\n",
      "Iteration: 21 \t w0:1.978825 \t w1:1.256764 \t J:0.000132\n",
      "======================================================================\n",
      "Iteration: 22 \t w0:1.983011 \t w1:1.255447 \t J:0.000086\n",
      "======================================================================\n",
      "Iteration: 23 \t w0:1.986365 \t w1:1.254360 \t J:0.000055\n",
      "======================================================================\n",
      "Iteration: 24 \t w0:1.989060 \t w1:1.253505 \t J:0.000035\n",
      "======================================================================\n",
      "Iteration: 25 \t w0:1.991220 \t w1:1.252809 \t J:0.000023\n",
      "======================================================================\n",
      "Iteration: 26 \t w0:1.992955 \t w1:1.252256 \t J:0.000015\n",
      "======================================================================\n",
      "Iteration: 27 \t w0:1.994347 \t w1:1.251809 \t J:0.000009\n",
      "======================================================================\n",
      "Iteration: 28 \t w0:1.995464 \t w1:1.251453 \t J:0.000006\n",
      "======================================================================\n",
      "Iteration: 29 \t w0:1.996360 \t w1:1.251165 \t J:0.000004\n",
      "======================================================================\n",
      "Iteration: 30 \t w0:1.997079 \t w1:1.250935 \t J:0.000003\n",
      "======================================================================\n",
      "Iteration: 31 \t w0:1.997656 \t w1:1.250750 \t J:0.000002\n",
      "======================================================================\n",
      "Iteration: 32 \t w0:1.998119 \t w1:1.250602 \t J:0.000001\n",
      "======================================================================\n",
      "Iteration: 33 \t w0:1.998491 \t w1:1.250483 \t J:0.000001\n",
      "======================================================================\n",
      "Iteration: 34 \t w0:1.998789 \t w1:1.250388 \t J:0.000000\n",
      "======================================================================\n",
      "Iteration: 35 \t w0:1.999028 \t w1:1.250311 \t J:0.000000\n",
      "======================================================================\n",
      "Iteration: 36 \t w0:1.999220 \t w1:1.250250 \t J:0.000000\n",
      "======================================================================\n",
      "Iteration: 37 \t w0:1.999374 \t w1:1.250200 \t J:0.000000\n",
      "======================================================================\n",
      "Iteration: 38 \t w0:1.999498 \t w1:1.250161 \t J:0.000000\n",
      "======================================================================\n",
      "Iteration: 39 \t w0:1.999597 \t w1:1.250129 \t J:0.000000\n",
      "======================================================================\n",
      "Iteration: 40 \t w0:1.999677 \t w1:1.250104 \t J:0.000000\n",
      "======================================================================\n",
      "Iteration: 41 \t w0:1.999740 \t w1:1.250083 \t J:0.000000\n",
      "======================================================================\n",
      "Iteration: 42 \t w0:1.999792 \t w1:1.250067 \t J:0.000000\n",
      "======================================================================\n",
      "Iteration: 43 \t w0:1.999833 \t w1:1.250053 \t J:0.000000\n",
      "======================================================================\n",
      "Iteration: 44 \t w0:1.999866 \t w1:1.250043 \t J:0.000000\n",
      "======================================================================\n",
      "Iteration: 45 \t w0:1.999892 \t w1:1.250034 \t J:0.000000\n",
      "======================================================================\n",
      "Iteration: 46 \t w0:1.999914 \t w1:1.250028 \t J:0.000000\n",
      "======================================================================\n",
      "Iteration: 47 \t w0:1.999931 \t w1:1.250022 \t J:0.000000\n",
      "======================================================================\n",
      "Iteration: 48 \t w0:1.999944 \t w1:1.250018 \t J:0.000000\n",
      "======================================================================\n",
      "Iteration: 49 \t w0:1.999955 \t w1:1.250014 \t J:0.000000\n",
      "======================================================================\n"
     ]
    }
   ],
   "source": [
    "# Stochastic gradient descent\n",
    "\n",
    "# initialize the parameters to zero\n",
    "w0 = 0.0\n",
    "w1 = 0.0\n",
    "\n",
    "\n",
    "# the learning rate. Experiement by changing alpha to see its impact on training.\n",
    "alpha = 0.05\n",
    "\n",
    "d = []  # an array to store the states for generating plot \n",
    "delta = 0  # a variable to store the error.\n",
    "\n",
    "# change here to reduce or increase the \n",
    "# number of iterations (epochs)\n",
    "for i in range(1, 50):\n",
    "\n",
    "    print('Iteration: {} \\t w0:{:0f} \\t w1:{:0f} \\t J:{:0f}'.format(\n",
    "        i, w0, w1, delta**2))\n",
    "    print('='*70)\n",
    "\n",
    "    # zip is used to iterate over two iterable variables simultaneously\n",
    "    for x_i, y_i in zip(X, y):\n",
    "\n",
    "        # calculate the error i.e. diffrecne between estimated and acutal values\n",
    "        delta = h(x_i, w0, w1) - y_i\n",
    "        w0 = w0 - alpha * delta       # update w_0\n",
    "        w1 = w1 - alpha * delta * x_i  # updtae w_1\n",
    "        # print('='*70)\n",
    "    d.append(delta)"
   ]
  },
  {
   "cell_type": "markdown",
   "metadata": {
    "slideshow": {
     "slide_type": "fragment"
    }
   },
   "source": [
    "As you can see after a few iterations the cost function converges to 0 and the estimated values of the parameters $w_0$ and $w_1$ approach their actual values. The following plot shows how error reduces as the training progresses. "
   ]
  },
  {
   "cell_type": "code",
   "execution_count": 25,
   "metadata": {
    "slideshow": {
     "slide_type": "slide"
    }
   },
   "outputs": [
    {
     "data": {
      "text/plain": [
       "Text(0, 0.5, 'Error: $h(x)-y$')"
      ]
     },
     "execution_count": 25,
     "metadata": {},
     "output_type": "execute_result"
    },
    {
     "data": {
      "image/png": "[encoded data removed]",
      "text/plain": [
       "<Figure size 432x288 with 1 Axes>"
      ]
     },
     "metadata": {
      "needs_background": "light"
     },
     "output_type": "display_data"
    }
   ],
   "source": [
    "plt.plot(d)\n",
    "plt.title(\"Error vs iterations (epochs)\")\n",
    "plt.xlabel(\"Iterations (epohcs)\")\n",
    "plt.ylabel(r\"Error: $h(x)-y$\")"
   ]
  },
  {
   "cell_type": "markdown",
   "metadata": {
    "slideshow": {
     "slide_type": "slide"
    }
   },
   "source": [
    "# Batch gradient descent\n",
    "\n",
    "Lets implement the batch version of the algorithm. "
   ]
  },
  {
   "cell_type": "code",
   "execution_count": 26,
   "metadata": {
    "slideshow": {
     "slide_type": "fragment"
    }
   },
   "outputs": [
    {
     "name": "stdout",
     "output_type": "stream",
     "text": [
      "Batch Iteration: 1 \t w0:0.000000 \t w1:0.000000\n",
      "Batch Iteration: 2 \t w0:0.350000 \t w1:2.316667\n",
      "Batch Iteration: 3 \t w0:0.219167 \t w1:1.011111\n",
      "Batch Iteration: 4 \t w0:0.355986 \t w1:1.733574\n",
      "Batch Iteration: 5 \t w0:0.341472 \t w1:1.320897\n",
      "Batch Iteration: 6 \t w0:0.410219 \t w1:1.543894\n",
      "Batch Iteration: 7 \t w0:0.430929 \t w1:1.411213\n",
      "Batch Iteration: 8 \t w0:0.477140 \t w1:1.477834\n",
      "Batch Iteration: 9 \t w0:0.507716 \t w1:1.433060\n",
      "Batch Iteration: 10 \t w0:0.545719 \t w1:1.450824\n",
      "Batch Iteration: 11 \t w0:0.578268 \t w1:1.433750\n",
      "Batch Iteration: 12 \t w0:0.612604 \t w1:1.436347\n",
      "Batch Iteration: 13 \t w0:0.644705 \t w1:1.428094\n",
      "Batch Iteration: 14 \t w0:0.676851 \t w1:1.426075\n",
      "Batch Iteration: 15 \t w0:0.707793 \t w1:1.420723\n",
      "Batch Iteration: 16 \t w0:0.738259 \t w1:1.417389\n",
      "Batch Iteration: 17 \t w0:0.767868 \t w1:1.413074\n",
      "Batch Iteration: 18 \t w0:0.796860 \t w1:1.409454\n",
      "Batch Iteration: 19 \t w0:0.825126 \t w1:1.405586\n",
      "Batch Iteration: 20 \t w0:0.852753 \t w1:1.401995\n",
      "Batch Iteration: 21 \t w0:0.879716 \t w1:1.398385\n",
      "Batch Iteration: 22 \t w0:0.906053 \t w1:1.394918\n",
      "Batch Iteration: 23 \t w0:0.931767 \t w1:1.391500\n",
      "Batch Iteration: 24 \t w0:0.956879 \t w1:1.388180\n",
      "Batch Iteration: 25 \t w0:0.981399 \t w1:1.384928\n",
      "Batch Iteration: 26 \t w0:1.005343 \t w1:1.381759\n",
      "Batch Iteration: 27 \t w0:1.028724 \t w1:1.378660\n",
      "Batch Iteration: 28 \t w0:1.051556 \t w1:1.375636\n",
      "Batch Iteration: 29 \t w0:1.073851 \t w1:1.372683\n",
      "Batch Iteration: 30 \t w0:1.095622 \t w1:1.369799\n",
      "Batch Iteration: 31 \t w0:1.116881 \t w1:1.366983\n",
      "Batch Iteration: 32 \t w0:1.137640 \t w1:1.364233\n",
      "Batch Iteration: 33 \t w0:1.157912 \t w1:1.361548\n",
      "Batch Iteration: 34 \t w0:1.177707 \t w1:1.358926\n",
      "Batch Iteration: 35 \t w0:1.197036 \t w1:1.356365\n",
      "Batch Iteration: 36 \t w0:1.215911 \t w1:1.353865\n",
      "Batch Iteration: 37 \t w0:1.234343 \t w1:1.351423\n",
      "Batch Iteration: 38 \t w0:1.252341 \t w1:1.349039\n",
      "Batch Iteration: 39 \t w0:1.269916 \t w1:1.346711\n",
      "Batch Iteration: 40 \t w0:1.287078 \t w1:1.344438\n",
      "Batch Iteration: 41 \t w0:1.303837 \t w1:1.342218\n",
      "Batch Iteration: 42 \t w0:1.320201 \t w1:1.340050\n",
      "Batch Iteration: 43 \t w0:1.336181 \t w1:1.337933\n",
      "Batch Iteration: 44 \t w0:1.351786 \t w1:1.335866\n",
      "Batch Iteration: 45 \t w0:1.367023 \t w1:1.333848\n",
      "Batch Iteration: 46 \t w0:1.381902 \t w1:1.331877\n",
      "Batch Iteration: 47 \t w0:1.396432 \t w1:1.329952\n",
      "Batch Iteration: 48 \t w0:1.410620 \t w1:1.328073\n",
      "Batch Iteration: 49 \t w0:1.424474 \t w1:1.326237\n",
      "Batch Iteration: 50 \t w0:1.438003 \t w1:1.324445\n",
      "Batch Iteration: 51 \t w0:1.451214 \t w1:1.322695\n",
      "Batch Iteration: 52 \t w0:1.464114 \t w1:1.320986\n",
      "Batch Iteration: 53 \t w0:1.476711 \t w1:1.319318\n",
      "Batch Iteration: 54 \t w0:1.489012 \t w1:1.317688\n",
      "Batch Iteration: 55 \t w0:1.501024 \t w1:1.316097\n",
      "Batch Iteration: 56 \t w0:1.512753 \t w1:1.314543\n",
      "Batch Iteration: 57 \t w0:1.524207 \t w1:1.313026\n",
      "Batch Iteration: 58 \t w0:1.535391 \t w1:1.311545\n",
      "Batch Iteration: 59 \t w0:1.546313 \t w1:1.310098\n",
      "Batch Iteration: 60 \t w0:1.556978 \t w1:1.308685\n",
      "Batch Iteration: 61 \t w0:1.567392 \t w1:1.307306\n",
      "Batch Iteration: 62 \t w0:1.577561 \t w1:1.305959\n",
      "Batch Iteration: 63 \t w0:1.587491 \t w1:1.304643\n",
      "Batch Iteration: 64 \t w0:1.597188 \t w1:1.303359\n",
      "Batch Iteration: 65 \t w0:1.606657 \t w1:1.302104\n",
      "Batch Iteration: 66 \t w0:1.615903 \t w1:1.300880\n",
      "Batch Iteration: 67 \t w0:1.624932 \t w1:1.299684\n",
      "Batch Iteration: 68 \t w0:1.633749 \t w1:1.298516\n",
      "Batch Iteration: 69 \t w0:1.642358 \t w1:1.297375\n",
      "Batch Iteration: 70 \t w0:1.650765 \t w1:1.296262\n",
      "Batch Iteration: 71 \t w0:1.658975 \t w1:1.295174\n",
      "Batch Iteration: 72 \t w0:1.666991 \t w1:1.294112\n",
      "Batch Iteration: 73 \t w0:1.674819 \t w1:1.293075\n",
      "Batch Iteration: 74 \t w0:1.682463 \t w1:1.292063\n",
      "Batch Iteration: 75 \t w0:1.689927 \t w1:1.291074\n",
      "Batch Iteration: 76 \t w0:1.697216 \t w1:1.290108\n",
      "Batch Iteration: 77 \t w0:1.704334 \t w1:1.289166\n",
      "Batch Iteration: 78 \t w0:1.711284 \t w1:1.288245\n",
      "Batch Iteration: 79 \t w0:1.718071 \t w1:1.287346\n",
      "Batch Iteration: 80 \t w0:1.724698 \t w1:1.286468\n",
      "Batch Iteration: 81 \t w0:1.731170 \t w1:1.285611\n",
      "Batch Iteration: 82 \t w0:1.737489 \t w1:1.284774\n",
      "Batch Iteration: 83 \t w0:1.743660 \t w1:1.283956\n",
      "Batch Iteration: 84 \t w0:1.749685 \t w1:1.283158\n",
      "Batch Iteration: 85 \t w0:1.755570 \t w1:1.282379\n",
      "Batch Iteration: 86 \t w0:1.761315 \t w1:1.281617\n",
      "Batch Iteration: 87 \t w0:1.766926 \t w1:1.280874\n",
      "Batch Iteration: 88 \t w0:1.772405 \t w1:1.280149\n",
      "Batch Iteration: 89 \t w0:1.777755 \t w1:1.279440\n",
      "Batch Iteration: 90 \t w0:1.782979 \t w1:1.278748\n",
      "Batch Iteration: 91 \t w0:1.788081 \t w1:1.278072\n",
      "Batch Iteration: 92 \t w0:1.793062 \t w1:1.277412\n",
      "Batch Iteration: 93 \t w0:1.797927 \t w1:1.276768\n",
      "Batch Iteration: 94 \t w0:1.802677 \t w1:1.276139\n",
      "Batch Iteration: 95 \t w0:1.807315 \t w1:1.275524\n",
      "Batch Iteration: 96 \t w0:1.811845 \t w1:1.274924\n",
      "Batch Iteration: 97 \t w0:1.816268 \t w1:1.274338\n",
      "Batch Iteration: 98 \t w0:1.820587 \t w1:1.273766\n",
      "Batch Iteration: 99 \t w0:1.824804 \t w1:1.273207\n",
      "Batch Iteration: 100 \t w0:1.828922 \t w1:1.272662\n",
      "Batch Iteration: 101 \t w0:1.832944 \t w1:1.272129\n",
      "Batch Iteration: 102 \t w0:1.836871 \t w1:1.271609\n",
      "Batch Iteration: 103 \t w0:1.840706 \t w1:1.271101\n",
      "Batch Iteration: 104 \t w0:1.844450 \t w1:1.270605\n",
      "Batch Iteration: 105 \t w0:1.848107 \t w1:1.270121\n",
      "Batch Iteration: 106 \t w0:1.851677 \t w1:1.269648\n",
      "Batch Iteration: 107 \t w0:1.855164 \t w1:1.269186\n",
      "Batch Iteration: 108 \t w0:1.858568 \t w1:1.268735\n",
      "Batch Iteration: 109 \t w0:1.861893 \t w1:1.268294\n",
      "Batch Iteration: 110 \t w0:1.865139 \t w1:1.267864\n",
      "Batch Iteration: 111 \t w0:1.868310 \t w1:1.267444\n",
      "Batch Iteration: 112 \t w0:1.871405 \t w1:1.267034\n",
      "Batch Iteration: 113 \t w0:1.874428 \t w1:1.266634\n",
      "Batch Iteration: 114 \t w0:1.877380 \t w1:1.266243\n",
      "Batch Iteration: 115 \t w0:1.880262 \t w1:1.265861\n",
      "Batch Iteration: 116 \t w0:1.883077 \t w1:1.265488\n",
      "Batch Iteration: 117 \t w0:1.885826 \t w1:1.265124\n",
      "Batch Iteration: 118 \t w0:1.888509 \t w1:1.264769\n",
      "Batch Iteration: 119 \t w0:1.891130 \t w1:1.264422\n",
      "Batch Iteration: 120 \t w0:1.893689 \t w1:1.264082\n",
      "Batch Iteration: 121 \t w0:1.896188 \t w1:1.263751\n",
      "Batch Iteration: 122 \t w0:1.898629 \t w1:1.263428\n",
      "Batch Iteration: 123 \t w0:1.901012 \t w1:1.263113\n",
      "Batch Iteration: 124 \t w0:1.903339 \t w1:1.262804\n",
      "Batch Iteration: 125 \t w0:1.905611 \t w1:1.262503\n",
      "Batch Iteration: 126 \t w0:1.907830 \t w1:1.262209\n",
      "Batch Iteration: 127 \t w0:1.909996 \t w1:1.261922\n",
      "Batch Iteration: 128 \t w0:1.912112 \t w1:1.261642\n",
      "Batch Iteration: 129 \t w0:1.914178 \t w1:1.261368\n",
      "Batch Iteration: 130 \t w0:1.916195 \t w1:1.261101\n",
      "Batch Iteration: 131 \t w0:1.918165 \t w1:1.260840\n",
      "Batch Iteration: 132 \t w0:1.920089 \t w1:1.260585\n",
      "Batch Iteration: 133 \t w0:1.921967 \t w1:1.260337\n",
      "Batch Iteration: 134 \t w0:1.923802 \t w1:1.260094\n",
      "Batch Iteration: 135 \t w0:1.925593 \t w1:1.259856\n",
      "Batch Iteration: 136 \t w0:1.927342 \t w1:1.259625\n",
      "Batch Iteration: 137 \t w0:1.929050 \t w1:1.259398\n",
      "Batch Iteration: 138 \t w0:1.930718 \t w1:1.259178\n",
      "Batch Iteration: 139 \t w0:1.932346 \t w1:1.258962\n",
      "Batch Iteration: 140 \t w0:1.933937 \t w1:1.258751\n",
      "Batch Iteration: 141 \t w0:1.935490 \t w1:1.258545\n",
      "Batch Iteration: 142 \t w0:1.937006 \t w1:1.258345\n",
      "Batch Iteration: 143 \t w0:1.938487 \t w1:1.258148\n",
      "Batch Iteration: 144 \t w0:1.939933 \t w1:1.257957\n",
      "Batch Iteration: 145 \t w0:1.941345 \t w1:1.257770\n",
      "Batch Iteration: 146 \t w0:1.942724 \t w1:1.257587\n",
      "Batch Iteration: 147 \t w0:1.944070 \t w1:1.257409\n",
      "Batch Iteration: 148 \t w0:1.945385 \t w1:1.257235\n",
      "Batch Iteration: 149 \t w0:1.946669 \t w1:1.257065\n"
     ]
    }
   ],
   "source": [
    "# batch gradient descent\n",
    "\n",
    "w0 = 0\n",
    "w1 = 0\n",
    "alpha = 0.05\n",
    "\n",
    "for i in range(1, 150):\n",
    "    print('Batch Iteration: {} \\t w0:{:0f} \\t w1:{:0f}'.format(i, w0, w1))\n",
    "    delta = np.array([])\n",
    "    for x_i, y_i in zip(X, y):\n",
    "        ypred = h(x_i, w0, w1)\n",
    "        delta = np.append(delta, ypred-y_i)\n",
    "        # print(delta)\n",
    "    w0 = w0 - alpha * sum(delta)/len(delta)\n",
    "    w1 = w1 - alpha * sum(delta * X)/len(delta)"
   ]
  },
  {
   "cell_type": "markdown",
   "metadata": {
    "slideshow": {
     "slide_type": "slide"
    }
   },
   "source": [
    "As you can see the batch algorithm converges slowly and requires more iterations despite that we have used the same value for the learning rate $\\alpha = 0.05$."
   ]
  },
  {
   "cell_type": "markdown",
   "metadata": {},
   "source": [
    "# ASSIGNMENT\n",
    "\n",
    "Experiment with the following values of alpha and write the values of $w_0$ and $w_1$ after 10, 25 and 50 iterations for each algorithm (i.e. stochastic and Batch gradient descent):\n",
    "\n",
    "0.05, 0.1, 0.5\n",
    "\n",
    "Report your results in two tables, one for each parameter."
   ]
  },
  {
   "cell_type": "code",
   "execution_count": null,
   "metadata": {},
   "outputs": [],
   "source": []
  }
 ],
 "metadata": {
  "kernelspec": {
   "display_name": "Python 3",
   "language": "python",
   "name": "python3"
  },
  "language_info": {
   "codemirror_mode": {
    "name": "ipython",
    "version": 3
   },
   "file_extension": ".py",
   "mimetype": "text/x-python",
   "name": "python",
   "nbconvert_exporter": "python",
   "pygments_lexer": "ipython3",
   "version": "3.7.3"
  }
 },
 "nbformat": 4,
 "nbformat_minor": 4
}
