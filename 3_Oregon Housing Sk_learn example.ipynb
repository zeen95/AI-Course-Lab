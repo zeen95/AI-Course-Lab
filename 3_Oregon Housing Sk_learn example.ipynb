{
 "cells": [
  {
   "cell_type": "markdown",
   "metadata": {},
   "source": [
    "# Linear Regression Example using Scikit-Learn Library"
   ]
  },
  {
   "cell_type": "code",
   "execution_count": 1,
   "metadata": {},
   "outputs": [],
   "source": [
    "import matplotlib.pyplot as plt\n",
    "import numpy as np\n",
    "\n",
    "np.set_printoptions(precision=3,suppress =True) # printing settings\n",
    "\n",
    "# import linear model for scikit-learn\n",
    "import sklearn.linear_model as sk\n",
    "csv = np.genfromtxt('./oregonhousing.csv', \n",
    "                    delimiter=\",\")\n",
    "\n",
    "# extract first two columns as features\n",
    "X = csv[:,0:2] # note the usage of array slicing \n",
    "\n",
    "# the third column contains house prices which we store in y\n",
    "Y = csv[:,2]  \n"
   ]
  },
  {
   "cell_type": "markdown",
   "metadata": {},
   "source": [
    "## Plots for visualization of the data"
   ]
  },
  {
   "cell_type": "code",
   "execution_count": 2,
   "metadata": {},
   "outputs": [
    {
     "data": {
      "image/png": "[encoded data removed]",
      "text/plain": [
       "<Figure size 432x288 with 1 Axes>"
      ]
     },
     "metadata": {
      "needs_background": "light"
     },
     "output_type": "display_data"
    },
    {
     "data": {
      "image/png": "[encoded data removed]",
      "text/plain": [
       "<Figure size 432x288 with 1 Axes>"
      ]
     },
     "metadata": {
      "needs_background": "light"
     },
     "output_type": "display_data"
    }
   ],
   "source": [
    "\n",
    "import matplotlib.pyplot as plt\n",
    "\n",
    "plt.scatter(X[:,0],Y)\n",
    "plt.title('House size vs price')\n",
    "plt.xlabel('Size Sq. feet')\n",
    "plt.ylabel('price USD')\n",
    "plt.show()\n",
    "\n",
    "plt.scatter(X[:,1],Y)\n",
    "plt.title('Numbe of rooms vs price')\n",
    "plt.xlabel('Rooms')\n",
    "plt.ylabel('price USD')\n",
    "plt.show()"
   ]
  },
  {
   "cell_type": "code",
   "execution_count": 3,
   "metadata": {},
   "outputs": [],
   "source": [
    "# run the gradient descent code with and without scaling \n",
    "# and compare the results\n",
    "\n",
    "sigma = np.std(X , axis=0) # calculate standared deviation of X_1 and X_2\n",
    "mu = np.mean(X, axis=0) # calculate the mean of X_1 and X_2\n",
    "\n",
    "X[:,0] = (X[:,0] - mu[0])/ sigma[0]\n",
    "X[:,1] = (X[:,1] - mu[1])/ sigma[1]"
   ]
  },
  {
   "cell_type": "markdown",
   "metadata": {},
   "source": [
    "Lets build a model by using the constructor method."
   ]
  },
  {
   "cell_type": "code",
   "execution_count": 4,
   "metadata": {},
   "outputs": [],
   "source": [
    "model=sk.LinearRegression() "
   ]
  },
  {
   "cell_type": "code",
   "execution_count": 8,
   "metadata": {},
   "outputs": [
    {
     "data": {
      "text/plain": [
       "LinearRegression(copy_X=True, fit_intercept=True, n_jobs=None, normalize=False)"
      ]
     },
     "execution_count": 8,
     "metadata": {},
     "output_type": "execute_result"
    }
   ],
   "source": [
    "# training the model \n",
    "model.fit(X,Y)\n",
    "# now the model is trained"
   ]
  },
  {
   "cell_type": "markdown",
   "metadata": {},
   "source": [
    "Lets print the models $R^2$ Score"
   ]
  },
  {
   "cell_type": "code",
   "execution_count": 9,
   "metadata": {},
   "outputs": [
    {
     "name": "stdout",
     "output_type": "stream",
     "text": [
      "R2 score:  0.7329450180289141\n"
     ]
    }
   ],
   "source": [
    "print(\"R2 score: \", model.score(X,Y))"
   ]
  },
  {
   "cell_type": "markdown",
   "metadata": {},
   "source": [
    "The following code prints the MSE."
   ]
  },
  {
   "cell_type": "code",
   "execution_count": 10,
   "metadata": {},
   "outputs": [
    {
     "name": "stdout",
     "output_type": "stream",
     "text": [
      "mean squared error 4086560101.205658\n"
     ]
    }
   ],
   "source": [
    "from sklearn.metrics import mean_squared_error\n",
    "mse = mean_squared_error(Y, model.predict(X))\n",
    "\n",
    "print(\"mean squared error\",mse)\n"
   ]
  },
  {
   "cell_type": "markdown",
   "metadata": {},
   "source": [
    "Lets print the intercept and slope parameters. "
   ]
  },
  {
   "cell_type": "code",
   "execution_count": 11,
   "metadata": {},
   "outputs": [
    {
     "name": "stdout",
     "output_type": "stream",
     "text": [
      "W_0:  340412.6595744681\n",
      "W_i:  [109447.796  -6578.355]\n"
     ]
    }
   ],
   "source": [
    "print('W_0: ', model.intercept_)\n",
    "print('W_i: ',model.coef_)\n"
   ]
  },
  {
   "cell_type": "markdown",
   "metadata": {},
   "source": [
    "# Prediction\n",
    "\n",
    "Lets predict the price of a house 3500 sq. feet 5 room house. We must use the same scaling method to scale the features of the new data before feeding into the model."
   ]
  },
  {
   "cell_type": "code",
   "execution_count": 12,
   "metadata": {},
   "outputs": [
    {
     "name": "stdout",
     "output_type": "stream",
     "text": [
      "predicted price:[436703.746]\n"
     ]
    }
   ],
   "source": [
    "#predict a new unknown house's price\n",
    "U =np.array([[3500,5]])\n",
    "\n",
    "# we must scale the new input data before prediction.\n",
    "\n",
    "U[:,0] = (U[:,0] - mu[0])/ sigma[0]\n",
    "U[:,1] = (U[:,1] - mu[1])/ sigma[1]\n",
    "\n",
    "print(f'predicted price:{model.predict(U)}')"
   ]
  }
 ],
 "metadata": {
  "kernelspec": {
   "display_name": "Python 3",
   "language": "python",
   "name": "python3"
  },
  "language_info": {
   "codemirror_mode": {
    "name": "ipython",
    "version": 3
   },
   "file_extension": ".py",
   "mimetype": "text/x-python",
   "name": "python",
   "nbconvert_exporter": "python",
   "pygments_lexer": "ipython3",
   "version": "3.7.3"
  }
 },
 "nbformat": 4,
 "nbformat_minor": 4
}
