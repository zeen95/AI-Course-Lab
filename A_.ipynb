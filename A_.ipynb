{
  "cells": [
    {
      "cell_type": "markdown",
      "id": "1fa72829",
      "metadata": {
        "id": "1fa72829"
      },
      "source": [
        "# Lab 5  A* Search (Heuristic Search)\n",
        "\n",
        "A working implementation of the **A\\*** search algorithm (weighted graph).\n",
        ".\n"
      ]
    },
    {
      "cell_type": "markdown",
      "source": [
        "# import heapq\n",
        "**heapq:**\n",
        " module in Python provides a set of functions to implement heaps (priority queues).\n",
        "\n",
        "A heap is a special type of binary tree where the smallest element is always at the root (called a min-heap).\n",
        "Python’s heapq module uses min-heaps by default."
      ],
      "metadata": {
        "id": "C857rTpBK5Mg"
      },
      "id": "C857rTpBK5Mg"
    },
    {
      "cell_type": "markdown",
      "source": [
        "# Graph\n",
        "This Python dictionary represents a graph where:\n",
        "\n",
        "**Keys =** City names (nodes)\n",
        "\n",
        "**Values =** Another dictionary that represents connected cities (neighbors) with distances (weights).\n",
        "\n",
        "It’s a weighted graph because each edge has a distance (weight).\n",
        "It’s also undirected, meaning if Lahore → Islamabad is 270, there’s also Islamabad → Lahore with the same distance."
      ],
      "metadata": {
        "id": "tNJToWksLdLv"
      },
      "id": "tNJToWksLdLv"
    },
    {
      "cell_type": "markdown",
      "source": [
        "**Purpose of the Heuristic**\n",
        "\n",
        "A heuristic gives an estimated cost from a given city to the goal city (in this case, likely Karachi since it has a value of 0).\n",
        "\n",
        "It does not guarantee accuracy, it only gives an estimate to guide the search efficiently."
      ],
      "metadata": {
        "id": "iBJ8iHC1N7Op"
      },
      "id": "iBJ8iHC1N7Op"
    },
    {
      "cell_type": "markdown",
      "source": [
        "# def a_star(graph, start, goal, heuristic):\n",
        "It defines a function named a_star in Python that takes four inputs:\n",
        "\n",
        "graph → The network of cities and distances (nodes and edges).\n",
        "\n",
        "start → The starting city.\n",
        "\n",
        "goal → The destination city.\n",
        "\n",
        "heuristic → Estimated distance from each city to the goal (used to guide the search)."
      ],
      "metadata": {
        "id": "f3_dTfoTOzx_"
      },
      "id": "f3_dTfoTOzx_"
    },
    {
      "cell_type": "markdown",
      "source": [
        "# open_list = []\n",
        "Create an empty list that will be used as a min-heap priority queue (with heapq).\n",
        "\n",
        "It will store tuples where the heap order is by the first element (the f cost)."
      ],
      "metadata": {
        "id": "fYyKWq8CPaUr"
      },
      "id": "fYyKWq8CPaUr"
    },
    {
      "cell_type": "markdown",
      "source": [
        "# heapq.heappush(open_list, (heuristic[start], [start]))\n",
        "Push the start node onto the heap.\n",
        "\n",
        "Tuple = (f, path) where f = g(start) + h(start). Since g(start)=0, f = h(start).\n",
        "\n",
        "path is a list representing the route so far ([start])."
      ],
      "metadata": {
        "id": "xOkzqxZgQfc8"
      },
      "id": "xOkzqxZgQfc8"
    },
    {
      "cell_type": "markdown",
      "source": [
        "# g_costs = {start: 0}\n",
        "Dictionary holding the best-known actual cost g(n) from start to each node.\n",
        "\n",
        "Initialize with the start node cost 0."
      ],
      "metadata": {
        "id": "qn3UZiZvQY_r"
      },
      "id": "qn3UZiZvQY_r"
    },
    {
      "cell_type": "markdown",
      "source": [
        "# closed_set = set()\n",
        "A set of nodes whose final best g cost is settled (already expanded).\n",
        "\n",
        "Used to avoid re-processing nodes and to prune the search."
      ],
      "metadata": {
        "id": "94S5xNyJQwEk"
      },
      "id": "94S5xNyJQwEk"
    },
    {
      "cell_type": "markdown",
      "source": [
        "# while open_list:\n",
        "Loop runs as long as there are entries in the priority queue (open_list).\n",
        "\n",
        "In Python, an empty list is False, so the loop stops when the heap is empty."
      ],
      "metadata": {
        "id": "SjOyVzD1RqpL"
      },
      "id": "SjOyVzD1RqpL"
    },
    {
      "cell_type": "markdown",
      "source": [
        "# f, path = heapq.heappop(open_list)\n",
        "heapq.heappop(open_list) removes and returns the smallest tuple from the heap (smallest by the first element of the tuple).\n",
        "\n",
        "The returned tuple is unpacked into two variables:\n",
        "\n",
        "f → the estimated total cost f(n) (usually g + h).\n",
        "\n",
        "path → a list representing the route from the start node to the current node (e.g. ['Lahore','Faisalabad'])\n",
        "Effect: that best candidate is taken out of the open list for processing."
      ],
      "metadata": {
        "id": "lcXxuazGRyKo"
      },
      "id": "lcXxuazGRyKo"
    },
    {
      "cell_type": "markdown",
      "source": [
        "# node = path[-1]\n",
        "path[-1] accesses the last element of the path list — the current node to expand.\n",
        "\n",
        "This does not modify path; it just reads the current node (safe because path always has at least the start node)."
      ],
      "metadata": {
        "id": "EF4mVTn1SGwx"
      },
      "id": "EF4mVTn1SGwx"
    },
    {
      "cell_type": "markdown",
      "source": [
        "# if node == goal:\n",
        "Checks if the current node is the goal node.\n",
        "\n",
        "If True, it means we’ve found the destination city."
      ],
      "metadata": {
        "id": "97ulwzoDS1qk"
      },
      "id": "97ulwzoDS1qk"
    },
    {
      "cell_type": "markdown",
      "source": [
        "# return path, g_costs[node]\n",
        "Immediately stops the algorithm and returns:\n",
        "\n",
        "path → The complete route from start to goal.\n",
        "\n",
        "g_costs[node] → The total actual cost of traveling that path (distance)."
      ],
      "metadata": {
        "id": "nK-mJzfeTAn0"
      },
      "id": "nK-mJzfeTAn0"
    },
    {
      "cell_type": "markdown",
      "source": [
        "# if node in closed_set:\n",
        "   Checks if the current node has already been processed and its best cost finalized.\n",
        "\n",
        "closed_set contains nodes that do not need to be visited again.\n",
        "# continue     \n",
        "Skips the rest of the current loop iteration and goes back to the next item in open_list.\n",
        "\n",
        "This prevents re-expanding the same node, which saves time and avoids loops\n"
      ],
      "metadata": {
        "id": "AzS0--whUfgS"
      },
      "id": "AzS0--whUfgS"
    },
    {
      "cell_type": "markdown",
      "source": [
        "# closed_set.add(node)\n",
        "closed_set.add(node) → Adds the current node to the closed set.\n",
        "\n",
        "This marks the node as processed or finalized, meaning:\n",
        "\n",
        "Its shortest known cost (g) is confirmed.\n",
        "\n",
        "It should not be revisited or expanded again."
      ],
      "metadata": {
        "id": "bTUbqWsLU5Il"
      },
      "id": "bTUbqWsLU5Il"
    },
    {
      "cell_type": "markdown",
      "source": [
        "# for neighbor, cost in graph[node].items():\n",
        "**graph[node]**\n",
        "\n",
        "Gets all connected cities (neighbors) and their distances (weights) from the current node\n",
        "**.items()**\n",
        "Returns a list of key-value pairs (neighbor, cost).\n",
        "**for neighbor, cost in**\n",
        "Loops through each neighbor and its travel cost.\n",
        "\n",
        "neighbor → name of the adjacent city.\n",
        "\n",
        "cost → distance between node and that neighbor."
      ],
      "metadata": {
        "id": "8imvGJsOWCOZ"
      },
      "id": "8imvGJsOWCOZ"
    },
    {
      "cell_type": "markdown",
      "source": [
        "# tentative_g = g_costs[node] + cost\n",
        "**g_costs[node]**\n",
        "\n",
        "The current shortest known cost to reach this node from the start.\n",
        "\n",
        "cost\n",
        "\n",
        "The distance from the current node to its neighbor.\n",
        "\n",
        "**+ (addition)**\n",
        "\n",
        "Adds them together to get the total cost to reach the neighbor through the current node.\n",
        "\n",
        "**tentative_g**\n",
        "\n",
        "A temporary (tentative) cost used to check:\n",
        "\n",
        "If this new path to the neighbor is better (shorter) than any previously known path."
      ],
      "metadata": {
        "id": "S8QEf7YAYSop"
      },
      "id": "S8QEf7YAYSop"
    },
    {
      "cell_type": "markdown",
      "source": [
        "**if neighbor not in g_costs or tentative_g < g_costs[neighbor]:**\n",
        "Checks two conditions:\n",
        "\n",
        "neighbor not in g_costs →\n",
        "The neighbor has never been visited before.\n",
        "\n",
        "tentative_g < g_costs[neighbor] →\n",
        "We found a shorter path to this neighbor.\n",
        "\n",
        "If either is true, update the path and cost."
      ],
      "metadata": {
        "id": "BtGZCV9GZEam"
      },
      "id": "BtGZCV9GZEam"
    },
    {
      "cell_type": "markdown",
      "source": [
        "**g_costs[neighbor] = tentative_g**\n",
        "Save the best actual cost (g) found so far to reach this neighbor."
      ],
      "metadata": {
        "id": "W7rd0VjOZY7U"
      },
      "id": "W7rd0VjOZY7U"
    },
    {
      "cell_type": "markdown",
      "source": [
        "# f_cost = tentative_g + heuristic.get(neighbor, float('inf'))\n",
        "Calculate total estimated cost f for A*:\n",
        "\n",
        "𝑓\n",
        "=\n",
        "𝑔\n",
        "+\n",
        "ℎ\n",
        "f=g+h\n",
        "\n",
        "**tentative_g =** real cost to reach the neighbor.\n",
        "\n",
        "**heuristic.get(neighbor, float('inf')) =**\n",
        "estimated cost to goal.\n",
        "\n",
        "**float('inf')** is a default value in case the neighbor isn't in the heuristic dictionary."
      ],
      "metadata": {
        "id": "YDG1pWOQZexr"
      },
      "id": "YDG1pWOQZexr"
    },
    {
      "cell_type": "markdown",
      "source": [
        "# new_path = path + [neighbor]\n",
        "Create a new path list by adding this neighbor to the current path."
      ],
      "metadata": {
        "id": "NY-T2w1uZ3Q3"
      },
      "id": "NY-T2w1uZ3Q3"
    },
    {
      "cell_type": "markdown",
      "source": [
        "**heapq.heappush(open_list, (f_cost, new_path))**\n",
        "Push the neighbor into the priority queue (open_list).\n",
        "\n",
        "The heap will prioritize based on f_cost (smallest first)."
      ],
      "metadata": {
        "id": "EZKTDs2-aOns"
      },
      "id": "EZKTDs2-aOns"
    },
    {
      "cell_type": "code",
      "execution_count": 4,
      "id": "2da4eafa",
      "metadata": {
        "id": "2da4eafa",
        "colab": {
          "base_uri": "https://localhost:8080/"
        },
        "outputId": "a78df862-5d1b-46ab-eeb3-51399ac236b8"
      },
      "outputs": [
        {
          "output_type": "stream",
          "name": "stdout",
          "text": [
            "A* path: ['Lahore', 'Faisalabad', 'Multan', 'Karachi']\n",
            "Total cost: 1280\n"
          ]
        }
      ],
      "source": [
        "import heapq                    # Import heapq to use a priority queue (min-heap)\n",
        "\n",
        "#  Weighted graph: each node maps to a dict of neighbors and edge costs (distances)\n",
        "graph = {\n",
        "    \"Lahore\": {\"Islamabad\": 270, \"Faisalabad\": 180},\n",
        "    \"Islamabad\": {\"Lahore\": 270, \"Peshawar\": 190},\n",
        "    \"Faisalabad\": {\"Lahore\": 180, \"Multan\": 220},\n",
        "    \"Multan\": {\"Faisalabad\": 220, \"Karachi\": 880},\n",
        "    \"Peshawar\": {\"Islamabad\": 190},\n",
        "    \"Karachi\": {\"Multan\": 880}\n",
        "}\n",
        "# Heuristic must be admissible (never overestimate) to guarantee optimality.\n",
        "heuristic = {\n",
        "    \"Lahore\": 1210,\n",
        "    \"Islamabad\": 1100,\n",
        "    \"Faisalabad\": 1050,\n",
        "    \"Multan\": 880,\n",
        "    \"Peshawar\": 1250,\n",
        "    \"Karachi\": 0\n",
        "}\n",
        "def a_star(graph, start, goal, heuristic):\n",
        "    \"\"\"\n",
        "    A* search returns (path, total_cost) or (None, inf) if no path found.\n",
        "    We store paths in the priority queue together with their f-cost = g + h.\n",
        "    \"\"\"\n",
        "    open_list = []  # priority queue (min-heap) storing tuples (f_cost, path_list)\n",
        "    #  push the start node. g(start)=0 so f = 0 + h(start) = h(start)\n",
        "    heapq.heappush(open_list, (heuristic[start], [start]))\n",
        "    g_costs = {start: 0}  #  dictionary to store best-known g(n) costs\n",
        "    closed_set = set()    #  nodes whose best cost is finalized\n",
        "\n",
        "    #  loop until there are no nodes left to expand\n",
        "    while open_list:\n",
        "        f, path = heapq.heappop(open_list)  # pop node with smallest f(n)\n",
        "        node = path[-1]                     # current node is the last in the path\n",
        "\n",
        "        #  goal test\n",
        "        if node == goal:\n",
        "            return path, g_costs[node]\n",
        "\n",
        "        # skip if we already finalized this node\n",
        "        if node in closed_set:\n",
        "            continue\n",
        "\n",
        "        closed_set.add(node)  #  mark node as finalized\n",
        "\n",
        "        # iterate through neighbors and edge costs\n",
        "        for neighbor, cost in graph[node].items():\n",
        "            tentative_g = g_costs[node] + cost  # g through current node to neighbor\n",
        "\n",
        "            # if neighbor unseen or we found a cheaper g, update\n",
        "            if neighbor not in g_costs or tentative_g < g_costs[neighbor]:\n",
        "                g_costs[neighbor] = tentative_g\n",
        "                f_cost = tentative_g + heuristic.get(neighbor, float('inf'))\n",
        "                new_path = path + [neighbor]\n",
        "                heapq.heappush(open_list, (f_cost, new_path))\n",
        "\n",
        "    # if open_list empties without reaching goal => no path\n",
        "    return None, float('inf')\n",
        "\n",
        "# Example run\n",
        "if __name__ == \"__main__\":\n",
        "    start_city = \"Lahore\"\n",
        "    goal_city = \"Karachi\"\n",
        "    path, cost = a_star(graph, start_city, goal_city, heuristic)\n",
        "    print(\"A* path:\", path)\n",
        "    print(\"Total cost:\", cost)\n"
      ]
    }
  ],
  "metadata": {
    "colab": {
      "provenance": []
    },
    "language_info": {
      "name": "python"
    },
    "kernelspec": {
      "name": "python3",
      "display_name": "Python 3"
    }
  },
  "nbformat": 4,
  "nbformat_minor": 5
}