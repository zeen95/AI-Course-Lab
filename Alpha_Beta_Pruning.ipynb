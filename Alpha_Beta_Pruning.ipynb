{
  "nbformat": 4,
  "nbformat_minor": 0,
  "metadata": {
    "colab": {
      "provenance": []
    },
    "kernelspec": {
      "name": "python3",
      "display_name": "Python 3"
    },
    "language_info": {
      "name": "python"
    }
  },
  "cells": [
    {
      "cell_type": "code",
      "execution_count": 2,
      "metadata": {
        "colab": {
          "base_uri": "https://localhost:8080/"
        },
        "id": "ILyVPbfwWYIh",
        "outputId": "3f11e988-6453-42d9-baab-b2363f081282"
      },
      "outputs": [
        {
          "output_type": "stream",
          "name": "stdout",
          "text": [
            "The optimal value is: 5\n"
          ]
        }
      ],
      "source": [
        "#3, 5, 6, 9, 1, 2, 0, -1\n",
        "\n",
        "# Function to implement minimax with alpha-beta pruning\n",
        "def alpha_beta_pruning(depth, nodeIndex, isMax, values, alpha, beta, maxDepth):\n",
        "    # Base case: when we reach a leaf node\n",
        "    if depth == maxDepth:\n",
        "        return values[nodeIndex]\n",
        "\n",
        "    if isMax:\n",
        "        best = float('-inf')\n",
        "\n",
        "        # Recur for left and right children\n",
        "        for i in range(2):\n",
        "            val = alpha_beta_pruning(depth + 1, nodeIndex * 2 + i, False, values, alpha, beta, maxDepth)\n",
        "            best = max(best, val)\n",
        "            alpha = max(alpha, best)\n",
        "\n",
        "            # Alpha Beta Pruning condition\n",
        "            if beta <= alpha:\n",
        "                break\n",
        "\n",
        "        return best\n",
        "    else:\n",
        "        best = float('inf')\n",
        "\n",
        "        # Recur for left and right children\n",
        "        for i in range(2):\n",
        "            val = alpha_beta_pruning(depth + 1, nodeIndex * 2 + i, True, values, alpha, beta, maxDepth)\n",
        "            best = min(best, val)\n",
        "            beta = min(beta, best)\n",
        "\n",
        "            # Alpha Beta Pruning condition\n",
        "            if beta <= alpha:\n",
        "                break\n",
        "\n",
        "        return best\n",
        "\n",
        "\n",
        "# Example tree from the image:\n",
        "# Leaf node values (left to right): 3, 5, 6, 9, 1, 2, 0, -1\n",
        "values = [3, 5, 6, 9, 1, 2, 0, -1]\n",
        "maxDepth = 3\n",
        "\n",
        "# Initial alpha and beta values\n",
        "alpha = float('-inf')\n",
        "beta = float('inf')\n",
        "\n",
        "# Root node call\n",
        "print(\"The optimal value is:\", alpha_beta_pruning(0, 0, True, values, alpha, beta, maxDepth))\n"
      ]
    }
  ]
}