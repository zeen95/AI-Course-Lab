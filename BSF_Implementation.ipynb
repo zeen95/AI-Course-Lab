{
  "nbformat": 4,
  "nbformat_minor": 0,
  "metadata": {
    "colab": {
      "provenance": []
    },
    "kernelspec": {
      "name": "python3",
      "display_name": "Python 3"
    },
    "language_info": {
      "name": "python"
    }
  },
  "cells": [
    {
      "cell_type": "markdown",
      "source": [
        "## Implementation of  Breadth First Search (BSF) and Depth First Search (DFS)\n",
        "\n",
        "**__BFS__** is a type of uninformed searching algorithm where you should start traversing from a selected node (source or starting node) and traverse the graph layerwise thus exploring the neighbor nodes (nodes that are directly connected to the source node). You must then move towards the next-level neighbor nodes.\n",
        "\n",
        "As the name BFS suggests, you are required to traverse the graph  breadthwise as follows:\n",
        "\n",
        "- First move horizontally and visit all the nodes of the current layer\n",
        "- Move to the next layer\n",
        "    \n",
        "The BFS uses the Queue data structure to ensure the level-by-level expansion of the nodes. In this assignment, you need to implement BFS algorithm as discussed in the lecture\n",
        "__DFS__ is a type of uninformed searching algorithm where you should start traversing from a selected node (source or starting node) and traverse the graph __depthwise__ thus exploring all the nodes in a particular branch.\n",
        "\n",
        "As the name DFS suggests, you are required to traverse the graph depthwise as follows:\n",
        "\n",
        "- First move depthwise and visit all the nodes in a particular branch\n",
        "- Move to the next branch\n",
        "    \n",
        "The BFS uses the Stack data structure.\n",
        "The graph of different cities of Pakistan is implemented as a dictionary of sets\n",
        "\n"
      ],
      "metadata": {
        "id": "pahaIBN3k3wv"
      }
    },
    {
      "cell_type": "code",
      "execution_count": null,
      "metadata": {
        "id": "KnkoxGgxjkjm"
      },
      "outputs": [],
      "source": [
        "graph = {'Abbottabad': set(['Mansehra','Haripur','Muree']),\n",
        "            'Mansehra':set(['Abbottabad','Attar Shisha','Besham']),\n",
        "            'Haripur': set(['Hassan Abdal', 'Swabi']),\n",
        "            'Muree': set(['Islamabad','Muzzafar Abad']),\n",
        "            'Attar Shisha':set(['Mansehra', 'Naran','Muzzafar Abad']),\n",
        "            'Besham':set(['Khwazakhela','Chilas']),\n",
        "            'Hassan Abdal': set(['Jehangira','Taxila']),\n",
        "            'Swabi':set(['Haripur','Jehangira']),\n",
        "            'Islamabad':set(['Muree','Rawalpindi']),\n",
        "            'Muzzafar Abad': set(['Muree','Attar Shisha']),\n",
        "            'Khwazakhela':set(['Besham','Mingora','Kalam']),\n",
        "            'Chilas':set(['Besham','Naran','Gilgit']),\n",
        "            'Jehangira':set(['Swabi','Hassan Abdal','Nowshera']),\n",
        "            'Taxila':set(['Hassan Abdal','Rawalpindi']),\n",
        "            'Rawalpindi':set(['Islamabad','Taxila']),\n",
        "            'Mingora':set(['Nowshera','Khwazakhela']),\n",
        "            'Kalam':set(['Khwazakhela']),\n",
        "            'Naran':set(['Attar Shisha','Chilas']),\n",
        "            'Gilgit':set(['Chilas']),\n",
        "            'Nowshera':set(['Peshawar','Jehangira']),\n",
        "            'Peshawar' :set(['Nowshera'])\n",
        "\n",
        "           }"
      ]
    },
    {
      "cell_type": "markdown",
      "source": [],
      "metadata": {
        "id": "pmaxh0Rok0Fw"
      }
    },
    {
      "cell_type": "code",
      "source": [],
      "metadata": {
        "id": "QyyWjp6_kwLw"
      },
      "execution_count": null,
      "outputs": []
    },
    {
      "cell_type": "markdown",
      "source": [
        "## Graph Generation Using Class Graph\n",
        "Here your have to implement your own class __Graph__: This class shouls have the following:\n",
        "- The __Graph__ class represents a graph and provides methods for adding vertices and edges, getting neighbors of a vertex, and printing the graph.\n",
        "- You can create an instance of the __Graph__ class and use its methods to manipulate the graph.\n",
        "- The example usage section demonstrates how to create the graph using your provided data and how to add a new city and an edge to the graph.\n",
        "\n",
        "You can further extend and customize this code according to your requirements for working with the graph of cities in Pakistan."
      ],
      "metadata": {
        "id": "SgXjYNa0kyCb"
      }
    },
    {
      "cell_type": "code",
      "source": [
        "class Graph:\n",
        "    def __init__(self, graph_dict=None):\n",
        "        if graph_dict is None:\n",
        "            graph_dict = {}\n",
        "        self.graph_dict = graph_dict\n",
        "\n",
        "    def add_vertex(self, vertex):\n",
        "        if vertex not in self.graph_dict:\n",
        "            self.graph_dict[vertex] = set()\n",
        "\n",
        "    def add_edge(self, vertex1, vertex2):\n",
        "        self.add_vertex(vertex1)\n",
        "        self.add_vertex(vertex2)\n",
        "        self.graph_dict[vertex1].add(vertex2)\n",
        "        self.graph_dict[vertex2].add(vertex1)\n",
        "\n",
        "    def get_neighbors(self, vertex):\n",
        "        return self.graph_dict.get(vertex, set())\n",
        "\n",
        "    def __str__(self):\n",
        "        result = \"\"\n",
        "        for vertex, neighbors in self.graph_dict.items():\n",
        "            result += f\"{vertex}: {', '.join(neighbors)}\\n\"\n",
        "        return result\n",
        "\n",
        "\n",
        "# Create an instance of the graph\n",
        "city_graph = Graph(graph)\n",
        "\n",
        "# Example usage:\n",
        "print(\"Cities and their neighbors:\")\n",
        "print(city_graph)\n",
        "\n",
        "# Adding a new city and an edge\n",
        "city_graph.add_vertex('Quetta')\n",
        "city_graph.add_edge('Quetta', 'Karachi')\n",
        "\n",
        "print(\"\\nUpdated Cities and their neighbors:\")\n",
        "print(city_graph)\n"
      ],
      "metadata": {
        "colab": {
          "base_uri": "https://localhost:8080/"
        },
        "id": "8clQg_ixjtT_",
        "outputId": "17a5bd18-eee0-478d-a210-75c1e6812dd8"
      },
      "execution_count": null,
      "outputs": [
        {
          "output_type": "stream",
          "name": "stdout",
          "text": [
            "Cities and their neighbors:\n",
            "Abbottabad: Muree, Mansehra, Haripur\n",
            "Mansehra: Abbottabad, Besham, Attar Shisha\n",
            "Haripur: Hassan Abdal, Swabi\n",
            "Muree: Islamabad, Muzzafar Abad\n",
            "Attar Shisha: Mansehra, Muzzafar Abad, Naran\n",
            "Besham: Khwazakhela, Chilas\n",
            "Hassan Abdal: Jehangira, Taxila\n",
            "Swabi: Jehangira, Haripur\n",
            "Islamabad: Muree, Rawalpindi\n",
            "Muzzafar Abad: Muree, Attar Shisha\n",
            "Khwazakhela: Kalam, Mingora, Besham\n",
            "Chilas: Naran, Besham, Gilgit\n",
            "Jehangira: Hassan Abdal, Nowshera, Swabi\n",
            "Taxila: Hassan Abdal, Rawalpindi\n",
            "Rawalpindi: Islamabad, Taxila\n",
            "Mingora: Khwazakhela, Nowshera\n",
            "Kalam: Khwazakhela\n",
            "Naran: Chilas, Attar Shisha\n",
            "Gilgit: Chilas\n",
            "Nowshera: Jehangira, Peshawar\n",
            "Peshawar: Nowshera\n",
            "\n",
            "\n",
            "Updated Cities and their neighbors:\n",
            "Abbottabad: Muree, Mansehra, Haripur\n",
            "Mansehra: Abbottabad, Besham, Attar Shisha\n",
            "Haripur: Hassan Abdal, Swabi\n",
            "Muree: Islamabad, Muzzafar Abad\n",
            "Attar Shisha: Mansehra, Muzzafar Abad, Naran\n",
            "Besham: Khwazakhela, Chilas\n",
            "Hassan Abdal: Jehangira, Taxila\n",
            "Swabi: Jehangira, Haripur\n",
            "Islamabad: Muree, Rawalpindi\n",
            "Muzzafar Abad: Muree, Attar Shisha\n",
            "Khwazakhela: Kalam, Mingora, Besham\n",
            "Chilas: Naran, Besham, Gilgit\n",
            "Jehangira: Hassan Abdal, Nowshera, Swabi\n",
            "Taxila: Hassan Abdal, Rawalpindi\n",
            "Rawalpindi: Islamabad, Taxila\n",
            "Mingora: Khwazakhela, Nowshera\n",
            "Kalam: Khwazakhela\n",
            "Naran: Chilas, Attar Shisha\n",
            "Gilgit: Chilas\n",
            "Nowshera: Jehangira, Peshawar\n",
            "Peshawar: Nowshera\n",
            "Quetta: Karachi\n",
            "Karachi: Quetta\n",
            "\n"
          ]
        }
      ]
    },
    {
      "cell_type": "markdown",
      "source": [
        "__Implementation of BFS__\n",
        " - The __Graph__ class represents the graph, and the __BFSPathFinder__ class is responsible for finding the path using BFS.\n",
        " - You can create an instance of the Graph class and populate it with your graph data.\n",
        " -Then, create an instance of the __BFSPathFinder__ class and use its __find_path__ method to find the shortest path from the start node to the goal node.\n",
        " - The code prints the found path or a message if no path is found.\n",
        "\n",
        "You can change the __start_node__ and __goal_node__ to search for paths between different cities in the graph."
      ],
      "metadata": {
        "id": "WVMvSoG0ms3v"
      }
    },
    {
      "cell_type": "code",
      "source": [
        "from collections import deque\n",
        "\n",
        "class Graph:\n",
        "    def __init__(self, graph_dict=None):\n",
        "        if graph_dict is None:\n",
        "            graph_dict = {}\n",
        "        self.graph_dict = graph_dict\n",
        "\n",
        "    def add_vertex(self, vertex):\n",
        "        if vertex not in self.graph_dict:\n",
        "            self.graph_dict[vertex] = set()\n",
        "\n",
        "    def add_edge(self, vertex1, vertex2):\n",
        "        self.add_vertex(vertex1)\n",
        "        self.add_vertex(vertex2)\n",
        "        self.graph_dict[vertex1].add(vertex2)\n",
        "        self.graph_dict[vertex2].add(vertex1)\n",
        "\n",
        "    def get_neighbors(self, vertex):\n",
        "        return self.graph_dict.get(vertex, set())\n",
        "\n",
        "class BFSPathFinder:\n",
        "    def __init__(self, graph):\n",
        "        self.graph = graph\n",
        "\n",
        "    def find_path(self, start_node, goal_node):\n",
        "        if start_node not in self.graph.graph_dict or goal_node not in self.graph.graph_dict:\n",
        "            return None  # Start or goal node is not in the graph\n",
        "\n",
        "        visited = set()\n",
        "        queue = deque()\n",
        "        queue.append([start_node])\n",
        "\n",
        "        while queue:\n",
        "            path = queue.popleft()\n",
        "            node = path[-1]\n",
        "\n",
        "            if node == goal_node:\n",
        "                return path  # Found a path from start to goal\n",
        "\n",
        "            if node not in visited:\n",
        "                neighbors = self.graph.get_neighbors(node)\n",
        "                for neighbor in neighbors:\n",
        "                    new_path = list(path)\n",
        "                    new_path.append(neighbor)\n",
        "                    queue.append(new_path)\n",
        "\n",
        "                visited.add(node)\n",
        "\n",
        "        return None  # No path found from start to goal\n",
        "\n",
        "# Create an instance of the graph\n",
        "city_graph = Graph(graph)\n",
        "\n",
        "# Create an instance of the BFSPathFinder\n",
        "bfs_path_finder = BFSPathFinder(city_graph)\n",
        "\n",
        "# Define the start and goal nodes\n",
        "start_node = 'Abbottabad'\n",
        "goal_node = 'Peshawar'\n",
        "\n",
        "# Find the path using BFS\n",
        "path = bfs_path_finder.find_path(start_node, goal_node)\n",
        "\n",
        "if path:\n",
        "    print(f\"Path from {start_node} to {goal_node}:\")\n",
        "    print(\" -> \".join(path))\n",
        "else:\n",
        "    print(f\"No path found from {start_node} to {goal_node}.\")\n"
      ],
      "metadata": {
        "colab": {
          "base_uri": "https://localhost:8080/"
        },
        "id": "T-y87AjJjw_P",
        "outputId": "876ef1c3-9b1b-4637-9fa0-13f351361bea"
      },
      "execution_count": null,
      "outputs": [
        {
          "output_type": "stream",
          "name": "stdout",
          "text": [
            "Path from Abbottabad to Peshawar:\n",
            "Abbottabad -> Haripur -> Hassan Abdal -> Jehangira -> Nowshera -> Peshawar\n"
          ]
        }
      ]
    },
    {
      "cell_type": "markdown",
      "source": [
        "__TEST YOUR IMPLEMENTATION__\n",
        "\n",
        "Path from Abbottabad to Peshawar:\n",
        "\n",
        "Abbottabad -> Haripur -> Hassan Abdal -> Jehangira -> Nowshera -> Peshawar"
      ],
      "metadata": {
        "id": "nhHLO3_Hnrdi"
      }
    },
    {
      "cell_type": "code",
      "source": [],
      "metadata": {
        "id": "Aqh7u8rLkIBn"
      },
      "execution_count": null,
      "outputs": []
    }
  ]
}