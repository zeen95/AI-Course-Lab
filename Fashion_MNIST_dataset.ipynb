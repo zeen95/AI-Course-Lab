{
  "nbformat": 4,
  "nbformat_minor": 0,
  "metadata": {
    "colab": {
      "provenance": []
    },
    "kernelspec": {
      "name": "python3",
      "display_name": "Python 3"
    },
    "language_info": {
      "name": "python"
    }
  },
  "cells": [
    {
      "cell_type": "markdown",
      "source": [
        "Lab Task: Implement a CNN for Fashion MNIST Classification\n",
        "\n",
        "**Objective:**\n",
        "Implement a Convolutional Neural Network (CNN) for image classification using the Fashion MNIST dataset.\n",
        "\n",
        "**Instructions:**\n",
        "1. Load and preprocess the Fashion MNIST dataset.\n",
        "2. Build a CNN model with the following architecture:\n",
        "   - Input layer\n",
        "   - Conv2D layer with 32 filters, kernel size of 3x3, and ReLU activation\n",
        "   - MaxPooling2D layer with pool size of 2x2\n",
        "   - Conv2D layer with 64 filters, kernel size of 3x3, and ReLU activation\n",
        "   - MaxPooling2D layer with pool size of 2x2\n",
        "   - Conv2D layer with 64 filters, kernel size of 3x3, and ReLU activation\n",
        "   - Flatten layer\n",
        "   - Dense layer with 64 units and ReLU activation\n",
        "   - Dense layer with 10 units and softmax activation\n",
        "3. Compile the model using the Adam optimizer and categorical cross-entropy loss.\n",
        "4. Train the model for 10 epochs, using the test set for validation.\n",
        "5. Evaluate the model on the test set and print the test accuracy.\n",
        "6. Plot the training and validation accuracy over epochs.\n"
      ],
      "metadata": {
        "id": "CXNOzSYfWH6J"
      }
    },
    {
      "cell_type": "code",
      "execution_count": 1,
      "metadata": {
        "colab": {
          "base_uri": "https://localhost:8080/",
          "height": 996
        },
        "id": "aLYOHNThUmrr",
        "outputId": "f38a7211-8629-4da7-dd9b-e69dcd6e3c8f"
      },
      "outputs": [
        {
          "output_type": "stream",
          "name": "stdout",
          "text": [
            "Downloading data from https://storage.googleapis.com/tensorflow/tf-keras-datasets/train-labels-idx1-ubyte.gz\n",
            "29515/29515 [==============================] - 0s 0us/step\n",
            "Downloading data from https://storage.googleapis.com/tensorflow/tf-keras-datasets/train-images-idx3-ubyte.gz\n",
            "26421880/26421880 [==============================] - 0s 0us/step\n",
            "Downloading data from https://storage.googleapis.com/tensorflow/tf-keras-datasets/t10k-labels-idx1-ubyte.gz\n",
            "5148/5148 [==============================] - 0s 0us/step\n",
            "Downloading data from https://storage.googleapis.com/tensorflow/tf-keras-datasets/t10k-images-idx3-ubyte.gz\n",
            "4422102/4422102 [==============================] - 0s 0us/step\n",
            "Epoch 1/10\n",
            "1875/1875 [==============================] - 65s 33ms/step - loss: 0.5135 - accuracy: 0.8111 - val_loss: 0.3791 - val_accuracy: 0.8646\n",
            "Epoch 2/10\n",
            "1875/1875 [==============================] - 52s 28ms/step - loss: 0.3291 - accuracy: 0.8794 - val_loss: 0.3128 - val_accuracy: 0.8884\n",
            "Epoch 3/10\n",
            "1875/1875 [==============================] - 49s 26ms/step - loss: 0.2790 - accuracy: 0.8973 - val_loss: 0.2917 - val_accuracy: 0.8913\n",
            "Epoch 4/10\n",
            "1875/1875 [==============================] - 50s 27ms/step - loss: 0.2478 - accuracy: 0.9083 - val_loss: 0.2836 - val_accuracy: 0.8949\n",
            "Epoch 5/10\n",
            "1875/1875 [==============================] - 49s 26ms/step - loss: 0.2255 - accuracy: 0.9171 - val_loss: 0.2732 - val_accuracy: 0.9027\n",
            "Epoch 6/10\n",
            "1875/1875 [==============================] - 49s 26ms/step - loss: 0.2048 - accuracy: 0.9243 - val_loss: 0.2689 - val_accuracy: 0.9023\n",
            "Epoch 7/10\n",
            "1875/1875 [==============================] - 50s 27ms/step - loss: 0.1881 - accuracy: 0.9288 - val_loss: 0.2895 - val_accuracy: 0.8922\n",
            "Epoch 8/10\n",
            "1875/1875 [==============================] - 55s 29ms/step - loss: 0.1740 - accuracy: 0.9351 - val_loss: 0.2764 - val_accuracy: 0.9027\n",
            "Epoch 9/10\n",
            "1875/1875 [==============================] - 49s 26ms/step - loss: 0.1615 - accuracy: 0.9395 - val_loss: 0.2656 - val_accuracy: 0.9109\n",
            "Epoch 10/10\n",
            "1875/1875 [==============================] - 49s 26ms/step - loss: 0.1499 - accuracy: 0.9432 - val_loss: 0.3018 - val_accuracy: 0.9015\n",
            "313/313 - 2s - loss: 0.3018 - accuracy: 0.9015 - 2s/epoch - 6ms/step\n",
            "Test accuracy: 0.9014999866485596\n"
          ]
        },
        {
          "output_type": "display_data",
          "data": {
            "text/plain": [
              "<Figure size 640x480 with 1 Axes>"
            ],
            "image/png": "[encoded data removed]"
          },
          "metadata": {}
        }
      ],
      "source": [
        "import tensorflow as tf\n",
        "from tensorflow.keras import layers, models\n",
        "from tensorflow.keras.datasets import fashion_mnist\n",
        "from tensorflow.keras.utils import to_categorical\n",
        "import matplotlib.pyplot as plt\n",
        "\n",
        "# Load the Fashion MNIST dataset\n",
        "(x_train, y_train), (x_test, y_test) = fashion_mnist.load_data()\n",
        "\n",
        "# Reshape the data to include the channel dimension\n",
        "x_train = x_train.reshape((x_train.shape[0], 28, 28, 1))\n",
        "x_test = x_test.reshape((x_test.shape[0], 28, 28, 1))\n",
        "\n",
        "# Normalize pixel values to be between 0 and 1\n",
        "x_train, x_test = x_train / 255.0, x_test / 255.0\n",
        "\n",
        "# Convert class vectors to binary class matrices (one-hot encoding)\n",
        "y_train = to_categorical(y_train, 10)\n",
        "y_test = to_categorical(y_test, 10)\n",
        "\n",
        "# Build the CNN model\n",
        "model = models.Sequential()\n",
        "model.add(layers.Conv2D(32, (3, 3), activation='relu', input_shape=(28, 28, 1)))\n",
        "model.add(layers.MaxPooling2D((2, 2)))\n",
        "model.add(layers.Conv2D(64, (3, 3), activation='relu'))\n",
        "model.add(layers.MaxPooling2D((2, 2)))\n",
        "model.add(layers.Conv2D(64, (3, 3), activation='relu'))\n",
        "\n",
        "model.add(layers.Flatten())\n",
        "model.add(layers.Dense(64, activation='relu'))\n",
        "model.add(layers.Dense(10, activation='softmax'))\n",
        "\n",
        "# Compile the model\n",
        "model.compile(optimizer='adam',\n",
        "              loss='categorical_crossentropy',\n",
        "              metrics=['accuracy'])\n",
        "\n",
        "# Train the model\n",
        "history = model.fit(x_train, y_train, epochs=10,\n",
        "                    validation_data=(x_test, y_test))\n",
        "\n",
        "# Evaluate the model\n",
        "test_loss, test_acc = model.evaluate(x_test, y_test, verbose=2)\n",
        "print(f\"Test accuracy: {test_acc}\")\n",
        "\n",
        "# Plot training and validation accuracy\n",
        "plt.plot(history.history['accuracy'], label='accuracy')\n",
        "plt.plot(history.history['val_accuracy'], label = 'val_accuracy')\n",
        "plt.xlabel('Epoch')\n",
        "plt.ylabel('Accuracy')\n",
        "plt.ylim([0, 1])\n",
        "plt.legend(loc='lower right')\n",
        "plt.show()"
      ]
    }
  ]
}