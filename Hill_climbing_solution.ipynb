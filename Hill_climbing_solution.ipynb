{
  "cells": [
    {
      "cell_type": "markdown",
      "metadata": {
        "id": "J6n3Cr0juBic"
      },
      "source": [
        "# Midterm Lab Exam\n",
        "## Due date: 22/05/2023\n",
        "\n",
        "# Name:\n",
        "# Registration No: \n",
        "\n",
        " In this eaxm you have to solve the n-queen problem using steepest ascent hil-climbing. Each and everything is thoroughly explianed. You need to write your code at the palces where __None__ is written. "
      ]
    },
    {
      "cell_type": "markdown",
      "metadata": {
        "id": "Jno5euoQuBif"
      },
      "source": [
        "**Import the necessary libraries** "
      ]
    },
    {
      "cell_type": "code",
      "execution_count": null,
      "metadata": {
        "id": "Ql9hhSakuBih"
      },
      "outputs": [],
      "source": [
        "import numpy as np\n",
        "import random as rnd"
      ]
    },
    {
      "cell_type": "markdown",
      "metadata": {
        "id": "FiZNZnbnuBij"
      },
      "source": [
        "##Steepest Ascent Hill-Climbing\n",
        "The hill-climbing search algorithm is given below. It keeps track of one current state and on each iteration moves to the neighboring state with highest value—that is, it heads in the direction that provides the steepest ascent. It terminates when it reaches a “peak” where no neighbor has a higher value. Hill climbing does not look ahead beyond the immediate neighbors of the current state. This resembles trying to find the top of Mount Everest in a thick fog while suffering from amnesia. \n",
        "\n",
        "\n",
        "\n",
        "\n",
        "- C=initial state\n",
        "- while do:\n",
        ">- N:=a higher-valued successor state of the current, C\n",
        ">>- If $h(N)\\le h(C)$ then:\n",
        ">>>-\t\t\t\treturn C\n",
        ">>-\t\t$C:= N$\n",
        "\t\n",
        "\n",
        "\t\t\n",
        "\n",
        "### 8-queens Problem\n",
        "\n",
        "8-queens is a classic computer science problem. To find possible arrangements of 8-queens on a standard $8\\times 8 $ chessboard such that no queens end up in an attacking configuration. Now, if one knows the basics of chess, one can say that a queen can travel either horizontally, vertically, or diagonally. Hence, for 2 or more queens to be in an attacking state, they have to lie either horizontally or vertically or diagonally in-line with the other queen. \n",
        "\n",
        "\n",
        "\n",
        "- **State representation:** In the 8-queen problem, an individual (state) can be represented by a string of digits 0 to 7, that represents the position of the 8 queens in the 8 columns. **Illustration:** a particular state can be represented as a list [5,7,1,3,0,6,4,2]. __Note:__ In python the first row have index 0 and $n^{th}$ row have the index $n-1$. \n",
        "\n",
        "\n",
        "\n"
      ]
    },
    {
      "cell_type": "markdown",
      "metadata": {
        "id": "hAIeoM78uBil"
      },
      "source": [
        "**Implementation of evaluation function (h):** \n",
        "The number of non-attacking queens in a given configration will be considered as the value of the evaluation function.Thus the n-queen problem will be treated as a maximization problem. The configration which has highest evaluation value will be the best solution and vice-versa. The evaluation ,$h$, can be given as: \n",
        " \n",
        " $h=max_{attacking}-current_{attacking}$\n",
        " \n",
        "  The $current_{attacking}$ represents the number attacking pairs of queens in the given configration (state) while the $max_{attacking}$ represents the maximum possible pairs of attaccking queens. For $n$-queens the $max_{attacking}$ can be given as:\n",
        " \n",
        " $max_{attacking}=\\frac{n(n-1)}{2}$\n",
        " \n",
        "As we mentioned earlier that a state can be represented as a list of digits. Let c=[3,2,1,3] represents an individual (state). Generally, a location of a particular queen can be given as $(i,j)$, where $i$ is the index and $j$ is the value at that index.  For example, in the given state 'c' the location of first queen can be represented as (0,3). We can compute the $current_{attacking}$ in a very simple way. Consider two queens at location (p,r) and (s,t) respectively. The queens will be considered attacking if any of the two conditons hold. 1) $r=t$ or .2) $|p-s|=|r-t|$\n",
        "\n",
        " This function will take a __state__ as an input and will return the __eval_value__, the number of nonattacking pairs of queens. \n",
        "\n",
        " **This function is implemented for you**"
      ]
    },
    {
      "cell_type": "code",
      "execution_count": null,
      "metadata": {
        "id": "d2GrJuXmuBim"
      },
      "outputs": [],
      "source": [
        "def h(c): # c is the chromosome \n",
        "    n=len(c)# n repesents the number of queens\n",
        "    current_attacking=0\n",
        "    for i in range(n):\n",
        "        for j in range(i+1,n):\n",
        "            if c[i]==c[j] or abs(i-j)==abs(c[i]-c[j]):\n",
        "                current_attacking+=1\n",
        "    max_attacking=(len(c)*(len(c)-1))/2\n",
        "    f=max_attacking-current_attacking            \n",
        "    return (c,f)\n"
      ]
    },
    {
      "cell_type": "code",
      "source": [
        "\n",
        "\n",
        "#Testing The fitenss function. \n",
        "state=[3,3,3,3]\n",
        "print(h(state))"
      ],
      "metadata": {
        "colab": {
          "base_uri": "https://localhost:8080/"
        },
        "id": "4SKsvdSjHBlB",
        "outputId": "687db0a3-f91c-4656-d044-4e9aff028064"
      },
      "execution_count": null,
      "outputs": [
        {
          "output_type": "stream",
          "name": "stdout",
          "text": [
            "([3, 3, 3, 3], 0.0)\n"
          ]
        }
      ]
    },
    {
      "cell_type": "markdown",
      "metadata": {
        "id": "V_GCNIDLuBin"
      },
      "source": [
        "**Implementation of the Neighor() function:** \n",
        "This function will accept a __state__ as an input and will return a list of neighbors. A particular neighbor will be computed by moving a queen one row up OR down in the same column. If a queen is in the first row then we cannot move it up. Similarly, if the queen is in the last row then we cannot move it down. In the middle row the up and down moves decision may be taken arbitrary. "
      ]
    },
    {
      "cell_type": "code",
      "execution_count": null,
      "metadata": {
        "id": "ElTJ41BLuBio",
        "colab": {
          "base_uri": "https://localhost:8080/"
        },
        "outputId": "eae89a20-0501-42b8-f274-1ae3a2ec946d"
      },
      "outputs": [
        {
          "output_type": "stream",
          "name": "stdout",
          "text": [
            "[[2, 3, 3, 3], [3, 2, 3, 3], [3, 3, 2, 3], [3, 3, 3, 2]]\n"
          ]
        }
      ],
      "source": [
        "\n",
        "def f_Neighbor(state):\n",
        "    neighbors=[] # This is an empty list which will be used to store all the neighbors of the current state\n",
        "    # Your code may contain \n",
        "    # WRITE YOUR CODE HERE\n",
        "    L=len(state)\n",
        "    for i in range(L):\n",
        "      if state[i]==L-1:\n",
        "        neighbor=state.copy()\n",
        "        neighbor[i]=L-2\n",
        "        neighbors.append(neighbor)\n",
        "      elif state[i]==0:\n",
        "        neighbor=state.copy()\n",
        "        neighbor[i]=1\n",
        "        neighbors.append(neighbor)\n",
        "      else: \n",
        "        neighbor=state.copy()\n",
        "        neighbor[i]+=1\n",
        "        neighbors.append(neighbor)\n",
        "        neighbor=state.copy()\n",
        "        neighbor[i]-=1\n",
        "        neighbors.append(neighbor)\n",
        "    #END CODE\n",
        "    return neighbors\n",
        "\n",
        "state=[3,3,3,3]\n",
        "print(f_Neighbor(state))"
      ]
    },
    {
      "cell_type": "code",
      "execution_count": null,
      "metadata": {
        "id": "q-3wurzVuBir",
        "colab": {
          "base_uri": "https://localhost:8080/"
        },
        "outputId": "6ea47818-ba5c-408d-9a0b-b10e602a000a"
      },
      "outputs": [
        {
          "output_type": "stream",
          "name": "stdout",
          "text": [
            "Running .........\n",
            "The solution= [2, 0, 3, 3]\n"
          ]
        }
      ],
      "source": [
        "\n",
        "def Hill_Climbing(state):\n",
        "  # Write your code here according to the algorithm\n",
        "  #Explained above\n",
        "  print(\"Running .........\")\n",
        "  while(True):\n",
        "    current_value=h(state)[1] # the heuristic value of the current\n",
        "    neighbors_h=[]\n",
        "    neighbors=f_Neighbor(state) # Computes the neighbors of the current state\n",
        "    for i in range(len(neighbors)):\n",
        "      neighbors_h.append(h(neighbors[i]))\n",
        "    # Sort the neighbors in descending order on the basis of heuristic value\n",
        "    neighbors_h.sort(key=lambda x: x[1],reverse=True)\n",
        "    #Replace the current state by the first neighbor\n",
        "    neighbor=neighbors_h[0][0]\n",
        "    neighbor_value=float(neighbors_h[0][1])\n",
        "    if neighbor_value<current_value:\n",
        "      return state\n",
        "    else:\n",
        "      state=neighbor\n",
        "     \n",
        "  return state\n",
        "\n",
        "\n",
        "state=[3,3,3,3]\n",
        "print('The solution=',Hill_Climbing(state))"
      ]
    },
    {
      "cell_type": "code",
      "source": [],
      "metadata": {
        "id": "nxpg8QjazDh5"
      },
      "execution_count": null,
      "outputs": []
    }
  ],
  "metadata": {
    "kernelspec": {
      "display_name": "Python 3",
      "language": "python",
      "name": "python3"
    },
    "language_info": {
      "codemirror_mode": {
        "name": "ipython",
        "version": 3
      },
      "file_extension": ".py",
      "mimetype": "text/x-python",
      "name": "python",
      "nbconvert_exporter": "python",
      "pygments_lexer": "ipython3",
      "version": "3.6.5"
    },
    "colab": {
      "provenance": []
    }
  },
  "nbformat": 4,
  "nbformat_minor": 0
}