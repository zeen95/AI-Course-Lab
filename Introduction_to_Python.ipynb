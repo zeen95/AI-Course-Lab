{
  "nbformat": 4,
  "nbformat_minor": 5,
  "metadata": {
    "colab": {
      "provenance": []
    }
  },
  "cells": [
    {
      "id": "f5c4d98f",
      "cell_type": "markdown",
      "source": [
        "# Lab 1: Introduction to Python\n",
        "**Objective:** Familiarize students with Python programming basics.\n",
        "\n",
        "In this lab, you will:\n",
        "- Perform basic arithmetic operations\n",
        "- Practice input and output\n",
        "- Use control flow statements (`if-else`, loops)\n",
        "- Explore built-in functions and libraries\n",
        "- Follow Python coding conventions and best practices"
      ],
      "metadata": {
        "id": "f5c4d98f"
      }
    },
    {
      "id": "2f3bcc32",
      "cell_type": "markdown",
      "source": [
        "## Part 1: Basic Arithmetic Operations"
      ],
      "metadata": {
        "id": "2f3bcc32"
      }
    },
    {
      "id": "049a804e",
      "cell_type": "code",
      "metadata": {
        "id": "049a804e"
      },
      "execution_count": null,
      "source": [
        "# Performing basic arithmetic operations\n",
        "num1 = 10\n",
        "num2 = 5\n",
        "\n",
        "print(\"=== Basic Arithmetic Operations ===\")\n",
        "print(f\"Addition: {num1} + {num2} = {num1 + num2}\")\n",
        "print(f\"Subtraction: {num1} - {num2} = {num1 - num2}\")\n",
        "print(f\"Multiplication: {num1} * {num2} = {num1 * num2}\")\n",
        "print(f\"Division: {num1} / {num2} = {num1 / num2}\")\n",
        "print(f\"Modulus: {num1} % {num2} = {num1 % num2}\")\n",
        "print(f\"Exponent: {num1} ** {num2} = {num1 ** num2}\")"
      ],
      "outputs": []
    },
    {
      "id": "b8f84ba1",
      "cell_type": "markdown",
      "source": [
        "## Part 2: Input and Output"
      ],
      "metadata": {
        "id": "b8f84ba1"
      }
    },
    {
      "id": "d9b46db1",
      "cell_type": "code",
      "metadata": {
        "id": "d9b46db1"
      },
      "execution_count": null,
      "source": [
        "print(\"=== User Input and Output ===\")\n",
        "# Taking user input\n",
        "name = input(\"Enter your name: \")\n",
        "age = int(input(\"Enter your age: \"))  # converting input to integer\n",
        "\n",
        "# Displaying formatted output\n",
        "print(f\"Hello {name}, you are {age} years old!\")"
      ],
      "outputs": []
    },
    {
      "id": "a2c29b0c",
      "cell_type": "markdown",
      "source": [
        "## Part 3: Control Flow (if-else statements)"
      ],
      "metadata": {
        "id": "a2c29b0c"
      }
    },
    {
      "id": "28f304d1",
      "cell_type": "code",
      "metadata": {
        "id": "28f304d1"
      },
      "execution_count": null,
      "source": [
        "print(\"=== Control Flow Example ===\")\n",
        "if age < 18:\n",
        "    print(\"You are a minor.\")\n",
        "elif 18 <= age < 60:\n",
        "    print(\"You are an adult.\")\n",
        "else:\n",
        "    print(\"You are a senior citizen.\")"
      ],
      "outputs": []
    },
    {
      "id": "c7386d46",
      "cell_type": "markdown",
      "source": [
        "## Part 4: Loop Examples"
      ],
      "metadata": {
        "id": "c7386d46"
      }
    },
    {
      "id": "d3bd1bef",
      "cell_type": "code",
      "metadata": {
        "id": "d3bd1bef"
      },
      "execution_count": null,
      "source": [
        "print(\"=== Loop Example: Counting Numbers ===\")\n",
        "# Using a for loop\n",
        "for i in range(1, 6):  # range starts at 1 and ends at 5\n",
        "    print(f\"Number: {i}\")\n",
        "\n",
        "print()  # For spacing\n",
        "\n",
        "# Using a while loop\n",
        "count = 1\n",
        "while count <= 5:\n",
        "    print(f\"While Loop Count: {count}\")\n",
        "    count += 1"
      ],
      "outputs": []
    },
    {
      "id": "fcaa5571",
      "cell_type": "markdown",
      "source": [
        "## Part 5: Built-in Functions and Libraries"
      ],
      "metadata": {
        "id": "fcaa5571"
      }
    },
    {
      "id": "3afa9efc",
      "cell_type": "code",
      "metadata": {
        "id": "3afa9efc"
      },
      "execution_count": null,
      "source": [
        "print(\"=== Built-in Functions & Libraries ===\")\n",
        "\n",
        "# Built-in functions\n",
        "numbers = [5, 10, 15, 20, 25]\n",
        "print(\"Numbers List:\", numbers)\n",
        "print(\"Maximum value:\", max(numbers))\n",
        "print(\"Minimum value:\", min(numbers))\n",
        "print(\"Sum of numbers:\", sum(numbers))\n",
        "print(\"Length of list:\", len(numbers))\n",
        "\n",
        "# Using a standard library: math\n",
        "import math\n",
        "print(\"\\nMath Library Examples:\")\n",
        "print(\"Square root of 16:\", math.sqrt(16))\n",
        "print(\"Value of Pi:\", math.pi)\n",
        "print(\"Factorial of 5:\", math.factorial(5))"
      ],
      "outputs": []
    },
    {
      "id": "f32ab227",
      "cell_type": "markdown",
      "source": [
        "## Part 6: Good Coding Practices"
      ],
      "metadata": {
        "id": "f32ab227"
      }
    },
    {
      "id": "2ad938ee",
      "cell_type": "code",
      "metadata": {
        "id": "2ad938ee"
      },
      "execution_count": null,
      "source": [
        "# Example of a well-structured function\n",
        "def greet_user(username):\n",
        "    \"\"\"This function takes a username and prints a greeting message.\"\"\"\n",
        "    return f\"Welcome to Python Programming, {username}!\"\n",
        "\n",
        "print(greet_user(name))"
      ],
      "outputs": []
    }
  ]
}