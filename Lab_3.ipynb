{
  "nbformat": 4,
  "nbformat_minor": 0,
  "metadata": {
    "colab": {
      "provenance": []
    },
    "kernelspec": {
      "name": "python3",
      "display_name": "Python 3"
    },
    "language_info": {
      "name": "python"
    }
  },
  "cells": [
    {
      "cell_type": "markdown",
      "source": [
        " **Implement Breadth-First Search (BFS) and Depth-First Search (DFS) to find paths between various cities\n",
        "in Pakistan.**"
      ],
      "metadata": {
        "id": "z4exvLWk57Br"
      }
    },
    {
      "cell_type": "markdown",
      "source": [
        "# 1. Import deque for efficient queue operations\n",
        "**collections**\n",
        "A built-in Python module that provides special container data types (like dictionaries, lists, sets, etc., but with extra features).\n",
        "\n",
        "It includes useful structures like deque, Counter, defaultdict, etc.\n",
        "\n",
        "**deque**\n",
        "\n",
        "Stands for Double-Ended Queue.\n",
        "\n",
        "It allows fast appending and popping from both ends (left and right)."
      ],
      "metadata": {
        "id": "QU2PCcq3Lsk3"
      }
    },
    {
      "cell_type": "code",
      "execution_count": 1,
      "metadata": {
        "id": "l9hp3cVP53jL"
      },
      "outputs": [],
      "source": [
        "from collections import deque"
      ]
    },
    {
      "cell_type": "markdown",
      "source": [
        "**Step 1: Represent the graph**\n",
        "\n",
        " We are using a dictionary where:\n",
        " Keys are city names (nodes)\n",
        " Values are lists of connected cities (edges)\n",
        "This graph is UNDIRECTED (roads work both ways).dictionary represents a graph using an adjacency list"
      ],
      "metadata": {
        "id": "hMOOHQTBL8w5"
      }
    },
    {
      "cell_type": "code",
      "source": [
        "pakistan_cities = {\n",
        "    'Karachi': ['Hyderabad'],\n",
        "    'Hyderabad': ['Karachi', 'Sukkur'],\n",
        "    'Sukkur': ['Hyderabad', 'Multan', 'Quetta'],\n",
        "    'Multan': ['Sukkur', 'Lahore'],\n",
        "    'Quetta': ['Sukkur'],\n",
        "    'Lahore': ['Multan', 'Islamabad'],\n",
        "    'Islamabad': ['Lahore', 'Peshawar'],\n",
        "    'Peshawar': ['Islamabad']\n",
        "}"
      ],
      "metadata": {
        "id": "ii0u_Fn8NAe6"
      },
      "execution_count": 2,
      "outputs": []
    },
    {
      "cell_type": "markdown",
      "source": [
        "# **Step 2: BFS and DFS Implementation**\n",
        "**def:** This keyword defines a new function in Python.\n",
        "**Parameter**\n",
        "\n",
        "**graph**\tThe graph where we are searching. Usually stored as a dictionary with each node and its neighbors.\n",
        "**start**\tThe starting node where BFS will begin.\n",
        "**goal**\tThe target node we are trying to reach.\n",
        "\n",
        "**queue = deque([[start]])** initializes BFS with one path that starts at the start node, so we can later grow this path step-by-step until we reach the goal.\n",
        "\n",
        "**visited = set()** creates an empty storage box where we will keep track of nodes we've already explored, so we don't repeat work or get stuck in loops."
      ],
      "metadata": {
        "id": "U5C3wITNNQfX"
      }
    },
    {
      "cell_type": "code",
      "source": [
        "def bfs_shortest_path(graph, start, goal):\n",
        "\n",
        "    queue = deque([[start]])\n",
        "\n",
        "    # Keep track of visited cities to avoid revisiting\n",
        "    visited = set()\n",
        "\n",
        "#Keep looping while there are paths left to explore.\n",
        "    while queue:\n",
        "        # Remove the first path from the queue (FIFO)\n",
        "        path = queue.popleft()\n",
        "        current_city = path[-1]  # Get the last node in the path, which is where you are now.\n",
        "\n",
        "        # If the goal is reached, return this path immediately\n",
        "        if current_city == goal:\n",
        "            return path\n",
        "\n",
        "        # If the current city has not been visited yet\n",
        "        if current_city not in visited:\n",
        "            visited.add(current_city)  # Mark it as visited\n",
        "\n",
        "            # Loop through all neighboring cities\n",
        "            #key = current_city → the city we are currently exploring.\n",
        "            #default_value = [] → an empty list.\n",
        "            #This is a for loop that iterates through every neighbor of the current_city.\n",
        "            #Each loop step gives you one neighbor at a time.\n",
        "            #If current_city = 'A', and 'A' is connected to 'B' and 'C':\n",
        "            for neighbor in graph.get(current_city, []):\n",
        "                # Create a new path with the neighbor added\n",
        "                #Makes a safe copy of the current path so changes won’t affect the original one\n",
        "                new_path = list(path)  # Copy the current path\n",
        "                #Extends the copied path by adding the neighbor city to the end.\n",
        "                new_path.append(neighbor)\n",
        "\n",
        "                # Add the new path to the queue\n",
        "                #Why needed?\n",
        "              #Keeps BFS exploring paths in order, ensuring the shortest path is found.\n",
        "                queue.append(new_path)\n",
        "\n",
        "    # If we exhaust the queue and never find the goal\n",
        "    #return None means no path exists, so the function stops and gives back 'nothing found' as the result.\"\n",
        "    return None\n",
        "#This function is like a map explorer that starts at one city\n",
        "# and keeps going deeper step-by-step to find the goal, while remembering the path and visited cities.\n",
        "def dfs_path(graph, start, goal, path=None, visited=None):\n",
        "\n",
        "    # Initialize path and visited on the first call\n",
        "    \"path starts as an empty list to record the route you take.\"\n",
        "    if path is None:\n",
        "        path = []\n",
        "        \"visited starts as an empty set to remember visited places so you don't repeat them.\"\n",
        "    if visited is None:\n",
        "        visited = set()\n",
        "\n",
        "    # Add current city to the path and mark as visited\n",
        "    #Record the starting point in your route.\n",
        "    path.append(start)\n",
        "    #Mark it as visited to avoid cycles.\n",
        "    visited.add(start)\n",
        "\n",
        "    # If goal is reached, return the path\n",
        "    if start == goal:\n",
        "        return path\n",
        "\n",
        "    # Explore each neighbor recursively\n",
        "    #Gets all neighbors of the current node. Returns [] if no neighbors exist.\n",
        "    for neighbor in graph.get(start, []):\n",
        "        if neighbor not in visited:\n",
        "# Make recursive DFS call\n",
        "# graph\tThe entire map of nodes and connections.\n",
        "#neighbor\tThe next node to explore.\n",
        "#goal\tThe final target node to reach.\n",
        "#path.copy()\tSafe copy of the current route.\n",
        "#visited.copy()\tSafe copy of visited nodes to prevent loops.\n",
        "#result = dfs_path(...)\tGo deeper into the graph and store the result.\n",
        "            result = dfs_path(graph, neighbor, goal, path.copy(), visited.copy())\n",
        "\n",
        "            # If a path is found, return it immediately\n",
        "            if result:\n",
        "                return result\n",
        "\n",
        "    # If no path found from this city, return None\n",
        "    return None\n",
        "\n",
        "# -------------------------------------------\n",
        "# Step 4: Testing the functions\n",
        "# -------------------------------------------\n",
        "start_city = \"Karachi\"\n",
        "goal_city = \"Peshawar\"\n",
        "\n",
        "\n",
        "# BFS for the shortest path\n",
        "bfs_result = bfs_shortest_path(pakistan_cities, start_city, goal_city)\n",
        "print(\"BFS Shortest Path from Karachi to Peshawar:\", bfs_result)\n",
        "# DFS for any path\n",
        "dfs_result = dfs_path(pakistan_cities, start_city, goal_city)\n",
        "print(\"DFS Path from Karachi to Peshawar:\", dfs_result)\n",
        "\n",
        "\n"
      ],
      "metadata": {
        "colab": {
          "base_uri": "https://localhost:8080/"
        },
        "id": "MBUWhXkmOBqV",
        "outputId": "2707dd29-6dfe-4ebc-94bd-95963ece8a41"
      },
      "execution_count": 25,
      "outputs": [
        {
          "output_type": "stream",
          "name": "stdout",
          "text": [
            "BFS Shortest Path from Karachi to Peshawar: ['Karachi', 'Hyderabad', 'Sukkur', 'Multan', 'Lahore', 'Islamabad', 'Peshawar']\n",
            "DFS Path from Karachi to Peshawar: ['Karachi', 'Hyderabad', 'Sukkur', 'Multan', 'Lahore', 'Islamabad', 'Peshawar']\n"
          ]
        }
      ]
    }
  ]
}