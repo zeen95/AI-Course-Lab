{
  "nbformat": 4,
  "nbformat_minor": 0,
  "metadata": {
    "colab": {
      "provenance": [],
      "toc_visible": true
    },
    "kernelspec": {
      "name": "python3",
      "display_name": "Python 3"
    },
    "language_info": {
      "name": "python"
    }
  },
  "cells": [
    {
      "cell_type": "markdown",
      "source": [
        "# Create a list and perform the following methods\n",
        "1) insert()\n",
        "2) remove()\n",
        "3) append()\n",
        "4) len()\n",
        "5) pop()\n",
        "6) clear()"
      ],
      "metadata": {
        "id": "UHl9VNhOCUaJ"
      }
    },
    {
      "cell_type": "code",
      "execution_count": 1,
      "metadata": {
        "colab": {
          "base_uri": "https://localhost:8080/"
        },
        "id": "y6lkFDtrCOc7",
        "outputId": "4f2b1402-1a78-4df9-e9b0-3ed2dd8ed8f2"
      },
      "outputs": [
        {
          "output_type": "stream",
          "name": "stdout",
          "text": [
            "[1, 3, 5, 6, 7, [3, 4, 5], 'hello']\n",
            "[1, 3, 5, 20, 6, 7, [3, 4, 5], 'hello']\n",
            "[1, 3, 5, 20, 6, [3, 4, 5], 'hello']\n",
            "[1, 3, 5, 20, 6, [3, 4, 5], 'hello', 'hi']\n",
            "[1, 3, 5, 20, 6, [3, 4, 5], 'hello', 'hi']\n",
            "[1, 3, 5, 20, 6, [3, 4, 5], 'hello']\n",
            "[1, 3, 5, 20, 6, [3, 4, 5]]\n",
            "[]\n"
          ]
        }
      ],
      "source": [
        "a=[1,3,5,6,7,[3,4,5],\"hello\"]\n",
        "print(a)\n",
        "a.insert(3,20)\n",
        "print(a)\n",
        "a.remove(7)\n",
        "print(a)\n",
        "a.append(\"hi\")\n",
        "print(a)\n",
        "len(a)\n",
        "print(a)\n",
        "a.pop()\n",
        "print(a)\n",
        "a.pop(6)\n",
        "print(a)\n",
        "a.clear()\n",
        "print(a)"
      ]
    },
    {
      "cell_type": "markdown",
      "source": [
        "# Write a python program to add two numbers.\n"
      ],
      "metadata": {
        "id": "8KLnsjZXC-b-"
      }
    },
    {
      "cell_type": "code",
      "source": [
        "a=int(input(\"enter the value for a\"))\n",
        "b=int(input(\"enter the value for a\"))\n",
        "c=a+b\n",
        "print(\"The sum of a and b is\",c)"
      ],
      "metadata": {
        "colab": {
          "base_uri": "https://localhost:8080/"
        },
        "id": "Qj5v9HGQDAjI",
        "outputId": "6793cba5-4421-45e3-9432-69f69c0e86ab"
      },
      "execution_count": 2,
      "outputs": [
        {
          "output_type": "stream",
          "name": "stdout",
          "text": [
            "enter the value for a2\n",
            "enter the value for a4\n",
            "The sum of a and b is 6\n"
          ]
        }
      ]
    },
    {
      "cell_type": "markdown",
      "source": [
        "# Write a python program to get python version."
      ],
      "metadata": {
        "id": "omAbqO7uEd-m"
      }
    },
    {
      "cell_type": "code",
      "source": [
        "import sys\n",
        "print(\"System version is:\")\n",
        "print(sys.version)\n",
        "print(\"Version Information is:\")\n",
        "print(sys.version_info)"
      ],
      "metadata": {
        "colab": {
          "base_uri": "https://localhost:8080/"
        },
        "id": "dVbsriNbEfof",
        "outputId": "96e76519-fd98-436a-fbbf-3add5d5cecd2"
      },
      "execution_count": 6,
      "outputs": [
        {
          "output_type": "stream",
          "name": "stdout",
          "text": [
            "System version is:\n",
            "3.10.12 (main, Nov 20 2023, 15:14:05) [GCC 11.4.0]\n",
            "Version Information is:\n",
            "sys.version_info(major=3, minor=10, micro=12, releaselevel='final', serial=0)\n"
          ]
        }
      ]
    },
    {
      "cell_type": "markdown",
      "source": [
        "# A) Write a python program to print date, time for today and now."
      ],
      "metadata": {
        "id": "xx3jxhQlEup5"
      }
    },
    {
      "cell_type": "code",
      "source": [
        "import datetime\n",
        "a=datetime.datetime.today()\n",
        "b=datetime.datetime.now()\n",
        "print(a)\n",
        "print(b)"
      ],
      "metadata": {
        "colab": {
          "base_uri": "https://localhost:8080/"
        },
        "id": "NY6mX6kvExTE",
        "outputId": "47c8674d-a2f6-43d1-c36a-40d169f8bbfe"
      },
      "execution_count": 7,
      "outputs": [
        {
          "output_type": "stream",
          "name": "stdout",
          "text": [
            "2024-03-18 05:40:22.222642\n",
            "2024-03-18 05:40:22.222752\n"
          ]
        }
      ]
    },
    {
      "cell_type": "markdown",
      "source": [
        "# A) Using a numpy module create an array and check the following:\n",
        "1. Type of array 2. Axes of array\n",
        "3. Shape of array 4. Type of elements in array"
      ],
      "metadata": {
        "id": "YgHuQa7PFVkz"
      }
    },
    {
      "cell_type": "code",
      "source": [
        "import numpy as np\n",
        "arr=np.array([[1,2,3],[4,2,5]])\n",
        "print(\"Array is of type:\",type(arr))\n",
        "print(\"no.of dimensions:\",arr.ndim)\n",
        "print(\"Shape of array:\",arr.shape)\n",
        "print(\"Size of array:\",arr.size)\n",
        "print(\"Array stores elements of type:\",arr.dtype)\n"
      ],
      "metadata": {
        "colab": {
          "base_uri": "https://localhost:8080/"
        },
        "id": "MmzoWx6gFYCR",
        "outputId": "7d376f87-2871-46fd-ad36-391c58f9f609"
      },
      "execution_count": 9,
      "outputs": [
        {
          "output_type": "stream",
          "name": "stdout",
          "text": [
            "Array is of type: <class 'numpy.ndarray'>\n",
            "no.of dimensions: 2\n",
            "Shape of array: (2, 3)\n",
            "Size of array: 6\n",
            "Array stores elements of type: int64\n"
          ]
        }
      ]
    },
    {
      "cell_type": "markdown",
      "source": [
        "# A) Write a python program to concatenate the dataframes with two different objects.\n"
      ],
      "metadata": {
        "id": "emC775-JFis3"
      }
    },
    {
      "cell_type": "code",
      "source": [
        "import pandas as pd\n",
        "one=pd.DataFrame({'Name':['teju','gouri'],\n",
        "'age':[19,20]},\n",
        "index=[1,2])\n",
        "two=pd.DataFrame({'Name':['suma','nammu'],\n",
        "'age':[20,21]},\n",
        "index=[3,4])\n",
        "print(pd.concat([one,two]))\n"
      ],
      "metadata": {
        "colab": {
          "base_uri": "https://localhost:8080/"
        },
        "id": "YHgNLPeiFkxt",
        "outputId": "de6b945d-cf5a-4c16-b61c-d91a527a9715"
      },
      "execution_count": 10,
      "outputs": [
        {
          "output_type": "stream",
          "name": "stdout",
          "text": [
            "    Name  age\n",
            "1   teju   19\n",
            "2  gouri   20\n",
            "3   suma   20\n",
            "4  nammu   21\n"
          ]
        }
      ]
    },
    {
      "cell_type": "markdown",
      "source": [
        "# Write a program to demonstrate different number data types in Python."
      ],
      "metadata": {
        "id": "cI_N42s1Hf3L"
      }
    },
    {
      "cell_type": "code",
      "source": [
        "a = 5\n",
        "print(a, \"is of type\", type(a))\n",
        "a = 2.0\n",
        "print(a, \"is of type\", type(a))\n",
        "a = 1+2j\n",
        "print(a, \"is complex number?\", isinstance(1+2j,complex))"
      ],
      "metadata": {
        "colab": {
          "base_uri": "https://localhost:8080/"
        },
        "id": "zRE14o2AIMvK",
        "outputId": "6ee45669-4ae9-47a3-fa9b-2fc65cd50017"
      },
      "execution_count": 23,
      "outputs": [
        {
          "output_type": "stream",
          "name": "stdout",
          "text": [
            "5 is of type <class 'int'>\n",
            "2.0 is of type <class 'float'>\n",
            "(1+2j) is complex number? True\n"
          ]
        }
      ]
    },
    {
      "cell_type": "markdown",
      "source": [
        "# Write a program to perform different Arithmetic Operations on numbers in Python."
      ],
      "metadata": {
        "id": "Eq8GkUJkOGUK"
      }
    },
    {
      "cell_type": "code",
      "source": [
        "x = 15\n",
        "y = 4\n",
        "# Output: x + y = 19\n",
        "print('x + y =',x+y)\n",
        "# Output: x - y = 11\n",
        "print('x - y =',x-y)\n",
        "# Output: x * y = 60\n",
        "print('x * y =',x*y)\n",
        "# Output: x / y = 3.75\n",
        "print('x / y =',x/y)\n",
        "# Output: x // y = 3\n",
        "print('x // y =',x//y)\n",
        "# Output: x ** y = 50625\n",
        "print('x ** y =',x**y)\n"
      ],
      "metadata": {
        "colab": {
          "base_uri": "https://localhost:8080/"
        },
        "id": "OpFk5c-_ITVA",
        "outputId": "d6333b1a-8070-4ab6-c194-ea5d987e4f93"
      },
      "execution_count": 24,
      "outputs": [
        {
          "output_type": "stream",
          "name": "stdout",
          "text": [
            "x + y = 19\n",
            "x - y = 11\n",
            "x * y = 60\n",
            "x / y = 3.75\n",
            "x // y = 3\n",
            "x ** y = 50625\n"
          ]
        }
      ]
    },
    {
      "cell_type": "markdown",
      "source": [
        "# Write a program to create, concatenate and print a string and accessing sub-string from a given string"
      ],
      "metadata": {
        "id": "5DczYWNHONH3"
      }
    },
    {
      "cell_type": "code",
      "source": [
        "# all of the following are equivalent\n",
        "my_string = 'Hello'\n",
        "print(my_string)\n",
        "my_string = \"Hello\"\n",
        "print(my_string)\n",
        "my_string = '''Hello'''\n",
        "print(my_string)\n",
        "# triple quotes string can extend multiple lines\n",
        "my_string = \"\"\"Hello, welcome to\n",
        " the world of Python\"\"\"\n",
        "print(my_string)\n",
        "c=\" mlritm\"\n",
        "print(my_string+c)\n",
        "# substring function\n",
        "print(my_string[5:11])\n"
      ],
      "metadata": {
        "colab": {
          "base_uri": "https://localhost:8080/"
        },
        "id": "FO-Xk7v1OX0r",
        "outputId": "14fdc06e-db96-44a4-bcb1-49e9af5a50fd"
      },
      "execution_count": 25,
      "outputs": [
        {
          "output_type": "stream",
          "name": "stdout",
          "text": [
            "Hello\n",
            "Hello\n",
            "Hello\n",
            "Hello, welcome to\n",
            " the world of Python\n",
            "Hello, welcome to\n",
            " the world of Python mlritm\n",
            ", welc\n"
          ]
        }
      ]
    },
    {
      "cell_type": "markdown",
      "source": [
        "# Write a python script to print the current date in the following format “Sun May 29 02:26:23 IST 2017”"
      ],
      "metadata": {
        "id": "8FXv9rRjOiHo"
      }
    },
    {
      "cell_type": "code",
      "source": [
        "from datetime import date\n",
        "today =date.today()\n",
        "# dd/mm/YY\n",
        "d1 =today.strftime(\"%d/%m/%Y\")\n",
        "print(\"d1 =\", d1)\n",
        "# Textual month, day and year\n",
        "d2 =today.strftime(\"%B %d, %Y\")\n",
        "print(\"d2 =\", d2)\n",
        "# mm/dd/y\n",
        "d3 =today.strftime(\"%m/%d/%y\")\n",
        "print(\"d3 =\", d3)\n",
        "# Month abbreviation, day and year\n",
        "d4 =today.strftime(\"%b-%d-%Y\")\n",
        "print(\"d4 =\", d3)"
      ],
      "metadata": {
        "colab": {
          "base_uri": "https://localhost:8080/"
        },
        "id": "vQg5IjBUOsbW",
        "outputId": "01752aa8-6d8c-436a-f3fa-bec2bfc482e1"
      },
      "execution_count": 26,
      "outputs": [
        {
          "output_type": "stream",
          "name": "stdout",
          "text": [
            "d1 = 18/03/2024\n",
            "d2 = March 18, 2024\n",
            "d3 = 03/18/24\n",
            "d4 = 03/18/24\n"
          ]
        }
      ]
    },
    {
      "cell_type": "markdown",
      "source": [
        "# Write a program to create, append, and remove lists in python."
      ],
      "metadata": {
        "id": "oD3Tthr0PDmp"
      }
    },
    {
      "cell_type": "code",
      "source": [
        "my_list = ['p','r','o','b','l','e','m']\n",
        "my_list.remove('p')\n",
        "# Output: ['r', 'o', 'b', 'l', 'e', 'm']\n",
        "print(my_list)\n",
        "# Output: 'o'\n",
        "print(my_list.pop(1))\n",
        "# Output: ['r', 'b', 'l', 'e', 'm']\n",
        "print(my_list)\n",
        "# Output: 'm'\n",
        "print(my_list.pop())\n",
        "# Output: ['r', 'b', 'l', 'e']\n",
        "print(my_list)\n",
        "my_list.clear()\n",
        "# Output: []\n",
        "print(my_list)"
      ],
      "metadata": {
        "colab": {
          "base_uri": "https://localhost:8080/"
        },
        "id": "W7N2tQQeO-Os",
        "outputId": "c9bb6214-2322-4c1e-c201-d114bea5f210"
      },
      "execution_count": 27,
      "outputs": [
        {
          "output_type": "stream",
          "name": "stdout",
          "text": [
            "['r', 'o', 'b', 'l', 'e', 'm']\n",
            "o\n",
            "['r', 'b', 'l', 'e', 'm']\n",
            "m\n",
            "['r', 'b', 'l', 'e']\n",
            "[]\n"
          ]
        }
      ]
    },
    {
      "cell_type": "markdown",
      "source": [
        "# Write a program to demonstrate working with tuples in python."
      ],
      "metadata": {
        "id": "4TKpDWtmPOXA"
      }
    },
    {
      "cell_type": "code",
      "source": [
        "# empty tuple\n",
        "# Output: ()\n",
        "my_tuple = ()\n",
        "print(my_tuple)\n",
        "# tuple having integers\n",
        "# Output: (1, 2, 3)\n",
        "my_tuple = (1, 2, 3)\n",
        "print(my_tuple)\n",
        "# tuple with mixed datatypes\n",
        "# Output: (1, \"Hello\", 3.4)\n",
        "my_tuple = (1, \"Hello\", 3.4)\n",
        "print(my_tuple)\n",
        "# nested tuple\n",
        "# Output: (\"mouse\", [8, 4, 6], (1, 2, 3))\n",
        "my_tuple = (\"mouse\", [8, 4, 6], (1, 2, 3))\n",
        "print(my_tuple)\n",
        "# tuple can be created without parentheses\n",
        "# also called tuple packing\n",
        "# Output: 3, 4.6, \"dog\"\n",
        "my_tuple = 3, 4.6, \"dog\"\n",
        "print(my_tuple)\n",
        "# tuple unpacking is also possible\n",
        "# Output:\n",
        "# 3\n",
        "# 4.6\n",
        "# dog\n",
        "a, b, c = my_tuple\n",
        "print(a)\n",
        "print(b)\n",
        "print(c)\n"
      ],
      "metadata": {
        "colab": {
          "base_uri": "https://localhost:8080/"
        },
        "id": "iAlUVslYPQs6",
        "outputId": "333547e6-7890-418a-b64f-73d501985416"
      },
      "execution_count": 28,
      "outputs": [
        {
          "output_type": "stream",
          "name": "stdout",
          "text": [
            "()\n",
            "(1, 2, 3)\n",
            "(1, 'Hello', 3.4)\n",
            "('mouse', [8, 4, 6], (1, 2, 3))\n",
            "(3, 4.6, 'dog')\n",
            "3\n",
            "4.6\n",
            "dog\n"
          ]
        }
      ]
    },
    {
      "cell_type": "markdown",
      "source": [
        "# Write a program to demonstrate working with dictionaries in python."
      ],
      "metadata": {
        "id": "VW9Vq0vFPeAg"
      }
    },
    {
      "cell_type": "code",
      "source": [
        "my_dict = {'name':'Jack', 'age': 26}\n",
        "# Output: Jack\n",
        "print(my_dict['name'])\n",
        "# Output: 26\n",
        "print(my_dict.get('age'))\n",
        "# Trying to access keys which doesn't exist throws error\n",
        "# my_dict.get('address')\n",
        "# my_dict['address']"
      ],
      "metadata": {
        "colab": {
          "base_uri": "https://localhost:8080/"
        },
        "id": "H56IgxQxPgDf",
        "outputId": "0cd55b7a-eea2-4fcb-ec5c-1347f34b330c"
      },
      "execution_count": 29,
      "outputs": [
        {
          "output_type": "stream",
          "name": "stdout",
          "text": [
            "Jack\n",
            "26\n"
          ]
        }
      ]
    },
    {
      "cell_type": "markdown",
      "source": [
        "# Write a python program to find largest of three numbers."
      ],
      "metadata": {
        "id": "_c36AwM1P61d"
      }
    },
    {
      "cell_type": "code",
      "source": [
        "# change the values of num1, num2 and num3\n",
        "# for a different result\n",
        "num1 = 10\n",
        "num2 = 14\n",
        "num3 = 12\n",
        "# uncomment following lines to take three numbers from user\n",
        "#num1 = float(input(\"Enter first number: \"))\n",
        "#num2 = float(input(\"Enter second number: \"))\n",
        "#num3 = float(input(\"Enter third number: \"))\n",
        "if (num1 >= num2) and (num1 >= num3):\n",
        " largest = num1\n",
        "elif (num2 >= num1) and (num2 >= num3):\n",
        " largest = num2\n",
        "else:\n",
        " largest = num3\n",
        "print(\"The largest number between\",num1,\",\",num2,\"and\",num3,\"is\",largest)"
      ],
      "metadata": {
        "colab": {
          "base_uri": "https://localhost:8080/"
        },
        "id": "JUOvTFQfQCe_",
        "outputId": "e7b9c1e9-fc2b-42ed-844a-f435da2e0709"
      },
      "execution_count": 30,
      "outputs": [
        {
          "output_type": "stream",
          "name": "stdout",
          "text": [
            "The largest number between 10 , 14 and 12 is 14\n"
          ]
        }
      ]
    },
    {
      "cell_type": "markdown",
      "source": [
        "# Write a Python program to convert temperatures to and from Celsius, Fahrenheit. [Formula : c/5 = f-32/9 ]"
      ],
      "metadata": {
        "id": "fu0fzsDPQRpS"
      }
    },
    {
      "cell_type": "code",
      "source": [
        "# Python Program to convert temperature in celsius to fahrenheit\n",
        "# change this value for a different result\n",
        "celsius = 37.5\n",
        "# calculate fahrenheit\n",
        "fahrenheit = (celsius * 1.8) + 32\n",
        "print('%0.1f degree Celsius is equal to %0.1f degree Fahrenheit' %(celsius,fahrenheit))"
      ],
      "metadata": {
        "colab": {
          "base_uri": "https://localhost:8080/"
        },
        "id": "4zdo-4Y6QVj4",
        "outputId": "d0e5c538-7ba4-412a-c0c8-4f1c023fbda5"
      },
      "execution_count": 31,
      "outputs": [
        {
          "output_type": "stream",
          "name": "stdout",
          "text": [
            "37.5 degree Celsius is equal to 99.5 degree Fahrenheit\n"
          ]
        }
      ]
    },
    {
      "cell_type": "markdown",
      "source": [
        "# Write a program that accepts the lengths of three sides of a triangle as inputs. The program output should indicate whether or not the triangle is a right triangle (Recall 63 from the Pythagorean Theorem that in a right triangle, the square of one side equals the sum of the squares of the other two sides)."
      ],
      "metadata": {
        "id": "30DhnAYNSMMs"
      }
    },
    {
      "cell_type": "code",
      "source": [
        "# Python Program to find the area of triangle\n",
        "a = 5\n",
        "b = 6\n",
        "c = 7\n",
        "# Uncomment below to take inputs from the user\n",
        "# a = float(input('Enter first side: '))\n",
        "# b = float(input('Enter second side: '))\n",
        "# c = float(input('Enter third side: '))\n",
        "# calculate the semi-perimeter\n",
        "s = (a + b + c) / 2\n",
        "# calculate the area\n",
        "area = (s*(s-a)*(s-b)*(s-c)) ** 0.5\n",
        "print('The area of the triangle is %0.2f' %area)"
      ],
      "metadata": {
        "colab": {
          "base_uri": "https://localhost:8080/"
        },
        "id": "TxflI624SJv4",
        "outputId": "27d3fd5c-75e0-461d-fd29-0839ce223d98"
      },
      "execution_count": 37,
      "outputs": [
        {
          "output_type": "stream",
          "name": "stdout",
          "text": [
            "The area of the triangle is 14.70\n"
          ]
        }
      ]
    },
    {
      "cell_type": "markdown",
      "source": [
        "# Write a python program to define a module and import a specific function in that module to another program.\n"
      ],
      "metadata": {
        "id": "SN8bNUiTS77s"
      }
    },
    {
      "cell_type": "code",
      "source": [
        "# Python Program to find numbers divisible by thirteen from a list using anonymous function\n",
        "# Take a list of numbers\n",
        "my_list = [12, 65, 54, 39, 102, 339, 221,]\n",
        "# use anonymous function to filter\n",
        "result = list(filter(lambda x: (x % 13 == 0), my_list))\n",
        "# display the result\n",
        "print(\"Numbers divisible by 13 are\",result)"
      ],
      "metadata": {
        "colab": {
          "base_uri": "https://localhost:8080/"
        },
        "id": "w0464SIbS3iN",
        "outputId": "7454d321-fdd7-4f8e-f412-c37a20ab6b88"
      },
      "execution_count": 39,
      "outputs": [
        {
          "output_type": "stream",
          "name": "stdout",
          "text": [
            "Numbers divisible by 13 are [65, 39, 221]\n"
          ]
        }
      ]
    },
    {
      "cell_type": "markdown",
      "source": [
        "# Write a program that inputs a text file. The program should print all of the unique words in the file in alphabetical order."
      ],
      "metadata": {
        "id": "HdqXMYZiT95Z"
      }
    },
    {
      "cell_type": "code",
      "source": [
        "items = input(\"Input comma separated sequence of words\")\n",
        "words = [word for word in items.split(\",\")]\n",
        "print(\",\".join(sorted(list(set(words)))))"
      ],
      "metadata": {
        "colab": {
          "base_uri": "https://localhost:8080/"
        },
        "id": "fmNGX2tdTxAo",
        "outputId": "470c5b86-ecd7-41de-e088-cc05ed9ac855"
      },
      "execution_count": 44,
      "outputs": [
        {
          "output_type": "stream",
          "name": "stdout",
          "text": [
            "Input comma separated sequence of wordszeenat, zahid, zuhaib\n",
            " zahid, zuhaib,zeenat\n"
          ]
        }
      ]
    }
  ]
}