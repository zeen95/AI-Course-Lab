{
 "cells": [
  {
   "cell_type": "markdown",
   "metadata": {},
   "source": [
    "# Sessional 2 Solution\n",
    "# Linear regression with multiple variables\n",
    "\n",
    "So far, we have seen the concept of simple linear regression where a single feature $x_1$ (variable) \n",
    "was used to model the output variable (target) $\\hat{y}$. In many applications, there\n",
    "is more than one feature that influences the response (output). Multiple regression models\n",
    "thus describe how a single response variable $\\hat{y}$depends linearly on a number of\n",
    "input features (variables).\n",
    "\n",
    "#### Examples:\n",
    "\n",
    "- The selling price of a house can depend on the desirability of the location, the number of bedrooms, the number of bathrooms, the year the house was built, the square footage of the lot and a number of other factors.\n",
    "- The height of a child can depend on the height of the mother, the height of the father, nutrition, and environmental factors.\n",
    "\n",
    "Let we have the input feature vector $x\\in \\Re^{n\\times 1}$ then the estimated output  $\\hat{y}$ is given by the following model.  \n",
    " $\\hat{y}=w^Tx+b$\n",
    " \n",
    "where $w\\in \\Re^{n\\times 1}$, and $b\\in\\Re$ are the paramater to be estimated. Thus the cost function $J(w,b)$ is given by:  \n",
    "$J(w,b)=\\frac{1}{2m}\\sum_{i=1}^m(\\hat{y}^{(i)}-y^{(i)})^2$\n"
   ]
  },
  {
   "cell_type": "markdown",
   "metadata": {},
   "source": [
    "## Gradient Descent Algorithm\n",
    "Our objective is to  minimize cost function $J(w,b)$ for $w$ and $b$. One way to do this is to\n",
    "use the batch gradient descent algorithm. In batch gradient descent, each\n",
    "iteration performs the update:\n",
    "\n",
    "1.  Initailize $\\alpha$, $w_1$, $b$ and $error$\n",
    "2. $while(j(w_1,b)>error:$  \n",
    "  $for$ $j=1$ $to$ $n$::\n",
    "\n",
    "   $Tempw_j=w_j-\\frac{\\alpha}{m}\\sum_{i=1}^m(w^Tx^{(i)}+b-y^{(i)})x_j^{(i)}$\n",
    "\n",
    "   $b=b-\\frac{\\alpha}{m}\\sum_{i=1}^m(w^Tx^{(i)}+b-y^{(i)})$  \n",
    "  $for$ $j=1$ $to$ $n$:  \n",
    "     $w_j=Tempw_j$\n",
    "       \n",
    "In this part, you will implement linear regression with multiple variables to\n",
    "predict the prices of houses. Suppose you are selling your house and you\n",
    "want to know what a good market price would be. One way to do this is to\n",
    "first collect information on recent houses sold and make a model of housing\n",
    "prices.\n",
    "\n",
    "The file ex1data2.txt contains a training set of housing prices in Portland, Oregon. The first column is the size of the house (in square feet), the second column is the number of bedrooms, and the third column is the price\n",
    "of the house\n",
    "\n",
    "### Reading  The data"
   ]
  },
  {
   "cell_type": "code",
   "execution_count": 1,
   "metadata": {},
   "outputs": [],
   "source": [
    "import numpy as np\n",
    "import pandas as pd\n",
    "import matplotlib.pyplot as plt"
   ]
  },
  {
   "cell_type": "code",
   "execution_count": 2,
   "metadata": {},
   "outputs": [
    {
     "data": {
      "text/html": [
       "<div>\n",
       "<style scoped>\n",
       "    .dataframe tbody tr th:only-of-type {\n",
       "        vertical-align: middle;\n",
       "    }\n",
       "\n",
       "    .dataframe tbody tr th {\n",
       "        vertical-align: top;\n",
       "    }\n",
       "\n",
       "    .dataframe thead th {\n",
       "        text-align: right;\n",
       "    }\n",
       "</style>\n",
       "<table border=\"1\" class=\"dataframe\">\n",
       "  <thead>\n",
       "    <tr style=\"text-align: right;\">\n",
       "      <th></th>\n",
       "      <th>0</th>\n",
       "      <th>1</th>\n",
       "      <th>2</th>\n",
       "    </tr>\n",
       "  </thead>\n",
       "  <tbody>\n",
       "    <tr>\n",
       "      <th>0</th>\n",
       "      <td>2104</td>\n",
       "      <td>3</td>\n",
       "      <td>399900</td>\n",
       "    </tr>\n",
       "    <tr>\n",
       "      <th>1</th>\n",
       "      <td>1600</td>\n",
       "      <td>3</td>\n",
       "      <td>329900</td>\n",
       "    </tr>\n",
       "    <tr>\n",
       "      <th>2</th>\n",
       "      <td>2400</td>\n",
       "      <td>3</td>\n",
       "      <td>369000</td>\n",
       "    </tr>\n",
       "    <tr>\n",
       "      <th>3</th>\n",
       "      <td>1416</td>\n",
       "      <td>2</td>\n",
       "      <td>232000</td>\n",
       "    </tr>\n",
       "    <tr>\n",
       "      <th>4</th>\n",
       "      <td>3000</td>\n",
       "      <td>4</td>\n",
       "      <td>539900</td>\n",
       "    </tr>\n",
       "  </tbody>\n",
       "</table>\n",
       "</div>"
      ],
      "text/plain": [
       "      0  1       2\n",
       "0  2104  3  399900\n",
       "1  1600  3  329900\n",
       "2  2400  3  369000\n",
       "3  1416  2  232000\n",
       "4  3000  4  539900"
      ]
     },
     "execution_count": 2,
     "metadata": {},
     "output_type": "execute_result"
    }
   ],
   "source": [
    "data = pd.read_csv('ex1data2.txt', header = None) #read from dataset\n",
    "m=len(data)\n",
    "X=np.zeros((m,2))\n",
    "Y=np.zeros((m,1))\n",
    "X[:,0:2] = data.iloc[:,0:2] # read first 2 column\n",
    "Y[:,0:1] = data.iloc[:,2:3] # read third column\n",
    "#m = len(Y) # number of training example\n",
    "data.head() # view first few rows of the data"
   ]
  },
  {
   "cell_type": "markdown",
   "metadata": {},
   "source": [
    "### Setting Dimensions\n",
    "As we discussed in the class that the input should be of the form $X\\in\\Re^{n\\times m}$, where $n$ represents the number of features and $m$ represents the number of records. In other words, the columns of the input matrix $X$ contain the records or data instances. Similarly, the output should be of the form $Y\\in\\Re^{1\\times m}$. In the following lines of code the data is converted to the required from."
   ]
  },
  {
   "cell_type": "code",
   "execution_count": 3,
   "metadata": {},
   "outputs": [
    {
     "name": "stdout",
     "output_type": "stream",
     "text": [
      "The dimension of X= (2, 47)\n",
      "The dimension of Y= (1, 47)\n"
     ]
    }
   ],
   "source": [
    "X=np.transpose(X)\n",
    "Y=np.transpose(Y)\n",
    "print(\"The dimension of X=\", np.shape(X))\n",
    "print(\"The dimension of Y=\", np.shape(Y))"
   ]
  },
  {
   "cell_type": "markdown",
   "metadata": {},
   "source": [
    "## Feature Normalization\n",
    "Observe the values of dataset. By looking at the values, note that house sizes are about\n",
    "1000 times the number of bedrooms. When features differ by orders of magnitude, first performing feature scaling can make gradient descent converge much more quickly. There are different methods to perform normalization. The normalization may be pefromed as follows:  \n",
    "\n",
    "- Subtract the mean value of each feature from the dataset. (1) compute the mean (average) of each feature ( i.e. column). (2) subtract the mean value form each value of the given column\n",
    "-  After subtracting the mean, additionally scale (divide) the feature values by their respective “standard deviations.  \n",
    "In the followig function you need to implemet the normalization.\n",
    "\n",
    "The data normalization is performed in the following code.\n",
    "\n"
   ]
  },
  {
   "cell_type": "code",
   "execution_count": 4,
   "metadata": {},
   "outputs": [],
   "source": [
    "def mean_normalization(X,Y):\n",
    "    X = (X - np.mean(X))/np.std(X)\n",
    "    Y = (Y - np.mean(Y))/np.std(Y)    \n",
    "    return X,Y\n",
    "\n",
    "X,Y=mean_normalization(X,Y)\n"
   ]
  },
  {
   "cell_type": "markdown",
   "metadata": {},
   "source": [
    "### Cost function $J(w,b)$:  \n",
    "We know that the cost function is given by:  \n",
    "$J(w,b)=\\frac{1}{2m}\\sum_{i=1}^m(\\hat{y}^{(i)}-y^{(i)})^2$.\n",
    "\n",
    "In the following code the cost function is implemented using the concept of code vectorization (as we discussed in the class)."
   ]
  },
  {
   "cell_type": "code",
   "execution_count": 6,
   "metadata": {},
   "outputs": [
    {
     "name": "stdout",
     "output_type": "stream",
     "text": [
      "2.531122287850086\n"
     ]
    }
   ],
   "source": [
    "def cost(X,Y,w,b,m):\n",
    "    J=np.sum(np.power(np.dot(w.T,X)+b-Y,2))/(2*m)\n",
    "    return J\n",
    "b=3\n",
    "w=np.array([[2,3]]).T\n",
    "print(cost(X,Y,w,b,m))\n"
   ]
  },
  {
   "cell_type": "markdown",
   "metadata": {},
   "source": [
    "### Vectorized implementation of gradient descent algorithm.\n",
    "\n",
    "Let $X\\in\\Re^{n\\times m}$, $Y\\in\\Re^{1\\times m}$, $w\\in\\Re^{n\\times 1}$, $b\\in\\Re$, represent the input feature matrix, target labels, the weights and bais respectively.  Then gradient descent is given by:\n",
    "\n",
    "- repeat until convergence:  \n",
    "    $w=w-\\frac{\\alpha}{m}((w^TX+b-Y)X^T)^T$  \n",
    "    $b=b-\\frac{\\alpha}{m}||(w^TX+b-Y)||_1$\n",
    "    \n",
    "    where $||\\cdot||_1$ represents the sum of the elements of the vector\n",
    "    "
   ]
  },
  {
   "cell_type": "code",
   "execution_count": 7,
   "metadata": {},
   "outputs": [],
   "source": [
    "def gradientdescent(X,Y,w,b,a,m,iterations):\n",
    "    J_history =[]\n",
    "    it=1\n",
    "    while(it<iterations):\n",
    "        w=w-a*(np.dot((np.dot(w.T,X)+b-Y),X.T)).T/m\n",
    "        b=b-a*np.sum(np.dot(w.T,X)+b-Y)/m\n",
    "        J=cost(X,Y,w,b,m)\n",
    "        J_history.append(J)\n",
    "        it+=1\n",
    "    return w,b,np.array(J_history)"
   ]
  },
  {
   "cell_type": "code",
   "execution_count": 8,
   "metadata": {},
   "outputs": [
    {
     "name": "stdout",
     "output_type": "stream",
     "text": [
      "(2, 1)\n",
      "(2, 1)\n"
     ]
    }
   ],
   "source": [
    "b=2\n",
    "a=0.001\n",
    "iterations=1000\n",
    "w=np.array([[1,2]]).T\n",
    "print(np.shape(w))\n",
    "w,b,J=gradientdescent(X,Y,w,b,a,m,iterations)\n",
    "print(np.shape(w))"
   ]
  },
  {
   "cell_type": "code",
   "execution_count": 9,
   "metadata": {},
   "outputs": [
    {
     "data": {
      "image/png": "[encoded data removed]",
      "text/plain": [
       "<Figure size 432x288 with 1 Axes>"
      ]
     },
     "metadata": {
      "needs_background": "light"
     },
     "output_type": "display_data"
    }
   ],
   "source": [
    "# Ploting the cost function\n",
    "import matplotlib.pyplot as plt\n",
    "it=np.arange(1,np.size(J)+1)\n",
    "plt.scatter(it, J, marker='o', c='b')\n",
    "plt.title('The cost function')\n",
    "plt.xlabel('Iterations')\n",
    "plt.ylabel('$J(w,b)$')\n",
    "plt.show()"
   ]
  },
  {
   "cell_type": "code",
   "execution_count": null,
   "metadata": {},
   "outputs": [],
   "source": []
  }
 ],
 "metadata": {
  "kernelspec": {
   "display_name": "Python 3",
   "language": "python",
   "name": "python3"
  },
  "language_info": {
   "codemirror_mode": {
    "name": "ipython",
    "version": 3
   },
   "file_extension": ".py",
   "mimetype": "text/x-python",
   "name": "python",
   "nbconvert_exporter": "python",
   "pygments_lexer": "ipython3",
   "version": "3.6.5"
  }
 },
 "nbformat": 4,
 "nbformat_minor": 2
}
