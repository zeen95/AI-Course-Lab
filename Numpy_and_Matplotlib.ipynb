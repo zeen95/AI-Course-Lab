{
  "nbformat": 4,
  "nbformat_minor": 5,
  "metadata": {
    "colab": {
      "provenance": []
    }
  },
  "cells": [
    {
      "id": "f6784dc3",
      "cell_type": "markdown",
      "source": [
        "# Lab 4: Numpy and Matplotlib\n",
        "**Objective:** Introduce students to Numpy and Matplotlib for numerical computing and data visualization.\n",
        "\n",
        "In this lab, you will:\n",
        "- Perform mathematical operations using Numpy arrays\n",
        "- Visualize data using Matplotlib's plotting functions\n",
        "- Understand how Numpy and Matplotlib are used together for scientific computing"
      ],
      "metadata": {
        "id": "f6784dc3"
      }
    },
    {
      "id": "1ab8b01a",
      "cell_type": "markdown",
      "source": [
        "## Part 1: Numpy Arrays\n",
        "Numpy arrays are powerful for numerical computations and handling large datasets."
      ],
      "metadata": {
        "id": "1ab8b01a"
      }
    },
    {
      "id": "c92b809d",
      "cell_type": "code",
      "metadata": {
        "id": "c92b809d"
      },
      "execution_count": null,
      "source": [
        "import numpy as np\n",
        "\n",
        "# Creating numpy arrays\n",
        "arr1 = np.array([1, 2, 3, 4, 5])\n",
        "arr2 = np.array([[1, 2, 3], [4, 5, 6]])\n",
        "\n",
        "print(\"1D Array:\", arr1)\n",
        "print(\"2D Array:\\n\", arr2)\n",
        "\n",
        "# Array properties\n",
        "print(\"Shape of arr2:\", arr2.shape)\n",
        "print(\"Size of arr2:\", arr2.size)\n",
        "print(\"Data Type of arr1:\", arr1.dtype)"
      ],
      "outputs": []
    },
    {
      "id": "bd9a32ef",
      "cell_type": "markdown",
      "source": [
        "## Part 2: Mathematical Operations with Numpy"
      ],
      "metadata": {
        "id": "bd9a32ef"
      }
    },
    {
      "id": "c54df91f",
      "cell_type": "code",
      "metadata": {
        "id": "c54df91f"
      },
      "execution_count": null,
      "source": [
        "# Performing element-wise operations\n",
        "array_a = np.array([10, 20, 30, 40])\n",
        "array_b = np.array([1, 2, 3, 4])\n",
        "\n",
        "print(\"Addition:\", array_a + array_b)\n",
        "print(\"Subtraction:\", array_a - array_b)\n",
        "print(\"Multiplication:\", array_a * array_b)\n",
        "print(\"Division:\", array_a / array_b)\n",
        "\n",
        "# Scalar operations\n",
        "print(\"Array multiplied by scalar:\", array_a * 2)\n",
        "\n",
        "# Statistical operations\n",
        "print(\"Mean:\", np.mean(array_a))\n",
        "print(\"Max:\", np.max(array_a))\n",
        "print(\"Min:\", np.min(array_a))\n",
        "print(\"Standard Deviation:\", np.std(array_a))"
      ],
      "outputs": []
    },
    {
      "id": "4dcdcac7",
      "cell_type": "markdown",
      "source": [
        "## Part 3: Array Slicing and Indexing"
      ],
      "metadata": {
        "id": "4dcdcac7"
      }
    },
    {
      "id": "99e66b3e",
      "cell_type": "code",
      "metadata": {
        "id": "99e66b3e"
      },
      "execution_count": null,
      "source": [
        "numbers = np.array([10, 20, 30, 40, 50, 60])\n",
        "print(\"Original Array:\", numbers)\n",
        "\n",
        "# Slicing\n",
        "print(\"First three elements:\", numbers[:3])\n",
        "print(\"Last three elements:\", numbers[-3:])\n",
        "print(\"Middle elements (index 2 to 4):\", numbers[2:5])\n",
        "\n",
        "# Modifying elements\n",
        "numbers[0] = 100\n",
        "print(\"After modifying first element:\", numbers)"
      ],
      "outputs": []
    },
    {
      "id": "c2e3f8f0",
      "cell_type": "markdown",
      "source": [
        "## Part 4: Introduction to Matplotlib\n",
        "Matplotlib is used for creating visualizations and plotting data."
      ],
      "metadata": {
        "id": "c2e3f8f0"
      }
    },
    {
      "id": "0023f214",
      "cell_type": "code",
      "metadata": {
        "id": "0023f214"
      },
      "execution_count": null,
      "source": [
        "import matplotlib.pyplot as plt\n",
        "\n",
        "# Sample data for plotting\n",
        "x = np.array([1, 2, 3, 4, 5])\n",
        "y = np.array([2, 4, 6, 8, 10])\n",
        "\n",
        "# Simple line plot\n",
        "plt.plot(x, y)\n",
        "plt.title(\"Simple Line Plot\")\n",
        "plt.xlabel(\"X-axis\")\n",
        "plt.ylabel(\"Y-axis\")\n",
        "plt.show()"
      ],
      "outputs": []
    },
    {
      "id": "56b4e0bc",
      "cell_type": "markdown",
      "source": [
        "## Part 5: Different Plot Types"
      ],
      "metadata": {
        "id": "56b4e0bc"
      }
    },
    {
      "id": "e292ba2d",
      "cell_type": "code",
      "metadata": {
        "id": "e292ba2d"
      },
      "execution_count": null,
      "source": [
        "# Bar chart\n",
        "categories = ['A', 'B', 'C', 'D']\n",
        "values = [10, 15, 7, 12]\n",
        "\n",
        "plt.bar(categories, values, color='skyblue')\n",
        "plt.title(\"Bar Chart Example\")\n",
        "plt.xlabel(\"Categories\")\n",
        "plt.ylabel(\"Values\")\n",
        "plt.show()\n",
        "\n",
        "# Scatter plot\n",
        "x = np.array([5, 7, 8, 7, 2, 17, 2, 9, 4, 11])\n",
        "y = np.array([99, 86, 87, 88, 100, 86, 103, 87, 94, 78])\n",
        "\n",
        "plt.scatter(x, y, color='green')\n",
        "plt.title(\"Scatter Plot Example\")\n",
        "plt.xlabel(\"X-axis\")\n",
        "plt.ylabel(\"Y-axis\")\n",
        "plt.show()\n",
        "\n",
        "# Histogram\n",
        "data = np.random.randn(1000)\n",
        "plt.hist(data, bins=20, color='orange', edgecolor='black')\n",
        "plt.title(\"Histogram Example\")\n",
        "plt.xlabel(\"Bins\")\n",
        "plt.ylabel(\"Frequency\")\n",
        "plt.show()"
      ],
      "outputs": []
    },
    {
      "id": "a47d1637",
      "cell_type": "markdown",
      "source": [
        "## Part 6: Combining Numpy and Matplotlib"
      ],
      "metadata": {
        "id": "a47d1637"
      }
    },
    {
      "id": "76efa81e",
      "cell_type": "code",
      "metadata": {
        "id": "76efa81e"
      },
      "execution_count": null,
      "source": [
        "# Create data using numpy and visualize using matplotlib\n",
        "\n",
        "# Generate 100 points between 0 and 2π\n",
        "x = np.linspace(0, 2 * np.pi, 100)\n",
        "y = np.sin(x)\n",
        "\n",
        "plt.plot(x, y, label=\"Sine Wave\", color='purple')\n",
        "plt.title(\"Sine Wave using Numpy and Matplotlib\")\n",
        "plt.xlabel(\"Angle (radians)\")\n",
        "plt.ylabel(\"sin(x)\")\n",
        "plt.legend()\n",
        "plt.show()"
      ],
      "outputs": []
    }
  ]
}