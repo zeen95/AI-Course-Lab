{
 "cells": [
  {
   "cell_type": "markdown",
   "metadata": {},
   "source": [
    "# Artificial Intelligence (Assignment)\n",
    "### Implementation of linear regression with one variable"
   ]
  },
  {
   "cell_type": "markdown",
   "metadata": {},
   "source": [
    "In this part of this exercise, you will implement linear regression with one\n",
    "variable to predict profts for a food truck. Suppose you are the CEO of a\n",
    "restaurant franchise and are considering different cities for opening a new\n",
    "outlet. The chain already has trucks in various cities and you have data for\n",
    "prorts and populations from the cities.\n",
    "\n",
    "You would like to use this data to help you select which city to expand\n",
    "to next.\n",
    "\n",
    "The fille ex1data1.txt contains the dataset for our linear regression problem. The first column is the population of a city and the second column is the profit of a food truck in that city. A negative value for profit indicates a\n",
    "loss. \n",
    "\n",
    "## Reading and Ploting Data\n",
    "\n",
    "Before starting on any task, it is often useful to understand the data by\n",
    "visualizing it. For this dataset, you can use a scatter plot to visualize the\n",
    "data, since it has only two properties to plot (profit and population). (Many\n",
    "other problems that you will encounter in real life are multi-dimensional and\n",
    "can’t be plotted on a 2-d plot.). Import the following load the dataset, visualize it and perform the numerical operations using numpy."
   ]
  },
  {
   "cell_type": "code",
   "execution_count": 1,
   "metadata": {},
   "outputs": [],
   "source": [
    "import numpy as np\n",
    "import pandas as pd\n",
    "import matplotlib.pyplot as plt"
   ]
  },
  {
   "cell_type": "markdown",
   "metadata": {},
   "source": [
    "The data may be loaded using the __loadtxt()__ funcation. In the following code we are loading the the data from file __ex1data1.txt'__ into a variable __data__. In __\"data\"__, the first column is the population of a city and the second column is the profit of a food truck in that city. A negative value for profit indicates a loss. "
   ]
  },
  {
   "cell_type": "code",
   "execution_count": 2,
   "metadata": {},
   "outputs": [
    {
     "data": {
      "text/html": [
       "<div>\n",
       "<style scoped>\n",
       "    .dataframe tbody tr th:only-of-type {\n",
       "        vertical-align: middle;\n",
       "    }\n",
       "\n",
       "    .dataframe tbody tr th {\n",
       "        vertical-align: top;\n",
       "    }\n",
       "\n",
       "    .dataframe thead th {\n",
       "        text-align: right;\n",
       "    }\n",
       "</style>\n",
       "<table border=\"1\" class=\"dataframe\">\n",
       "  <thead>\n",
       "    <tr style=\"text-align: right;\">\n",
       "      <th></th>\n",
       "      <th>0</th>\n",
       "      <th>1</th>\n",
       "    </tr>\n",
       "  </thead>\n",
       "  <tbody>\n",
       "    <tr>\n",
       "      <th>0</th>\n",
       "      <td>6.1101</td>\n",
       "      <td>17.5920</td>\n",
       "    </tr>\n",
       "    <tr>\n",
       "      <th>1</th>\n",
       "      <td>5.5277</td>\n",
       "      <td>9.1302</td>\n",
       "    </tr>\n",
       "    <tr>\n",
       "      <th>2</th>\n",
       "      <td>8.5186</td>\n",
       "      <td>13.6620</td>\n",
       "    </tr>\n",
       "    <tr>\n",
       "      <th>3</th>\n",
       "      <td>7.0032</td>\n",
       "      <td>11.8540</td>\n",
       "    </tr>\n",
       "    <tr>\n",
       "      <th>4</th>\n",
       "      <td>5.8598</td>\n",
       "      <td>6.8233</td>\n",
       "    </tr>\n",
       "  </tbody>\n",
       "</table>\n",
       "</div>"
      ],
      "text/plain": [
       "        0        1\n",
       "0  6.1101  17.5920\n",
       "1  5.5277   9.1302\n",
       "2  8.5186  13.6620\n",
       "3  7.0032  11.8540\n",
       "4  5.8598   6.8233"
      ]
     },
     "execution_count": 2,
     "metadata": {},
     "output_type": "execute_result"
    }
   ],
   "source": [
    "data = pd.read_csv('ex1data1.txt', header = None) #read from dataset\n",
    "x = data.iloc[:,0] # read first column\n",
    "y = data.iloc[:,1] # read second column\n",
    "m = len(y) # number of training example\n",
    "data.head() # view first few rows of the data"
   ]
  },
  {
   "cell_type": "markdown",
   "metadata": {},
   "source": [
    "As we discussed in the class that the features in data will be represented by __x__ and the target labls will be represented by __y__.\n",
    "To follow our representation conventions we need to load the fist column of __data__ into __x__ and second column into __y__:"
   ]
  },
  {
   "cell_type": "code",
   "execution_count": null,
   "metadata": {},
   "outputs": [],
   "source": []
  },
  {
   "cell_type": "markdown",
   "metadata": {},
   "source": [
    "The number of traing records (or samples) is represented by $m$, as we discussed in the class. For the given problem $m$ is computed as follows:"
   ]
  },
  {
   "cell_type": "code",
   "execution_count": 3,
   "metadata": {},
   "outputs": [
    {
     "data": {
      "text/plain": [
       "97"
      ]
     },
     "execution_count": 3,
     "metadata": {},
     "output_type": "execute_result"
    }
   ],
   "source": [
    "m=np.size(x)\n",
    "m"
   ]
  },
  {
   "cell_type": "markdown",
   "metadata": {},
   "source": [
    "To plot the given data we ues the __scatter()__ function"
   ]
  },
  {
   "cell_type": "code",
   "execution_count": 4,
   "metadata": {},
   "outputs": [
    {
     "data": {
      "image/png": "[encoded data removed]",
      "text/plain": [
       "<Figure size 432x288 with 1 Axes>"
      ]
     },
     "metadata": {
      "needs_background": "light"
     },
     "output_type": "display_data"
    }
   ],
   "source": [
    "#Plot the data\n",
    "plt.scatter(x, y, marker='o', c='b')\n",
    "plt.title('Profits distribution')\n",
    "plt.xlabel('Population of City in 10,000s')\n",
    "plt.ylabel('Profit in $10,000s')\n",
    "plt.show()"
   ]
  },
  {
   "cell_type": "markdown",
   "metadata": {},
   "source": [
    "# Gradient Descent\n",
    "In this part, you will fit the linear regression parameters $w_1$ and $b$ to our dataset\n",
    "using gradient descent.\n",
    "### Update Equations\n",
    "The objective of linear regression is to minimize the cost function\n",
    "\n",
    "$J(w_1,b)=\\frac{1}{2m}\\sum_{i=1}^m(\\hat{y}^{(i)}-y^{(i)})^2$\n",
    "\n",
    "where the hupothesis $\\hat{y}$ is given by linear model:\n",
    "\n",
    "$\\hat{y}^{(i)}=w_1x_1^{(i)}+b$\n",
    "\n",
    "Recall that the parameters of your model are the $w_1$ (also be represented by $\\theta_0$) and $b$ (also be represented by $\\theta_1$) values. \n"
   ]
  },
  {
   "cell_type": "code",
   "execution_count": 5,
   "metadata": {},
   "outputs": [],
   "source": [
    "\n",
    "def compute_cost(x, y, w1,b,m):\n",
    "    '''\n",
    "    Comput cost for linear regression\n",
    "    '''\n",
    "    #Number of training samples\n",
    "    y_hat = w1*x+b    \n",
    "    sqErrors = np.power((y_hat - y), 2)\n",
    "    J =  np.sum(sqErrors)/(2*m)\n",
    "    return J\n"
   ]
  },
  {
   "cell_type": "code",
   "execution_count": 7,
   "metadata": {},
   "outputs": [
    {
     "name": "stdout",
     "output_type": "stream",
     "text": [
      "The cost is= 14.087185439837112\n"
     ]
    }
   ],
   "source": [
    "w1=1\n",
    "b=2\n",
    "print(\"The cost is=\",compute_cost(x, y, w1,b,m))"
   ]
  },
  {
   "cell_type": "markdown",
   "metadata": {},
   "source": [
    "## Gradient Descent Algorithm\n",
    "Our objective is to  minimize cost function $J(w_1,b)$ for $w_1$ and $b$. One way to do this is to\n",
    "use the batch gradient descent algorithm. In batch gradient descent, each\n",
    "iteration performs the update:\n",
    "\n",
    "1.  Initailize $\\alpha$, $w_1$, $b$ and $error$\n",
    "2. $while(j(w_1,b)>error:$\n",
    "\n",
    "   $w_1=w_1-\\frac{\\alpha}{m}\\sum_{i=1}^m(w_1x_1^{(i)}+b-y^{(i)})x_1^{(i)}$\n",
    "\n",
    "   $b=b-\\frac{\\alpha}{m}\\sum_{i=1}^m(w_1x_1^{(i)}+b-y^{(i)})$\n",
    "   \n",
    "In the following cell you need to implement  the cost function. "
   ]
  },
  {
   "cell_type": "code",
   "execution_count": 8,
   "metadata": {},
   "outputs": [],
   "source": [
    "def gradient_descent(x, y, w1,b,alpha, num_iters,error,m):\n",
    "    '''\n",
    "    Performs gradient descent to learn the parameters w1 and b\n",
    "    by taking num_items gradient steps with learning\n",
    "    rate alpha\n",
    "    '''\n",
    "    J_history =[] #The \"J_history\" will be used to store the value of cost function at \n",
    "    #different iterations.\n",
    "    \n",
    "    J=100000 ## set the cost to maximum value\n",
    "    it=1\n",
    "    while(it<num_iters and J>error): # The convergence contain two factors 1) number of iterations 2) the value of the cost\n",
    "        #function. If one of the condition get false the traing will be stoped\n",
    "        y_hat= None\n",
    "        db = None # derivatives w.r.t to b \n",
    "        dw1 = None #derivatives w.r.t w1\n",
    "\n",
    "        b = None\n",
    "        w1 = None\n",
    "        J=compute_cost(x, y, w1,b,m)\n",
    "        J_history.append(J)\n",
    "        it+=1\n",
    "\n",
    "    return w1,b, np.array(J_history)"
   ]
  },
  {
   "cell_type": "code",
   "execution_count": 9,
   "metadata": {},
   "outputs": [],
   "source": [
    "#initialize the parameters\n",
    "w1=1\n",
    "b=2\n",
    "alpha = 0.01\n",
    "error=2\n",
    "iterations = 15000\n",
    "\n",
    "#Run the gradient descent algorithm\n",
    "w1,b, J_history = gradient_descent(x, y, w1,b, alpha, iterations,error,m)\n"
   ]
  },
  {
   "cell_type": "code",
   "execution_count": 10,
   "metadata": {},
   "outputs": [
    {
     "data": {
      "image/png": "[encoded data removed]",
      "text/plain": [
       "<Figure size 432x288 with 1 Axes>"
      ]
     },
     "metadata": {
      "needs_background": "light"
     },
     "output_type": "display_data"
    }
   ],
   "source": [
    "#Compute the predicted line (regression line)\n",
    "y_pred = w1*x+b \n",
    "plt.scatter(x, y, marker='o', c='b') #plot the orignal data\n",
    "\n",
    "# plotting the regression line \n",
    "plt.plot(x, y_pred, color = \"g\") \n",
    "#plt.plot(x, y_pred, color = \"r\")\n",
    "plt.title('Profits distribution and the regression line')\n",
    "plt.xlabel('Population of City in 10,000s')\n",
    "plt.ylabel('Profit in $10,000s')\n",
    "plt.show()"
   ]
  },
  {
   "cell_type": "code",
   "execution_count": 11,
   "metadata": {},
   "outputs": [
    {
     "data": {
      "text/plain": [
       "14999"
      ]
     },
     "execution_count": 11,
     "metadata": {},
     "output_type": "execute_result"
    }
   ],
   "source": [
    "np.size(J_history)"
   ]
  },
  {
   "cell_type": "code",
   "execution_count": 13,
   "metadata": {},
   "outputs": [
    {
     "data": {
      "image/png": "[encoded data removed]",
      "text/plain": [
       "<Figure size 432x288 with 1 Axes>"
      ]
     },
     "metadata": {
      "needs_background": "light"
     },
     "output_type": "display_data"
    }
   ],
   "source": [
    "# Ploting the cost function\n",
    "it=np.arange(1,np.size(J_history)+1)\n",
    "plt.scatter(it, J_history, marker='o', c='b')\n",
    "plt.title('The cost function')\n",
    "plt.xlabel('Iterations')\n",
    "plt.ylabel('$J(w_1,b)$')\n",
    "plt.show()\n"
   ]
  },
  {
   "cell_type": "markdown",
   "metadata": {},
   "source": [
    "## Testing\n",
    "\n",
    "Perform the cross validation of the given model with the orignal data. You need to enter the $x^{(i)}$ the the model will predict the output value $\\hat{y)$. In the given dataset you have 97 records."
   ]
  },
  {
   "cell_type": "code",
   "execution_count": 14,
   "metadata": {},
   "outputs": [
    {
     "name": "stdout",
     "output_type": "stream",
     "text": [
      "enter a value between 1--97:       19\n",
      "The guven label, y= 5.3893 The predicted label, y_hat 2.6989511966795656\n"
     ]
    }
   ],
   "source": [
    "i=int(input(\"enter a value between 1--97:       \"))\n",
    "print(\"The guven label, y=\",y[i],\"The predicted label, y_hat\",w1*x[1]+b )\n"
   ]
  },
  {
   "cell_type": "code",
   "execution_count": null,
   "metadata": {},
   "outputs": [],
   "source": []
  }
 ],
 "metadata": {
  "kernelspec": {
   "display_name": "Python 3",
   "language": "python",
   "name": "python3"
  },
  "language_info": {
   "codemirror_mode": {
    "name": "ipython",
    "version": 3
   },
   "file_extension": ".py",
   "mimetype": "text/x-python",
   "name": "python",
   "nbconvert_exporter": "python",
   "pygments_lexer": "ipython3",
   "version": "3.6.5"
  }
 },
 "nbformat": 4,
 "nbformat_minor": 2
}
