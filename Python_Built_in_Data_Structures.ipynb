{
  "nbformat": 4,
  "nbformat_minor": 5,
  "metadata": {
    "colab": {
      "provenance": []
    }
  },
  "cells": [
    {
      "id": "a382235e",
      "cell_type": "markdown",
      "source": [
        "# Lab 3: Python Built-in Data Structures\n",
        "**Objective:** Explore Python's built-in data structures and their applications.\n",
        "\n",
        "In this lab, you will:\n",
        "- Utilize lists, tuples, dictionaries, and sets for data organization and manipulation\n",
        "- Perform basic and advanced operations on these data structures\n",
        "- Gain insights into how and when to use each data structure effectively"
      ],
      "metadata": {
        "id": "a382235e"
      }
    },
    {
      "id": "9a593db7",
      "cell_type": "markdown",
      "source": [
        "## Part 1: Lists\n",
        "Lists are ordered, mutable collections of items. They allow duplicates."
      ],
      "metadata": {
        "id": "9a593db7"
      }
    },
    {
      "id": "b46f1f8f",
      "cell_type": "code",
      "metadata": {
        "id": "b46f1f8f"
      },
      "execution_count": null,
      "source": [
        "# Creating a list\n",
        "fruits = [\"apple\", \"banana\", \"cherry\"]\n",
        "print(\"Original List:\", fruits)\n",
        "\n",
        "# Adding elements\n",
        "fruits.append(\"orange\")\n",
        "print(\"After Append:\", fruits)\n",
        "\n",
        "# Removing elements\n",
        "fruits.remove(\"banana\")\n",
        "print(\"After Removing 'banana':\", fruits)\n",
        "\n",
        "# Accessing elements\n",
        "print(\"First element:\", fruits[0])\n",
        "print(\"Last element:\", fruits[-1])\n",
        "\n",
        "# Slicing\n",
        "print(\"Sliced List (first two elements):\", fruits[:2])\n",
        "\n",
        "# Iterating through a list\n",
        "print(\"Iterating through list:\")\n",
        "for fruit in fruits:\n",
        "    print(fruit)"
      ],
      "outputs": []
    },
    {
      "id": "16d55809",
      "cell_type": "markdown",
      "source": [
        "## Part 2: Tuples\n",
        "Tuples are ordered and immutable collections. Once created, elements cannot be changed."
      ],
      "metadata": {
        "id": "16d55809"
      }
    },
    {
      "id": "d8fe1720",
      "cell_type": "code",
      "metadata": {
        "id": "d8fe1720"
      },
      "execution_count": null,
      "source": [
        "# Creating a tuple\n",
        "coordinates = (10, 20, 30)\n",
        "print(\"Tuple:\", coordinates)\n",
        "\n",
        "# Accessing elements\n",
        "print(\"First element:\", coordinates[0])\n",
        "\n",
        "# Tuple unpacking\n",
        "x, y, z = coordinates\n",
        "print(f\"Unpacked Values -> x: {x}, y: {y}, z: {z}\")\n",
        "\n",
        "# Tuples can be used as keys in dictionaries because they are immutable\n",
        "locations = {(0, 0): \"Origin\", (10, 10): \"Point A\"}\n",
        "print(\"Dictionary with tuple keys:\", locations)"
      ],
      "outputs": []
    },
    {
      "id": "2911abbb",
      "cell_type": "markdown",
      "source": [
        "## Part 3: Dictionaries\n",
        "Dictionaries are collections of key-value pairs. Keys must be unique and immutable."
      ],
      "metadata": {
        "id": "2911abbb"
      }
    },
    {
      "id": "40da0c06",
      "cell_type": "code",
      "metadata": {
        "id": "40da0c06"
      },
      "execution_count": null,
      "source": [
        "# Creating a dictionary\n",
        "student = {\n",
        "    \"name\": \"Alice\",\n",
        "    \"age\": 21,\n",
        "    \"courses\": [\"Math\", \"Physics\"]\n",
        "}\n",
        "print(\"Original Dictionary:\", student)\n",
        "\n",
        "# Accessing values\n",
        "print(\"Student Name:\", student[\"name\"])\n",
        "\n",
        "# Adding new key-value pair\n",
        "student[\"grade\"] = \"A\"\n",
        "print(\"After Adding Grade:\", student)\n",
        "\n",
        "# Updating values\n",
        "student[\"age\"] = 22\n",
        "print(\"After Updating Age:\", student)\n",
        "\n",
        "# Iterating through dictionary\n",
        "print(\"Iterating through dictionary:\")\n",
        "for key, value in student.items():\n",
        "    print(f\"{key}: {value}\")"
      ],
      "outputs": []
    },
    {
      "id": "fc75d1ea",
      "cell_type": "markdown",
      "source": [
        "## Part 4: Sets\n",
        "Sets are unordered collections of unique elements."
      ],
      "metadata": {
        "id": "fc75d1ea"
      }
    },
    {
      "id": "d0aa415a",
      "cell_type": "code",
      "metadata": {
        "id": "d0aa415a"
      },
      "execution_count": null,
      "source": [
        "# Creating sets\n",
        "set_a = {1, 2, 3, 4}\n",
        "set_b = {3, 4, 5, 6}\n",
        "\n",
        "print(\"Set A:\", set_a)\n",
        "print(\"Set B:\", set_b)\n",
        "\n",
        "# Adding and removing elements\n",
        "set_a.add(10)\n",
        "print(\"After Adding 10 to Set A:\", set_a)\n",
        "\n",
        "set_a.remove(2)\n",
        "print(\"After Removing 2 from Set A:\", set_a)\n",
        "\n",
        "# Set operations\n",
        "print(\"Union:\", set_a | set_b)\n",
        "print(\"Intersection:\", set_a & set_b)\n",
        "print(\"Difference (A - B):\", set_a - set_b)\n",
        "print(\"Symmetric Difference:\", set_a ^ set_b)"
      ],
      "outputs": []
    },
    {
      "id": "2c84deda",
      "cell_type": "markdown",
      "source": [
        "## Part 5: Combined Example\n",
        "Let's use multiple data structures together in a single example."
      ],
      "metadata": {
        "id": "2c84deda"
      }
    },
    {
      "id": "1dcc0e04",
      "cell_type": "code",
      "metadata": {
        "id": "1dcc0e04"
      },
      "execution_count": null,
      "source": [
        "# Example: Managing classroom data\n",
        "\n",
        "# List of students\n",
        "students = [\"Alice\", \"Bob\", \"Charlie\"]\n",
        "\n",
        "# Dictionary of grades\n",
        "grades = {\n",
        "    \"Alice\": {\"Math\": 90, \"Science\": 85},\n",
        "    \"Bob\": {\"Math\": 75, \"Science\": 80},\n",
        "    \"Charlie\": {\"Math\": 88, \"Science\": 92}\n",
        "}\n",
        "\n",
        "# Set of subjects offered\n",
        "subjects = {\"Math\", \"Science\"}\n",
        "\n",
        "print(\"Classroom Data:\")\n",
        "print(\"Students:\", students)\n",
        "print(\"Subjects:\", subjects)\n",
        "print(\"Grades:\", grades)\n",
        "\n",
        "# Adding a new student and their grades\n",
        "students.append(\"Diana\")\n",
        "grades[\"Diana\"] = {\"Math\": 95, \"Science\": 89}\n",
        "print(\"\n",
        "After Adding Diana:\")\n",
        "print(\"Students:\", students)\n",
        "print(\"Grades:\", grades)\n",
        "\n",
        "# Calculate average Math score using list and dictionary\n",
        "math_scores = [grades[student][\"Math\"] for student in students]\n",
        "average_math = sum(math_scores) / len(math_scores)\n",
        "print(f\"\n",
        "Average Math Score: {average_math}\")"
      ],
      "outputs": []
    }
  ]
}