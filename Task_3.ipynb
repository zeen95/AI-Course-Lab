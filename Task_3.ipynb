{
  "nbformat": 4,
  "nbformat_minor": 0,
  "metadata": {
    "colab": {
      "provenance": []
    },
    "kernelspec": {
      "name": "python3",
      "display_name": "Python 3"
    },
    "language_info": {
      "name": "python"
    }
  },
  "cells": [
    {
      "cell_type": "markdown",
      "source": [
        "# Python Function Programs\n",
        "# Python Program to Find LCM\n"
      ],
      "metadata": {
        "id": "lqFOyb3SX5kZ"
      }
    },
    {
      "cell_type": "markdown",
      "source": [
        "LCM: Least Common Multiple/ Lowest Common Multiple\n",
        "LCM stands for Least Common Multiple. It is a concept of arithmetic and number system. The LCM of two integers a and b is denoted by LCM (a,b). It is the smallest positive integer that is divisible by both \"a\" and \"b\".\n",
        "\n",
        "For example: We have two integers 4 and 6. Let's find LCM"
      ],
      "metadata": {
        "id": "LRvdW1O-YWto"
      }
    },
    {
      "cell_type": "code",
      "source": [
        "# defining a function to calculate LCM\n",
        "def calculate_lcm(x, y):\n",
        "    # selecting the greater number\n",
        "    if x > y:\n",
        "        greater = x\n",
        "    else:\n",
        "        greater = y\n",
        "    while(True):\n",
        "        if((greater % x == 0) and (greater % y == 0)):\n",
        "            lcm = greater\n",
        "            break\n",
        "        greater += 1\n",
        "    return lcm\n",
        "\n",
        "# taking input from users\n",
        "num1 = int(input(\"Enter first number: \"))\n",
        "num2 = int(input(\"Enter second number: \"))\n",
        "# printing the result for the users\n",
        "print(\"The L.C.M. of\", num1,\"and\", num2,\"is\", calculate_lcm(num1, num2))"
      ],
      "metadata": {
        "colab": {
          "base_uri": "https://localhost:8080/"
        },
        "id": "FzXxdzfyYIvN",
        "outputId": "f017f92a-3d68-4c15-8d8f-e585c03462a4"
      },
      "execution_count": 2,
      "outputs": [
        {
          "output_type": "stream",
          "name": "stdout",
          "text": [
            "Enter first number: 3\n",
            "Enter second number: 4\n",
            "The L.C.M. of 3 and 4 is 12\n"
          ]
        }
      ]
    },
    {
      "cell_type": "markdown",
      "source": [
        "# Fibonacci sequence:Python Program to Display Fibonacci Sequence Using Recursion\n",
        "\n",
        "A Fibonacci sequence is a sequence of integers which first two terms are 0 and 1 and all other terms of the sequence are obtained by adding their preceding two numbers.\n",
        "\n",
        "For example: 0, 1, 1, 2, 3, 5, 8, 13 and so on..."
      ],
      "metadata": {
        "id": "f7cZt4waY2ch"
      }
    },
    {
      "cell_type": "code",
      "source": [
        "def recur_fibo(n):\n",
        "   if n <= 1:\n",
        "       return n\n",
        "   else:\n",
        "       return(recur_fibo(n-1) + recur_fibo(n-2))\n",
        "# take input from the user\n",
        "nterms = int(input(\"How many terms? \"))\n",
        "# check if the number of terms is valid\n",
        "if nterms <= 0:\n",
        "   print(\"Plese enter a positive integer\")\n",
        "else:\n",
        "   print(\"Fibonacci sequence:\")\n",
        "   for i in range(nterms):\n",
        "       print(recur_fibo(i))"
      ],
      "metadata": {
        "colab": {
          "base_uri": "https://localhost:8080/"
        },
        "id": "XUsHF_yJYuB5",
        "outputId": "a03b1f6d-6155-449f-ed5e-5b0d1d029fd3"
      },
      "execution_count": 3,
      "outputs": [
        {
          "output_type": "stream",
          "name": "stdout",
          "text": [
            "How many terms? 3\n",
            "Fibonacci sequence:\n",
            "0\n",
            "1\n",
            "1\n"
          ]
        }
      ]
    },
    {
      "cell_type": "markdown",
      "source": [
        "# Python Program to Make a Simple Calculator"
      ],
      "metadata": {
        "id": "ekZTqav7Zj67"
      }
    },
    {
      "cell_type": "code",
      "source": [
        "def add(P, Q):\n",
        "   # This function is used for adding two numbers\n",
        "   return P + Q\n",
        "def subtract(P, Q):\n",
        "   # This function is used for subtracting two numbers\n",
        "   return P - Q\n",
        "def multiply(P, Q):\n",
        "   # This function is used for multiplying two numbers\n",
        "   return P * Q\n",
        "def divide(P, Q):\n",
        "   # This function is used for dividing two numbers\n",
        "   return P / Q\n",
        "# Now we will take inputs from the user\n",
        "print (\"Please select the operation.\")\n",
        "print (\"a. Add\")\n",
        "print (\"b. Subtract\")\n",
        "print (\"c. Multiply\")\n",
        "print (\"d. Divide\")\n",
        "\n",
        "choice = input(\"Please enter choice (a/ b/ c/ d): \")\n",
        "\n",
        "num_1 = int (input (\"Please enter the first number: \"))\n",
        "num_2 = int (input (\"Please enter the second number: \"))\n",
        "\n",
        "if choice == 'a':\n",
        "   print (num_1, \" + \", num_2, \" = \", add(num_1, num_2))\n",
        "\n",
        "elif choice == 'b':\n",
        "   print (num_1, \" - \", num_2, \" = \", subtract(num_1, num_2))\n",
        "\n",
        "elif choice == 'c':\n",
        "   print (num1, \" * \", num2, \" = \", multiply(num1, num2))\n",
        "elif choice == 'd':\n",
        "   print (num_1, \" / \", num_2, \" = \", divide(num_1, num_2))\n",
        "else:\n",
        "   print (\"This is an invalid input\")"
      ],
      "metadata": {
        "colab": {
          "base_uri": "https://localhost:8080/"
        },
        "id": "Pk06otuBZLOt",
        "outputId": "43788588-a6ec-4c3a-95a4-617ed0b8e20d"
      },
      "execution_count": 5,
      "outputs": [
        {
          "output_type": "stream",
          "name": "stdout",
          "text": [
            "Please select the operation.\n",
            "a. Add\n",
            "b. Subtract\n",
            "c. Multiply\n",
            "d. Divide\n",
            "Please enter choice (a/ b/ c/ d): a\n",
            "Please enter the first number: 6\n",
            "Please enter the second number: 7\n",
            "6  +  7  =  13\n"
          ]
        }
      ]
    },
    {
      "cell_type": "markdown",
      "source": [
        "# Python Program to Find HCF\n",
        "HCF: Highest Common Factor\n",
        "Highest Common Factor or Greatest Common Divisor of two or more integers when at least one of them is not zero is the largest positive integer that evenly divides the numbers without a remainder. For example, the GCD of 8 and 12 is 4."
      ],
      "metadata": {
        "id": "kEVbLTpZZqjO"
      }
    },
    {
      "cell_type": "code",
      "source": [
        "# defining a function to calculate HCF\n",
        "def calculate_hcf(x, y):\n",
        "    # selecting the smaller number\n",
        "    if x > y:\n",
        "        smaller = y\n",
        "    else:\n",
        "        smaller = x\n",
        "    for i in range(1,smaller + 1):\n",
        "        if((x % i == 0) and (y % i == 0)):\n",
        "            hcf = i\n",
        "    return hcf\n",
        "\n",
        "# taking input from users\n",
        "num1 = int(input(\"Enter first number: \"))\n",
        "num2 = int(input(\"Enter second number: \"))\n",
        "# printing the result for the users\n",
        "print(\"The H.C.F. of\", num1,\"and\", num2,\"is\", calculate_hcf(num1, num2))"
      ],
      "metadata": {
        "colab": {
          "base_uri": "https://localhost:8080/"
        },
        "id": "fcICGMroZxCi",
        "outputId": "94b85b2c-aca6-4d98-8251-6bfbcc30a43c"
      },
      "execution_count": 6,
      "outputs": [
        {
          "output_type": "stream",
          "name": "stdout",
          "text": [
            "Enter first number: 3\n",
            "Enter second number: 4\n",
            "The H.C.F. of 3 and 4 is 1\n"
          ]
        }
      ]
    }
  ]
}