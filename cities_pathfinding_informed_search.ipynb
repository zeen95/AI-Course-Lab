{
  "cells": [
    {
      "cell_type": "markdown",
      "id": "99b7d68f",
      "metadata": {
        "id": "99b7d68f"
      },
      "source": [
        "# Path Finding Between Cities in Pakistan with Informed Search\n",
        "\n",
        "In theis assignment you have to implemet the UCS, greedy and A* using object oriented approach. The details of the object oriented implemantation is given in the file \"slidingpuzzle_oop-informed.ipynb\". First, understand the detals in the mentioned file and then implemaent the given algorithms in the same manner. "
      ]
    },
    {
      "cell_type": "markdown",
      "id": "997fa7ea",
      "metadata": {
        "id": "997fa7ea"
      },
      "source": [
        "## Path finding problem\n",
        "This example demonstrates the use of dictionary for storing cities and road links between them as then uses various search algorithms to find a path from start to destination cities.\n",
        "\n",
        "Transition model is stored as a python dictionary of sets. Each key in the dictionary is a\n",
        "dictionlary of cities as keys and the corresponding value is a dictionlary of cities directly connected to it by roads as (city,distance) key value pairs. \n",
        "\n",
        "Before proceeding with this example you should see Google Map of this area to familiarize your self with the geography of this region"
      ]
    },
    {
      "cell_type": "code",
      "execution_count": null,
      "id": "8d810199",
      "metadata": {
        "id": "8d810199"
      },
      "outputs": [],
      "source": [
        "pakistan = {\"Abbottabad\": dict([(\"Mansehra\",24),(\"Muree\",71),(\"Haripur\",41),]), \n",
        "\"Mansehra\": dict([(\"Attar Shisha\",14),(\"Abbottabad\",24),(\"Besham\",121),]), \n",
        "\"Haripur\": dict([(\"Swabi\",99),(\"Hassan Abdal\",33),(\"Abbottabad\",41)]), \n",
        "\"Muree\": dict([(\"Muzzafar Abad\",68),(\"Islamabad\",49), (\"Abbottabad\",71)]), \n",
        "\"Attar Shisha\": dict([(\"Mansehra\",14),(\"Muzzafar Abad\",34),(\"Naran\",106),]), \n",
        "\"Besham\": dict([(\"Mansehra\", 121),(\"Khwazakhela\",66),(\"Chilas\",199),]), \n",
        "\"Hassan Abdal\": dict([(\"Haripur\",33),(\"Jehangira\",63),(\"Taxila\",16),]), \n",
        "\"Swabi\": dict([(\"Jehangira\",45),(\"Haripur\",99),]), \n",
        "\"Islamabad\": dict([(\"Muree\",49),(\"Rawalpindi\",19),]), \n",
        "\"Muzzafar Abad\": dict([(\"Attar Shisha\",34),(\"Muree\",68),]), \n",
        "\"Khwazakhela\": dict([(\"Kalam\",69),(\"Mingora\",27),(\"Besham\",66),]), \n",
        "\"Chilas\": dict([(\"Gilgit\",133),(\"Naran\",113),(\"Besham\",199),]), \n",
        "\"Jehangira\": dict([(\"Nowshera\",31),(\"Swabi\",45),(\"Hassan Abdal\",63),]), \n",
        "\"Taxila\": dict([(\"Rawalpindi\",29),(\"Hassan Abdal\",16),]), \n",
        "\"Rawalpindi\": dict([(\"Taxila\",29),(\"Islamabad\",19),]), \n",
        "\"Mingora\": dict([(\"Nowshera\",127),(\"Khwazakhela\",27),]), \n",
        "\"Kalam\": dict([(\"Khwazakhela\",69),]), \n",
        "\"Naran\": dict([(\"Attar Shisha\",106),(\"Chilas\",113),]), \n",
        "\"Gilgit\": dict([(\"Chilas\",133),]), \n",
        "\"Nowshera\": dict([(\"Mingora\",127),(\"Peshawar\",40),(\"Jehangira\",31),]), \n",
        "\"Peshawar\": dict([(\"Nowshera\",40),]), \n",
        "}"
      ]
    },
    {
      "cell_type": "markdown",
      "id": "385e594f",
      "metadata": {
        "id": "385e594f"
      },
      "source": [
        "## Task\n",
        "Find the path between abbbottabad and Multan by using:\n",
        "1. UCS\n",
        "2. Greedy Search\n",
        "3. A*\n"
      ]
    },
    {
      "cell_type": "markdown",
      "id": "3e9e01ef",
      "metadata": {
        "id": "3e9e01ef"
      },
      "source": [
        "## Straignt line distnace between cities\n",
        "\n",
        "The SLD heuristic can be calculated from the latitute and longitute coordinates of the cities."
      ]
    },
    {
      "cell_type": "code",
      "execution_count": null,
      "id": "5eebddd9",
      "metadata": {
        "id": "5eebddd9"
      },
      "outputs": [],
      "source": [
        "## {city:(lat,lng)}\n",
        "citygeo = {'Abbottabad': (34.1687502, 73.2214982),\n",
        " 'Attar Shisha': (34.394943, 73.3074938),\n",
        " 'Besham': (34.918835, 72.8737017),\n",
        " 'Chilas': (35.426728, 74.0887576),\n",
        " 'Gilgit': (35.920154, 74.3080126),\n",
        " 'Haripur': (33.9959837, 72.9367618),\n",
        " 'Hassan Abdal': (33.8194868, 72.6890255),\n",
        " 'Islamabad': (33.7293882, 73.0931461),\n",
        " 'Jehangira': (33.9641546, 72.2186128),\n",
        " 'Kalam': (35.4782403, 72.5885045),\n",
        " 'Khwazakhela': (34.9370602, 72.46871519999999),\n",
        " 'Mansehra': (34.3338823, 73.2010622),\n",
        " 'Mingora': (34.7717466, 72.3601512),\n",
        " 'Muree': (33.9077736, 73.3914997),\n",
        " 'Muzzafar Abad': (34.3596867, 73.471054),\n",
        " 'Naran': (34.90770610000001, 73.6492059),\n",
        " 'Nowshera': (34.015856, 71.9754516),\n",
        " 'Peshawar': (34.0149748, 71.5804899),\n",
        " 'Rawalpindi': (33.598394, 73.0441352),\n",
        " 'Swabi': (34.1442232, 72.37846789999999),\n",
        " 'Taxila': (33.7369654, 72.7994411)}\n"
      ]
    },
    {
      "cell_type": "code",
      "execution_count": null,
      "id": "7350ca27",
      "metadata": {
        "id": "7350ca27"
      },
      "outputs": [],
      "source": [
        "import math\n",
        " \n",
        "def gcircle(city1, city2):\n",
        "    lat1, long1 = city1\n",
        "    lat2, long2 = city2\n",
        "    # Convert latitude and longitude to\n",
        "    # spherical coordinates in radians.\n",
        "    degrees_to_radians = math.pi/180.0\n",
        "     \n",
        "    # phi = 90 - latitude\n",
        "    phi1 = (90.0 - lat1)*degrees_to_radians\n",
        "    phi2 = (90.0 - lat2)*degrees_to_radians\n",
        "     \n",
        "    # theta = longitude\n",
        "    theta1 = long1*degrees_to_radians\n",
        "    theta2 = long2*degrees_to_radians\n",
        "     \n",
        "    # Compute spherical distance from spherical coordinates.\n",
        "     \n",
        "    # For two locations in spherical coordinates\n",
        "    # (1, theta, phi) and (1, theta', phi')\n",
        "    # cosine( arc length ) =\n",
        "    # sin phi sin phi' cos(theta-theta') + cos phi cos phi'\n",
        "    # distance = rho * arc length\n",
        "     \n",
        "    cos = (math.sin(phi1)*math.sin(phi2)*math.cos(theta1 - theta2) +\n",
        "    math.cos(phi1)*math.cos(phi2))\n",
        "    arc = math.acos( cos )\n",
        "     \n",
        "    # Remember to multiply arc by the radius of the earth\n",
        "    # in your favorite set of units to get length.\n",
        "    return arc * 6373 # 6370 is radius of the earch in km\n",
        "        \n"
      ]
    },
    {
      "cell_type": "code",
      "execution_count": null,
      "id": "1536a81c",
      "metadata": {
        "id": "1536a81c",
        "outputId": "44f5157b-9046-4bc0-8d84-53626bb49dcf"
      },
      "outputs": [
        {
          "data": {
            "text/plain": [
              "18.46346451065991"
            ]
          },
          "execution_count": 15,
          "metadata": {},
          "output_type": "execute_result"
        }
      ],
      "source": [
        "gcircle(citygeo[\"Abbottabad\"],citygeo[\"Mansehra\"])"
      ]
    },
    {
      "cell_type": "code",
      "execution_count": null,
      "id": "8c86693b",
      "metadata": {
        "id": "8c86693b"
      },
      "outputs": [],
      "source": []
    },
    {
      "cell_type": "code",
      "execution_count": null,
      "id": "3ab3f651",
      "metadata": {
        "id": "3ab3f651"
      },
      "outputs": [],
      "source": []
    },
    {
      "cell_type": "code",
      "execution_count": null,
      "id": "d3689e51",
      "metadata": {
        "id": "d3689e51"
      },
      "outputs": [],
      "source": []
    }
  ],
  "metadata": {
    "kernelspec": {
      "display_name": "Python 3 (ipykernel)",
      "language": "python",
      "name": "python3"
    },
    "language_info": {
      "codemirror_mode": {
        "name": "ipython",
        "version": 3
      },
      "file_extension": ".py",
      "mimetype": "text/x-python",
      "name": "python",
      "nbconvert_exporter": "python",
      "pygments_lexer": "ipython3",
      "version": "3.9.12"
    },
    "colab": {
      "provenance": []
    }
  },
  "nbformat": 4,
  "nbformat_minor": 5
}