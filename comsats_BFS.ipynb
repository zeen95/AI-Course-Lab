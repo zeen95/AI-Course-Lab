{
  "nbformat": 4,
  "nbformat_minor": 0,
  "metadata": {
    "colab": {
      "provenance": []
    },
    "kernelspec": {
      "name": "python3",
      "display_name": "Python 3"
    },
    "language_info": {
      "name": "python"
    }
  },
  "cells": [
    {
      "cell_type": "markdown",
      "source": [
        "![image.png](data:image/png;base64,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)"
      ],
      "metadata": {
        "id": "LPIAjxNpDZQd"
      }
    },
    {
      "cell_type": "code",
      "source": [
        "from collections import defaultdict, deque\n",
        "\n",
        "def bfs(graph, start):\n",
        "    visited = set()\n",
        "    queue = deque([start])\n",
        "    visited.add(start)\n",
        "\n",
        "    while queue:\n",
        "        vertex = queue.popleft()\n",
        "        print(vertex, end=\" \")\n",
        "\n",
        "        for neighbor in graph[vertex]:\n",
        "            if neighbor not in visited:\n",
        "                queue.append(neighbor)\n",
        "                visited.add(neighbor)\n",
        "\n",
        "# Example graph representing connections between nodes at COMSATS\n",
        "comsats_graph = {\n",
        "    'CUI Islamabad': ['CUI Lahore', 'CUI Abbottabad', 'CUI Vehari'],\n",
        "    'CUI Lahore': ['CUI Islamabad', 'CUI Abbottabad', 'CUI Wah'],\n",
        "    'CUI Abbottabad': ['CUI Islamabad', 'CUI Lahore', 'CUI Wah'],\n",
        "    'CUI Vehari': ['CUI Islamabad', 'CUI Wah'],\n",
        "    'CUI Wah': ['CUI Lahore', 'CUI Abbottabad', 'CUI Vehari']\n",
        "}\n",
        "\n",
        "# Starting node for BFS\n",
        "start_node = 'CUI Islamabad'\n",
        "\n",
        "print(\"BFS Traversal:\")\n",
        "bfs(comsats_graph, start_node)"
      ],
      "metadata": {
        "id": "eZO1AblO7Xnp",
        "colab": {
          "base_uri": "https://localhost:8080/"
        },
        "outputId": "17cb5140-49d2-4354-f123-9db582ee83c7"
      },
      "execution_count": 16,
      "outputs": [
        {
          "output_type": "stream",
          "name": "stdout",
          "text": [
            "BFS Traversal:\n",
            "CUI Islamabad CUI Lahore CUI Abbottabad CUI Vehari CUI Wah "
          ]
        }
      ]
    }
  ]
}