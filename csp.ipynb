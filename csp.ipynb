{
  "nbformat": 4,
  "nbformat_minor": 0,
  "metadata": {
    "colab": {
      "provenance": []
    },
    "kernelspec": {
      "name": "python3",
      "display_name": "Python 3"
    },
    "language_info": {
      "name": "python"
    }
  },
  "cells": [
    {
      "cell_type": "markdown",
      "source": [
        "# Constraint Satisfaction Problems\n",
        "\n",
        "Suppose a situation where you have four students $S_1, S_2, S_3$ and $S_4$.The student, $S_1$, is registered in courses A, B, and C. The student, $S_2$, is registered in courses B, D, and E. The student, $S_3$, is registered in courses C, E, and F while the student, $S_4$, is registered in courses E, F, anf G.  We want to make an exam schedule where we have no conflict (two papers of one student in the same slot are not allowed). Thus we have the following Constraints:\n",
        "$$\\{A \\ne B, A\\ne C, B\\ne C, B\\ne D, B\\ne E, C\\ne E,\n",
        "C\\ne F, D\\ne E, E\\ne F, E\\ne G, F\\ne G\\} $$\n",
        "\n",
        "The exam may scheduled on Monday, Tuesday, and Wednesday only. Ths, the domain set become:\n",
        "$$\\{Monday, Tuesday, Wednesday\\}$$\n",
        "\n",
        "The following code show the implementation of the backtracking algorithm."
      ],
      "metadata": {
        "id": "PH2vKjHwrpar"
      }
    },
    {
      "cell_type": "code",
      "source": [
        "\"\"\"\n",
        "Naive backtracking search without any heuristics or inference.\n",
        "\"\"\"\n",
        "\n",
        "VARIABLES = [\"A\", \"B\", \"C\", \"D\", \"E\", \"F\", \"G\"]\n",
        "CONSTRAINTS = [\n",
        "    (\"A\", \"B\"),\n",
        "    (\"A\", \"C\"),\n",
        "    (\"B\", \"C\"),\n",
        "    (\"B\", \"D\"),\n",
        "    (\"B\", \"E\"),\n",
        "    (\"C\", \"E\"),\n",
        "    (\"C\", \"F\"),\n",
        "    (\"D\", \"E\"),\n",
        "    (\"E\", \"F\"),\n",
        "    (\"E\", \"G\"),\n",
        "    (\"F\", \"G\")\n",
        "]\n",
        "\n",
        "\n",
        "def backtrack(assignment):\n",
        "    \"\"\"Runs backtracking search to find an assignment.\"\"\"\n",
        "\n",
        "    # Check if assignment is complete\n",
        "    if len(assignment) == len(VARIABLES):\n",
        "        return assignment\n",
        "\n",
        "    # Try a new variable\n",
        "    var = select_unassigned_variable(assignment)\n",
        "    for value in [\"Monday\", \"Tuesday\", \"Wednesday\"]:\n",
        "        new_assignment = assignment.copy()\n",
        "        new_assignment[var] = value\n",
        "        if consistent(new_assignment):\n",
        "            result = backtrack(new_assignment)\n",
        "            if result is not None:\n",
        "                return result\n",
        "    return None\n",
        "\n",
        "\n",
        "def select_unassigned_variable(assignment):\n",
        "    \"\"\"Chooses a variable not yet assigned, in order.\"\"\"\n",
        "    for variable in VARIABLES:\n",
        "        if variable not in assignment:\n",
        "            return variable\n",
        "    return None\n",
        "\n",
        "\n",
        "def consistent(assignment):\n",
        "    \"\"\"Checks to see if an assignment is consistent.\"\"\"\n",
        "    for (x, y) in CONSTRAINTS:\n",
        "\n",
        "        # Only consider arcs where both are assigned\n",
        "        if x not in assignment or y not in assignment:\n",
        "            continue\n",
        "\n",
        "        # If both have same value, then not consistent\n",
        "        if assignment[x] == assignment[y]:\n",
        "            return False\n",
        "\n",
        "    # If nothing inconsistent, then assignment is consistent\n",
        "    return True\n",
        "\n",
        "\n",
        "solution = backtrack(dict())\n",
        "print(solution)"
      ],
      "metadata": {
        "colab": {
          "base_uri": "https://localhost:8080/"
        },
        "id": "PdLZmEfsdCUA",
        "outputId": "bf7c8c9a-cad2-424f-a582-694d6f010575"
      },
      "execution_count": null,
      "outputs": [
        {
          "output_type": "stream",
          "name": "stdout",
          "text": [
            "{'A': 'Monday', 'B': 'Tuesday', 'C': 'Wednesday', 'D': 'Wednesday', 'E': 'Monday', 'F': 'Tuesday', 'G': 'Wednesday'}\n"
          ]
        }
      ]
    },
    {
      "cell_type": "code",
      "source": [],
      "metadata": {
        "id": "X7_0TCE2dXIA"
      },
      "execution_count": null,
      "outputs": []
    },
    {
      "cell_type": "markdown",
      "source": [
        "To solve the CSP the python library **constraint** can also be used. Install the library if it is not installed already.\n",
        "\n",
        "\n",
        "\n",
        "\n"
      ],
      "metadata": {
        "id": "VNrfkCydosQ2"
      }
    },
    {
      "cell_type": "code",
      "source": [
        "pip install python-constraint"
      ],
      "metadata": {
        "colab": {
          "base_uri": "https://localhost:8080/"
        },
        "id": "1WglaOcwpD1v",
        "outputId": "ea0ed5f9-1875-46e9-bb96-c4f399d35639"
      },
      "execution_count": null,
      "outputs": [
        {
          "output_type": "stream",
          "name": "stdout",
          "text": [
            "Collecting python-constraint\n",
            "  Downloading python-constraint-1.4.0.tar.bz2 (18 kB)\n",
            "  Preparing metadata (setup.py) ... \u001b[?25l\u001b[?25hdone\n",
            "Building wheels for collected packages: python-constraint\n",
            "  Building wheel for python-constraint (setup.py) ... \u001b[?25l\u001b[?25hdone\n",
            "  Created wheel for python-constraint: filename=python_constraint-1.4.0-py2.py3-none-any.whl size=24058 sha256=ff7816a414582b57c4364c9049da15c315a49d622167643fe0ecb3f85eb3e744\n",
            "  Stored in directory: /root/.cache/pip/wheels/2e/f2/2b/cb08b5fe129e4f69b7033061f256e5c551b0aa1160c2872aee\n",
            "Successfully built python-constraint\n",
            "Installing collected packages: python-constraint\n",
            "Successfully installed python-constraint-1.4.0\n"
          ]
        }
      ]
    },
    {
      "cell_type": "code",
      "source": [
        "from constraint import *  # import the constraint\n",
        "\n",
        "problem = Problem()    # Create the instance of the problem\n",
        "\n",
        "# Add variables:\n",
        "## It is important to add your varaibles and their domain values to the problem.addVariables()\n",
        "problem.addVariables(\n",
        "    [\"A\", \"B\", \"C\", \"D\", \"E\", \"F\", \"G\"],\n",
        "    [\"Monday\", \"Tuesday\", \"Wednesday\"]\n",
        ")\n",
        "\n",
        "# Add constraints\n",
        "## Add your constraints here\n",
        "CONSTRAINTS = [\n",
        "    (\"A\", \"B\"),\n",
        "    (\"A\", \"C\"),\n",
        "    (\"B\", \"C\"),\n",
        "    (\"B\", \"D\"),\n",
        "    (\"B\", \"E\"),\n",
        "    (\"C\", \"E\"),\n",
        "    (\"C\", \"F\"),\n",
        "    (\"D\", \"E\"),\n",
        "    (\"E\", \"F\"),\n",
        "    (\"E\", \"G\"),\n",
        "    (\"F\", \"G\")\n",
        "]\n",
        "for x, y in CONSTRAINTS:\n",
        "    problem.addConstraint(lambda x, y: x != y, (x, y)) # Impose the constraints, this may vary problem to problem.\n",
        "\n",
        "# Solve problem\n",
        "## This will automatically call the backtracking function to solve your CSP.\n",
        "for solution in problem.getSolutions():\n",
        "    print(solution) ## The solution will return the all possible solutions. In this case, six solutions will be returned."
      ],
      "metadata": {
        "colab": {
          "base_uri": "https://localhost:8080/"
        },
        "id": "I0gWRaSsplHY",
        "outputId": "e807b52e-d257-435a-dc2c-637570147831"
      },
      "execution_count": null,
      "outputs": [
        {
          "output_type": "stream",
          "name": "stdout",
          "text": [
            "{'E': 'Wednesday', 'B': 'Tuesday', 'C': 'Monday', 'F': 'Tuesday', 'A': 'Wednesday', 'D': 'Monday', 'G': 'Monday'}\n",
            "{'E': 'Wednesday', 'B': 'Monday', 'C': 'Tuesday', 'F': 'Monday', 'A': 'Wednesday', 'D': 'Tuesday', 'G': 'Tuesday'}\n",
            "{'E': 'Tuesday', 'B': 'Wednesday', 'C': 'Monday', 'F': 'Wednesday', 'A': 'Tuesday', 'D': 'Monday', 'G': 'Monday'}\n",
            "{'E': 'Tuesday', 'B': 'Monday', 'C': 'Wednesday', 'F': 'Monday', 'A': 'Tuesday', 'D': 'Wednesday', 'G': 'Wednesday'}\n",
            "{'E': 'Monday', 'B': 'Tuesday', 'C': 'Wednesday', 'F': 'Tuesday', 'A': 'Monday', 'D': 'Wednesday', 'G': 'Wednesday'}\n",
            "{'E': 'Monday', 'B': 'Wednesday', 'C': 'Tuesday', 'F': 'Wednesday', 'A': 'Monday', 'D': 'Tuesday', 'G': 'Tuesday'}\n"
          ]
        }
      ]
    },
    {
      "cell_type": "markdown",
      "source": [
        "Visit the following link to know about the __lambda__ function:\n",
        "\n",
        "https://www.w3schools.com/python/python_lambda.asp\n",
        "\n",
        "Vist the following link for detail about **constraint library** to solve the CSP.\n",
        "\n",
        "https://stackabuse.com/constraint-programming-with-python-constraint/\n",
        "\n",
        "### Lab task\n",
        "**Use the constraint library and solve the following problems**\n",
        "\n",
        "## Problem-I Description:\n",
        "You are given a scheduling problem for organizing a conference with multiple events and speakers. The goal is to assign time slots to events and speakers while satisfying various constraints.\n",
        "\n",
        "**Variables:**\n",
        " - Events: $E_1, E_2, E_3, E_4$\n",
        " - Speakers: $S_1, S_2, S_3, S_4$\n",
        " - Time Slots: $T_1, T_2, T_3, T_4$\n",
        "\n",
        "**Domains:**\n",
        "- Each event can be scheduled in any available time slot.\n",
        "- Each speaker can speak at any event.\n",
        "\n",
        "**Constraints:**\n",
        "- Each event must be assigned to exactly one time slot.\n",
        "- Each speaker must be assigned to at least one event.\n",
        "- No speaker can be assigned to more than one event at the same time.\n",
        "- Event $E_1$ must be scheduled in $T_1$.\n",
        "- Speaker $S_2$ prefers $T_2$.\n",
        "- Events $E_2$ and $E_3$ must not be scheduled in the same time slot.\n",
        "\n",
        "**Objective:**\n",
        "\n",
        "Minimize the total number of conflicts while satisfying all constraints.\n",
        "\n",
        "## Problem-II Description:\n",
        "\n",
        "Imagine you have a map of Australia that you want to color by state/territory (which we will collectively call \"regions\"). No two adjacent regions should share a color. Can you color the regions with just three different colors?\n",
        "\n",
        "The answer is yes. Try it out on your own. (The easiest way is to print out a map of Australia with a white background.) As human beings, we can quickly figure out the solution by inspection and a little trial and error. It is a trivial problem, really, and a great first problem for our backtracking constraint-satisfaction solver. Visit the following link for details for the Australia map coloring problem.\n",
        "\n",
        "https://people.eecs.berkeley.edu/~russell/classes/cs188/f05/slides/chapter05-6pp.pdf\n",
        "\n"
      ],
      "metadata": {
        "id": "k8eGxTh_qU23"
      }
    },
    {
      "cell_type": "markdown",
      "source": [],
      "metadata": {
        "id": "StD_FaGHtxwG"
      }
    }
  ]
}