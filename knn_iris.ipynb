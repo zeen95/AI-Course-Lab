{
 "cells": [
  {
   "cell_type": "markdown",
   "metadata": {},
   "source": [
    "# K Nearest Neighbors \n"
   ]
  },
  {
   "cell_type": "markdown",
   "metadata": {},
   "source": [
    "Loading the dataset from Sklearn built-in datasets  "
   ]
  },
  {
   "cell_type": "code",
   "execution_count": 1,
   "metadata": {},
   "outputs": [],
   "source": [
    "from sklearn.datasets import load_iris\n",
    "iris = load_iris()\n",
    "X = iris.data[:, :2] # we only take the first two features. \n",
    "Y = iris.target"
   ]
  },
  {
   "cell_type": "code",
   "execution_count": 2,
   "metadata": {},
   "outputs": [
    {
     "data": {
      "text/plain": [
       "150"
      ]
     },
     "execution_count": 2,
     "metadata": {},
     "output_type": "execute_result"
    }
   ],
   "source": [
    "len(X)"
   ]
  },
  {
   "cell_type": "code",
   "execution_count": 4,
   "metadata": {},
   "outputs": [
    {
     "data": {
      "text/plain": [
       "numpy.ndarray"
      ]
     },
     "execution_count": 4,
     "metadata": {},
     "output_type": "execute_result"
    }
   ],
   "source": [
    "type(X)\n"
   ]
  },
  {
   "cell_type": "code",
   "execution_count": 6,
   "metadata": {},
   "outputs": [
    {
     "data": {
      "text/plain": [
       "(150, 2)"
      ]
     },
     "execution_count": 6,
     "metadata": {},
     "output_type": "execute_result"
    }
   ],
   "source": [
    "X.shape"
   ]
  },
  {
   "cell_type": "markdown",
   "metadata": {},
   "source": [
    "Loading the dataset from CSV file using pandas  "
   ]
  },
  {
   "cell_type": "code",
   "execution_count": 7,
   "metadata": {},
   "outputs": [
    {
     "name": "stdout",
     "output_type": "stream",
     "text": [
      "[[5.1 3.5 1.4 0.2 0 'setosa']\n",
      " [4.9 3.0 1.4 0.2 0 'setosa']\n",
      " [4.7 3.2 1.3 0.2 0 'setosa']\n",
      " [4.6 3.1 1.5 0.2 0 'setosa']\n",
      " [5.0 3.6 1.4 0.2 0 'setosa']\n",
      " [5.4 3.9 1.7 0.4 0 'setosa']\n",
      " [4.6 3.4 1.4 0.3 0 'setosa']\n",
      " [5.0 3.4 1.5 0.2 0 'setosa']\n",
      " [4.4 2.9 1.4 0.2 0 'setosa']\n",
      " [4.9 3.1 1.5 0.1 0 'setosa']\n",
      " [5.4 3.7 1.5 0.2 0 'setosa']\n",
      " [4.8 3.4 1.6 0.2 0 'setosa']\n",
      " [4.8 3.0 1.4 0.1 0 'setosa']\n",
      " [4.3 3.0 1.1 0.1 0 'setosa']\n",
      " [5.8 4.0 1.2 0.2 0 'setosa']\n",
      " [5.7 4.4 1.5 0.4 0 'setosa']\n",
      " [5.4 3.9 1.3 0.4 0 'setosa']\n",
      " [5.1 3.5 1.4 0.3 0 'setosa']\n",
      " [5.7 3.8 1.7 0.3 0 'setosa']\n",
      " [5.1 3.8 1.5 0.3 0 'setosa']\n",
      " [5.4 3.4 1.7 0.2 0 'setosa']\n",
      " [5.1 3.7 1.5 0.4 0 'setosa']\n",
      " [4.6 3.6 1.0 0.2 0 'setosa']\n",
      " [5.1 3.3 1.7 0.5 0 'setosa']\n",
      " [4.8 3.4 1.9 0.2 0 'setosa']\n",
      " [5.0 3.0 1.6 0.2 0 'setosa']\n",
      " [5.0 3.4 1.6 0.4 0 'setosa']\n",
      " [5.2 3.5 1.5 0.2 0 'setosa']\n",
      " [5.2 3.4 1.4 0.2 0 'setosa']\n",
      " [4.7 3.2 1.6 0.2 0 'setosa']\n",
      " [4.8 3.1 1.6 0.2 0 'setosa']\n",
      " [5.4 3.4 1.5 0.4 0 'setosa']\n",
      " [5.2 4.1 1.5 0.1 0 'setosa']\n",
      " [5.5 4.2 1.4 0.2 0 'setosa']\n",
      " [4.9 3.1 1.5 0.1 0 'setosa']\n",
      " [5.0 3.2 1.2 0.2 0 'setosa']\n",
      " [5.5 3.5 1.3 0.2 0 'setosa']\n",
      " [4.9 3.1 1.5 0.1 0 'setosa']\n",
      " [4.4 3.0 1.3 0.2 0 'setosa']\n",
      " [5.1 3.4 1.5 0.2 0 'setosa']\n",
      " [5.0 3.5 1.3 0.3 0 'setosa']\n",
      " [4.5 2.3 1.3 0.3 0 'setosa']\n",
      " [4.4 3.2 1.3 0.2 0 'setosa']\n",
      " [5.0 3.5 1.6 0.6 0 'setosa']\n",
      " [5.1 3.8 1.9 0.4 0 'setosa']\n",
      " [4.8 3.0 1.4 0.3 0 'setosa']\n",
      " [5.1 3.8 1.6 0.2 0 'setosa']\n",
      " [4.6 3.2 1.4 0.2 0 'setosa']\n",
      " [5.3 3.7 1.5 0.2 0 'setosa']\n",
      " [5.0 3.3 1.4 0.2 0 'setosa']\n",
      " [7.0 3.2 4.7 1.4 1 'versicolor']\n",
      " [6.4 3.2 4.5 1.5 1 'versicolor']\n",
      " [6.9 3.1 4.9 1.5 1 'versicolor']\n",
      " [5.5 2.3 4.0 1.3 1 'versicolor']\n",
      " [6.5 2.8 4.6 1.5 1 'versicolor']\n",
      " [5.7 2.8 4.5 1.3 1 'versicolor']\n",
      " [6.3 3.3 4.7 1.6 1 'versicolor']\n",
      " [4.9 2.4 3.3 1.0 1 'versicolor']\n",
      " [6.6 2.9 4.6 1.3 1 'versicolor']\n",
      " [5.2 2.7 3.9 1.4 1 'versicolor']\n",
      " [5.0 2.0 3.5 1.0 1 'versicolor']\n",
      " [5.9 3.0 4.2 1.5 1 'versicolor']\n",
      " [6.0 2.2 4.0 1.0 1 'versicolor']\n",
      " [6.1 2.9 4.7 1.4 1 'versicolor']\n",
      " [5.6 2.9 3.6 1.3 1 'versicolor']\n",
      " [6.7 3.1 4.4 1.4 1 'versicolor']\n",
      " [5.6 3.0 4.5 1.5 1 'versicolor']\n",
      " [5.8 2.7 4.1 1.0 1 'versicolor']\n",
      " [6.2 2.2 4.5 1.5 1 'versicolor']\n",
      " [5.6 2.5 3.9 1.1 1 'versicolor']\n",
      " [5.9 3.2 4.8 1.8 1 'versicolor']\n",
      " [6.1 2.8 4.0 1.3 1 'versicolor']\n",
      " [6.3 2.5 4.9 1.5 1 'versicolor']\n",
      " [6.1 2.8 4.7 1.2 1 'versicolor']\n",
      " [6.4 2.9 4.3 1.3 1 'versicolor']\n",
      " [6.6 3.0 4.4 1.4 1 'versicolor']\n",
      " [6.8 2.8 4.8 1.4 1 'versicolor']\n",
      " [6.7 3.0 5.0 1.7 1 'versicolor']\n",
      " [6.0 2.9 4.5 1.5 1 'versicolor']\n",
      " [5.7 2.6 3.5 1.0 1 'versicolor']\n",
      " [5.5 2.4 3.8 1.1 1 'versicolor']\n",
      " [5.5 2.4 3.7 1.0 1 'versicolor']\n",
      " [5.8 2.7 3.9 1.2 1 'versicolor']\n",
      " [6.0 2.7 5.1 1.6 1 'versicolor']\n",
      " [5.4 3.0 4.5 1.5 1 'versicolor']\n",
      " [6.0 3.4 4.5 1.6 1 'versicolor']\n",
      " [6.7 3.1 4.7 1.5 1 'versicolor']\n",
      " [6.3 2.3 4.4 1.3 1 'versicolor']\n",
      " [5.6 3.0 4.1 1.3 1 'versicolor']\n",
      " [5.5 2.5 4.0 1.3 1 'versicolor']\n",
      " [5.5 2.6 4.4 1.2 1 'versicolor']\n",
      " [6.1 3.0 4.6 1.4 1 'versicolor']\n",
      " [5.8 2.6 4.0 1.2 1 'versicolor']\n",
      " [5.0 2.3 3.3 1.0 1 'versicolor']\n",
      " [5.6 2.7 4.2 1.3 1 'versicolor']\n",
      " [5.7 3.0 4.2 1.2 1 'versicolor']\n",
      " [5.7 2.9 4.2 1.3 1 'versicolor']\n",
      " [6.2 2.9 4.3 1.3 1 'versicolor']\n",
      " [5.1 2.5 3.0 1.1 1 'versicolor']\n",
      " [5.7 2.8 4.1 1.3 1 'versicolor']\n",
      " [6.3 3.3 6.0 2.5 2 'virginica']\n",
      " [5.8 2.7 5.1 1.9 2 'virginica']\n",
      " [7.1 3.0 5.9 2.1 2 'virginica']\n",
      " [6.3 2.9 5.6 1.8 2 'virginica']\n",
      " [6.5 3.0 5.8 2.2 2 'virginica']\n",
      " [7.6 3.0 6.6 2.1 2 'virginica']\n",
      " [4.9 2.5 4.5 1.7 2 'virginica']\n",
      " [7.3 2.9 6.3 1.8 2 'virginica']\n",
      " [6.7 2.5 5.8 1.8 2 'virginica']\n",
      " [7.2 3.6 6.1 2.5 2 'virginica']\n",
      " [6.5 3.2 5.1 2.0 2 'virginica']\n",
      " [6.4 2.7 5.3 1.9 2 'virginica']\n",
      " [6.8 3.0 5.5 2.1 2 'virginica']\n",
      " [5.7 2.5 5.0 2.0 2 'virginica']\n",
      " [5.8 2.8 5.1 2.4 2 'virginica']\n",
      " [6.4 3.2 5.3 2.3 2 'virginica']\n",
      " [6.5 3.0 5.5 1.8 2 'virginica']\n",
      " [7.7 3.8 6.7 2.2 2 'virginica']\n",
      " [7.7 2.6 6.9 2.3 2 'virginica']\n",
      " [6.0 2.2 5.0 1.5 2 'virginica']\n",
      " [6.9 3.2 5.7 2.3 2 'virginica']\n",
      " [5.6 2.8 4.9 2.0 2 'virginica']\n",
      " [7.7 2.8 6.7 2.0 2 'virginica']\n",
      " [6.3 2.7 4.9 1.8 2 'virginica']\n",
      " [6.7 3.3 5.7 2.1 2 'virginica']\n",
      " [7.2 3.2 6.0 1.8 2 'virginica']\n",
      " [6.2 2.8 4.8 1.8 2 'virginica']\n",
      " [6.1 3.0 4.9 1.8 2 'virginica']\n",
      " [6.4 2.8 5.6 2.1 2 'virginica']\n",
      " [7.2 3.0 5.8 1.6 2 'virginica']\n",
      " [7.4 2.8 6.1 1.9 2 'virginica']\n",
      " [7.9 3.8 6.4 2.0 2 'virginica']\n",
      " [6.4 2.8 5.6 2.2 2 'virginica']\n",
      " [6.3 2.8 5.1 1.5 2 'virginica']\n",
      " [6.1 2.6 5.6 1.4 2 'virginica']\n",
      " [7.7 3.0 6.1 2.3 2 'virginica']\n",
      " [6.3 3.4 5.6 2.4 2 'virginica']\n",
      " [6.4 3.1 5.5 1.8 2 'virginica']\n",
      " [6.0 3.0 4.8 1.8 2 'virginica']\n",
      " [6.9 3.1 5.4 2.1 2 'virginica']\n",
      " [6.7 3.1 5.6 2.4 2 'virginica']\n",
      " [6.9 3.1 5.1 2.3 2 'virginica']\n",
      " [5.8 2.7 5.1 1.9 2 'virginica']\n",
      " [6.8 3.2 5.9 2.3 2 'virginica']\n",
      " [6.7 3.3 5.7 2.5 2 'virginica']\n",
      " [6.7 3.0 5.2 2.3 2 'virginica']\n",
      " [6.3 2.5 5.0 1.9 2 'virginica']\n",
      " [6.5 3.0 5.2 2.0 2 'virginica']\n",
      " [6.2 3.4 5.4 2.3 2 'virginica']\n",
      " [5.9 3.0 5.1 1.8 2 'virginica']]\n"
     ]
    }
   ],
   "source": [
    "import pandas as pd\n",
    "import numpy as np\n",
    "data2=np.matrix(pd.read_csv('iris.csv'))\n",
    "print(data2)"
   ]
  },
  {
   "cell_type": "markdown",
   "metadata": {},
   "source": [
    "Loading the dataset from CSV file using numpy"
   ]
  },
  {
   "cell_type": "code",
   "execution_count": 10,
   "metadata": {},
   "outputs": [
    {
     "name": "stdout",
     "output_type": "stream",
     "text": [
      "(150, 5)\n"
     ]
    }
   ],
   "source": [
    "X=np.loadtxt('iris.csv',\n",
    "skiprows=1,\n",
    "delimiter=\",\",\n",
    "usecols = (0,1,2,3,4),\n",
    "#comments = \"%\"\n",
    ")\n",
    "\n",
    "data = X\n",
    "print(data.shape)\n",
    "X= data[:,0:4]\n",
    "y= data[:,4]\n"
   ]
  },
  {
   "cell_type": "markdown",
   "metadata": {},
   "source": [
    "## Displaying a scatter plot "
   ]
  },
  {
   "cell_type": "code",
   "execution_count": 11,
   "metadata": {},
   "outputs": [
    {
     "data": {
      "text/plain": [
       "<matplotlib.collections.PathCollection at 0x1f3a5c2e828>"
      ]
     },
     "execution_count": 11,
     "metadata": {},
     "output_type": "execute_result"
    },
    {
     "data": {
      "image/png": "[encoded data removed]",
      "text/plain": [
       "<Figure size 432x288 with 1 Axes>"
      ]
     },
     "metadata": {
      "needs_background": "light"
     },
     "output_type": "display_data"
    }
   ],
   "source": [
    "import matplotlib.pyplot as plt\n",
    "%matplotlib inline\n",
    "plt.scatter(X[:,1],X[:,2],c=y)\n"
   ]
  },
  {
   "cell_type": "markdown",
   "metadata": {},
   "source": [
    "## KNN classification using Sklearn"
   ]
  },
  {
   "cell_type": "code",
   "execution_count": 12,
   "metadata": {},
   "outputs": [
    {
     "data": {
      "text/plain": [
       "KNeighborsClassifier(algorithm='auto', leaf_size=30, metric='minkowski',\n",
       "                     metric_params=None, n_jobs=None, n_neighbors=3, p=2,\n",
       "                     weights='uniform')"
      ]
     },
     "execution_count": 12,
     "metadata": {},
     "output_type": "execute_result"
    }
   ],
   "source": [
    "#from sklearn import neighbors\n",
    "\n",
    "#knn=neighbors.KNeighborsClassifier()\n",
    "\n",
    "# we create an instance of Neighbours Classifier and fit the data.\n",
    "#knn.fit(X, Y)\n",
    "#%%\n",
    "from sklearn import neighbors as sk\n",
    "knn=sk.KNeighborsClassifier(n_neighbors=3)\n",
    "\n",
    "# we create an instance of Neighbours Classifier and fit the data.\n",
    "knn.fit(X, Y)\n"
   ]
  },
  {
   "cell_type": "markdown",
   "metadata": {},
   "source": [
    "## Prediction using KNN"
   ]
  },
  {
   "cell_type": "code",
   "execution_count": 14,
   "metadata": {},
   "outputs": [
    {
     "data": {
      "text/plain": [
       "(4,)"
      ]
     },
     "execution_count": 14,
     "metadata": {},
     "output_type": "execute_result"
    }
   ],
   "source": [
    "X[110,:].shape"
   ]
  },
  {
   "cell_type": "code",
   "execution_count": 15,
   "metadata": {},
   "outputs": [
    {
     "data": {
      "text/plain": [
       "array([6.5, 3.2, 5.1, 2. ])"
      ]
     },
     "execution_count": 15,
     "metadata": {},
     "output_type": "execute_result"
    }
   ],
   "source": [
    "X[110,:]"
   ]
  },
  {
   "cell_type": "code",
   "execution_count": 17,
   "metadata": {},
   "outputs": [
    {
     "data": {
      "text/plain": [
       "array([[6.5, 3.2, 5.1, 2. ]])"
      ]
     },
     "execution_count": 17,
     "metadata": {},
     "output_type": "execute_result"
    }
   ],
   "source": [
    "X[110,:][np.newaxis]"
   ]
  },
  {
   "cell_type": "code",
   "execution_count": 18,
   "metadata": {},
   "outputs": [
    {
     "data": {
      "text/plain": [
       "(1, 4)"
      ]
     },
     "execution_count": 18,
     "metadata": {},
     "output_type": "execute_result"
    }
   ],
   "source": [
    "X[110,:][np.newaxis].shape"
   ]
  },
  {
   "cell_type": "code",
   "execution_count": 20,
   "metadata": {},
   "outputs": [
    {
     "name": "stdout",
     "output_type": "stream",
     "text": [
      "[0]\n",
      "[2]\n",
      "[2]\n"
     ]
    }
   ],
   "source": [
    "p = knn.predict(X[10,:][np.newaxis])\n",
    "print(p)\n",
    "\n",
    "q = knn.predict(np.array([6,3,5,2])[np.newaxis])\n",
    "\n",
    "print(q)\n",
    "\n",
    "q2 = knn.predict(np.array([[6,3,5,2]]))\n",
    "print(q2)\n",
    "\n",
    "\n",
    "#%%\n",
    "\n"
   ]
  },
  {
   "cell_type": "markdown",
   "metadata": {},
   "source": [
    "## The distance formula\n",
    "\n",
    "\n",
    "$d= \\sqrt{\\sum_1^n{(a_i-b_i)^2}}$"
   ]
  },
  {
   "cell_type": "code",
   "execution_count": 21,
   "metadata": {},
   "outputs": [
    {
     "name": "stdout",
     "output_type": "stream",
     "text": [
      "5.338539126015655\n"
     ]
    }
   ],
   "source": [
    "\n",
    "def distance(a,b):\n",
    "    return np.sqrt(np.sum(np.power((a-b),2)))\n",
    "\n",
    "a= X[1,:][np.newaxis]     \n",
    "b= X[100,:][np.newaxis]\n",
    "\n",
    "print(distance(a,b))\n",
    "\n",
    "d =[distance(a,b) for b in X]"
   ]
  },
  {
   "cell_type": "code",
   "execution_count": null,
   "metadata": {},
   "outputs": [],
   "source": []
  },
  {
   "cell_type": "code",
   "execution_count": null,
   "metadata": {},
   "outputs": [],
   "source": []
  }
 ],
 "metadata": {
  "kernelspec": {
   "display_name": "Python 3",
   "language": "python",
   "name": "python3"
  },
  "language_info": {
   "codemirror_mode": {
    "name": "ipython",
    "version": 3
   },
   "file_extension": ".py",
   "mimetype": "text/x-python",
   "name": "python",
   "nbconvert_exporter": "python",
   "pygments_lexer": "ipython3",
   "version": "3.7.3"
  }
 },
 "nbformat": 4,
 "nbformat_minor": 2
}
