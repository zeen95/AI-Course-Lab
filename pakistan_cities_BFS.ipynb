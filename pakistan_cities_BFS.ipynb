{
  "nbformat": 4,
  "nbformat_minor": 0,
  "metadata": {
    "colab": {
      "provenance": []
    },
    "kernelspec": {
      "name": "python3",
      "display_name": "Python 3"
    },
    "language_info": {
      "name": "python"
    }
  },
  "cells": [
    {
      "cell_type": "code",
      "source": [
        "from collections import defaultdict, deque\n",
        "\n",
        "def bfs_paths(graph, start, goal):\n",
        "    queue = deque([(start, [start])])\n",
        "    while queue:\n",
        "        current, path = queue.popleft()\n",
        "        if current == goal:\n",
        "            yield path\n",
        "        for neighbor in graph[current]:\n",
        "            if neighbor not in path:\n",
        "                queue.append((neighbor, path + [neighbor]))\n",
        "\n",
        "# Example graph representing connections between cities in Pakistan\n",
        "pakistan_graph = {\n",
        "    'Islamabad': ['Rawalpindi', 'Lahore', 'Peshawar'],\n",
        "    'Rawalpindi': ['Islamabad', 'Lahore', 'Faisalabad'],\n",
        "    'Lahore': ['Islamabad', 'Rawalpindi', 'Faisalabad', 'Multan'],\n",
        "    'Faisalabad': ['Rawalpindi', 'Lahore', 'Multan'],\n",
        "    'Multan': ['Lahore', 'Faisalabad', 'Karachi'],\n",
        "    'Karachi': ['Multan', 'Hyderabad'],\n",
        "    'Peshawar': ['Islamabad', 'Abbottabad'],\n",
        "    'Abbottabad': ['Peshawar', 'Murree'],\n",
        "    'Murree': ['Abbottabad'],\n",
        "    'Hyderabad': ['Karachi']\n",
        "}\n",
        "\n",
        "start_city = 'Islamabad'\n",
        "goal_city = 'Karachi'\n",
        "\n",
        "print(f\"Paths from {start_city} to {goal_city}:\")\n",
        "for path in bfs_paths(pakistan_graph, start_city, goal_city):\n",
        "    print(' -> '.join(path))"
      ],
      "metadata": {
        "colab": {
          "base_uri": "https://localhost:8080/"
        },
        "id": "pJeYrIr7GzVk",
        "outputId": "a458127e-c8ba-4743-a1d9-ade121f45e7f"
      },
      "execution_count": 17,
      "outputs": [
        {
          "output_type": "stream",
          "name": "stdout",
          "text": [
            "Paths from Islamabad to Karachi:\n",
            "Islamabad -> Lahore -> Multan -> Karachi\n",
            "Islamabad -> Rawalpindi -> Lahore -> Multan -> Karachi\n",
            "Islamabad -> Rawalpindi -> Faisalabad -> Multan -> Karachi\n",
            "Islamabad -> Lahore -> Faisalabad -> Multan -> Karachi\n",
            "Islamabad -> Rawalpindi -> Lahore -> Faisalabad -> Multan -> Karachi\n",
            "Islamabad -> Rawalpindi -> Faisalabad -> Lahore -> Multan -> Karachi\n",
            "Islamabad -> Lahore -> Rawalpindi -> Faisalabad -> Multan -> Karachi\n"
          ]
        }
      ]
    }
  ]
}