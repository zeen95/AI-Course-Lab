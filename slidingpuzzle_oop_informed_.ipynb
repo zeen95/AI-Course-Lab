{
  "cells": [
    {
      "cell_type": "markdown",
      "metadata": {
        "id": "qNM2WX1lkYjr"
      },
      "source": [
        "# Informed Search\n",
        "\n",
        "## Sliding Puzzle Example\n",
        "\n",
        "A sliding puzzle, sliding block puzzle, or sliding tile puzzle is a combination puzzle that challenges a player to slide (frequently flat) pieces along certain routes (usually on a board) to establish a certain end-configuration. The pieces to be moved may consist of simple shapes, or they may be imprinted with colors, patterns, sections of a larger picture (like a jigsaw puzzle), numbers, or letters.\n",
        "\n",
        "Rules of this game are very simple - we are sliding (←, →, ↑ , ↓) tiles to reach the final state in which all numbers are in order with ‘1’ in the top left corner of the board.\n",
        "\n",
        "<img src=\"slidingpuzzle.gif\" width=\"500\" />"
      ]
    },
    {
      "cell_type": "markdown",
      "metadata": {
        "id": "B0ZdItTIkYjx"
      },
      "source": [
        "### State Representation\n",
        "\n",
        "Lets use a tuple of lenght 8 for state represntation. Using this representation scheme the followng state:\n",
        "\n",
        "0 1 2 \n",
        "\n",
        "3 4 5\n",
        "\n",
        "6 7 8\n",
        "\n",
        "\n",
        "is representate as the tuple:\n",
        "\n",
        "(0,1,2,3,4,5,6,7,8)\n",
        "\n",
        "Where 0 represents the blank position. \n",
        "\n",
        "The goal state and the inital states are representes as:"
      ]
    },
    {
      "cell_type": "code",
      "execution_count": 1,
      "metadata": {
        "id": "CUjKNl8jkYj0"
      },
      "outputs": [],
      "source": [
        "goal = (1,2,3,4,5,6,7,8,0)\n",
        "start = (8,2,0,4,7,6,3,5,1)"
      ]
    },
    {
      "cell_type": "markdown",
      "metadata": {
        "id": "lVwCLYTNkYj2"
      },
      "source": [
        "Lets create a function to that takes a tupe as an input state and shows the correspondig slidign puzzle state:"
      ]
    },
    {
      "cell_type": "code",
      "execution_count": null,
      "metadata": {
        "id": "pLnfRhTDkYj3"
      },
      "outputs": [],
      "source": [
        "def printstate(state):\n",
        "    \"\"\"\n",
        "    prints states in a 3x3 tabular form\n",
        "    \"\"\"\n",
        "    \n",
        "    print(state[0:3])\n",
        "    print(state[3:6])\n",
        "    print(state[6:9])\n",
        "    \n",
        "def printpuzzle(state):\n",
        "    \"\"\"\n",
        "    prints the puzzle state in a better looking form\n",
        "    \"\"\"\n",
        "\n",
        "    print('_______\\n|{}|{}|{}|\\n|{}|{}|{}|\\n|{}|{}|{}|\\n_______'.format(state[0],\n",
        "state[1],\n",
        "state[2],\n",
        "state[3],\n",
        "state[4],\n",
        "state[5],\n",
        "state[6],\n",
        "state[7],\n",
        "state[8],\n",
        "))"
      ]
    },
    {
      "cell_type": "code",
      "execution_count": null,
      "metadata": {
        "id": "Vt4Uiv1LkYj4",
        "outputId": "86fb81f0-9293-4e60-a006-e64f876bf88e"
      },
      "outputs": [
        {
          "name": "stdout",
          "output_type": "stream",
          "text": [
            "_______\n",
            "|8|2|0|\n",
            "|4|7|6|\n",
            "|3|5|1|\n",
            "_______\n"
          ]
        }
      ],
      "source": [
        "printpuzzle(start)\n"
      ]
    },
    {
      "cell_type": "markdown",
      "metadata": {
        "id": "a1YoLlEZkYj6"
      },
      "source": [
        "The following function tests whether or not a state is goal state"
      ]
    },
    {
      "cell_type": "code",
      "execution_count": null,
      "metadata": {
        "id": "z7AJUEGWkYj7"
      },
      "outputs": [],
      "source": [
        "def goaltest(state, goal):\n",
        "    \"\"\"\n",
        "    Tests wheater the state is a goal state or not\n",
        "    \"\"\"\n",
        "    return state == goal"
      ]
    },
    {
      "cell_type": "markdown",
      "metadata": {
        "id": "LzCu3fimkYkI"
      },
      "source": [
        "### Transition model\n",
        "\n",
        "The following function implements the transition model. It requires an input state 'statein' and an action as inputs and returns the resulting state after performing the provided action. "
      ]
    },
    {
      "cell_type": "code",
      "execution_count": null,
      "metadata": {
        "id": "fTOY0VU6kYkK"
      },
      "outputs": [],
      "source": [
        "def result(statein,action):\n",
        "    \"\"\"\n",
        "    Returns the state produced as a result of performing 'action' \n",
        "    on the given state 'statein'\n",
        "    \"\"\"\n",
        "    stateout = list(statein) # # make a local copy of statein\n",
        "    \n",
        "    if action == 'Up':\n",
        "        idx = statein.index(0)\n",
        "        stateout[idx] = statein[idx-3]\n",
        "        stateout[idx-3] = 0\n",
        "        \n",
        "    elif action == 'Down':\n",
        "        idx = statein.index(0)\n",
        "        stateout[idx] = statein[idx+3]\n",
        "        stateout[idx+3] = 0\n",
        "\n",
        "    elif action == 'Left':\n",
        "        idx = statein.index(0)\n",
        "        stateout[idx] = statein[idx-1]\n",
        "        stateout[idx-1] = 0\n",
        "\n",
        "    elif action == 'Right':\n",
        "        idx = statein.index(0)\n",
        "        stateout[idx] = statein[idx+1]\n",
        "        stateout[idx+1] = 0\n",
        " \n",
        "    return tuple(stateout)"
      ]
    },
    {
      "cell_type": "markdown",
      "metadata": {
        "id": "LLpijZnDkYkL"
      },
      "source": [
        "### Finding the successor states (neighbors)\n",
        "\n",
        "The following function returns all successors of the input state by applying all possible actions at that state. Note the use of set built-in datatype."
      ]
    },
    {
      "cell_type": "code",
      "execution_count": null,
      "metadata": {
        "id": "s-ZczXjykYkL"
      },
      "outputs": [],
      "source": [
        "def expand(state):\n",
        "    \"\"\"\n",
        "    Returns a list of successors of the 'state' by performing all\n",
        "    possible actions at the 'state'\n",
        "    \"\"\"\n",
        "    actions = []\n",
        "    successors = []\n",
        "    blank = state.index(0) # built in method of the list class\n",
        "    \n",
        "    if blank in {3,4,5,6,7,8}: # action 'Up' is possible if blank tile is on one of these locations\n",
        "        actions.append('Up') #append up in actions list\n",
        "    if blank in {0,1,2,3,4,5}:\n",
        "        actions.append('Down')\n",
        "    if blank in {1,2,4,5,7,8}:\n",
        "        actions.append('Left')\n",
        "    if blank in {0,1,3,4,6,7}:\n",
        "        actions.append('Right')\n",
        "    #print(actions)\n",
        "    for action in actions:\n",
        "        #print(action)\n",
        "        successors.append(result(state,action)) \n",
        "    \n",
        "    return successors\n"
      ]
    },
    {
      "cell_type": "code",
      "execution_count": null,
      "metadata": {
        "id": "4IjFsgkjkYkN"
      },
      "outputs": [],
      "source": [
        "class Node: # Make a class\n",
        "    def __init__(self, state, parent=None, cost=0.0, heuristic=0.0): # Class constructor for initialization\n",
        "\n",
        "        self.state = state\n",
        "        self.parent = parent\n",
        "        self.cost = cost\n",
        "        self.heuristic = heuristic\n",
        "\n",
        "    def __lt__(self, other): # The less than operator < is overloaded. Read how operator overloading is performed in python...\n",
        "        return (self.cost + self.heuristic) < (other.cost + other.heuristic)\n",
        "    \n",
        "    def __repr__(self): # Make the string representation of the object for printing... Read details about __repr___ function\n",
        "        return f\"{self.state}\""
      ]
    },
    {
      "cell_type": "markdown",
      "metadata": {
        "id": "MvuBzhYZkYkO"
      },
      "source": [
        " ### Depth First Search\n",
        "    \n",
        "    Lets implement the depth first serach for solving the sliding puzzle. \n",
        "    \n"
      ]
    },
    {
      "cell_type": "markdown",
      "metadata": {
        "id": "7rvRsfyqkYkP"
      },
      "source": [
        "Lets execute the DFS function with a simple initial state. "
      ]
    },
    {
      "cell_type": "code",
      "execution_count": null,
      "metadata": {
        "id": "jaQbBA2WkYkP"
      },
      "outputs": [],
      "source": [
        "class Stack: # Define the Stack class\n",
        "    def __init__(self): # Class constructor\n",
        "\n",
        "        self._container = []\n",
        "\n",
        "    @property # This called decorators. Read about decorators in python... \n",
        "    def empty(self): #User defined method\n",
        "\n",
        "        return not self._container  # not is true for empty container\n",
        "\n",
        "    def push(self, item): #User defined method\n",
        "\n",
        "        self._container.append(item)\n",
        "\n",
        "    def pop(self): #User defined method\n",
        "\n",
        "        return self._container.pop()  # LIFO\n",
        "    \n",
        "    def getItems(self): #User defined method\n",
        "    \n",
        "        return self._container\n",
        "\n",
        "    def __repr__(self): # Printing the container\n",
        "\n",
        "        return repr(self._container)"
      ]
    },
    {
      "cell_type": "code",
      "execution_count": null,
      "metadata": {
        "id": "3oMLTaJykYkQ"
      },
      "outputs": [],
      "source": [
        "def dfsearchv2(start, goal):\n",
        "    \"\"\"\n",
        "    Performs depth first search.\n",
        "    start is the start state\n",
        "    goal is the goal state\n",
        "    \"\"\"    \n",
        "    explored = set() # initialize the explored list as a set\n",
        "    frontier = Stack() ## creates object of Stack class\n",
        "    frontier.push(Node(start)) # initializ the frontier as a list with the start state \n",
        "    #print('searching from: {} to {}'.format(orig, dest))\n",
        "    stepcount = 0\n",
        "    while frontier: #repeat while frontier is not empty\n",
        "        print('Frontier:', frontier) # print current contents of the frontier\n",
        "        # remove one state form the frontier andsoter \n",
        "        currentNode = frontier.pop() # pop() method removes and returns the last item\n",
        "        currentState = currentNode.state\n",
        "        stepcount += 1\n",
        "        print('Current state:', currentState) # print the current state\n",
        "        \n",
        "        # test wheter the current state is goal?\n",
        "        if goaltest(currentState, goal): \n",
        "            print('goal state reached')\n",
        "            return currentNode\n",
        "        \n",
        "        explored.add(currentState) #add the current state to expored list\n",
        "            \n",
        "        successors = expand(currentState)\n",
        "        for successor in successors:\n",
        "            if successor in explored or Node(successor,currentNode) in frontier.getItems():\n",
        "                continue\n",
        "            frontier.push(Node(successor,currentNode))\n",
        "        \n",
        "        if stepcount >20:\n",
        "            print(f\"Depth Limit of {stepcount} reached\")\n",
        "            return None\n",
        "    \n",
        "    print('failure')\n",
        "    return None"
      ]
    },
    {
      "cell_type": "code",
      "execution_count": null,
      "metadata": {
        "scrolled": true,
        "id": "9802VlI6kYkS",
        "outputId": "0c04c5eb-47df-4949-b520-3c61ed62964c"
      },
      "outputs": [
        {
          "name": "stdout",
          "output_type": "stream",
          "text": [
            "Frontier: [(1, 2, 3, 4, 5, 6, 0, 7, 8)]\n",
            "Current state: (1, 2, 3, 4, 5, 6, 0, 7, 8)\n",
            "Frontier: [(1, 2, 3, 0, 5, 6, 4, 7, 8), (1, 2, 3, 4, 5, 6, 7, 0, 8)]\n",
            "Current state: (1, 2, 3, 4, 5, 6, 7, 0, 8)\n",
            "Frontier: [(1, 2, 3, 0, 5, 6, 4, 7, 8), (1, 2, 3, 4, 0, 6, 7, 5, 8), (1, 2, 3, 4, 5, 6, 7, 8, 0)]\n",
            "Current state: (1, 2, 3, 4, 5, 6, 7, 8, 0)\n",
            "goal state reached\n",
            "(1, 2, 3, 4, 5, 6, 7, 8, 0)\n"
          ]
        }
      ],
      "source": [
        "state = dfsearchv2((1,2,3,4,5,6,0,7,8), (1,2,3,4,5,6,7,8,0))\n",
        "print(state)"
      ]
    },
    {
      "cell_type": "code",
      "execution_count": null,
      "metadata": {
        "id": "AwFc9-LukYkT",
        "outputId": "204f2463-c965-4c67-b8fb-f05bc388e616"
      },
      "outputs": [
        {
          "name": "stdout",
          "output_type": "stream",
          "text": [
            "(1, 2, 3, 4, 5, 6, 7, 8, 0)\n",
            "(1, 2, 3, 4, 5, 6, 7, 0, 8)\n",
            "(1, 2, 3, 4, 5, 6, 0, 7, 8)\n"
          ]
        }
      ],
      "source": [
        "print(state)\n",
        "s = state\n",
        "while s.parent:\n",
        "    print(s.parent)\n",
        "    s = s.parent"
      ]
    },
    {
      "cell_type": "markdown",
      "metadata": {
        "id": "8Y2uEpPgkYkU"
      },
      "source": [
        "### Breadth First Search\n",
        "\n",
        "BFS uses a queue instead of a stack for the frointier. By changing the pop() method call to pop(0) changes the stack into a queue. There is not other change in the code. "
      ]
    },
    {
      "cell_type": "code",
      "execution_count": null,
      "metadata": {
        "id": "WRyq7vbDkYkV"
      },
      "outputs": [],
      "source": [
        "#queue class\n",
        "from collections import deque # Read about collections and import\n",
        "class Queue:\n",
        "    def __init__(self):\n",
        "\n",
        "        self._container = (\n",
        "            deque()\n",
        "        )  # Deque is more efficient as comparted with list with pop(0)\n",
        "\n",
        "    @property ## Decorator... read about it\n",
        "    def empty(self):\n",
        "\n",
        "        return not self._container  # not is true for empty container\n",
        "\n",
        "    def push(self, item):\n",
        "\n",
        "        self._container.append(item)\n",
        "\n",
        "    def pop(self):\n",
        "\n",
        "        return self._container.popleft()  # FIFO\n",
        "    \n",
        "    def getItems(self):\n",
        "    \n",
        "        return list(self._container)\n",
        "        \n",
        "    def __repr__(self):\n",
        "\n",
        "        return repr(list(self._container))\n"
      ]
    },
    {
      "cell_type": "code",
      "execution_count": null,
      "metadata": {
        "id": "cGwEIztxkYkW"
      },
      "outputs": [],
      "source": [
        "def bfsearchv2(start, goal):\n",
        "    \"\"\"\n",
        "    Performs bredth first search.\n",
        "    start is the start state\n",
        "    goal is the goal state\n",
        "    \"\"\"    \n",
        "    explored = set() # initialize the explored list as a set\n",
        "    frontier = Queue() \n",
        "    frontier.push(Node(start)) # initializ the frontier as a list with the start state \n",
        "    #print('searching from: {} to {}'.format(orig, dest))\n",
        "    stepcount = 0\n",
        "    while frontier: #repeat while frontier is not empty\n",
        "        print('Frontier:', frontier) # print current contents of the frontier\n",
        "        # remove one state form the frontier andsoter \n",
        "        currentNode = frontier.pop() # pop() method removes and returns the last item\n",
        "        currentState = currentNode.state\n",
        "        stepcount += 1\n",
        "        print('Current state:', currentState) # print the current state\n",
        "        \n",
        "        # test wheter the current state is goal?\n",
        "        if goaltest(currentState, goal): \n",
        "            print('goal state reached')\n",
        "            return currentNode\n",
        "        \n",
        "        explored.add(currentState) #add the current state to expored list\n",
        "            \n",
        "        successors = expand(currentState)\n",
        "        for successor in successors:\n",
        "            if successor in explored or Node(successor,currentNode) in frontier.getItems():\n",
        "                continue\n",
        "            frontier.push(Node(successor,currentNode))\n",
        "        \n",
        "        if stepcount >20:\n",
        "            print(f\"Depth Limit of {stepcount} reached\")\n",
        "            return None\n",
        "    \n",
        "    print('failure')\n",
        "    return None"
      ]
    },
    {
      "cell_type": "code",
      "execution_count": null,
      "metadata": {
        "scrolled": true,
        "id": "hvAfcNgrkYkW",
        "outputId": "8301ad25-496d-44aa-90d0-9e6c20a01127"
      },
      "outputs": [
        {
          "name": "stdout",
          "output_type": "stream",
          "text": [
            "Frontier: [(1, 2, 3, 4, 5, 6, 0, 7, 8)]\n",
            "Current state: (1, 2, 3, 4, 5, 6, 0, 7, 8)\n",
            "Frontier: [(1, 2, 3, 0, 5, 6, 4, 7, 8), (1, 2, 3, 4, 5, 6, 7, 0, 8)]\n",
            "Current state: (1, 2, 3, 0, 5, 6, 4, 7, 8)\n",
            "Frontier: [(1, 2, 3, 4, 5, 6, 7, 0, 8), (0, 2, 3, 1, 5, 6, 4, 7, 8), (1, 2, 3, 5, 0, 6, 4, 7, 8)]\n",
            "Current state: (1, 2, 3, 4, 5, 6, 7, 0, 8)\n",
            "Frontier: [(0, 2, 3, 1, 5, 6, 4, 7, 8), (1, 2, 3, 5, 0, 6, 4, 7, 8), (1, 2, 3, 4, 0, 6, 7, 5, 8), (1, 2, 3, 4, 5, 6, 7, 8, 0)]\n",
            "Current state: (0, 2, 3, 1, 5, 6, 4, 7, 8)\n",
            "Frontier: [(1, 2, 3, 5, 0, 6, 4, 7, 8), (1, 2, 3, 4, 0, 6, 7, 5, 8), (1, 2, 3, 4, 5, 6, 7, 8, 0), (2, 0, 3, 1, 5, 6, 4, 7, 8)]\n",
            "Current state: (1, 2, 3, 5, 0, 6, 4, 7, 8)\n",
            "Frontier: [(1, 2, 3, 4, 0, 6, 7, 5, 8), (1, 2, 3, 4, 5, 6, 7, 8, 0), (2, 0, 3, 1, 5, 6, 4, 7, 8), (1, 0, 3, 5, 2, 6, 4, 7, 8), (1, 2, 3, 5, 7, 6, 4, 0, 8), (1, 2, 3, 5, 6, 0, 4, 7, 8)]\n",
            "Current state: (1, 2, 3, 4, 0, 6, 7, 5, 8)\n",
            "Frontier: [(1, 2, 3, 4, 5, 6, 7, 8, 0), (2, 0, 3, 1, 5, 6, 4, 7, 8), (1, 0, 3, 5, 2, 6, 4, 7, 8), (1, 2, 3, 5, 7, 6, 4, 0, 8), (1, 2, 3, 5, 6, 0, 4, 7, 8), (1, 0, 3, 4, 2, 6, 7, 5, 8), (1, 2, 3, 0, 4, 6, 7, 5, 8), (1, 2, 3, 4, 6, 0, 7, 5, 8)]\n",
            "Current state: (1, 2, 3, 4, 5, 6, 7, 8, 0)\n",
            "goal state reached\n",
            "(1, 2, 3, 4, 5, 6, 7, 8, 0)\n"
          ]
        }
      ],
      "source": [
        "state = bfsearchv2((1,2,3,4,5,6,0,7,8), (1,2,3,4,5,6,7,8,0))\n",
        "print(state.state)"
      ]
    },
    {
      "cell_type": "code",
      "execution_count": null,
      "metadata": {
        "id": "Q0lGjZb6kYkX",
        "outputId": "94ac671d-7a10-4291-cc6e-08501d6086ca"
      },
      "outputs": [
        {
          "name": "stdout",
          "output_type": "stream",
          "text": [
            "(1, 2, 3, 4, 5, 6, 7, 8, 0)\n",
            "(1, 2, 3, 4, 5, 6, 7, 0, 8)\n",
            "(1, 2, 3, 4, 5, 6, 0, 7, 8)\n"
          ]
        }
      ],
      "source": [
        "print(state)\n",
        "s = state\n",
        "while s.parent:\n",
        "    print(s.parent)\n",
        "    s = s.parent"
      ]
    },
    {
      "cell_type": "markdown",
      "metadata": {
        "id": "XWcIVlkZkYkY"
      },
      "source": [
        "# Heuristic Search\n",
        "\n",
        "First we design a heuristic function h(s)"
      ]
    },
    {
      "cell_type": "code",
      "execution_count": null,
      "metadata": {
        "id": "E0OrxuthkYkY"
      },
      "outputs": [],
      "source": [
        "def h1(state,goal):\n",
        "    \"\"\" Sum of misplaced tiles heuristic\n",
        "    \"\"\"\n",
        "    return sum([(a != b) for a, b in zip(state,goal)]) ## read about zip\n",
        "    \n",
        "    \n",
        "    \n",
        "def h2(state,goal):\n",
        "    \"\"\" Sum of Manhattan discance of misplaced tiles heuristic\n",
        "    \"\"\"\n",
        "    h2= 0\n",
        "    for s,g in [(state.index(i), goal.index(i)) for i in range(1, 9)]:\n",
        "    \n",
        "        h2 += abs(s%3 - g%3) + abs(s//3 - g//3)\n",
        "    \n",
        "    return   h2"
      ]
    },
    {
      "cell_type": "code",
      "execution_count": null,
      "metadata": {
        "id": "OwGpXK3-kYkZ",
        "outputId": "ba4d38f3-138d-402b-c0a2-b1abc12a90f1"
      },
      "outputs": [
        {
          "name": "stdout",
          "output_type": "stream",
          "text": [
            "_______\n",
            "|1|2|3|\n",
            "|4|5|6|\n",
            "|7|0|8|\n",
            "_______\n",
            "Number of misplace tiles: 2\n",
            "Sum of Manhattan Distance of misplace tiles: 1\n",
            "_______\n",
            "|0|2|3|\n",
            "|4|5|6|\n",
            "|7|8|1|\n",
            "_______\n",
            "Number of misplace tiles: 2\n",
            "Sum of Manhattan Distance of misplace tiles: 4\n"
          ]
        }
      ],
      "source": [
        "g = (1,2,3,4,5,6,7,8,0)\n",
        "a = (1,2,3,4,5,6,7,0,8)\n",
        "b = (0,2,3,4,5,6,7,8,1)\n",
        "\n",
        "printpuzzle(a)\n",
        "print(f\"Number of misplace tiles: {h1(a,g)}\")\n",
        "print(f\"Sum of Manhattan Distance of misplace tiles: {h2(a,g)}\")\n",
        "printpuzzle(b)\n",
        "print(f\"Number of misplace tiles: {h1(b,g)}\")\n",
        "print(f\"Sum of Manhattan Distance of misplace tiles: {h2(b,g)}\")\n"
      ]
    },
    {
      "cell_type": "code",
      "execution_count": null,
      "metadata": {
        "id": "Uu71XEVpkYka"
      },
      "outputs": [],
      "source": [
        "# implement a cuztomized priority queue\n",
        "from heapq import heappush, heappop, heapify\n",
        "\n",
        "class PriorityQueue:\n",
        "    def __init__(self):\n",
        "\n",
        "        self._container = []\n",
        "\n",
        "    @property\n",
        "    def empty(self):\n",
        "\n",
        "        return not self._container  # not is true for empty container\n",
        "\n",
        "    def push(self, item):\n",
        "        if item.state not in self.getStates():\n",
        "            heappush(self._container, item)  # in by priority\n",
        "        else:\n",
        "            idx = self.getStates().index(item.state)\n",
        "            existing_node = self._container[idx]\n",
        "            existing_eval = existing_node.heuristic + existing_node.cost\n",
        "            new_eval = item.heuristic + item.cost\n",
        "            if existing_eval > new_eval:\n",
        "                self._container[idx] = item\n",
        "                heapify(self._container) \n",
        "            \n",
        "    def pop(self):\n",
        "\n",
        "        return heappop(self._container)  # out by priority\n",
        "\n",
        "    def getItems(self):\n",
        "    \n",
        "        return list(self._container)\n",
        "    \n",
        "    def getStates(self):\n",
        "    \n",
        "        return [item.state for item in self._container]\n",
        "    \n",
        "    def lookupState(self, item):\n",
        "        \n",
        "        return self.getStates().index(item)\n",
        "      \n",
        "    def __repr__(self):\n",
        "\n",
        "        return repr(list(self._container))\n"
      ]
    },
    {
      "cell_type": "code",
      "execution_count": null,
      "metadata": {
        "id": "Zfsjh4m0kYka",
        "outputId": "4d0f7d23-bccd-4b21-f9c5-500bfac97e32"
      },
      "outputs": [
        {
          "name": "stdout",
          "output_type": "stream",
          "text": [
            "[(1, 2, 3, 4, 5, 6, 7, 8, 0), (2, 3, 1, 4, 5, 6, 7, 8, 0), (8, 7, 6, 5, 4, 1, 2, 3, 0), (0, 8, 7, 6, 5, 4, 3, 2, 1)]\n"
          ]
        }
      ],
      "source": [
        "lst = [(2,3,1,4,5,6,7,8,0),(0,8,7,6,5,4,3,2,1),(8,7,6,5,4,1,2,3,0),(1,2,3,4,5,6,7,8,0)]\n",
        "q = PriorityQueue()\n",
        "\n",
        "for item in lst:\n",
        "    q.push(Node(item,heuristic=h1(item,(1,2,3,4,5,6,7,8,0))))\n",
        "\n",
        "print(q)"
      ]
    },
    {
      "cell_type": "code",
      "execution_count": null,
      "metadata": {
        "id": "kMWnQtGLkYkb",
        "outputId": "247cf71e-957b-4e56-dcc9-4477aa1259df"
      },
      "outputs": [
        {
          "data": {
            "text/plain": [
              "1"
            ]
          },
          "execution_count": 41,
          "metadata": {},
          "output_type": "execute_result"
        }
      ],
      "source": [
        "q.lookupState((2, 3, 1, 4, 5, 6, 7, 8, 0))"
      ]
    },
    {
      "cell_type": "code",
      "execution_count": null,
      "metadata": {
        "id": "UjOcEgq3kYkb"
      },
      "outputs": [],
      "source": [
        "q.push(Node((0, 8, 7, 6, 5, 4, 3, 2, 1)))"
      ]
    },
    {
      "cell_type": "code",
      "execution_count": null,
      "metadata": {
        "scrolled": true,
        "id": "SzK0VEEikYkb",
        "outputId": "f2e51466-dc5d-4b82-f6de-d6db46c94cfd"
      },
      "outputs": [
        {
          "name": "stdout",
          "output_type": "stream",
          "text": [
            "[(0, 8, 7, 6, 5, 4, 3, 2, 1), (1, 2, 3, 4, 5, 6, 7, 8, 0), (8, 7, 6, 5, 4, 1, 2, 3, 0), (2, 3, 1, 4, 5, 6, 7, 8, 0)]\n"
          ]
        }
      ],
      "source": [
        "print(q)"
      ]
    },
    {
      "cell_type": "code",
      "execution_count": null,
      "metadata": {
        "id": "Y1wvb-LWkYkc"
      },
      "outputs": [],
      "source": [
        "## A* Algorithm"
      ]
    },
    {
      "cell_type": "code",
      "execution_count": null,
      "metadata": {
        "id": "3KpHdRP0kYkd"
      },
      "outputs": [],
      "source": [
        "def astar(start, goal, heuristic):\n",
        "    \"\"\"\n",
        "    Performs informed search.\n",
        "    start is the start state\n",
        "    goal is the goal state\n",
        "    heuristic is the heurstic function\n",
        "    \"\"\"    \n",
        "    explored = set() # initialize the explored list as a set\n",
        "    frontier = PriorityQueue() \n",
        "    frontier.push(Node(start, None, 0.0, heuristic(start,goal)))\n",
        "    #print('searching from: {} to {}'.format(orig, dest))\n",
        "    stepcount = 0\n",
        "    while frontier: #repeat while frontier is not empty\n",
        "        print('Frontier:', frontier) # print current contents of the frontier\n",
        "        # remove one state form the frontier andsoter \n",
        "        currentNode = frontier.pop() # pop() method removes and returns the last item\n",
        "        currentState = currentNode.state\n",
        "        stepcount = currentNode.cost\n",
        "        print('Current state:', currentState) # print the current state\n",
        "        \n",
        "        # test wheter the current state is goal?\n",
        "        if goaltest(currentState, goal): \n",
        "            print('goal state reached')\n",
        "            return currentNode\n",
        "        \n",
        "        explored.add(currentState) #add the current state to expored list\n",
        "            \n",
        "        successors = expand(currentState)\n",
        "        for successor in successors:\n",
        "            new_cost = currentNode.cost + 1\n",
        "            successorNode = Node(successor,currentNode, new_cost, heuristic(successor,goal))\n",
        "            if not successor in explored:\n",
        "                frontier.push(successorNode)\n",
        "                     \n",
        "        \n",
        "        if stepcount >10:\n",
        "            print(f\"Depth Limit of {stepcount} reached\")\n",
        "            return None\n",
        "    \n",
        "    print('failure')\n",
        "    return None"
      ]
    },
    {
      "cell_type": "code",
      "execution_count": null,
      "metadata": {
        "scrolled": true,
        "id": "Nx8FqA38kYkd",
        "outputId": "f048a785-96a8-412f-8211-e3e337c6194a"
      },
      "outputs": [
        {
          "name": "stdout",
          "output_type": "stream",
          "text": [
            "Frontier: [(1, 2, 3, 4, 5, 0, 6, 7, 8)]\n",
            "Current state: (1, 2, 3, 4, 5, 0, 6, 7, 8)\n",
            "Frontier: [(1, 2, 0, 4, 5, 3, 6, 7, 8), (1, 2, 3, 4, 5, 8, 6, 7, 0), (1, 2, 3, 4, 0, 5, 6, 7, 8)]\n",
            "Current state: (1, 2, 0, 4, 5, 3, 6, 7, 8)\n",
            "Frontier: [(1, 2, 3, 4, 5, 8, 6, 7, 0), (1, 2, 3, 4, 0, 5, 6, 7, 8), (1, 0, 2, 4, 5, 3, 6, 7, 8)]\n",
            "Current state: (1, 2, 3, 4, 5, 8, 6, 7, 0)\n",
            "Frontier: [(1, 2, 3, 4, 0, 5, 6, 7, 8), (1, 0, 2, 4, 5, 3, 6, 7, 8), (1, 2, 3, 4, 5, 8, 6, 0, 7)]\n",
            "Current state: (1, 2, 3, 4, 0, 5, 6, 7, 8)\n",
            "Frontier: [(1, 0, 2, 4, 5, 3, 6, 7, 8), (1, 2, 3, 4, 5, 8, 6, 0, 7), (1, 0, 3, 4, 2, 5, 6, 7, 8), (1, 2, 3, 4, 7, 5, 6, 0, 8), (1, 2, 3, 0, 4, 5, 6, 7, 8)]\n",
            "Current state: (1, 0, 2, 4, 5, 3, 6, 7, 8)\n",
            "Frontier: [(1, 0, 3, 4, 2, 5, 6, 7, 8), (1, 2, 3, 4, 5, 8, 6, 0, 7), (1, 2, 3, 0, 4, 5, 6, 7, 8), (1, 2, 3, 4, 7, 5, 6, 0, 8), (1, 5, 2, 4, 0, 3, 6, 7, 8), (0, 1, 2, 4, 5, 3, 6, 7, 8)]\n",
            "Current state: (1, 0, 3, 4, 2, 5, 6, 7, 8)\n",
            "Frontier: [(1, 2, 3, 0, 4, 5, 6, 7, 8), (1, 2, 3, 4, 5, 8, 6, 0, 7), (0, 1, 2, 4, 5, 3, 6, 7, 8), (1, 2, 3, 4, 7, 5, 6, 0, 8), (1, 5, 2, 4, 0, 3, 6, 7, 8), (0, 1, 3, 4, 2, 5, 6, 7, 8), (1, 3, 0, 4, 2, 5, 6, 7, 8)]\n",
            "Current state: (1, 2, 3, 0, 4, 5, 6, 7, 8)\n",
            "Frontier: [(1, 2, 3, 4, 5, 8, 6, 0, 7), (1, 2, 3, 4, 7, 5, 6, 0, 8), (0, 1, 2, 4, 5, 3, 6, 7, 8), (1, 2, 3, 6, 4, 5, 0, 7, 8), (1, 5, 2, 4, 0, 3, 6, 7, 8), (0, 1, 3, 4, 2, 5, 6, 7, 8), (0, 2, 3, 1, 4, 5, 6, 7, 8), (1, 3, 0, 4, 2, 5, 6, 7, 8)]\n",
            "Current state: (1, 2, 3, 4, 5, 8, 6, 0, 7)\n",
            "Frontier: [(1, 2, 3, 4, 7, 5, 6, 0, 8), (1, 2, 3, 6, 4, 5, 0, 7, 8), (0, 1, 2, 4, 5, 3, 6, 7, 8), (1, 2, 3, 4, 5, 8, 0, 6, 7), (1, 5, 2, 4, 0, 3, 6, 7, 8), (0, 1, 3, 4, 2, 5, 6, 7, 8), (0, 2, 3, 1, 4, 5, 6, 7, 8), (1, 2, 3, 4, 0, 8, 6, 5, 7), (1, 3, 0, 4, 2, 5, 6, 7, 8)]\n",
            "Current state: (1, 2, 3, 4, 7, 5, 6, 0, 8)\n",
            "Frontier: [(1, 2, 3, 6, 4, 5, 0, 7, 8), (1, 2, 3, 4, 5, 8, 0, 6, 7), (0, 1, 2, 4, 5, 3, 6, 7, 8), (1, 2, 3, 4, 7, 5, 0, 6, 8), (1, 2, 3, 4, 7, 5, 6, 8, 0), (0, 1, 3, 4, 2, 5, 6, 7, 8), (0, 2, 3, 1, 4, 5, 6, 7, 8), (1, 3, 0, 4, 2, 5, 6, 7, 8), (1, 2, 3, 4, 0, 8, 6, 5, 7), (1, 5, 2, 4, 0, 3, 6, 7, 8)]\n",
            "Current state: (1, 2, 3, 6, 4, 5, 0, 7, 8)\n",
            "Frontier: [(1, 2, 3, 4, 5, 8, 0, 6, 7), (1, 2, 3, 4, 7, 5, 6, 8, 0), (0, 1, 2, 4, 5, 3, 6, 7, 8), (1, 2, 3, 4, 7, 5, 0, 6, 8), (1, 2, 3, 6, 4, 5, 7, 0, 8), (0, 1, 3, 4, 2, 5, 6, 7, 8), (0, 2, 3, 1, 4, 5, 6, 7, 8), (1, 3, 0, 4, 2, 5, 6, 7, 8), (1, 2, 3, 4, 0, 8, 6, 5, 7), (1, 5, 2, 4, 0, 3, 6, 7, 8)]\n",
            "Current state: (1, 2, 3, 4, 5, 8, 0, 6, 7)\n",
            "Frontier: [(1, 2, 3, 4, 7, 5, 6, 8, 0), (1, 2, 3, 6, 4, 5, 7, 0, 8), (0, 1, 2, 4, 5, 3, 6, 7, 8), (1, 2, 3, 4, 7, 5, 0, 6, 8), (1, 5, 2, 4, 0, 3, 6, 7, 8), (0, 1, 3, 4, 2, 5, 6, 7, 8), (0, 2, 3, 1, 4, 5, 6, 7, 8), (1, 3, 0, 4, 2, 5, 6, 7, 8), (1, 2, 3, 4, 0, 8, 6, 5, 7), (1, 2, 3, 0, 5, 8, 4, 6, 7)]\n",
            "Current state: (1, 2, 3, 4, 7, 5, 6, 8, 0)\n",
            "Frontier: [(1, 2, 3, 6, 4, 5, 7, 0, 8), (1, 2, 3, 4, 7, 5, 0, 6, 8), (0, 1, 2, 4, 5, 3, 6, 7, 8), (1, 2, 3, 4, 0, 8, 6, 5, 7), (1, 5, 2, 4, 0, 3, 6, 7, 8), (0, 1, 3, 4, 2, 5, 6, 7, 8), (0, 2, 3, 1, 4, 5, 6, 7, 8), (1, 3, 0, 4, 2, 5, 6, 7, 8), (1, 2, 3, 0, 5, 8, 4, 6, 7), (1, 2, 3, 4, 7, 0, 6, 8, 5)]\n",
            "Current state: (1, 2, 3, 6, 4, 5, 7, 0, 8)\n",
            "Frontier: [(1, 2, 3, 4, 7, 5, 0, 6, 8), (1, 2, 3, 6, 4, 5, 7, 8, 0), (0, 1, 2, 4, 5, 3, 6, 7, 8), (1, 2, 3, 4, 0, 8, 6, 5, 7), (1, 5, 2, 4, 0, 3, 6, 7, 8), (0, 1, 3, 4, 2, 5, 6, 7, 8), (0, 2, 3, 1, 4, 5, 6, 7, 8), (1, 3, 0, 4, 2, 5, 6, 7, 8), (1, 2, 3, 0, 5, 8, 4, 6, 7), (1, 2, 3, 6, 0, 5, 7, 4, 8), (1, 2, 3, 4, 7, 0, 6, 8, 5)]\n",
            "Current state: (1, 2, 3, 4, 7, 5, 0, 6, 8)\n",
            "Frontier: [(1, 2, 3, 6, 4, 5, 7, 8, 0), (1, 5, 2, 4, 0, 3, 6, 7, 8), (0, 1, 2, 4, 5, 3, 6, 7, 8), (1, 2, 3, 4, 0, 8, 6, 5, 7), (1, 2, 3, 6, 0, 5, 7, 4, 8), (0, 1, 3, 4, 2, 5, 6, 7, 8), (0, 2, 3, 1, 4, 5, 6, 7, 8), (1, 3, 0, 4, 2, 5, 6, 7, 8), (1, 2, 3, 0, 5, 8, 4, 6, 7), (1, 2, 3, 4, 7, 0, 6, 8, 5), (1, 2, 3, 0, 7, 5, 4, 6, 8)]\n",
            "Current state: (1, 2, 3, 6, 4, 5, 7, 8, 0)\n",
            "Frontier: [(0, 1, 2, 4, 5, 3, 6, 7, 8), (1, 5, 2, 4, 0, 3, 6, 7, 8), (0, 2, 3, 1, 4, 5, 6, 7, 8), (1, 2, 3, 4, 0, 8, 6, 5, 7), (1, 2, 3, 6, 0, 5, 7, 4, 8), (0, 1, 3, 4, 2, 5, 6, 7, 8), (1, 2, 3, 0, 7, 5, 4, 6, 8), (1, 3, 0, 4, 2, 5, 6, 7, 8), (1, 2, 3, 0, 5, 8, 4, 6, 7), (1, 2, 3, 4, 7, 0, 6, 8, 5), (1, 2, 3, 6, 4, 0, 7, 8, 5)]\n",
            "Current state: (0, 1, 2, 4, 5, 3, 6, 7, 8)\n",
            "Frontier: [(0, 2, 3, 1, 4, 5, 6, 7, 8), (1, 5, 2, 4, 0, 3, 6, 7, 8), (1, 2, 3, 0, 7, 5, 4, 6, 8), (1, 2, 3, 4, 0, 8, 6, 5, 7), (1, 2, 3, 6, 0, 5, 7, 4, 8), (0, 1, 3, 4, 2, 5, 6, 7, 8), (1, 2, 3, 6, 4, 0, 7, 8, 5), (1, 3, 0, 4, 2, 5, 6, 7, 8), (1, 2, 3, 0, 5, 8, 4, 6, 7), (1, 2, 3, 4, 7, 0, 6, 8, 5), (4, 1, 2, 0, 5, 3, 6, 7, 8)]\n",
            "Current state: (0, 2, 3, 1, 4, 5, 6, 7, 8)\n",
            "Frontier: [(1, 2, 3, 0, 7, 5, 4, 6, 8), (1, 5, 2, 4, 0, 3, 6, 7, 8), (1, 2, 3, 6, 4, 0, 7, 8, 5), (1, 2, 3, 4, 0, 8, 6, 5, 7), (1, 2, 3, 6, 0, 5, 7, 4, 8), (0, 1, 3, 4, 2, 5, 6, 7, 8), (4, 1, 2, 0, 5, 3, 6, 7, 8), (1, 3, 0, 4, 2, 5, 6, 7, 8), (1, 2, 3, 0, 5, 8, 4, 6, 7), (1, 2, 3, 4, 7, 0, 6, 8, 5), (2, 0, 3, 1, 4, 5, 6, 7, 8)]\n",
            "Current state: (1, 2, 3, 0, 7, 5, 4, 6, 8)\n",
            "Frontier: [(1, 2, 3, 6, 4, 0, 7, 8, 5), (1, 5, 2, 4, 0, 3, 6, 7, 8), (0, 1, 3, 4, 2, 5, 6, 7, 8), (1, 2, 3, 4, 0, 8, 6, 5, 7), (1, 2, 3, 6, 0, 5, 7, 4, 8), (1, 2, 3, 7, 0, 5, 4, 6, 8), (4, 1, 2, 0, 5, 3, 6, 7, 8), (1, 3, 0, 4, 2, 5, 6, 7, 8), (1, 2, 3, 0, 5, 8, 4, 6, 7), (1, 2, 3, 4, 7, 0, 6, 8, 5), (0, 2, 3, 1, 7, 5, 4, 6, 8), (2, 0, 3, 1, 4, 5, 6, 7, 8)]\n",
            "Current state: (1, 2, 3, 6, 4, 0, 7, 8, 5)\n",
            "Frontier: [(0, 1, 3, 4, 2, 5, 6, 7, 8), (1, 5, 2, 4, 0, 3, 6, 7, 8), (1, 2, 3, 7, 0, 5, 4, 6, 8), (1, 2, 3, 4, 0, 8, 6, 5, 7), (1, 2, 3, 6, 0, 5, 7, 4, 8), (2, 0, 3, 1, 4, 5, 6, 7, 8), (4, 1, 2, 0, 5, 3, 6, 7, 8), (1, 3, 0, 4, 2, 5, 6, 7, 8), (1, 2, 3, 0, 5, 8, 4, 6, 7), (1, 2, 3, 4, 7, 0, 6, 8, 5), (0, 2, 3, 1, 7, 5, 4, 6, 8), (1, 2, 0, 6, 4, 3, 7, 8, 5), (1, 2, 3, 6, 0, 4, 7, 8, 5)]\n",
            "Current state: (0, 1, 3, 4, 2, 5, 6, 7, 8)\n",
            "Frontier: [(1, 2, 3, 7, 0, 5, 4, 6, 8), (1, 5, 2, 4, 0, 3, 6, 7, 8), (4, 1, 2, 0, 5, 3, 6, 7, 8), (1, 2, 3, 4, 0, 8, 6, 5, 7), (1, 2, 3, 6, 0, 5, 7, 4, 8), (2, 0, 3, 1, 4, 5, 6, 7, 8), (1, 2, 3, 6, 0, 4, 7, 8, 5), (1, 3, 0, 4, 2, 5, 6, 7, 8), (1, 2, 3, 0, 5, 8, 4, 6, 7), (1, 2, 3, 4, 7, 0, 6, 8, 5), (0, 2, 3, 1, 7, 5, 4, 6, 8), (1, 2, 0, 6, 4, 3, 7, 8, 5), (4, 1, 3, 0, 2, 5, 6, 7, 8)]\n",
            "Current state: (1, 2, 3, 7, 0, 5, 4, 6, 8)\n",
            "Frontier: [(1, 5, 2, 4, 0, 3, 6, 7, 8), (1, 2, 3, 6, 0, 5, 7, 4, 8), (1, 2, 3, 7, 6, 5, 4, 0, 8), (1, 2, 3, 4, 0, 8, 6, 5, 7), (1, 2, 3, 4, 7, 0, 6, 8, 5), (2, 0, 3, 1, 4, 5, 6, 7, 8), (1, 2, 3, 7, 5, 0, 4, 6, 8), (1, 3, 0, 4, 2, 5, 6, 7, 8), (1, 2, 3, 0, 5, 8, 4, 6, 7), (4, 1, 3, 0, 2, 5, 6, 7, 8), (0, 2, 3, 1, 7, 5, 4, 6, 8), (1, 2, 0, 6, 4, 3, 7, 8, 5), (1, 0, 3, 7, 2, 5, 4, 6, 8), (1, 2, 3, 6, 0, 4, 7, 8, 5), (4, 1, 2, 0, 5, 3, 6, 7, 8)]\n",
            "Current state: (1, 5, 2, 4, 0, 3, 6, 7, 8)\n",
            "Frontier: [(1, 2, 3, 7, 6, 5, 4, 0, 8), (1, 2, 3, 6, 0, 5, 7, 4, 8), (1, 2, 3, 7, 5, 0, 4, 6, 8), (1, 2, 3, 4, 0, 8, 6, 5, 7), (1, 2, 3, 4, 7, 0, 6, 8, 5), (2, 0, 3, 1, 4, 5, 6, 7, 8), (1, 2, 3, 6, 0, 4, 7, 8, 5), (1, 3, 0, 4, 2, 5, 6, 7, 8), (1, 2, 3, 0, 5, 8, 4, 6, 7), (4, 1, 3, 0, 2, 5, 6, 7, 8), (0, 2, 3, 1, 7, 5, 4, 6, 8), (1, 2, 0, 6, 4, 3, 7, 8, 5), (1, 0, 3, 7, 2, 5, 4, 6, 8), (4, 1, 2, 0, 5, 3, 6, 7, 8), (1, 5, 2, 4, 7, 3, 6, 0, 8), (1, 5, 2, 0, 4, 3, 6, 7, 8), (1, 5, 2, 4, 3, 0, 6, 7, 8)]\n",
            "Current state: (1, 2, 3, 7, 6, 5, 4, 0, 8)\n",
            "Frontier: [(1, 2, 3, 7, 5, 0, 4, 6, 8), (1, 2, 3, 6, 0, 5, 7, 4, 8), (1, 2, 3, 6, 0, 4, 7, 8, 5), (1, 2, 3, 4, 0, 8, 6, 5, 7), (1, 2, 3, 4, 7, 0, 6, 8, 5), (2, 0, 3, 1, 4, 5, 6, 7, 8), (1, 5, 2, 4, 7, 3, 6, 0, 8), (1, 3, 0, 4, 2, 5, 6, 7, 8), (1, 2, 3, 0, 5, 8, 4, 6, 7), (4, 1, 3, 0, 2, 5, 6, 7, 8), (0, 2, 3, 1, 7, 5, 4, 6, 8), (1, 2, 0, 6, 4, 3, 7, 8, 5), (1, 0, 3, 7, 2, 5, 4, 6, 8), (4, 1, 2, 0, 5, 3, 6, 7, 8), (1, 5, 2, 4, 3, 0, 6, 7, 8), (1, 5, 2, 0, 4, 3, 6, 7, 8), (1, 2, 3, 7, 6, 5, 0, 4, 8), (1, 2, 3, 7, 6, 5, 4, 8, 0)]\n",
            "Current state: (1, 2, 3, 7, 5, 0, 4, 6, 8)\n",
            "Frontier: [(1, 2, 3, 6, 0, 5, 7, 4, 8), (1, 2, 3, 4, 7, 0, 6, 8, 5), (1, 2, 3, 6, 0, 4, 7, 8, 5), (1, 2, 3, 4, 0, 8, 6, 5, 7), (1, 2, 3, 7, 6, 5, 4, 8, 0), (2, 0, 3, 1, 4, 5, 6, 7, 8), (1, 5, 2, 4, 7, 3, 6, 0, 8), (1, 3, 0, 4, 2, 5, 6, 7, 8), (1, 2, 3, 0, 5, 8, 4, 6, 7), (4, 1, 3, 0, 2, 5, 6, 7, 8), (0, 2, 3, 1, 7, 5, 4, 6, 8), (1, 2, 0, 6, 4, 3, 7, 8, 5), (1, 0, 3, 7, 2, 5, 4, 6, 8), (4, 1, 2, 0, 5, 3, 6, 7, 8), (1, 5, 2, 4, 3, 0, 6, 7, 8), (1, 5, 2, 0, 4, 3, 6, 7, 8), (1, 2, 3, 7, 6, 5, 0, 4, 8), (1, 2, 0, 7, 5, 3, 4, 6, 8), (1, 2, 3, 7, 5, 8, 4, 6, 0)]\n",
            "Current state: (1, 2, 3, 6, 0, 5, 7, 4, 8)\n",
            "Frontier: [(1, 2, 3, 4, 7, 0, 6, 8, 5), (1, 2, 3, 7, 6, 5, 4, 8, 0), (1, 2, 3, 6, 0, 4, 7, 8, 5), (1, 2, 3, 4, 0, 8, 6, 5, 7), (1, 2, 3, 0, 6, 5, 7, 4, 8), (2, 0, 3, 1, 4, 5, 6, 7, 8), (1, 5, 2, 4, 7, 3, 6, 0, 8), (1, 3, 0, 4, 2, 5, 6, 7, 8), (1, 2, 3, 0, 5, 8, 4, 6, 7), (1, 2, 3, 6, 5, 0, 7, 4, 8), (1, 2, 3, 7, 5, 8, 4, 6, 0), (1, 2, 0, 6, 4, 3, 7, 8, 5), (1, 0, 3, 7, 2, 5, 4, 6, 8), (4, 1, 2, 0, 5, 3, 6, 7, 8), (1, 5, 2, 4, 3, 0, 6, 7, 8), (1, 5, 2, 0, 4, 3, 6, 7, 8), (1, 2, 3, 7, 6, 5, 0, 4, 8), (1, 2, 0, 7, 5, 3, 4, 6, 8), (1, 0, 3, 6, 2, 5, 7, 4, 8), (4, 1, 3, 0, 2, 5, 6, 7, 8), (0, 2, 3, 1, 7, 5, 4, 6, 8)]\n",
            "Current state: (1, 2, 3, 4, 7, 0, 6, 8, 5)\n",
            "Frontier: [(1, 2, 3, 7, 6, 5, 4, 8, 0), (1, 2, 3, 0, 6, 5, 7, 4, 8), (1, 2, 3, 6, 0, 4, 7, 8, 5), (1, 2, 3, 4, 0, 8, 6, 5, 7), (1, 2, 3, 6, 5, 0, 7, 4, 8), (2, 0, 3, 1, 4, 5, 6, 7, 8), (1, 5, 2, 4, 7, 3, 6, 0, 8), (1, 3, 0, 4, 2, 5, 6, 7, 8), (1, 2, 3, 0, 5, 8, 4, 6, 7), (4, 1, 3, 0, 2, 5, 6, 7, 8), (1, 2, 3, 7, 5, 8, 4, 6, 0), (1, 2, 0, 6, 4, 3, 7, 8, 5), (1, 0, 3, 7, 2, 5, 4, 6, 8), (4, 1, 2, 0, 5, 3, 6, 7, 8), (1, 5, 2, 4, 3, 0, 6, 7, 8), (1, 5, 2, 0, 4, 3, 6, 7, 8), (1, 2, 3, 7, 6, 5, 0, 4, 8), (1, 2, 0, 7, 5, 3, 4, 6, 8), (1, 0, 3, 6, 2, 5, 7, 4, 8), (0, 2, 3, 1, 7, 5, 4, 6, 8), (1, 2, 0, 4, 7, 3, 6, 8, 5), (1, 2, 3, 4, 0, 7, 6, 8, 5)]\n",
            "Current state: (1, 2, 3, 7, 6, 5, 4, 8, 0)\n",
            "Frontier: [(1, 2, 3, 0, 6, 5, 7, 4, 8), (1, 2, 3, 6, 5, 0, 7, 4, 8), (1, 2, 3, 6, 0, 4, 7, 8, 5), (1, 2, 3, 4, 0, 8, 6, 5, 7), (1, 2, 3, 7, 5, 8, 4, 6, 0), (2, 0, 3, 1, 4, 5, 6, 7, 8), (1, 5, 2, 4, 7, 3, 6, 0, 8), (1, 3, 0, 4, 2, 5, 6, 7, 8), (1, 2, 3, 0, 5, 8, 4, 6, 7), (4, 1, 3, 0, 2, 5, 6, 7, 8), (1, 2, 3, 4, 0, 7, 6, 8, 5), (1, 2, 0, 6, 4, 3, 7, 8, 5), (1, 0, 3, 7, 2, 5, 4, 6, 8), (4, 1, 2, 0, 5, 3, 6, 7, 8), (1, 5, 2, 4, 3, 0, 6, 7, 8), (1, 5, 2, 0, 4, 3, 6, 7, 8), (1, 2, 3, 7, 6, 5, 0, 4, 8), (1, 2, 0, 7, 5, 3, 4, 6, 8), (1, 0, 3, 6, 2, 5, 7, 4, 8), (0, 2, 3, 1, 7, 5, 4, 6, 8), (1, 2, 0, 4, 7, 3, 6, 8, 5), (1, 2, 3, 7, 6, 0, 4, 8, 5)]\n",
            "Current state: (1, 2, 3, 0, 6, 5, 7, 4, 8)\n",
            "Frontier: [(1, 2, 3, 6, 5, 0, 7, 4, 8), (1, 2, 3, 4, 0, 8, 6, 5, 7), (1, 2, 3, 6, 0, 4, 7, 8, 5), (1, 2, 3, 0, 5, 8, 4, 6, 7), (1, 2, 3, 7, 5, 8, 4, 6, 0), (2, 0, 3, 1, 4, 5, 6, 7, 8), (1, 5, 2, 4, 7, 3, 6, 0, 8), (1, 3, 0, 4, 2, 5, 6, 7, 8), (1, 0, 3, 6, 2, 5, 7, 4, 8), (4, 1, 3, 0, 2, 5, 6, 7, 8), (1, 2, 3, 4, 0, 7, 6, 8, 5), (1, 2, 0, 6, 4, 3, 7, 8, 5), (1, 0, 3, 7, 2, 5, 4, 6, 8), (4, 1, 2, 0, 5, 3, 6, 7, 8), (1, 5, 2, 4, 3, 0, 6, 7, 8), (1, 5, 2, 0, 4, 3, 6, 7, 8), (1, 2, 3, 7, 6, 5, 0, 4, 8), (1, 2, 0, 7, 5, 3, 4, 6, 8), (1, 2, 3, 7, 6, 0, 4, 8, 5), (0, 2, 3, 1, 7, 5, 4, 6, 8), (1, 2, 0, 4, 7, 3, 6, 8, 5), (0, 2, 3, 1, 6, 5, 7, 4, 8)]\n",
            "Current state: (1, 2, 3, 6, 5, 0, 7, 4, 8)\n",
            "Frontier: [(1, 2, 3, 4, 0, 8, 6, 5, 7), (1, 2, 3, 0, 5, 8, 4, 6, 7), (1, 2, 3, 6, 0, 4, 7, 8, 5), (1, 3, 0, 4, 2, 5, 6, 7, 8), (1, 2, 3, 7, 5, 8, 4, 6, 0), (2, 0, 3, 1, 4, 5, 6, 7, 8), (1, 5, 2, 4, 7, 3, 6, 0, 8), (1, 2, 3, 7, 6, 5, 0, 4, 8), (1, 0, 3, 6, 2, 5, 7, 4, 8), (4, 1, 3, 0, 2, 5, 6, 7, 8), (1, 2, 3, 4, 0, 7, 6, 8, 5), (1, 2, 0, 6, 4, 3, 7, 8, 5), (1, 0, 3, 7, 2, 5, 4, 6, 8), (4, 1, 2, 0, 5, 3, 6, 7, 8), (1, 5, 2, 4, 3, 0, 6, 7, 8), (1, 5, 2, 0, 4, 3, 6, 7, 8), (0, 2, 3, 1, 6, 5, 7, 4, 8), (1, 2, 0, 7, 5, 3, 4, 6, 8), (1, 2, 3, 7, 6, 0, 4, 8, 5), (0, 2, 3, 1, 7, 5, 4, 6, 8), (1, 2, 0, 4, 7, 3, 6, 8, 5), (1, 2, 0, 6, 5, 3, 7, 4, 8), (1, 2, 3, 6, 5, 8, 7, 4, 0)]\n",
            "Current state: (1, 2, 3, 4, 0, 8, 6, 5, 7)\n",
            "Frontier: [(1, 2, 3, 0, 5, 8, 4, 6, 7), (1, 3, 0, 4, 2, 5, 6, 7, 8), (1, 2, 3, 4, 8, 0, 6, 5, 7), (1, 0, 3, 6, 2, 5, 7, 4, 8), (1, 2, 3, 7, 5, 8, 4, 6, 0), (1, 2, 3, 6, 0, 4, 7, 8, 5), (1, 5, 2, 4, 7, 3, 6, 0, 8), (1, 2, 3, 7, 6, 5, 0, 4, 8), (1, 2, 3, 7, 6, 0, 4, 8, 5), (4, 1, 3, 0, 2, 5, 6, 7, 8), (1, 2, 3, 4, 0, 7, 6, 8, 5), (2, 0, 3, 1, 4, 5, 6, 7, 8), (1, 0, 3, 7, 2, 5, 4, 6, 8), (4, 1, 2, 0, 5, 3, 6, 7, 8), (1, 5, 2, 4, 3, 0, 6, 7, 8), (1, 5, 2, 0, 4, 3, 6, 7, 8), (0, 2, 3, 1, 6, 5, 7, 4, 8), (1, 2, 0, 7, 5, 3, 4, 6, 8), (1, 2, 3, 6, 5, 8, 7, 4, 0), (0, 2, 3, 1, 7, 5, 4, 6, 8), (1, 2, 0, 4, 7, 3, 6, 8, 5), (1, 2, 0, 6, 5, 3, 7, 4, 8), (1, 0, 3, 4, 2, 8, 6, 5, 7), (1, 2, 3, 0, 4, 8, 6, 5, 7), (1, 2, 0, 6, 4, 3, 7, 8, 5)]\n",
            "Current state: (1, 2, 3, 0, 5, 8, 4, 6, 7)\n",
            "Frontier: [(1, 2, 3, 4, 8, 0, 6, 5, 7), (1, 3, 0, 4, 2, 5, 6, 7, 8), (1, 5, 2, 4, 7, 3, 6, 0, 8), (1, 0, 3, 6, 2, 5, 7, 4, 8), (1, 2, 3, 7, 5, 8, 4, 6, 0), (1, 2, 3, 6, 0, 4, 7, 8, 5), (1, 5, 2, 4, 3, 0, 6, 7, 8), (1, 2, 3, 7, 6, 5, 0, 4, 8), (1, 2, 3, 7, 6, 0, 4, 8, 5), (4, 1, 3, 0, 2, 5, 6, 7, 8), (1, 2, 3, 4, 0, 7, 6, 8, 5), (2, 0, 3, 1, 4, 5, 6, 7, 8), (1, 0, 3, 7, 2, 5, 4, 6, 8), (4, 1, 2, 0, 5, 3, 6, 7, 8), (1, 2, 0, 6, 4, 3, 7, 8, 5), (1, 5, 2, 0, 4, 3, 6, 7, 8), (0, 2, 3, 1, 6, 5, 7, 4, 8), (1, 2, 0, 7, 5, 3, 4, 6, 8), (1, 2, 3, 6, 5, 8, 7, 4, 0), (0, 2, 3, 1, 7, 5, 4, 6, 8), (1, 2, 0, 4, 7, 3, 6, 8, 5), (1, 2, 0, 6, 5, 3, 7, 4, 8), (1, 0, 3, 4, 2, 8, 6, 5, 7), (1, 2, 3, 0, 4, 8, 6, 5, 7), (0, 2, 3, 1, 5, 8, 4, 6, 7), (1, 2, 3, 5, 0, 8, 4, 6, 7)]\n",
            "Current state: (1, 2, 3, 4, 8, 0, 6, 5, 7)\n",
            "Frontier: [(1, 3, 0, 4, 2, 5, 6, 7, 8), (1, 2, 3, 7, 5, 8, 4, 6, 0), (1, 5, 2, 4, 7, 3, 6, 0, 8), (1, 0, 3, 6, 2, 5, 7, 4, 8), (1, 2, 3, 4, 0, 7, 6, 8, 5), (1, 2, 3, 6, 0, 4, 7, 8, 5), (1, 5, 2, 4, 3, 0, 6, 7, 8), (1, 2, 3, 7, 6, 5, 0, 4, 8), (1, 2, 3, 7, 6, 0, 4, 8, 5), (4, 1, 3, 0, 2, 5, 6, 7, 8), (1, 0, 3, 4, 2, 8, 6, 5, 7), (2, 0, 3, 1, 4, 5, 6, 7, 8), (1, 0, 3, 7, 2, 5, 4, 6, 8), (4, 1, 2, 0, 5, 3, 6, 7, 8), (1, 2, 0, 6, 4, 3, 7, 8, 5), (1, 5, 2, 0, 4, 3, 6, 7, 8), (0, 2, 3, 1, 6, 5, 7, 4, 8), (1, 2, 0, 7, 5, 3, 4, 6, 8), (1, 2, 3, 6, 5, 8, 7, 4, 0), (0, 2, 3, 1, 7, 5, 4, 6, 8), (1, 2, 0, 4, 7, 3, 6, 8, 5), (1, 2, 0, 6, 5, 3, 7, 4, 8), (1, 2, 3, 5, 0, 8, 4, 6, 7), (1, 2, 3, 0, 4, 8, 6, 5, 7), (0, 2, 3, 1, 5, 8, 4, 6, 7), (1, 2, 0, 4, 8, 3, 6, 5, 7), (1, 2, 3, 4, 8, 7, 6, 5, 0)]\n",
            "Current state: (1, 3, 0, 4, 2, 5, 6, 7, 8)\n",
            "Frontier: [(1, 5, 2, 4, 7, 3, 6, 0, 8), (1, 2, 3, 7, 5, 8, 4, 6, 0), (1, 5, 2, 4, 3, 0, 6, 7, 8), (1, 0, 3, 6, 2, 5, 7, 4, 8), (1, 2, 3, 4, 0, 7, 6, 8, 5), (1, 2, 3, 6, 0, 4, 7, 8, 5), (1, 2, 0, 6, 4, 3, 7, 8, 5), (1, 2, 3, 7, 6, 5, 0, 4, 8), (1, 2, 3, 7, 6, 0, 4, 8, 5), (4, 1, 3, 0, 2, 5, 6, 7, 8), (1, 0, 3, 4, 2, 8, 6, 5, 7), (2, 0, 3, 1, 4, 5, 6, 7, 8), (1, 0, 3, 7, 2, 5, 4, 6, 8), (4, 1, 2, 0, 5, 3, 6, 7, 8), (1, 2, 3, 4, 8, 7, 6, 5, 0), (1, 5, 2, 0, 4, 3, 6, 7, 8), (0, 2, 3, 1, 6, 5, 7, 4, 8), (1, 2, 0, 7, 5, 3, 4, 6, 8), (1, 2, 3, 6, 5, 8, 7, 4, 0), (0, 2, 3, 1, 7, 5, 4, 6, 8), (1, 2, 0, 4, 7, 3, 6, 8, 5), (1, 2, 0, 6, 5, 3, 7, 4, 8), (1, 2, 3, 5, 0, 8, 4, 6, 7), (1, 2, 3, 0, 4, 8, 6, 5, 7), (0, 2, 3, 1, 5, 8, 4, 6, 7), (1, 2, 0, 4, 8, 3, 6, 5, 7), (1, 3, 5, 4, 2, 0, 6, 7, 8)]\n",
            "Current state: (1, 5, 2, 4, 7, 3, 6, 0, 8)\n",
            "Frontier: [(1, 5, 2, 4, 3, 0, 6, 7, 8), (1, 2, 3, 7, 5, 8, 4, 6, 0), (1, 2, 0, 6, 4, 3, 7, 8, 5), (1, 0, 3, 6, 2, 5, 7, 4, 8), (1, 2, 3, 4, 0, 7, 6, 8, 5), (1, 2, 3, 6, 0, 4, 7, 8, 5), (1, 2, 3, 4, 8, 7, 6, 5, 0), (1, 2, 3, 7, 6, 5, 0, 4, 8), (1, 2, 3, 7, 6, 0, 4, 8, 5), (4, 1, 3, 0, 2, 5, 6, 7, 8), (1, 0, 3, 4, 2, 8, 6, 5, 7), (2, 0, 3, 1, 4, 5, 6, 7, 8), (1, 0, 3, 7, 2, 5, 4, 6, 8), (4, 1, 2, 0, 5, 3, 6, 7, 8), (1, 3, 5, 4, 2, 0, 6, 7, 8), (1, 5, 2, 0, 4, 3, 6, 7, 8), (0, 2, 3, 1, 6, 5, 7, 4, 8), (1, 2, 0, 7, 5, 3, 4, 6, 8), (1, 2, 3, 6, 5, 8, 7, 4, 0), (0, 2, 3, 1, 7, 5, 4, 6, 8), (1, 2, 0, 4, 7, 3, 6, 8, 5), (1, 2, 0, 6, 5, 3, 7, 4, 8), (1, 2, 3, 5, 0, 8, 4, 6, 7), (1, 2, 3, 0, 4, 8, 6, 5, 7), (0, 2, 3, 1, 5, 8, 4, 6, 7), (1, 2, 0, 4, 8, 3, 6, 5, 7), (1, 5, 2, 4, 7, 3, 0, 6, 8), (1, 5, 2, 4, 7, 3, 6, 8, 0)]\n",
            "Current state: (1, 5, 2, 4, 3, 0, 6, 7, 8)\n",
            "Frontier: [(1, 2, 0, 6, 4, 3, 7, 8, 5), (1, 2, 3, 7, 5, 8, 4, 6, 0), (1, 2, 3, 4, 8, 7, 6, 5, 0), (1, 0, 3, 6, 2, 5, 7, 4, 8), (1, 2, 3, 4, 0, 7, 6, 8, 5), (1, 2, 3, 6, 0, 4, 7, 8, 5), (1, 3, 5, 4, 2, 0, 6, 7, 8), (1, 2, 3, 7, 6, 5, 0, 4, 8), (1, 2, 3, 7, 6, 0, 4, 8, 5), (4, 1, 3, 0, 2, 5, 6, 7, 8), (1, 0, 3, 4, 2, 8, 6, 5, 7), (2, 0, 3, 1, 4, 5, 6, 7, 8), (1, 0, 3, 7, 2, 5, 4, 6, 8), (4, 1, 2, 0, 5, 3, 6, 7, 8), (1, 5, 2, 4, 7, 3, 6, 8, 0), (1, 5, 2, 0, 4, 3, 6, 7, 8), (0, 2, 3, 1, 6, 5, 7, 4, 8), (1, 2, 0, 7, 5, 3, 4, 6, 8), (1, 2, 3, 6, 5, 8, 7, 4, 0), (0, 2, 3, 1, 7, 5, 4, 6, 8), (1, 2, 0, 4, 7, 3, 6, 8, 5), (1, 2, 0, 6, 5, 3, 7, 4, 8), (1, 2, 3, 5, 0, 8, 4, 6, 7), (1, 2, 3, 0, 4, 8, 6, 5, 7), (0, 2, 3, 1, 5, 8, 4, 6, 7), (1, 2, 0, 4, 8, 3, 6, 5, 7), (1, 5, 2, 4, 7, 3, 0, 6, 8), (1, 5, 0, 4, 3, 2, 6, 7, 8), (1, 5, 2, 4, 3, 8, 6, 7, 0)]\n",
            "Current state: (1, 2, 0, 6, 4, 3, 7, 8, 5)\n",
            "Frontier: [(1, 2, 3, 4, 8, 7, 6, 5, 0), (1, 2, 3, 7, 5, 8, 4, 6, 0), (1, 3, 5, 4, 2, 0, 6, 7, 8), (1, 0, 3, 6, 2, 5, 7, 4, 8), (1, 2, 3, 4, 0, 7, 6, 8, 5), (1, 2, 3, 6, 0, 4, 7, 8, 5), (1, 5, 2, 4, 7, 3, 6, 8, 0), (1, 2, 3, 7, 6, 5, 0, 4, 8), (1, 2, 3, 7, 6, 0, 4, 8, 5), (4, 1, 3, 0, 2, 5, 6, 7, 8), (1, 0, 3, 4, 2, 8, 6, 5, 7), (2, 0, 3, 1, 4, 5, 6, 7, 8), (1, 0, 3, 7, 2, 5, 4, 6, 8), (4, 1, 2, 0, 5, 3, 6, 7, 8), (1, 5, 2, 4, 3, 8, 6, 7, 0), (1, 5, 2, 0, 4, 3, 6, 7, 8), (0, 2, 3, 1, 6, 5, 7, 4, 8), (1, 2, 0, 7, 5, 3, 4, 6, 8), (1, 2, 3, 6, 5, 8, 7, 4, 0), (0, 2, 3, 1, 7, 5, 4, 6, 8), (1, 2, 0, 4, 7, 3, 6, 8, 5), (1, 2, 0, 6, 5, 3, 7, 4, 8), (1, 2, 3, 5, 0, 8, 4, 6, 7), (1, 2, 3, 0, 4, 8, 6, 5, 7), (0, 2, 3, 1, 5, 8, 4, 6, 7), (1, 2, 0, 4, 8, 3, 6, 5, 7), (1, 5, 2, 4, 7, 3, 0, 6, 8), (1, 5, 0, 4, 3, 2, 6, 7, 8), (1, 0, 2, 6, 4, 3, 7, 8, 5)]\n",
            "Current state: (1, 2, 3, 4, 8, 7, 6, 5, 0)\n",
            "Frontier: [(1, 3, 5, 4, 2, 0, 6, 7, 8), (1, 2, 3, 7, 5, 8, 4, 6, 0), (1, 5, 2, 4, 7, 3, 6, 8, 0), (1, 0, 3, 6, 2, 5, 7, 4, 8), (1, 2, 3, 4, 0, 7, 6, 8, 5), (1, 2, 3, 6, 0, 4, 7, 8, 5), (4, 1, 2, 0, 5, 3, 6, 7, 8), (1, 2, 3, 7, 6, 5, 0, 4, 8), (1, 2, 3, 7, 6, 0, 4, 8, 5), (4, 1, 3, 0, 2, 5, 6, 7, 8), (1, 0, 3, 4, 2, 8, 6, 5, 7), (2, 0, 3, 1, 4, 5, 6, 7, 8), (1, 0, 3, 7, 2, 5, 4, 6, 8), (1, 5, 0, 4, 3, 2, 6, 7, 8), (1, 5, 2, 4, 3, 8, 6, 7, 0), (1, 5, 2, 0, 4, 3, 6, 7, 8), (0, 2, 3, 1, 6, 5, 7, 4, 8), (1, 2, 0, 7, 5, 3, 4, 6, 8), (1, 2, 3, 6, 5, 8, 7, 4, 0), (0, 2, 3, 1, 7, 5, 4, 6, 8), (1, 2, 0, 4, 7, 3, 6, 8, 5), (1, 2, 0, 6, 5, 3, 7, 4, 8), (1, 2, 3, 5, 0, 8, 4, 6, 7), (1, 2, 3, 0, 4, 8, 6, 5, 7), (0, 2, 3, 1, 5, 8, 4, 6, 7), (1, 2, 0, 4, 8, 3, 6, 5, 7), (1, 5, 2, 4, 7, 3, 0, 6, 8), (1, 0, 2, 6, 4, 3, 7, 8, 5), (1, 2, 3, 4, 8, 7, 6, 0, 5)]\n",
            "Current state: (1, 3, 5, 4, 2, 0, 6, 7, 8)\n",
            "Frontier: [(1, 5, 2, 4, 7, 3, 6, 8, 0), (1, 2, 3, 7, 5, 8, 4, 6, 0), (4, 1, 2, 0, 5, 3, 6, 7, 8), (1, 0, 3, 6, 2, 5, 7, 4, 8), (1, 2, 3, 4, 0, 7, 6, 8, 5), (1, 2, 3, 6, 0, 4, 7, 8, 5), (1, 5, 2, 4, 3, 8, 6, 7, 0), (1, 2, 3, 7, 6, 5, 0, 4, 8), (1, 2, 3, 7, 6, 0, 4, 8, 5), (4, 1, 3, 0, 2, 5, 6, 7, 8), (1, 0, 3, 4, 2, 8, 6, 5, 7), (2, 0, 3, 1, 4, 5, 6, 7, 8), (1, 0, 3, 7, 2, 5, 4, 6, 8), (1, 5, 0, 4, 3, 2, 6, 7, 8), (1, 2, 3, 4, 8, 7, 6, 0, 5), (1, 5, 2, 0, 4, 3, 6, 7, 8), (0, 2, 3, 1, 6, 5, 7, 4, 8), (1, 2, 0, 7, 5, 3, 4, 6, 8), (1, 2, 3, 6, 5, 8, 7, 4, 0), (0, 2, 3, 1, 7, 5, 4, 6, 8), (1, 2, 0, 4, 7, 3, 6, 8, 5), (1, 2, 0, 6, 5, 3, 7, 4, 8), (1, 2, 3, 5, 0, 8, 4, 6, 7), (1, 2, 3, 0, 4, 8, 6, 5, 7), (0, 2, 3, 1, 5, 8, 4, 6, 7), (1, 2, 0, 4, 8, 3, 6, 5, 7), (1, 5, 2, 4, 7, 3, 0, 6, 8), (1, 0, 2, 6, 4, 3, 7, 8, 5), (1, 3, 5, 4, 2, 8, 6, 7, 0), (1, 3, 5, 4, 0, 2, 6, 7, 8)]\n",
            "Current state: (1, 5, 2, 4, 7, 3, 6, 8, 0)\n",
            "Frontier: [(4, 1, 2, 0, 5, 3, 6, 7, 8), (1, 2, 3, 7, 5, 8, 4, 6, 0), (1, 2, 3, 6, 0, 4, 7, 8, 5), (1, 0, 3, 6, 2, 5, 7, 4, 8), (1, 2, 3, 4, 0, 7, 6, 8, 5), (1, 0, 3, 7, 2, 5, 4, 6, 8), (1, 5, 2, 4, 3, 8, 6, 7, 0), (1, 2, 3, 7, 6, 5, 0, 4, 8), (1, 2, 3, 7, 6, 0, 4, 8, 5), (4, 1, 3, 0, 2, 5, 6, 7, 8), (1, 0, 3, 4, 2, 8, 6, 5, 7), (2, 0, 3, 1, 4, 5, 6, 7, 8), (1, 5, 2, 4, 7, 3, 0, 6, 8), (1, 5, 0, 4, 3, 2, 6, 7, 8), (1, 2, 3, 4, 8, 7, 6, 0, 5), (1, 5, 2, 0, 4, 3, 6, 7, 8), (0, 2, 3, 1, 6, 5, 7, 4, 8), (1, 2, 0, 7, 5, 3, 4, 6, 8), (1, 2, 3, 6, 5, 8, 7, 4, 0), (0, 2, 3, 1, 7, 5, 4, 6, 8), (1, 2, 0, 4, 7, 3, 6, 8, 5), (1, 2, 0, 6, 5, 3, 7, 4, 8), (1, 2, 3, 5, 0, 8, 4, 6, 7), (1, 2, 3, 0, 4, 8, 6, 5, 7), (0, 2, 3, 1, 5, 8, 4, 6, 7), (1, 2, 0, 4, 8, 3, 6, 5, 7), (1, 3, 5, 4, 0, 2, 6, 7, 8), (1, 0, 2, 6, 4, 3, 7, 8, 5), (1, 3, 5, 4, 2, 8, 6, 7, 0), (1, 5, 2, 4, 7, 0, 6, 8, 3)]\n",
            "Current state: (4, 1, 2, 0, 5, 3, 6, 7, 8)\n",
            "Frontier: [(1, 2, 3, 6, 0, 4, 7, 8, 5), (1, 2, 3, 7, 5, 8, 4, 6, 0), (1, 0, 3, 7, 2, 5, 4, 6, 8), (1, 0, 3, 6, 2, 5, 7, 4, 8), (1, 2, 3, 4, 0, 7, 6, 8, 5), (1, 5, 2, 4, 7, 3, 0, 6, 8), (4, 1, 2, 6, 5, 3, 0, 7, 8), (1, 2, 3, 7, 6, 5, 0, 4, 8), (1, 2, 3, 7, 6, 0, 4, 8, 5), (4, 1, 3, 0, 2, 5, 6, 7, 8), (1, 0, 3, 4, 2, 8, 6, 5, 7), (2, 0, 3, 1, 4, 5, 6, 7, 8), (1, 2, 0, 4, 8, 3, 6, 5, 7), (1, 5, 0, 4, 3, 2, 6, 7, 8), (1, 5, 2, 4, 3, 8, 6, 7, 0), (1, 5, 2, 0, 4, 3, 6, 7, 8), (0, 2, 3, 1, 6, 5, 7, 4, 8), (1, 2, 0, 7, 5, 3, 4, 6, 8), (1, 2, 3, 6, 5, 8, 7, 4, 0), (0, 2, 3, 1, 7, 5, 4, 6, 8), (1, 2, 0, 4, 7, 3, 6, 8, 5), (1, 2, 0, 6, 5, 3, 7, 4, 8), (1, 2, 3, 5, 0, 8, 4, 6, 7), (1, 2, 3, 0, 4, 8, 6, 5, 7), (0, 2, 3, 1, 5, 8, 4, 6, 7), (1, 5, 2, 4, 7, 0, 6, 8, 3), (1, 3, 5, 4, 0, 2, 6, 7, 8), (1, 0, 2, 6, 4, 3, 7, 8, 5), (1, 3, 5, 4, 2, 8, 6, 7, 0), (1, 2, 3, 4, 8, 7, 6, 0, 5), (4, 1, 2, 5, 0, 3, 6, 7, 8)]\n",
            "Current state: (1, 2, 3, 6, 0, 4, 7, 8, 5)\n",
            "Frontier: [(1, 0, 3, 7, 2, 5, 4, 6, 8), (1, 2, 3, 7, 5, 8, 4, 6, 0), (4, 1, 2, 6, 5, 3, 0, 7, 8), (1, 0, 3, 6, 2, 5, 7, 4, 8), (1, 2, 3, 4, 0, 7, 6, 8, 5), (1, 5, 2, 4, 7, 3, 0, 6, 8), (1, 5, 2, 4, 3, 8, 6, 7, 0), (1, 2, 3, 7, 6, 5, 0, 4, 8), (1, 2, 3, 7, 6, 0, 4, 8, 5), (4, 1, 3, 0, 2, 5, 6, 7, 8), (1, 0, 3, 4, 2, 8, 6, 5, 7), (2, 0, 3, 1, 4, 5, 6, 7, 8), (1, 2, 0, 4, 8, 3, 6, 5, 7), (1, 5, 0, 4, 3, 2, 6, 7, 8), (1, 2, 3, 4, 8, 7, 6, 0, 5), (1, 5, 2, 0, 4, 3, 6, 7, 8), (0, 2, 3, 1, 6, 5, 7, 4, 8), (1, 2, 0, 7, 5, 3, 4, 6, 8), (1, 2, 3, 6, 5, 8, 7, 4, 0), (0, 2, 3, 1, 7, 5, 4, 6, 8), (1, 2, 0, 4, 7, 3, 6, 8, 5), (1, 2, 0, 6, 5, 3, 7, 4, 8), (1, 2, 3, 5, 0, 8, 4, 6, 7), (1, 2, 3, 0, 4, 8, 6, 5, 7), (0, 2, 3, 1, 5, 8, 4, 6, 7), (1, 5, 2, 4, 7, 0, 6, 8, 3), (1, 3, 5, 4, 0, 2, 6, 7, 8), (1, 0, 2, 6, 4, 3, 7, 8, 5), (1, 3, 5, 4, 2, 8, 6, 7, 0), (4, 1, 2, 5, 0, 3, 6, 7, 8), (1, 0, 3, 6, 2, 4, 7, 8, 5), (1, 2, 3, 6, 8, 4, 7, 0, 5), (1, 2, 3, 0, 6, 4, 7, 8, 5)]\n",
            "Current state: (1, 0, 3, 7, 2, 5, 4, 6, 8)\n",
            "Frontier: [(4, 1, 2, 6, 5, 3, 0, 7, 8), (1, 2, 3, 7, 5, 8, 4, 6, 0), (1, 5, 2, 4, 7, 3, 0, 6, 8), (1, 0, 3, 6, 2, 5, 7, 4, 8), (1, 2, 3, 4, 0, 7, 6, 8, 5), (1, 2, 0, 4, 8, 3, 6, 5, 7), (1, 5, 2, 4, 3, 8, 6, 7, 0), (1, 2, 3, 7, 6, 5, 0, 4, 8), (1, 2, 3, 7, 6, 0, 4, 8, 5), (4, 1, 3, 0, 2, 5, 6, 7, 8), (1, 0, 3, 4, 2, 8, 6, 5, 7), (2, 0, 3, 1, 4, 5, 6, 7, 8), (1, 2, 3, 0, 6, 4, 7, 8, 5), (1, 5, 0, 4, 3, 2, 6, 7, 8), (1, 2, 3, 4, 8, 7, 6, 0, 5), (1, 5, 2, 0, 4, 3, 6, 7, 8), (0, 2, 3, 1, 6, 5, 7, 4, 8), (1, 2, 0, 7, 5, 3, 4, 6, 8), (1, 2, 3, 6, 5, 8, 7, 4, 0), (0, 2, 3, 1, 7, 5, 4, 6, 8), (1, 2, 0, 4, 7, 3, 6, 8, 5), (1, 2, 0, 6, 5, 3, 7, 4, 8), (1, 2, 3, 5, 0, 8, 4, 6, 7), (1, 2, 3, 0, 4, 8, 6, 5, 7), (0, 2, 3, 1, 5, 8, 4, 6, 7), (1, 5, 2, 4, 7, 0, 6, 8, 3), (1, 3, 5, 4, 0, 2, 6, 7, 8), (1, 0, 2, 6, 4, 3, 7, 8, 5), (1, 3, 5, 4, 2, 8, 6, 7, 0), (4, 1, 2, 5, 0, 3, 6, 7, 8), (1, 0, 3, 6, 2, 4, 7, 8, 5), (1, 2, 3, 6, 8, 4, 7, 0, 5), (0, 1, 3, 7, 2, 5, 4, 6, 8), (1, 3, 0, 7, 2, 5, 4, 6, 8)]\n",
            "Current state: (4, 1, 2, 6, 5, 3, 0, 7, 8)\n",
            "Frontier: [(1, 5, 2, 4, 7, 3, 0, 6, 8), (1, 2, 3, 7, 5, 8, 4, 6, 0), (1, 2, 0, 4, 8, 3, 6, 5, 7), (1, 0, 3, 6, 2, 5, 7, 4, 8), (1, 2, 3, 4, 0, 7, 6, 8, 5), (1, 2, 3, 0, 6, 4, 7, 8, 5), (1, 5, 2, 4, 3, 8, 6, 7, 0), (1, 2, 3, 7, 6, 5, 0, 4, 8), (1, 2, 3, 7, 6, 0, 4, 8, 5), (4, 1, 3, 0, 2, 5, 6, 7, 8), (1, 0, 3, 4, 2, 8, 6, 5, 7), (2, 0, 3, 1, 4, 5, 6, 7, 8), (1, 3, 5, 4, 0, 2, 6, 7, 8), (1, 5, 0, 4, 3, 2, 6, 7, 8), (1, 2, 3, 4, 8, 7, 6, 0, 5), (1, 5, 2, 0, 4, 3, 6, 7, 8), (0, 2, 3, 1, 6, 5, 7, 4, 8), (1, 2, 0, 7, 5, 3, 4, 6, 8), (1, 2, 3, 6, 5, 8, 7, 4, 0), (0, 2, 3, 1, 7, 5, 4, 6, 8), (1, 2, 0, 4, 7, 3, 6, 8, 5), (1, 2, 0, 6, 5, 3, 7, 4, 8), (1, 2, 3, 5, 0, 8, 4, 6, 7), (1, 2, 3, 0, 4, 8, 6, 5, 7), (0, 2, 3, 1, 5, 8, 4, 6, 7), (1, 5, 2, 4, 7, 0, 6, 8, 3), (1, 3, 0, 7, 2, 5, 4, 6, 8), (1, 0, 2, 6, 4, 3, 7, 8, 5), (1, 3, 5, 4, 2, 8, 6, 7, 0), (4, 1, 2, 5, 0, 3, 6, 7, 8), (1, 0, 3, 6, 2, 4, 7, 8, 5), (1, 2, 3, 6, 8, 4, 7, 0, 5), (0, 1, 3, 7, 2, 5, 4, 6, 8), (4, 1, 2, 6, 5, 3, 7, 0, 8)]\n",
            "Current state: (1, 5, 2, 4, 7, 3, 0, 6, 8)\n",
            "Frontier: [(1, 2, 0, 4, 8, 3, 6, 5, 7), (1, 2, 3, 7, 5, 8, 4, 6, 0), (1, 2, 3, 0, 6, 4, 7, 8, 5), (1, 0, 3, 6, 2, 5, 7, 4, 8), (1, 2, 3, 4, 0, 7, 6, 8, 5), (2, 0, 3, 1, 4, 5, 6, 7, 8), (1, 5, 2, 4, 3, 8, 6, 7, 0), (1, 2, 3, 7, 6, 5, 0, 4, 8), (1, 2, 3, 7, 6, 0, 4, 8, 5), (4, 1, 3, 0, 2, 5, 6, 7, 8), (1, 0, 3, 4, 2, 8, 6, 5, 7), (0, 2, 3, 1, 5, 8, 4, 6, 7), (1, 3, 5, 4, 0, 2, 6, 7, 8), (1, 5, 0, 4, 3, 2, 6, 7, 8), (1, 2, 3, 4, 8, 7, 6, 0, 5), (1, 5, 2, 0, 4, 3, 6, 7, 8), (0, 2, 3, 1, 6, 5, 7, 4, 8), (1, 2, 0, 7, 5, 3, 4, 6, 8), (1, 2, 3, 6, 5, 8, 7, 4, 0), (0, 2, 3, 1, 7, 5, 4, 6, 8), (1, 2, 0, 4, 7, 3, 6, 8, 5), (1, 2, 0, 6, 5, 3, 7, 4, 8), (1, 2, 3, 5, 0, 8, 4, 6, 7), (1, 2, 3, 0, 4, 8, 6, 5, 7), (4, 1, 2, 6, 5, 3, 7, 0, 8), (1, 5, 2, 4, 7, 0, 6, 8, 3), (1, 3, 0, 7, 2, 5, 4, 6, 8), (1, 0, 2, 6, 4, 3, 7, 8, 5), (1, 3, 5, 4, 2, 8, 6, 7, 0), (4, 1, 2, 5, 0, 3, 6, 7, 8), (1, 0, 3, 6, 2, 4, 7, 8, 5), (1, 2, 3, 6, 8, 4, 7, 0, 5), (0, 1, 3, 7, 2, 5, 4, 6, 8), (1, 5, 2, 0, 7, 3, 4, 6, 8)]\n",
            "Current state: (1, 2, 0, 4, 8, 3, 6, 5, 7)\n",
            "Frontier: [(1, 2, 3, 0, 6, 4, 7, 8, 5), (1, 2, 3, 7, 5, 8, 4, 6, 0), (2, 0, 3, 1, 4, 5, 6, 7, 8), (1, 0, 3, 6, 2, 5, 7, 4, 8), (1, 2, 3, 4, 0, 7, 6, 8, 5), (0, 2, 3, 1, 5, 8, 4, 6, 7), (1, 5, 2, 4, 3, 8, 6, 7, 0), (1, 2, 3, 7, 6, 5, 0, 4, 8), (1, 2, 3, 7, 6, 0, 4, 8, 5), (4, 1, 3, 0, 2, 5, 6, 7, 8), (1, 0, 3, 4, 2, 8, 6, 5, 7), (4, 1, 2, 6, 5, 3, 7, 0, 8), (1, 3, 5, 4, 0, 2, 6, 7, 8), (1, 5, 0, 4, 3, 2, 6, 7, 8), (1, 2, 3, 4, 8, 7, 6, 0, 5), (1, 5, 2, 0, 4, 3, 6, 7, 8), (0, 2, 3, 1, 6, 5, 7, 4, 8), (1, 2, 0, 7, 5, 3, 4, 6, 8), (1, 2, 3, 6, 5, 8, 7, 4, 0), (0, 2, 3, 1, 7, 5, 4, 6, 8), (1, 2, 0, 4, 7, 3, 6, 8, 5), (1, 2, 0, 6, 5, 3, 7, 4, 8), (1, 2, 3, 5, 0, 8, 4, 6, 7), (1, 2, 3, 0, 4, 8, 6, 5, 7), (1, 5, 2, 0, 7, 3, 4, 6, 8), (1, 5, 2, 4, 7, 0, 6, 8, 3), (1, 3, 0, 7, 2, 5, 4, 6, 8), (1, 0, 2, 6, 4, 3, 7, 8, 5), (1, 3, 5, 4, 2, 8, 6, 7, 0), (4, 1, 2, 5, 0, 3, 6, 7, 8), (1, 0, 3, 6, 2, 4, 7, 8, 5), (1, 2, 3, 6, 8, 4, 7, 0, 5), (0, 1, 3, 7, 2, 5, 4, 6, 8), (1, 0, 2, 4, 8, 3, 6, 5, 7)]\n",
            "Current state: (1, 2, 3, 0, 6, 4, 7, 8, 5)\n",
            "Frontier: [(2, 0, 3, 1, 4, 5, 6, 7, 8), (1, 2, 3, 7, 5, 8, 4, 6, 0), (0, 2, 3, 1, 5, 8, 4, 6, 7), (1, 0, 3, 6, 2, 5, 7, 4, 8), (1, 2, 3, 4, 0, 7, 6, 8, 5), (4, 1, 2, 6, 5, 3, 7, 0, 8), (1, 5, 2, 4, 3, 8, 6, 7, 0), (1, 2, 3, 7, 6, 5, 0, 4, 8), (1, 2, 3, 7, 6, 0, 4, 8, 5), (4, 1, 3, 0, 2, 5, 6, 7, 8), (1, 0, 3, 4, 2, 8, 6, 5, 7), (1, 2, 3, 0, 4, 8, 6, 5, 7), (1, 3, 5, 4, 0, 2, 6, 7, 8), (1, 5, 0, 4, 3, 2, 6, 7, 8), (1, 2, 3, 4, 8, 7, 6, 0, 5), (1, 5, 2, 0, 4, 3, 6, 7, 8), (0, 2, 3, 1, 6, 5, 7, 4, 8), (1, 2, 0, 7, 5, 3, 4, 6, 8), (1, 2, 3, 6, 5, 8, 7, 4, 0), (0, 2, 3, 1, 7, 5, 4, 6, 8), (1, 2, 0, 4, 7, 3, 6, 8, 5), (1, 2, 0, 6, 5, 3, 7, 4, 8), (1, 2, 3, 5, 0, 8, 4, 6, 7), (1, 0, 2, 4, 8, 3, 6, 5, 7), (1, 5, 2, 0, 7, 3, 4, 6, 8), (1, 5, 2, 4, 7, 0, 6, 8, 3), (1, 3, 0, 7, 2, 5, 4, 6, 8), (1, 0, 2, 6, 4, 3, 7, 8, 5), (1, 3, 5, 4, 2, 8, 6, 7, 0), (4, 1, 2, 5, 0, 3, 6, 7, 8), (1, 0, 3, 6, 2, 4, 7, 8, 5), (1, 2, 3, 6, 8, 4, 7, 0, 5), (0, 1, 3, 7, 2, 5, 4, 6, 8), (0, 2, 3, 1, 6, 4, 7, 8, 5), (1, 2, 3, 7, 6, 4, 0, 8, 5)]\n",
            "Current state: (2, 0, 3, 1, 4, 5, 6, 7, 8)\n",
            "Frontier: [(0, 2, 3, 1, 5, 8, 4, 6, 7), (1, 2, 3, 7, 5, 8, 4, 6, 0), (4, 1, 2, 6, 5, 3, 7, 0, 8), (1, 0, 3, 6, 2, 5, 7, 4, 8), (1, 2, 3, 4, 0, 7, 6, 8, 5), (1, 2, 3, 0, 4, 8, 6, 5, 7), (1, 5, 2, 4, 3, 8, 6, 7, 0), (1, 2, 3, 7, 6, 5, 0, 4, 8), (1, 2, 3, 7, 6, 0, 4, 8, 5), (4, 1, 3, 0, 2, 5, 6, 7, 8), (1, 0, 3, 4, 2, 8, 6, 5, 7), (1, 5, 2, 0, 7, 3, 4, 6, 8), (1, 3, 5, 4, 0, 2, 6, 7, 8), (1, 5, 0, 4, 3, 2, 6, 7, 8), (1, 2, 3, 4, 8, 7, 6, 0, 5), (1, 5, 2, 0, 4, 3, 6, 7, 8), (0, 2, 3, 1, 6, 5, 7, 4, 8), (1, 2, 0, 7, 5, 3, 4, 6, 8), (1, 2, 3, 6, 5, 8, 7, 4, 0), (0, 2, 3, 1, 7, 5, 4, 6, 8), (1, 2, 0, 4, 7, 3, 6, 8, 5), (1, 2, 0, 6, 5, 3, 7, 4, 8), (1, 2, 3, 5, 0, 8, 4, 6, 7), (1, 0, 2, 4, 8, 3, 6, 5, 7), (1, 2, 3, 7, 6, 4, 0, 8, 5), (1, 5, 2, 4, 7, 0, 6, 8, 3), (1, 3, 0, 7, 2, 5, 4, 6, 8), (1, 0, 2, 6, 4, 3, 7, 8, 5), (1, 3, 5, 4, 2, 8, 6, 7, 0), (4, 1, 2, 5, 0, 3, 6, 7, 8), (1, 0, 3, 6, 2, 4, 7, 8, 5), (1, 2, 3, 6, 8, 4, 7, 0, 5), (0, 1, 3, 7, 2, 5, 4, 6, 8), (0, 2, 3, 1, 6, 4, 7, 8, 5), (2, 4, 3, 1, 0, 5, 6, 7, 8), (2, 3, 0, 1, 4, 5, 6, 7, 8)]\n",
            "Current state: (0, 2, 3, 1, 5, 8, 4, 6, 7)\n",
            "Frontier: [(4, 1, 2, 6, 5, 3, 7, 0, 8), (1, 2, 3, 7, 5, 8, 4, 6, 0), (1, 2, 3, 0, 4, 8, 6, 5, 7), (1, 0, 3, 6, 2, 5, 7, 4, 8), (1, 2, 3, 4, 0, 7, 6, 8, 5), (1, 3, 5, 4, 0, 2, 6, 7, 8), (1, 5, 2, 4, 3, 8, 6, 7, 0), (1, 2, 3, 7, 6, 5, 0, 4, 8), (1, 2, 3, 7, 6, 0, 4, 8, 5), (4, 1, 3, 0, 2, 5, 6, 7, 8), (1, 0, 3, 4, 2, 8, 6, 5, 7), (1, 5, 2, 0, 7, 3, 4, 6, 8), (1, 3, 0, 7, 2, 5, 4, 6, 8), (1, 5, 0, 4, 3, 2, 6, 7, 8), (1, 2, 3, 4, 8, 7, 6, 0, 5), (1, 5, 2, 0, 4, 3, 6, 7, 8), (0, 2, 3, 1, 6, 5, 7, 4, 8), (1, 2, 0, 7, 5, 3, 4, 6, 8), (1, 2, 3, 6, 5, 8, 7, 4, 0), (0, 2, 3, 1, 7, 5, 4, 6, 8), (1, 2, 0, 4, 7, 3, 6, 8, 5), (1, 2, 0, 6, 5, 3, 7, 4, 8), (1, 2, 3, 5, 0, 8, 4, 6, 7), (1, 0, 2, 4, 8, 3, 6, 5, 7), (1, 2, 3, 7, 6, 4, 0, 8, 5), (1, 5, 2, 4, 7, 0, 6, 8, 3), (2, 3, 0, 1, 4, 5, 6, 7, 8), (1, 0, 2, 6, 4, 3, 7, 8, 5), (1, 3, 5, 4, 2, 8, 6, 7, 0), (4, 1, 2, 5, 0, 3, 6, 7, 8), (1, 0, 3, 6, 2, 4, 7, 8, 5), (1, 2, 3, 6, 8, 4, 7, 0, 5), (0, 1, 3, 7, 2, 5, 4, 6, 8), (0, 2, 3, 1, 6, 4, 7, 8, 5), (2, 4, 3, 1, 0, 5, 6, 7, 8), (2, 0, 3, 1, 5, 8, 4, 6, 7)]\n",
            "Current state: (4, 1, 2, 6, 5, 3, 7, 0, 8)\n",
            "Frontier: [(1, 2, 3, 0, 4, 8, 6, 5, 7), (1, 2, 3, 7, 5, 8, 4, 6, 0), (1, 5, 2, 4, 3, 8, 6, 7, 0), (1, 0, 3, 6, 2, 5, 7, 4, 8), (1, 2, 3, 4, 0, 7, 6, 8, 5), (1, 3, 5, 4, 0, 2, 6, 7, 8), (1, 2, 3, 4, 8, 7, 6, 0, 5), (1, 2, 3, 7, 6, 5, 0, 4, 8), (1, 2, 3, 7, 6, 0, 4, 8, 5), (4, 1, 3, 0, 2, 5, 6, 7, 8), (1, 0, 3, 4, 2, 8, 6, 5, 7), (1, 5, 2, 0, 7, 3, 4, 6, 8), (1, 3, 0, 7, 2, 5, 4, 6, 8), (1, 5, 0, 4, 3, 2, 6, 7, 8), (1, 0, 3, 6, 2, 4, 7, 8, 5), (1, 5, 2, 0, 4, 3, 6, 7, 8), (0, 2, 3, 1, 6, 5, 7, 4, 8), (1, 2, 0, 7, 5, 3, 4, 6, 8), (1, 2, 3, 6, 5, 8, 7, 4, 0), (0, 2, 3, 1, 7, 5, 4, 6, 8), (1, 2, 0, 4, 7, 3, 6, 8, 5), (1, 2, 0, 6, 5, 3, 7, 4, 8), (1, 2, 3, 5, 0, 8, 4, 6, 7), (1, 0, 2, 4, 8, 3, 6, 5, 7), (1, 2, 3, 7, 6, 4, 0, 8, 5), (1, 5, 2, 4, 7, 0, 6, 8, 3), (2, 3, 0, 1, 4, 5, 6, 7, 8), (1, 0, 2, 6, 4, 3, 7, 8, 5), (1, 3, 5, 4, 2, 8, 6, 7, 0), (4, 1, 2, 5, 0, 3, 6, 7, 8), (2, 0, 3, 1, 5, 8, 4, 6, 7), (1, 2, 3, 6, 8, 4, 7, 0, 5), (0, 1, 3, 7, 2, 5, 4, 6, 8), (0, 2, 3, 1, 6, 4, 7, 8, 5), (2, 4, 3, 1, 0, 5, 6, 7, 8), (4, 1, 2, 6, 0, 3, 7, 5, 8), (4, 1, 2, 6, 5, 3, 7, 8, 0)]\n",
            "Current state: (1, 2, 3, 0, 4, 8, 6, 5, 7)\n",
            "Frontier: [(1, 2, 3, 7, 5, 8, 4, 6, 0), (1, 2, 3, 4, 0, 7, 6, 8, 5), (1, 5, 2, 4, 3, 8, 6, 7, 0), (1, 0, 3, 6, 2, 5, 7, 4, 8), (1, 0, 3, 4, 2, 8, 6, 5, 7), (1, 3, 5, 4, 0, 2, 6, 7, 8), (1, 2, 3, 4, 8, 7, 6, 0, 5), (1, 2, 3, 7, 6, 5, 0, 4, 8), (1, 2, 3, 7, 6, 0, 4, 8, 5), (4, 1, 3, 0, 2, 5, 6, 7, 8), (1, 2, 3, 5, 0, 8, 4, 6, 7), (1, 5, 2, 0, 7, 3, 4, 6, 8), (1, 3, 0, 7, 2, 5, 4, 6, 8), (1, 5, 0, 4, 3, 2, 6, 7, 8), (1, 0, 3, 6, 2, 4, 7, 8, 5), (1, 5, 2, 0, 4, 3, 6, 7, 8), (0, 2, 3, 1, 6, 5, 7, 4, 8), (1, 2, 0, 7, 5, 3, 4, 6, 8), (1, 2, 3, 6, 5, 8, 7, 4, 0), (0, 2, 3, 1, 7, 5, 4, 6, 8), (1, 2, 0, 4, 7, 3, 6, 8, 5), (1, 2, 0, 6, 5, 3, 7, 4, 8), (4, 1, 2, 6, 5, 3, 7, 8, 0), (1, 0, 2, 4, 8, 3, 6, 5, 7), (1, 2, 3, 7, 6, 4, 0, 8, 5), (1, 5, 2, 4, 7, 0, 6, 8, 3), (2, 3, 0, 1, 4, 5, 6, 7, 8), (1, 0, 2, 6, 4, 3, 7, 8, 5), (1, 3, 5, 4, 2, 8, 6, 7, 0), (4, 1, 2, 5, 0, 3, 6, 7, 8), (2, 0, 3, 1, 5, 8, 4, 6, 7), (1, 2, 3, 6, 8, 4, 7, 0, 5), (0, 1, 3, 7, 2, 5, 4, 6, 8), (0, 2, 3, 1, 6, 4, 7, 8, 5), (2, 4, 3, 1, 0, 5, 6, 7, 8), (4, 1, 2, 6, 0, 3, 7, 5, 8), (0, 2, 3, 1, 4, 8, 6, 5, 7), (1, 2, 3, 6, 4, 8, 0, 5, 7)]\n",
            "Current state: (1, 2, 3, 7, 5, 8, 4, 6, 0)\n",
            "Frontier: [(1, 2, 3, 4, 0, 7, 6, 8, 5), (1, 0, 3, 4, 2, 8, 6, 5, 7), (1, 5, 2, 4, 3, 8, 6, 7, 0), (1, 0, 3, 6, 2, 5, 7, 4, 8), (1, 2, 3, 5, 0, 8, 4, 6, 7), (1, 3, 5, 4, 0, 2, 6, 7, 8), (1, 2, 3, 4, 8, 7, 6, 0, 5), (1, 2, 3, 7, 6, 5, 0, 4, 8), (1, 2, 3, 7, 6, 0, 4, 8, 5), (4, 1, 3, 0, 2, 5, 6, 7, 8), (4, 1, 2, 6, 5, 3, 7, 8, 0), (1, 5, 2, 0, 7, 3, 4, 6, 8), (1, 3, 0, 7, 2, 5, 4, 6, 8), (1, 5, 0, 4, 3, 2, 6, 7, 8), (1, 0, 3, 6, 2, 4, 7, 8, 5), (1, 5, 2, 0, 4, 3, 6, 7, 8), (0, 2, 3, 1, 6, 5, 7, 4, 8), (1, 2, 0, 7, 5, 3, 4, 6, 8), (1, 2, 3, 6, 5, 8, 7, 4, 0), (0, 2, 3, 1, 7, 5, 4, 6, 8), (1, 2, 0, 4, 7, 3, 6, 8, 5), (1, 2, 0, 6, 5, 3, 7, 4, 8), (1, 2, 3, 6, 4, 8, 0, 5, 7), (1, 0, 2, 4, 8, 3, 6, 5, 7), (1, 2, 3, 7, 6, 4, 0, 8, 5), (1, 5, 2, 4, 7, 0, 6, 8, 3), (2, 3, 0, 1, 4, 5, 6, 7, 8), (1, 0, 2, 6, 4, 3, 7, 8, 5), (1, 3, 5, 4, 2, 8, 6, 7, 0), (4, 1, 2, 5, 0, 3, 6, 7, 8), (2, 0, 3, 1, 5, 8, 4, 6, 7), (1, 2, 3, 6, 8, 4, 7, 0, 5), (0, 1, 3, 7, 2, 5, 4, 6, 8), (0, 2, 3, 1, 6, 4, 7, 8, 5), (2, 4, 3, 1, 0, 5, 6, 7, 8), (4, 1, 2, 6, 0, 3, 7, 5, 8), (0, 2, 3, 1, 4, 8, 6, 5, 7), (1, 2, 3, 7, 5, 8, 4, 0, 6)]\n",
            "Current state: (1, 2, 3, 4, 0, 7, 6, 8, 5)\n",
            "Frontier: [(1, 0, 3, 4, 2, 8, 6, 5, 7), (1, 2, 3, 5, 0, 8, 4, 6, 7), (1, 5, 2, 4, 3, 8, 6, 7, 0), (1, 0, 3, 6, 2, 5, 7, 4, 8), (4, 1, 2, 6, 5, 3, 7, 8, 0), (1, 3, 5, 4, 0, 2, 6, 7, 8), (1, 2, 3, 4, 8, 7, 6, 0, 5), (1, 2, 3, 7, 6, 5, 0, 4, 8), (1, 2, 3, 7, 6, 0, 4, 8, 5), (4, 1, 3, 0, 2, 5, 6, 7, 8), (1, 2, 3, 6, 4, 8, 0, 5, 7), (1, 5, 2, 0, 7, 3, 4, 6, 8), (1, 3, 0, 7, 2, 5, 4, 6, 8), (1, 5, 0, 4, 3, 2, 6, 7, 8), (1, 0, 3, 6, 2, 4, 7, 8, 5), (1, 5, 2, 0, 4, 3, 6, 7, 8), (0, 2, 3, 1, 6, 5, 7, 4, 8), (1, 2, 0, 7, 5, 3, 4, 6, 8), (1, 2, 3, 6, 5, 8, 7, 4, 0), (0, 2, 3, 1, 7, 5, 4, 6, 8), (1, 2, 0, 4, 7, 3, 6, 8, 5), (1, 2, 0, 6, 5, 3, 7, 4, 8), (1, 2, 3, 7, 5, 8, 4, 0, 6), (1, 0, 2, 4, 8, 3, 6, 5, 7), (1, 2, 3, 7, 6, 4, 0, 8, 5), (1, 5, 2, 4, 7, 0, 6, 8, 3), (2, 3, 0, 1, 4, 5, 6, 7, 8), (1, 0, 2, 6, 4, 3, 7, 8, 5), (1, 3, 5, 4, 2, 8, 6, 7, 0), (4, 1, 2, 5, 0, 3, 6, 7, 8), (2, 0, 3, 1, 5, 8, 4, 6, 7), (1, 2, 3, 6, 8, 4, 7, 0, 5), (0, 1, 3, 7, 2, 5, 4, 6, 8), (0, 2, 3, 1, 6, 4, 7, 8, 5), (2, 4, 3, 1, 0, 5, 6, 7, 8), (4, 1, 2, 6, 0, 3, 7, 5, 8), (0, 2, 3, 1, 4, 8, 6, 5, 7), (1, 0, 3, 4, 2, 7, 6, 8, 5), (1, 2, 3, 0, 4, 7, 6, 8, 5)]\n",
            "Current state: (1, 0, 3, 4, 2, 8, 6, 5, 7)\n",
            "Frontier: [(1, 2, 3, 5, 0, 8, 4, 6, 7), (4, 1, 2, 6, 5, 3, 7, 8, 0), (1, 5, 2, 4, 3, 8, 6, 7, 0), (1, 0, 3, 6, 2, 5, 7, 4, 8), (1, 2, 3, 6, 4, 8, 0, 5, 7), (1, 3, 5, 4, 0, 2, 6, 7, 8), (1, 2, 3, 4, 8, 7, 6, 0, 5), (1, 2, 3, 7, 6, 5, 0, 4, 8), (1, 2, 3, 7, 6, 0, 4, 8, 5), (4, 1, 3, 0, 2, 5, 6, 7, 8), (1, 2, 3, 7, 5, 8, 4, 0, 6), (1, 5, 2, 0, 7, 3, 4, 6, 8), (1, 3, 0, 7, 2, 5, 4, 6, 8), (1, 5, 0, 4, 3, 2, 6, 7, 8), (1, 0, 3, 6, 2, 4, 7, 8, 5), (1, 5, 2, 0, 4, 3, 6, 7, 8), (0, 2, 3, 1, 6, 5, 7, 4, 8), (1, 2, 0, 7, 5, 3, 4, 6, 8), (1, 2, 3, 6, 5, 8, 7, 4, 0), (0, 2, 3, 1, 7, 5, 4, 6, 8), (1, 2, 0, 4, 7, 3, 6, 8, 5), (1, 2, 0, 6, 5, 3, 7, 4, 8), (1, 2, 3, 0, 4, 7, 6, 8, 5), (1, 0, 2, 4, 8, 3, 6, 5, 7), (1, 2, 3, 7, 6, 4, 0, 8, 5), (1, 5, 2, 4, 7, 0, 6, 8, 3), (2, 3, 0, 1, 4, 5, 6, 7, 8), (1, 0, 2, 6, 4, 3, 7, 8, 5), (1, 3, 5, 4, 2, 8, 6, 7, 0), (4, 1, 2, 5, 0, 3, 6, 7, 8), (2, 0, 3, 1, 5, 8, 4, 6, 7), (1, 2, 3, 6, 8, 4, 7, 0, 5), (0, 1, 3, 7, 2, 5, 4, 6, 8), (0, 2, 3, 1, 6, 4, 7, 8, 5), (2, 4, 3, 1, 0, 5, 6, 7, 8), (4, 1, 2, 6, 0, 3, 7, 5, 8), (0, 2, 3, 1, 4, 8, 6, 5, 7), (1, 0, 3, 4, 2, 7, 6, 8, 5), (0, 1, 3, 4, 2, 8, 6, 5, 7), (1, 3, 0, 4, 2, 8, 6, 5, 7)]\n",
            "Current state: (1, 2, 3, 5, 0, 8, 4, 6, 7)\n",
            "Frontier: [(4, 1, 2, 6, 5, 3, 7, 8, 0), (1, 2, 3, 6, 4, 8, 0, 5, 7), (1, 5, 2, 4, 3, 8, 6, 7, 0), (1, 0, 3, 6, 2, 5, 7, 4, 8), (1, 2, 3, 7, 5, 8, 4, 0, 6), (1, 3, 5, 4, 0, 2, 6, 7, 8), (1, 2, 3, 4, 8, 7, 6, 0, 5), (1, 2, 3, 7, 6, 5, 0, 4, 8), (1, 2, 3, 7, 6, 0, 4, 8, 5), (4, 1, 3, 0, 2, 5, 6, 7, 8), (1, 2, 0, 6, 5, 3, 7, 4, 8), (1, 5, 2, 0, 7, 3, 4, 6, 8), (1, 3, 0, 7, 2, 5, 4, 6, 8), (1, 5, 0, 4, 3, 2, 6, 7, 8), (1, 0, 3, 6, 2, 4, 7, 8, 5), (1, 5, 2, 0, 4, 3, 6, 7, 8), (0, 2, 3, 1, 6, 5, 7, 4, 8), (1, 2, 0, 7, 5, 3, 4, 6, 8), (1, 2, 3, 6, 5, 8, 7, 4, 0), (0, 2, 3, 1, 7, 5, 4, 6, 8), (1, 2, 0, 4, 7, 3, 6, 8, 5), (1, 3, 0, 4, 2, 8, 6, 5, 7), (1, 2, 3, 0, 4, 7, 6, 8, 5), (1, 0, 2, 4, 8, 3, 6, 5, 7), (1, 2, 3, 7, 6, 4, 0, 8, 5), (1, 5, 2, 4, 7, 0, 6, 8, 3), (2, 3, 0, 1, 4, 5, 6, 7, 8), (1, 0, 2, 6, 4, 3, 7, 8, 5), (1, 3, 5, 4, 2, 8, 6, 7, 0), (4, 1, 2, 5, 0, 3, 6, 7, 8), (2, 0, 3, 1, 5, 8, 4, 6, 7), (1, 2, 3, 6, 8, 4, 7, 0, 5), (0, 1, 3, 7, 2, 5, 4, 6, 8), (0, 2, 3, 1, 6, 4, 7, 8, 5), (2, 4, 3, 1, 0, 5, 6, 7, 8), (4, 1, 2, 6, 0, 3, 7, 5, 8), (0, 2, 3, 1, 4, 8, 6, 5, 7), (1, 0, 3, 4, 2, 7, 6, 8, 5), (0, 1, 3, 4, 2, 8, 6, 5, 7), (1, 0, 3, 5, 2, 8, 4, 6, 7), (1, 2, 3, 5, 6, 8, 4, 0, 7), (1, 2, 3, 5, 8, 0, 4, 6, 7)]\n",
            "Current state: (4, 1, 2, 6, 5, 3, 7, 8, 0)\n",
            "Frontier: [(1, 2, 3, 6, 4, 8, 0, 5, 7), (1, 2, 3, 7, 5, 8, 4, 0, 6), (1, 5, 2, 4, 3, 8, 6, 7, 0), (1, 0, 3, 6, 2, 5, 7, 4, 8), (1, 2, 0, 6, 5, 3, 7, 4, 8), (1, 3, 5, 4, 0, 2, 6, 7, 8), (1, 2, 3, 4, 8, 7, 6, 0, 5), (1, 2, 3, 7, 6, 5, 0, 4, 8), (1, 2, 3, 7, 6, 0, 4, 8, 5), (4, 1, 3, 0, 2, 5, 6, 7, 8), (1, 2, 3, 5, 8, 0, 4, 6, 7), (1, 5, 2, 0, 7, 3, 4, 6, 8), (1, 3, 0, 7, 2, 5, 4, 6, 8), (1, 5, 0, 4, 3, 2, 6, 7, 8), (1, 0, 3, 6, 2, 4, 7, 8, 5), (1, 5, 2, 0, 4, 3, 6, 7, 8), (0, 2, 3, 1, 6, 5, 7, 4, 8), (1, 2, 0, 7, 5, 3, 4, 6, 8), (1, 2, 3, 6, 5, 8, 7, 4, 0), (0, 2, 3, 1, 7, 5, 4, 6, 8), (1, 2, 0, 4, 7, 3, 6, 8, 5), (1, 3, 0, 4, 2, 8, 6, 5, 7), (1, 2, 3, 0, 4, 7, 6, 8, 5), (1, 0, 2, 4, 8, 3, 6, 5, 7), (1, 2, 3, 7, 6, 4, 0, 8, 5), (1, 5, 2, 4, 7, 0, 6, 8, 3), (2, 3, 0, 1, 4, 5, 6, 7, 8), (1, 0, 2, 6, 4, 3, 7, 8, 5), (1, 3, 5, 4, 2, 8, 6, 7, 0), (4, 1, 2, 5, 0, 3, 6, 7, 8), (2, 0, 3, 1, 5, 8, 4, 6, 7), (1, 2, 3, 6, 8, 4, 7, 0, 5), (0, 1, 3, 7, 2, 5, 4, 6, 8), (0, 2, 3, 1, 6, 4, 7, 8, 5), (2, 4, 3, 1, 0, 5, 6, 7, 8), (4, 1, 2, 6, 0, 3, 7, 5, 8), (0, 2, 3, 1, 4, 8, 6, 5, 7), (1, 0, 3, 4, 2, 7, 6, 8, 5), (0, 1, 3, 4, 2, 8, 6, 5, 7), (1, 0, 3, 5, 2, 8, 4, 6, 7), (1, 2, 3, 5, 6, 8, 4, 0, 7), (4, 1, 2, 6, 5, 0, 7, 8, 3)]\n",
            "Current state: (1, 2, 3, 6, 4, 8, 0, 5, 7)\n",
            "Frontier: [(1, 2, 3, 7, 5, 8, 4, 0, 6), (1, 2, 0, 6, 5, 3, 7, 4, 8), (1, 5, 2, 4, 3, 8, 6, 7, 0), (1, 0, 3, 6, 2, 5, 7, 4, 8), (1, 2, 3, 5, 8, 0, 4, 6, 7), (1, 3, 5, 4, 0, 2, 6, 7, 8), (1, 2, 3, 4, 8, 7, 6, 0, 5), (1, 2, 3, 7, 6, 5, 0, 4, 8), (1, 2, 3, 7, 6, 0, 4, 8, 5), (4, 1, 3, 0, 2, 5, 6, 7, 8), (1, 2, 3, 0, 4, 7, 6, 8, 5), (1, 5, 2, 0, 7, 3, 4, 6, 8), (1, 3, 0, 7, 2, 5, 4, 6, 8), (1, 5, 0, 4, 3, 2, 6, 7, 8), (1, 0, 3, 6, 2, 4, 7, 8, 5), (1, 5, 2, 0, 4, 3, 6, 7, 8), (0, 2, 3, 1, 6, 5, 7, 4, 8), (1, 2, 0, 7, 5, 3, 4, 6, 8), (1, 2, 3, 6, 5, 8, 7, 4, 0), (0, 2, 3, 1, 7, 5, 4, 6, 8), (1, 2, 0, 4, 7, 3, 6, 8, 5), (1, 3, 0, 4, 2, 8, 6, 5, 7), (4, 1, 2, 6, 5, 0, 7, 8, 3), (1, 0, 2, 4, 8, 3, 6, 5, 7), (1, 2, 3, 7, 6, 4, 0, 8, 5), (1, 5, 2, 4, 7, 0, 6, 8, 3), (2, 3, 0, 1, 4, 5, 6, 7, 8), (1, 0, 2, 6, 4, 3, 7, 8, 5), (1, 3, 5, 4, 2, 8, 6, 7, 0), (4, 1, 2, 5, 0, 3, 6, 7, 8), (2, 0, 3, 1, 5, 8, 4, 6, 7), (1, 2, 3, 6, 8, 4, 7, 0, 5), (0, 1, 3, 7, 2, 5, 4, 6, 8), (0, 2, 3, 1, 6, 4, 7, 8, 5), (2, 4, 3, 1, 0, 5, 6, 7, 8), (4, 1, 2, 6, 0, 3, 7, 5, 8), (0, 2, 3, 1, 4, 8, 6, 5, 7), (1, 0, 3, 4, 2, 7, 6, 8, 5), (0, 1, 3, 4, 2, 8, 6, 5, 7), (1, 0, 3, 5, 2, 8, 4, 6, 7), (1, 2, 3, 5, 6, 8, 4, 0, 7), (1, 2, 3, 6, 4, 8, 5, 0, 7)]\n",
            "Current state: (1, 2, 3, 7, 5, 8, 4, 0, 6)\n",
            "Frontier: [(1, 2, 0, 6, 5, 3, 7, 4, 8), (1, 2, 3, 5, 8, 0, 4, 6, 7), (1, 5, 2, 4, 3, 8, 6, 7, 0), (1, 0, 3, 6, 2, 5, 7, 4, 8), (4, 1, 3, 0, 2, 5, 6, 7, 8), (1, 3, 5, 4, 0, 2, 6, 7, 8), (1, 2, 3, 4, 8, 7, 6, 0, 5), (1, 2, 3, 7, 6, 5, 0, 4, 8), (1, 2, 3, 7, 6, 0, 4, 8, 5), (1, 2, 0, 4, 7, 3, 6, 8, 5), (1, 2, 3, 0, 4, 7, 6, 8, 5), (1, 5, 2, 0, 7, 3, 4, 6, 8), (1, 3, 0, 7, 2, 5, 4, 6, 8), (1, 5, 0, 4, 3, 2, 6, 7, 8), (1, 0, 3, 6, 2, 4, 7, 8, 5), (1, 5, 2, 0, 4, 3, 6, 7, 8), (0, 2, 3, 1, 6, 5, 7, 4, 8), (1, 2, 0, 7, 5, 3, 4, 6, 8), (1, 2, 3, 6, 5, 8, 7, 4, 0), (0, 2, 3, 1, 7, 5, 4, 6, 8), (1, 2, 3, 6, 4, 8, 5, 0, 7), (1, 3, 0, 4, 2, 8, 6, 5, 7), (4, 1, 2, 6, 5, 0, 7, 8, 3), (1, 0, 2, 4, 8, 3, 6, 5, 7), (1, 2, 3, 7, 6, 4, 0, 8, 5), (1, 5, 2, 4, 7, 0, 6, 8, 3), (2, 3, 0, 1, 4, 5, 6, 7, 8), (1, 0, 2, 6, 4, 3, 7, 8, 5), (1, 3, 5, 4, 2, 8, 6, 7, 0), (4, 1, 2, 5, 0, 3, 6, 7, 8), (2, 0, 3, 1, 5, 8, 4, 6, 7), (1, 2, 3, 6, 8, 4, 7, 0, 5), (0, 1, 3, 7, 2, 5, 4, 6, 8), (0, 2, 3, 1, 6, 4, 7, 8, 5), (2, 4, 3, 1, 0, 5, 6, 7, 8), (4, 1, 2, 6, 0, 3, 7, 5, 8), (0, 2, 3, 1, 4, 8, 6, 5, 7), (1, 0, 3, 4, 2, 7, 6, 8, 5), (0, 1, 3, 4, 2, 8, 6, 5, 7), (1, 0, 3, 5, 2, 8, 4, 6, 7), (1, 2, 3, 5, 6, 8, 4, 0, 7), (1, 2, 3, 7, 0, 8, 4, 5, 6), (1, 2, 3, 7, 5, 8, 0, 4, 6)]\n",
            "Current state: (1, 2, 0, 6, 5, 3, 7, 4, 8)\n",
            "Frontier: [(1, 2, 3, 5, 8, 0, 4, 6, 7), (4, 1, 3, 0, 2, 5, 6, 7, 8), (1, 5, 2, 4, 3, 8, 6, 7, 0), (1, 0, 3, 6, 2, 5, 7, 4, 8), (1, 2, 0, 4, 7, 3, 6, 8, 5), (1, 3, 5, 4, 0, 2, 6, 7, 8), (1, 2, 3, 4, 8, 7, 6, 0, 5), (1, 2, 3, 7, 6, 5, 0, 4, 8), (1, 2, 3, 7, 6, 0, 4, 8, 5), (0, 2, 3, 1, 7, 5, 4, 6, 8), (1, 2, 3, 0, 4, 7, 6, 8, 5), (1, 5, 2, 0, 7, 3, 4, 6, 8), (1, 3, 0, 7, 2, 5, 4, 6, 8), (1, 5, 0, 4, 3, 2, 6, 7, 8), (1, 0, 3, 6, 2, 4, 7, 8, 5), (1, 5, 2, 0, 4, 3, 6, 7, 8), (0, 2, 3, 1, 6, 5, 7, 4, 8), (1, 2, 0, 7, 5, 3, 4, 6, 8), (1, 2, 3, 6, 5, 8, 7, 4, 0), (1, 2, 3, 5, 6, 8, 4, 0, 7), (1, 2, 3, 6, 4, 8, 5, 0, 7), (1, 3, 0, 4, 2, 8, 6, 5, 7), (4, 1, 2, 6, 5, 0, 7, 8, 3), (1, 0, 2, 4, 8, 3, 6, 5, 7), (1, 2, 3, 7, 6, 4, 0, 8, 5), (1, 5, 2, 4, 7, 0, 6, 8, 3), (2, 3, 0, 1, 4, 5, 6, 7, 8), (1, 0, 2, 6, 4, 3, 7, 8, 5), (1, 3, 5, 4, 2, 8, 6, 7, 0), (4, 1, 2, 5, 0, 3, 6, 7, 8), (2, 0, 3, 1, 5, 8, 4, 6, 7), (1, 2, 3, 6, 8, 4, 7, 0, 5), (0, 1, 3, 7, 2, 5, 4, 6, 8), (0, 2, 3, 1, 6, 4, 7, 8, 5), (2, 4, 3, 1, 0, 5, 6, 7, 8), (4, 1, 2, 6, 0, 3, 7, 5, 8), (0, 2, 3, 1, 4, 8, 6, 5, 7), (1, 0, 3, 4, 2, 7, 6, 8, 5), (0, 1, 3, 4, 2, 8, 6, 5, 7), (1, 0, 3, 5, 2, 8, 4, 6, 7), (1, 2, 3, 7, 5, 8, 0, 4, 6), (1, 2, 3, 7, 0, 8, 4, 5, 6), (1, 0, 2, 6, 5, 3, 7, 4, 8)]\n",
            "Current state: (1, 2, 3, 5, 8, 0, 4, 6, 7)\n",
            "Frontier: [(4, 1, 3, 0, 2, 5, 6, 7, 8), (1, 2, 0, 4, 7, 3, 6, 8, 5), (1, 5, 2, 4, 3, 8, 6, 7, 0), (1, 0, 3, 6, 2, 5, 7, 4, 8), (0, 2, 3, 1, 7, 5, 4, 6, 8), (1, 3, 5, 4, 0, 2, 6, 7, 8), (1, 2, 3, 4, 8, 7, 6, 0, 5), (1, 2, 3, 7, 6, 5, 0, 4, 8), (1, 2, 3, 7, 6, 0, 4, 8, 5), (1, 2, 3, 5, 6, 8, 4, 0, 7), (1, 2, 3, 0, 4, 7, 6, 8, 5), (1, 5, 2, 0, 7, 3, 4, 6, 8), (1, 3, 0, 7, 2, 5, 4, 6, 8), (1, 5, 0, 4, 3, 2, 6, 7, 8), (1, 0, 3, 6, 2, 4, 7, 8, 5), (1, 5, 2, 0, 4, 3, 6, 7, 8), (0, 2, 3, 1, 6, 5, 7, 4, 8), (1, 2, 0, 7, 5, 3, 4, 6, 8), (1, 2, 3, 6, 5, 8, 7, 4, 0), (1, 2, 3, 7, 5, 8, 0, 4, 6), (1, 2, 3, 6, 4, 8, 5, 0, 7), (1, 3, 0, 4, 2, 8, 6, 5, 7), (4, 1, 2, 6, 5, 0, 7, 8, 3), (1, 0, 2, 4, 8, 3, 6, 5, 7), (1, 2, 3, 7, 6, 4, 0, 8, 5), (1, 5, 2, 4, 7, 0, 6, 8, 3), (2, 3, 0, 1, 4, 5, 6, 7, 8), (1, 0, 2, 6, 4, 3, 7, 8, 5), (1, 3, 5, 4, 2, 8, 6, 7, 0), (4, 1, 2, 5, 0, 3, 6, 7, 8), (2, 0, 3, 1, 5, 8, 4, 6, 7), (1, 2, 3, 6, 8, 4, 7, 0, 5), (0, 1, 3, 7, 2, 5, 4, 6, 8), (0, 2, 3, 1, 6, 4, 7, 8, 5), (2, 4, 3, 1, 0, 5, 6, 7, 8), (4, 1, 2, 6, 0, 3, 7, 5, 8), (0, 2, 3, 1, 4, 8, 6, 5, 7), (1, 0, 3, 4, 2, 7, 6, 8, 5), (0, 1, 3, 4, 2, 8, 6, 5, 7), (1, 0, 3, 5, 2, 8, 4, 6, 7), (1, 0, 2, 6, 5, 3, 7, 4, 8), (1, 2, 3, 7, 0, 8, 4, 5, 6), (1, 2, 0, 5, 8, 3, 4, 6, 7), (1, 2, 3, 5, 8, 7, 4, 6, 0)]\n",
            "Current state: (4, 1, 3, 0, 2, 5, 6, 7, 8)\n",
            "Frontier: [(1, 2, 0, 4, 7, 3, 6, 8, 5), (0, 2, 3, 1, 7, 5, 4, 6, 8), (1, 5, 2, 4, 3, 8, 6, 7, 0), (1, 0, 3, 6, 2, 5, 7, 4, 8), (1, 2, 3, 5, 6, 8, 4, 0, 7), (1, 3, 5, 4, 0, 2, 6, 7, 8), (1, 2, 3, 4, 8, 7, 6, 0, 5), (1, 2, 3, 7, 6, 5, 0, 4, 8), (1, 2, 3, 7, 6, 0, 4, 8, 5), (1, 2, 3, 6, 4, 8, 5, 0, 7), (4, 1, 3, 6, 2, 5, 0, 7, 8), (1, 5, 2, 0, 7, 3, 4, 6, 8), (1, 3, 0, 7, 2, 5, 4, 6, 8), (1, 5, 0, 4, 3, 2, 6, 7, 8), (1, 0, 3, 6, 2, 4, 7, 8, 5), (1, 5, 2, 0, 4, 3, 6, 7, 8), (0, 2, 3, 1, 6, 5, 7, 4, 8), (1, 2, 0, 7, 5, 3, 4, 6, 8), (1, 2, 3, 6, 5, 8, 7, 4, 0), (1, 2, 3, 7, 5, 8, 0, 4, 6), (1, 2, 0, 5, 8, 3, 4, 6, 7), (1, 2, 3, 0, 4, 7, 6, 8, 5), (4, 1, 2, 6, 5, 0, 7, 8, 3), (1, 0, 2, 4, 8, 3, 6, 5, 7), (1, 2, 3, 7, 6, 4, 0, 8, 5), (1, 5, 2, 4, 7, 0, 6, 8, 3), (2, 3, 0, 1, 4, 5, 6, 7, 8), (1, 0, 2, 6, 4, 3, 7, 8, 5), (1, 3, 5, 4, 2, 8, 6, 7, 0), (4, 1, 2, 5, 0, 3, 6, 7, 8), (2, 0, 3, 1, 5, 8, 4, 6, 7), (1, 2, 3, 6, 8, 4, 7, 0, 5), (0, 1, 3, 7, 2, 5, 4, 6, 8), (0, 2, 3, 1, 6, 4, 7, 8, 5), (2, 4, 3, 1, 0, 5, 6, 7, 8), (4, 1, 2, 6, 0, 3, 7, 5, 8), (0, 2, 3, 1, 4, 8, 6, 5, 7), (1, 0, 3, 4, 2, 7, 6, 8, 5), (0, 1, 3, 4, 2, 8, 6, 5, 7), (1, 0, 3, 5, 2, 8, 4, 6, 7), (1, 0, 2, 6, 5, 3, 7, 4, 8), (1, 2, 3, 7, 0, 8, 4, 5, 6), (1, 2, 3, 5, 8, 7, 4, 6, 0), (1, 3, 0, 4, 2, 8, 6, 5, 7), (4, 1, 3, 2, 0, 5, 6, 7, 8)]\n",
            "Current state: (1, 2, 0, 4, 7, 3, 6, 8, 5)\n",
            "Frontier: [(0, 2, 3, 1, 7, 5, 4, 6, 8), (1, 2, 3, 5, 6, 8, 4, 0, 7), (1, 5, 2, 4, 3, 8, 6, 7, 0), (1, 0, 3, 6, 2, 5, 7, 4, 8), (4, 1, 3, 6, 2, 5, 0, 7, 8), (1, 3, 5, 4, 0, 2, 6, 7, 8), (1, 2, 3, 4, 8, 7, 6, 0, 5), (1, 2, 3, 7, 6, 5, 0, 4, 8), (1, 2, 3, 7, 6, 0, 4, 8, 5), (1, 2, 3, 6, 4, 8, 5, 0, 7), (4, 1, 2, 6, 5, 0, 7, 8, 3), (1, 5, 2, 0, 7, 3, 4, 6, 8), (1, 3, 0, 7, 2, 5, 4, 6, 8), (1, 5, 0, 4, 3, 2, 6, 7, 8), (1, 0, 3, 6, 2, 4, 7, 8, 5), (1, 5, 2, 0, 4, 3, 6, 7, 8), (0, 2, 3, 1, 6, 5, 7, 4, 8), (1, 2, 0, 7, 5, 3, 4, 6, 8), (1, 2, 3, 6, 5, 8, 7, 4, 0), (1, 2, 3, 7, 5, 8, 0, 4, 6), (1, 2, 0, 5, 8, 3, 4, 6, 7), (1, 2, 3, 0, 4, 7, 6, 8, 5), (4, 1, 3, 2, 0, 5, 6, 7, 8), (1, 0, 2, 4, 8, 3, 6, 5, 7), (1, 2, 3, 7, 6, 4, 0, 8, 5), (1, 5, 2, 4, 7, 0, 6, 8, 3), (2, 3, 0, 1, 4, 5, 6, 7, 8), (1, 0, 2, 6, 4, 3, 7, 8, 5), (1, 3, 5, 4, 2, 8, 6, 7, 0), (4, 1, 2, 5, 0, 3, 6, 7, 8), (2, 0, 3, 1, 5, 8, 4, 6, 7), (1, 2, 3, 6, 8, 4, 7, 0, 5), (0, 1, 3, 7, 2, 5, 4, 6, 8), (0, 2, 3, 1, 6, 4, 7, 8, 5), (2, 4, 3, 1, 0, 5, 6, 7, 8), (4, 1, 2, 6, 0, 3, 7, 5, 8), (0, 2, 3, 1, 4, 8, 6, 5, 7), (1, 0, 3, 4, 2, 7, 6, 8, 5), (0, 1, 3, 4, 2, 8, 6, 5, 7), (1, 0, 3, 5, 2, 8, 4, 6, 7), (1, 0, 2, 6, 5, 3, 7, 4, 8), (1, 2, 3, 7, 0, 8, 4, 5, 6), (1, 2, 3, 5, 8, 7, 4, 6, 0), (1, 3, 0, 4, 2, 8, 6, 5, 7), (1, 0, 2, 4, 7, 3, 6, 8, 5)]\n",
            "Current state: (0, 2, 3, 1, 7, 5, 4, 6, 8)\n",
            "Frontier: [(1, 2, 3, 5, 6, 8, 4, 0, 7), (4, 1, 3, 6, 2, 5, 0, 7, 8), (1, 5, 2, 4, 3, 8, 6, 7, 0), (1, 0, 3, 6, 2, 5, 7, 4, 8), (4, 1, 2, 6, 5, 0, 7, 8, 3), (1, 3, 5, 4, 0, 2, 6, 7, 8), (1, 2, 3, 4, 8, 7, 6, 0, 5), (1, 2, 3, 7, 6, 5, 0, 4, 8), (1, 2, 3, 7, 6, 0, 4, 8, 5), (1, 2, 3, 6, 4, 8, 5, 0, 7), (4, 1, 3, 2, 0, 5, 6, 7, 8), (1, 5, 2, 0, 7, 3, 4, 6, 8), (1, 3, 0, 7, 2, 5, 4, 6, 8), (1, 5, 0, 4, 3, 2, 6, 7, 8), (1, 0, 3, 6, 2, 4, 7, 8, 5), (1, 5, 2, 0, 4, 3, 6, 7, 8), (0, 2, 3, 1, 6, 5, 7, 4, 8), (1, 2, 0, 7, 5, 3, 4, 6, 8), (1, 2, 3, 6, 5, 8, 7, 4, 0), (1, 2, 3, 7, 5, 8, 0, 4, 6), (1, 2, 0, 5, 8, 3, 4, 6, 7), (1, 2, 3, 0, 4, 7, 6, 8, 5), (1, 0, 2, 4, 7, 3, 6, 8, 5), (1, 0, 2, 4, 8, 3, 6, 5, 7), (1, 2, 3, 7, 6, 4, 0, 8, 5), (1, 5, 2, 4, 7, 0, 6, 8, 3), (2, 3, 0, 1, 4, 5, 6, 7, 8), (1, 0, 2, 6, 4, 3, 7, 8, 5), (1, 3, 5, 4, 2, 8, 6, 7, 0), (4, 1, 2, 5, 0, 3, 6, 7, 8), (2, 0, 3, 1, 5, 8, 4, 6, 7), (1, 2, 3, 6, 8, 4, 7, 0, 5), (0, 1, 3, 7, 2, 5, 4, 6, 8), (0, 2, 3, 1, 6, 4, 7, 8, 5), (2, 4, 3, 1, 0, 5, 6, 7, 8), (4, 1, 2, 6, 0, 3, 7, 5, 8), (0, 2, 3, 1, 4, 8, 6, 5, 7), (1, 0, 3, 4, 2, 7, 6, 8, 5), (0, 1, 3, 4, 2, 8, 6, 5, 7), (1, 0, 3, 5, 2, 8, 4, 6, 7), (1, 0, 2, 6, 5, 3, 7, 4, 8), (1, 2, 3, 7, 0, 8, 4, 5, 6), (1, 2, 3, 5, 8, 7, 4, 6, 0), (1, 3, 0, 4, 2, 8, 6, 5, 7), (2, 0, 3, 1, 7, 5, 4, 6, 8)]\n",
            "Current state: (1, 2, 3, 5, 6, 8, 4, 0, 7)\n",
            "Frontier: [(4, 1, 3, 6, 2, 5, 0, 7, 8), (1, 0, 3, 6, 2, 5, 7, 4, 8), (1, 5, 2, 4, 3, 8, 6, 7, 0), (1, 2, 3, 7, 6, 0, 4, 8, 5), (1, 2, 3, 5, 6, 8, 4, 7, 0), (1, 3, 5, 4, 0, 2, 6, 7, 8), (1, 2, 3, 4, 8, 7, 6, 0, 5), (1, 2, 3, 7, 6, 5, 0, 4, 8), (1, 2, 3, 6, 5, 8, 7, 4, 0), (1, 2, 3, 6, 4, 8, 5, 0, 7), (4, 1, 2, 6, 5, 0, 7, 8, 3), (1, 5, 2, 0, 7, 3, 4, 6, 8), (1, 3, 0, 7, 2, 5, 4, 6, 8), (1, 5, 0, 4, 3, 2, 6, 7, 8), (1, 0, 3, 6, 2, 4, 7, 8, 5), (1, 5, 2, 0, 4, 3, 6, 7, 8), (0, 2, 3, 1, 6, 5, 7, 4, 8), (1, 2, 0, 7, 5, 3, 4, 6, 8), (0, 1, 3, 4, 2, 8, 6, 5, 7), (1, 2, 3, 7, 5, 8, 0, 4, 6), (1, 2, 0, 5, 8, 3, 4, 6, 7), (1, 2, 3, 0, 4, 7, 6, 8, 5), (4, 1, 3, 2, 0, 5, 6, 7, 8), (1, 0, 2, 4, 8, 3, 6, 5, 7), (1, 2, 3, 7, 6, 4, 0, 8, 5), (1, 5, 2, 4, 7, 0, 6, 8, 3), (2, 3, 0, 1, 4, 5, 6, 7, 8), (1, 0, 2, 6, 4, 3, 7, 8, 5), (1, 3, 5, 4, 2, 8, 6, 7, 0), (4, 1, 2, 5, 0, 3, 6, 7, 8), (2, 0, 3, 1, 5, 8, 4, 6, 7), (1, 2, 3, 6, 8, 4, 7, 0, 5), (0, 1, 3, 7, 2, 5, 4, 6, 8), (0, 2, 3, 1, 6, 4, 7, 8, 5), (2, 4, 3, 1, 0, 5, 6, 7, 8), (4, 1, 2, 6, 0, 3, 7, 5, 8), (0, 2, 3, 1, 4, 8, 6, 5, 7), (1, 0, 3, 4, 2, 7, 6, 8, 5), (2, 0, 3, 1, 7, 5, 4, 6, 8), (1, 0, 3, 5, 2, 8, 4, 6, 7), (1, 0, 2, 6, 5, 3, 7, 4, 8), (1, 2, 3, 7, 0, 8, 4, 5, 6), (1, 2, 3, 5, 8, 7, 4, 6, 0), (1, 3, 0, 4, 2, 8, 6, 5, 7), (1, 2, 3, 5, 6, 8, 0, 4, 7), (1, 0, 2, 4, 7, 3, 6, 8, 5)]\n",
            "Current state: (4, 1, 3, 6, 2, 5, 0, 7, 8)\n",
            "Frontier: [(1, 0, 3, 6, 2, 5, 7, 4, 8), (1, 2, 3, 5, 6, 8, 4, 7, 0), (1, 5, 2, 4, 3, 8, 6, 7, 0), (1, 2, 3, 7, 6, 0, 4, 8, 5), (4, 1, 3, 6, 2, 5, 7, 0, 8), (1, 3, 5, 4, 0, 2, 6, 7, 8), (1, 2, 3, 4, 8, 7, 6, 0, 5), (1, 2, 3, 7, 6, 5, 0, 4, 8), (1, 2, 3, 6, 5, 8, 7, 4, 0), (1, 2, 3, 6, 4, 8, 5, 0, 7), (4, 1, 2, 6, 5, 0, 7, 8, 3), (1, 5, 2, 0, 7, 3, 4, 6, 8), (1, 3, 0, 7, 2, 5, 4, 6, 8), (1, 5, 0, 4, 3, 2, 6, 7, 8), (1, 0, 3, 6, 2, 4, 7, 8, 5), (1, 5, 2, 0, 4, 3, 6, 7, 8), (0, 2, 3, 1, 6, 5, 7, 4, 8), (1, 2, 0, 7, 5, 3, 4, 6, 8), (0, 1, 3, 4, 2, 8, 6, 5, 7), (1, 2, 3, 7, 5, 8, 0, 4, 6), (1, 2, 0, 5, 8, 3, 4, 6, 7), (1, 2, 3, 0, 4, 7, 6, 8, 5), (4, 1, 3, 2, 0, 5, 6, 7, 8), (1, 0, 2, 4, 8, 3, 6, 5, 7), (1, 2, 3, 7, 6, 4, 0, 8, 5), (1, 5, 2, 4, 7, 0, 6, 8, 3), (2, 3, 0, 1, 4, 5, 6, 7, 8), (1, 0, 2, 6, 4, 3, 7, 8, 5), (1, 3, 5, 4, 2, 8, 6, 7, 0), (4, 1, 2, 5, 0, 3, 6, 7, 8), (2, 0, 3, 1, 5, 8, 4, 6, 7), (1, 2, 3, 6, 8, 4, 7, 0, 5), (0, 1, 3, 7, 2, 5, 4, 6, 8), (0, 2, 3, 1, 6, 4, 7, 8, 5), (2, 4, 3, 1, 0, 5, 6, 7, 8), (4, 1, 2, 6, 0, 3, 7, 5, 8), (0, 2, 3, 1, 4, 8, 6, 5, 7), (1, 0, 3, 4, 2, 7, 6, 8, 5), (2, 0, 3, 1, 7, 5, 4, 6, 8), (1, 0, 3, 5, 2, 8, 4, 6, 7), (1, 0, 2, 6, 5, 3, 7, 4, 8), (1, 2, 3, 7, 0, 8, 4, 5, 6), (1, 2, 3, 5, 8, 7, 4, 6, 0), (1, 3, 0, 4, 2, 8, 6, 5, 7), (1, 2, 3, 5, 6, 8, 0, 4, 7), (1, 0, 2, 4, 7, 3, 6, 8, 5)]\n",
            "Current state: (1, 0, 3, 6, 2, 5, 7, 4, 8)\n",
            "Frontier: [(1, 2, 3, 5, 6, 8, 4, 7, 0), (4, 1, 3, 6, 2, 5, 7, 0, 8), (1, 5, 2, 4, 3, 8, 6, 7, 0), (1, 2, 3, 7, 6, 0, 4, 8, 5), (4, 1, 2, 6, 5, 0, 7, 8, 3), (1, 3, 5, 4, 0, 2, 6, 7, 8), (1, 2, 3, 4, 8, 7, 6, 0, 5), (1, 2, 3, 7, 6, 5, 0, 4, 8), (1, 2, 3, 6, 5, 8, 7, 4, 0), (1, 2, 3, 6, 4, 8, 5, 0, 7), (4, 1, 3, 2, 0, 5, 6, 7, 8), (1, 5, 2, 0, 7, 3, 4, 6, 8), (1, 3, 0, 7, 2, 5, 4, 6, 8), (1, 5, 0, 4, 3, 2, 6, 7, 8), (1, 0, 3, 6, 2, 4, 7, 8, 5), (1, 5, 2, 0, 4, 3, 6, 7, 8), (0, 2, 3, 1, 6, 5, 7, 4, 8), (1, 2, 0, 7, 5, 3, 4, 6, 8), (0, 1, 3, 4, 2, 8, 6, 5, 7), (1, 2, 3, 7, 5, 8, 0, 4, 6), (1, 2, 0, 5, 8, 3, 4, 6, 7), (1, 2, 3, 0, 4, 7, 6, 8, 5), (1, 0, 2, 4, 7, 3, 6, 8, 5), (1, 0, 2, 4, 8, 3, 6, 5, 7), (1, 2, 3, 7, 6, 4, 0, 8, 5), (1, 5, 2, 4, 7, 0, 6, 8, 3), (2, 3, 0, 1, 4, 5, 6, 7, 8), (1, 0, 2, 6, 4, 3, 7, 8, 5), (1, 3, 5, 4, 2, 8, 6, 7, 0), (4, 1, 2, 5, 0, 3, 6, 7, 8), (2, 0, 3, 1, 5, 8, 4, 6, 7), (1, 2, 3, 6, 8, 4, 7, 0, 5), (0, 1, 3, 7, 2, 5, 4, 6, 8), (0, 2, 3, 1, 6, 4, 7, 8, 5), (2, 4, 3, 1, 0, 5, 6, 7, 8), (4, 1, 2, 6, 0, 3, 7, 5, 8), (0, 2, 3, 1, 4, 8, 6, 5, 7), (1, 0, 3, 4, 2, 7, 6, 8, 5), (2, 0, 3, 1, 7, 5, 4, 6, 8), (1, 0, 3, 5, 2, 8, 4, 6, 7), (1, 0, 2, 6, 5, 3, 7, 4, 8), (1, 2, 3, 7, 0, 8, 4, 5, 6), (1, 2, 3, 5, 8, 7, 4, 6, 0), (1, 3, 0, 4, 2, 8, 6, 5, 7), (1, 2, 3, 5, 6, 8, 0, 4, 7), (0, 1, 3, 6, 2, 5, 7, 4, 8), (1, 3, 0, 6, 2, 5, 7, 4, 8)]\n",
            "Current state: (1, 2, 3, 5, 6, 8, 4, 7, 0)\n",
            "Frontier: [(4, 1, 3, 6, 2, 5, 7, 0, 8), (1, 2, 3, 7, 6, 0, 4, 8, 5), (1, 5, 2, 4, 3, 8, 6, 7, 0), (1, 2, 3, 6, 5, 8, 7, 4, 0), (1, 2, 3, 5, 6, 0, 4, 7, 8), (1, 3, 5, 4, 0, 2, 6, 7, 8), (1, 2, 3, 4, 8, 7, 6, 0, 5), (1, 2, 3, 7, 6, 5, 0, 4, 8), (1, 2, 0, 7, 5, 3, 4, 6, 8), (1, 2, 3, 6, 4, 8, 5, 0, 7), (4, 1, 2, 6, 5, 0, 7, 8, 3), (1, 5, 2, 0, 7, 3, 4, 6, 8), (1, 3, 0, 7, 2, 5, 4, 6, 8), (1, 5, 0, 4, 3, 2, 6, 7, 8), (1, 0, 3, 6, 2, 4, 7, 8, 5), (1, 5, 2, 0, 4, 3, 6, 7, 8), (0, 2, 3, 1, 6, 5, 7, 4, 8), (0, 2, 3, 1, 4, 8, 6, 5, 7), (0, 1, 3, 4, 2, 8, 6, 5, 7), (1, 2, 3, 7, 5, 8, 0, 4, 6), (1, 2, 0, 5, 8, 3, 4, 6, 7), (1, 2, 3, 0, 4, 7, 6, 8, 5), (4, 1, 3, 2, 0, 5, 6, 7, 8), (1, 0, 2, 4, 8, 3, 6, 5, 7), (1, 2, 3, 7, 6, 4, 0, 8, 5), (1, 5, 2, 4, 7, 0, 6, 8, 3), (2, 3, 0, 1, 4, 5, 6, 7, 8), (1, 0, 2, 6, 4, 3, 7, 8, 5), (1, 3, 5, 4, 2, 8, 6, 7, 0), (4, 1, 2, 5, 0, 3, 6, 7, 8), (2, 0, 3, 1, 5, 8, 4, 6, 7), (1, 2, 3, 6, 8, 4, 7, 0, 5), (0, 1, 3, 7, 2, 5, 4, 6, 8), (0, 2, 3, 1, 6, 4, 7, 8, 5), (2, 4, 3, 1, 0, 5, 6, 7, 8), (4, 1, 2, 6, 0, 3, 7, 5, 8), (1, 3, 0, 6, 2, 5, 7, 4, 8), (1, 0, 3, 4, 2, 7, 6, 8, 5), (2, 0, 3, 1, 7, 5, 4, 6, 8), (1, 0, 3, 5, 2, 8, 4, 6, 7), (1, 0, 2, 6, 5, 3, 7, 4, 8), (1, 2, 3, 7, 0, 8, 4, 5, 6), (1, 2, 3, 5, 8, 7, 4, 6, 0), (1, 3, 0, 4, 2, 8, 6, 5, 7), (1, 2, 3, 5, 6, 8, 0, 4, 7), (0, 1, 3, 6, 2, 5, 7, 4, 8), (1, 0, 2, 4, 7, 3, 6, 8, 5)]\n",
            "Current state: (4, 1, 3, 6, 2, 5, 7, 0, 8)\n",
            "Frontier: [(1, 2, 3, 7, 6, 0, 4, 8, 5), (1, 2, 3, 5, 6, 0, 4, 7, 8), (4, 1, 3, 6, 2, 5, 7, 8, 0), (1, 2, 3, 6, 5, 8, 7, 4, 0), (4, 1, 2, 6, 5, 0, 7, 8, 3), (1, 5, 2, 4, 3, 8, 6, 7, 0), (1, 2, 3, 4, 8, 7, 6, 0, 5), (1, 2, 3, 7, 6, 5, 0, 4, 8), (1, 2, 0, 7, 5, 3, 4, 6, 8), (1, 2, 3, 6, 4, 8, 5, 0, 7), (4, 1, 3, 2, 0, 5, 6, 7, 8), (1, 3, 5, 4, 0, 2, 6, 7, 8), (1, 3, 0, 7, 2, 5, 4, 6, 8), (1, 5, 0, 4, 3, 2, 6, 7, 8), (1, 0, 3, 6, 2, 4, 7, 8, 5), (1, 5, 2, 0, 4, 3, 6, 7, 8), (0, 2, 3, 1, 6, 5, 7, 4, 8), (0, 2, 3, 1, 4, 8, 6, 5, 7), (0, 1, 3, 4, 2, 8, 6, 5, 7), (1, 2, 3, 7, 5, 8, 0, 4, 6), (1, 2, 0, 5, 8, 3, 4, 6, 7), (1, 2, 3, 0, 4, 7, 6, 8, 5), (0, 1, 3, 6, 2, 5, 7, 4, 8), (1, 5, 2, 0, 7, 3, 4, 6, 8), (1, 2, 3, 7, 6, 4, 0, 8, 5), (1, 5, 2, 4, 7, 0, 6, 8, 3), (2, 3, 0, 1, 4, 5, 6, 7, 8), (1, 0, 2, 6, 4, 3, 7, 8, 5), (1, 3, 5, 4, 2, 8, 6, 7, 0), (4, 1, 2, 5, 0, 3, 6, 7, 8), (2, 0, 3, 1, 5, 8, 4, 6, 7), (1, 2, 3, 6, 8, 4, 7, 0, 5), (0, 1, 3, 7, 2, 5, 4, 6, 8), (0, 2, 3, 1, 6, 4, 7, 8, 5), (2, 4, 3, 1, 0, 5, 6, 7, 8), (4, 1, 2, 6, 0, 3, 7, 5, 8), (1, 3, 0, 6, 2, 5, 7, 4, 8), (1, 0, 3, 4, 2, 7, 6, 8, 5), (2, 0, 3, 1, 7, 5, 4, 6, 8), (1, 0, 3, 5, 2, 8, 4, 6, 7), (1, 0, 2, 6, 5, 3, 7, 4, 8), (1, 2, 3, 7, 0, 8, 4, 5, 6), (1, 2, 3, 5, 8, 7, 4, 6, 0), (1, 3, 0, 4, 2, 8, 6, 5, 7), (1, 2, 3, 5, 6, 8, 0, 4, 7), (1, 0, 2, 4, 7, 3, 6, 8, 5), (4, 1, 3, 6, 0, 5, 7, 2, 8), (1, 0, 2, 4, 8, 3, 6, 5, 7)]\n",
            "Current state: (1, 2, 3, 7, 6, 0, 4, 8, 5)\n",
            "Frontier: [(4, 1, 3, 6, 2, 5, 7, 8, 0), (1, 2, 3, 5, 6, 0, 4, 7, 8), (1, 2, 3, 7, 0, 6, 4, 8, 5), (1, 2, 3, 6, 5, 8, 7, 4, 0), (4, 1, 2, 6, 5, 0, 7, 8, 3), (1, 2, 3, 4, 8, 7, 6, 0, 5), (1, 0, 3, 6, 2, 4, 7, 8, 5), (1, 2, 3, 7, 6, 5, 0, 4, 8), (1, 2, 0, 7, 5, 3, 4, 6, 8), (1, 2, 3, 6, 4, 8, 5, 0, 7), (4, 1, 3, 2, 0, 5, 6, 7, 8), (1, 5, 2, 4, 3, 8, 6, 7, 0), (1, 3, 0, 7, 2, 5, 4, 6, 8), (1, 5, 0, 4, 3, 2, 6, 7, 8), (2, 0, 3, 1, 5, 8, 4, 6, 7), (1, 5, 2, 0, 4, 3, 6, 7, 8), (0, 2, 3, 1, 6, 5, 7, 4, 8), (0, 2, 3, 1, 4, 8, 6, 5, 7), (0, 1, 3, 4, 2, 8, 6, 5, 7), (1, 2, 3, 7, 5, 8, 0, 4, 6), (1, 2, 0, 5, 8, 3, 4, 6, 7), (1, 2, 3, 0, 4, 7, 6, 8, 5), (0, 1, 3, 6, 2, 5, 7, 4, 8), (1, 3, 5, 4, 0, 2, 6, 7, 8), (1, 2, 3, 7, 6, 4, 0, 8, 5), (1, 5, 2, 4, 7, 0, 6, 8, 3), (2, 3, 0, 1, 4, 5, 6, 7, 8), (1, 0, 2, 6, 4, 3, 7, 8, 5), (1, 3, 5, 4, 2, 8, 6, 7, 0), (4, 1, 2, 5, 0, 3, 6, 7, 8), (1, 0, 2, 4, 8, 3, 6, 5, 7), (1, 2, 3, 6, 8, 4, 7, 0, 5), (0, 1, 3, 7, 2, 5, 4, 6, 8), (0, 2, 3, 1, 6, 4, 7, 8, 5), (2, 4, 3, 1, 0, 5, 6, 7, 8), (4, 1, 2, 6, 0, 3, 7, 5, 8), (1, 3, 0, 6, 2, 5, 7, 4, 8), (1, 0, 3, 4, 2, 7, 6, 8, 5), (2, 0, 3, 1, 7, 5, 4, 6, 8), (1, 0, 3, 5, 2, 8, 4, 6, 7), (1, 0, 2, 6, 5, 3, 7, 4, 8), (1, 2, 3, 7, 0, 8, 4, 5, 6), (1, 2, 3, 5, 8, 7, 4, 6, 0), (1, 3, 0, 4, 2, 8, 6, 5, 7), (1, 2, 3, 5, 6, 8, 0, 4, 7), (1, 0, 2, 4, 7, 3, 6, 8, 5), (4, 1, 3, 6, 0, 5, 7, 2, 8), (1, 2, 0, 7, 6, 3, 4, 8, 5), (1, 5, 2, 0, 7, 3, 4, 6, 8)]\n",
            "Current state: (4, 1, 3, 6, 2, 5, 7, 8, 0)\n",
            "Frontier: [(1, 2, 3, 7, 0, 6, 4, 8, 5), (1, 2, 3, 5, 6, 0, 4, 7, 8), (1, 0, 3, 6, 2, 4, 7, 8, 5), (1, 2, 3, 6, 5, 8, 7, 4, 0), (4, 1, 2, 6, 5, 0, 7, 8, 3), (1, 2, 3, 4, 8, 7, 6, 0, 5), (2, 0, 3, 1, 5, 8, 4, 6, 7), (1, 2, 3, 7, 6, 5, 0, 4, 8), (1, 2, 0, 7, 5, 3, 4, 6, 8), (1, 2, 3, 6, 4, 8, 5, 0, 7), (4, 1, 3, 2, 0, 5, 6, 7, 8), (1, 5, 2, 4, 3, 8, 6, 7, 0), (1, 3, 0, 7, 2, 5, 4, 6, 8), (1, 5, 0, 4, 3, 2, 6, 7, 8), (1, 0, 2, 4, 8, 3, 6, 5, 7), (1, 5, 2, 0, 4, 3, 6, 7, 8), (0, 2, 3, 1, 6, 5, 7, 4, 8), (0, 2, 3, 1, 4, 8, 6, 5, 7), (0, 1, 3, 4, 2, 8, 6, 5, 7), (1, 2, 3, 7, 5, 8, 0, 4, 6), (1, 2, 0, 5, 8, 3, 4, 6, 7), (1, 2, 3, 0, 4, 7, 6, 8, 5), (0, 1, 3, 6, 2, 5, 7, 4, 8), (1, 3, 5, 4, 0, 2, 6, 7, 8), (1, 2, 3, 7, 6, 4, 0, 8, 5), (1, 5, 2, 4, 7, 0, 6, 8, 3), (2, 3, 0, 1, 4, 5, 6, 7, 8), (1, 0, 2, 6, 4, 3, 7, 8, 5), (1, 3, 5, 4, 2, 8, 6, 7, 0), (4, 1, 2, 5, 0, 3, 6, 7, 8), (1, 5, 2, 0, 7, 3, 4, 6, 8), (1, 2, 3, 6, 8, 4, 7, 0, 5), (0, 1, 3, 7, 2, 5, 4, 6, 8), (0, 2, 3, 1, 6, 4, 7, 8, 5), (2, 4, 3, 1, 0, 5, 6, 7, 8), (4, 1, 2, 6, 0, 3, 7, 5, 8), (1, 3, 0, 6, 2, 5, 7, 4, 8), (1, 0, 3, 4, 2, 7, 6, 8, 5), (2, 0, 3, 1, 7, 5, 4, 6, 8), (1, 0, 3, 5, 2, 8, 4, 6, 7), (1, 0, 2, 6, 5, 3, 7, 4, 8), (1, 2, 3, 7, 0, 8, 4, 5, 6), (1, 2, 3, 5, 8, 7, 4, 6, 0), (1, 3, 0, 4, 2, 8, 6, 5, 7), (1, 2, 3, 5, 6, 8, 0, 4, 7), (1, 0, 2, 4, 7, 3, 6, 8, 5), (4, 1, 3, 6, 0, 5, 7, 2, 8), (1, 2, 0, 7, 6, 3, 4, 8, 5), (4, 1, 3, 6, 2, 0, 7, 8, 5)]\n",
            "Current state: (1, 2, 3, 7, 0, 6, 4, 8, 5)\n",
            "Frontier: [(1, 2, 3, 5, 6, 0, 4, 7, 8), (1, 2, 3, 6, 5, 8, 7, 4, 0), (1, 0, 3, 6, 2, 4, 7, 8, 5), (1, 2, 0, 7, 5, 3, 4, 6, 8), (4, 1, 2, 6, 5, 0, 7, 8, 3), (1, 2, 3, 4, 8, 7, 6, 0, 5), (2, 0, 3, 1, 5, 8, 4, 6, 7), (1, 2, 3, 7, 6, 5, 0, 4, 8), (0, 1, 3, 4, 2, 8, 6, 5, 7), (1, 2, 3, 6, 4, 8, 5, 0, 7), (4, 1, 3, 2, 0, 5, 6, 7, 8), (1, 5, 2, 4, 3, 8, 6, 7, 0), (1, 3, 0, 7, 2, 5, 4, 6, 8), (1, 5, 0, 4, 3, 2, 6, 7, 8), (1, 0, 2, 4, 8, 3, 6, 5, 7), (1, 5, 2, 0, 4, 3, 6, 7, 8), (0, 2, 3, 1, 6, 5, 7, 4, 8), (0, 2, 3, 1, 4, 8, 6, 5, 7), (2, 0, 3, 1, 7, 5, 4, 6, 8), (1, 2, 3, 7, 5, 8, 0, 4, 6), (1, 2, 0, 5, 8, 3, 4, 6, 7), (1, 2, 3, 0, 4, 7, 6, 8, 5), (0, 1, 3, 6, 2, 5, 7, 4, 8), (1, 3, 5, 4, 0, 2, 6, 7, 8), (1, 2, 3, 7, 6, 4, 0, 8, 5), (1, 5, 2, 4, 7, 0, 6, 8, 3), (2, 3, 0, 1, 4, 5, 6, 7, 8), (1, 0, 2, 6, 4, 3, 7, 8, 5), (1, 3, 5, 4, 2, 8, 6, 7, 0), (4, 1, 2, 5, 0, 3, 6, 7, 8), (1, 5, 2, 0, 7, 3, 4, 6, 8), (1, 2, 3, 6, 8, 4, 7, 0, 5), (0, 1, 3, 7, 2, 5, 4, 6, 8), (0, 2, 3, 1, 6, 4, 7, 8, 5), (2, 4, 3, 1, 0, 5, 6, 7, 8), (4, 1, 2, 6, 0, 3, 7, 5, 8), (1, 3, 0, 6, 2, 5, 7, 4, 8), (1, 0, 3, 4, 2, 7, 6, 8, 5), (4, 1, 3, 6, 2, 0, 7, 8, 5), (1, 0, 3, 5, 2, 8, 4, 6, 7), (1, 0, 2, 6, 5, 3, 7, 4, 8), (1, 2, 3, 7, 0, 8, 4, 5, 6), (1, 2, 3, 5, 8, 7, 4, 6, 0), (1, 3, 0, 4, 2, 8, 6, 5, 7), (1, 2, 3, 5, 6, 8, 0, 4, 7), (1, 0, 2, 4, 7, 3, 6, 8, 5), (4, 1, 3, 6, 0, 5, 7, 2, 8), (1, 2, 0, 7, 6, 3, 4, 8, 5), (1, 0, 3, 7, 2, 6, 4, 8, 5), (1, 2, 3, 7, 8, 6, 4, 0, 5), (1, 2, 3, 0, 7, 6, 4, 8, 5)]\n",
            "Current state: (1, 2, 3, 5, 6, 0, 4, 7, 8)\n",
            "Frontier: [(1, 2, 3, 6, 5, 8, 7, 4, 0), (1, 2, 0, 7, 5, 3, 4, 6, 8), (1, 2, 3, 5, 0, 6, 4, 7, 8), (1, 2, 3, 7, 6, 5, 0, 4, 8), (4, 1, 2, 6, 5, 0, 7, 8, 3), (1, 0, 3, 6, 2, 4, 7, 8, 5), (2, 0, 3, 1, 5, 8, 4, 6, 7), (0, 2, 3, 1, 6, 5, 7, 4, 8), (0, 1, 3, 4, 2, 8, 6, 5, 7), (1, 2, 3, 6, 4, 8, 5, 0, 7), (4, 1, 3, 2, 0, 5, 6, 7, 8), (1, 5, 2, 4, 3, 8, 6, 7, 0), (1, 2, 3, 4, 8, 7, 6, 0, 5), (1, 5, 0, 4, 3, 2, 6, 7, 8), (1, 0, 2, 4, 8, 3, 6, 5, 7), (1, 5, 2, 0, 4, 3, 6, 7, 8), (2, 4, 3, 1, 0, 5, 6, 7, 8), (0, 2, 3, 1, 4, 8, 6, 5, 7), (2, 0, 3, 1, 7, 5, 4, 6, 8), (1, 2, 3, 7, 5, 8, 0, 4, 6), (1, 2, 0, 5, 8, 3, 4, 6, 7), (1, 2, 3, 0, 4, 7, 6, 8, 5), (0, 1, 3, 6, 2, 5, 7, 4, 8), (1, 3, 5, 4, 0, 2, 6, 7, 8), (1, 2, 3, 7, 6, 4, 0, 8, 5), (1, 3, 0, 7, 2, 5, 4, 6, 8), (2, 3, 0, 1, 4, 5, 6, 7, 8), (1, 0, 2, 6, 4, 3, 7, 8, 5), (1, 3, 5, 4, 2, 8, 6, 7, 0), (4, 1, 2, 5, 0, 3, 6, 7, 8), (1, 5, 2, 0, 7, 3, 4, 6, 8), (1, 2, 3, 6, 8, 4, 7, 0, 5), (0, 1, 3, 7, 2, 5, 4, 6, 8), (0, 2, 3, 1, 6, 4, 7, 8, 5), (1, 2, 3, 0, 7, 6, 4, 8, 5), (4, 1, 2, 6, 0, 3, 7, 5, 8), (1, 3, 0, 6, 2, 5, 7, 4, 8), (1, 0, 3, 4, 2, 7, 6, 8, 5), (4, 1, 3, 6, 2, 0, 7, 8, 5), (1, 0, 3, 5, 2, 8, 4, 6, 7), (1, 0, 2, 6, 5, 3, 7, 4, 8), (1, 2, 3, 7, 0, 8, 4, 5, 6), (1, 2, 3, 5, 8, 7, 4, 6, 0), (1, 3, 0, 4, 2, 8, 6, 5, 7), (1, 2, 3, 5, 6, 8, 0, 4, 7), (1, 0, 2, 4, 7, 3, 6, 8, 5), (4, 1, 3, 6, 0, 5, 7, 2, 8), (1, 2, 0, 7, 6, 3, 4, 8, 5), (1, 0, 3, 7, 2, 6, 4, 8, 5), (1, 2, 3, 7, 8, 6, 4, 0, 5), (1, 2, 0, 5, 6, 3, 4, 7, 8), (1, 5, 2, 4, 7, 0, 6, 8, 3)]\n",
            "Current state: (1, 2, 3, 6, 5, 8, 7, 4, 0)\n",
            "Frontier: [(1, 2, 3, 5, 0, 6, 4, 7, 8), (1, 2, 0, 7, 5, 3, 4, 6, 8), (2, 0, 3, 1, 5, 8, 4, 6, 7), (1, 2, 3, 7, 6, 5, 0, 4, 8), (4, 1, 2, 6, 5, 0, 7, 8, 3), (1, 0, 3, 6, 2, 4, 7, 8, 5), (1, 0, 2, 4, 8, 3, 6, 5, 7), (0, 2, 3, 1, 6, 5, 7, 4, 8), (0, 1, 3, 4, 2, 8, 6, 5, 7), (1, 2, 3, 6, 4, 8, 5, 0, 7), (4, 1, 3, 2, 0, 5, 6, 7, 8), (1, 5, 2, 4, 3, 8, 6, 7, 0), (1, 2, 3, 4, 8, 7, 6, 0, 5), (1, 5, 0, 4, 3, 2, 6, 7, 8), (1, 5, 2, 0, 7, 3, 4, 6, 8), (1, 5, 2, 0, 4, 3, 6, 7, 8), (2, 4, 3, 1, 0, 5, 6, 7, 8), (0, 2, 3, 1, 4, 8, 6, 5, 7), (2, 0, 3, 1, 7, 5, 4, 6, 8), (1, 2, 3, 7, 5, 8, 0, 4, 6), (1, 2, 0, 5, 8, 3, 4, 6, 7), (1, 2, 3, 0, 4, 7, 6, 8, 5), (0, 1, 3, 6, 2, 5, 7, 4, 8), (1, 3, 5, 4, 0, 2, 6, 7, 8), (1, 2, 3, 7, 6, 4, 0, 8, 5), (1, 3, 0, 7, 2, 5, 4, 6, 8), (2, 3, 0, 1, 4, 5, 6, 7, 8), (1, 0, 2, 6, 4, 3, 7, 8, 5), (1, 3, 5, 4, 2, 8, 6, 7, 0), (4, 1, 2, 5, 0, 3, 6, 7, 8), (1, 5, 2, 4, 7, 0, 6, 8, 3), (1, 2, 3, 6, 8, 4, 7, 0, 5), (0, 1, 3, 7, 2, 5, 4, 6, 8), (0, 2, 3, 1, 6, 4, 7, 8, 5), (1, 2, 3, 0, 7, 6, 4, 8, 5), (4, 1, 2, 6, 0, 3, 7, 5, 8), (1, 3, 0, 6, 2, 5, 7, 4, 8), (1, 0, 3, 4, 2, 7, 6, 8, 5), (4, 1, 3, 6, 2, 0, 7, 8, 5), (1, 0, 3, 5, 2, 8, 4, 6, 7), (1, 0, 2, 6, 5, 3, 7, 4, 8), (1, 2, 3, 7, 0, 8, 4, 5, 6), (1, 2, 3, 5, 8, 7, 4, 6, 0), (1, 3, 0, 4, 2, 8, 6, 5, 7), (1, 2, 3, 5, 6, 8, 0, 4, 7), (1, 0, 2, 4, 7, 3, 6, 8, 5), (4, 1, 3, 6, 0, 5, 7, 2, 8), (1, 2, 0, 7, 6, 3, 4, 8, 5), (1, 0, 3, 7, 2, 6, 4, 8, 5), (1, 2, 3, 7, 8, 6, 4, 0, 5), (1, 2, 0, 5, 6, 3, 4, 7, 8), (1, 2, 3, 6, 5, 8, 7, 0, 4)]\n",
            "Current state: (1, 2, 3, 5, 0, 6, 4, 7, 8)\n",
            "Frontier: [(1, 2, 0, 7, 5, 3, 4, 6, 8), (1, 2, 3, 7, 6, 5, 0, 4, 8), (1, 2, 3, 0, 5, 6, 4, 7, 8), (0, 2, 3, 1, 6, 5, 7, 4, 8), (4, 1, 2, 6, 5, 0, 7, 8, 3), (2, 0, 3, 1, 5, 8, 4, 6, 7), (1, 0, 2, 4, 8, 3, 6, 5, 7), (1, 5, 2, 0, 4, 3, 6, 7, 8), (0, 1, 3, 4, 2, 8, 6, 5, 7), (1, 2, 3, 6, 4, 8, 5, 0, 7), (4, 1, 3, 2, 0, 5, 6, 7, 8), (1, 5, 2, 4, 3, 8, 6, 7, 0), (1, 0, 3, 6, 2, 4, 7, 8, 5), (1, 5, 0, 4, 3, 2, 6, 7, 8), (1, 5, 2, 0, 7, 3, 4, 6, 8), (0, 1, 3, 7, 2, 5, 4, 6, 8), (2, 4, 3, 1, 0, 5, 6, 7, 8), (0, 2, 3, 1, 4, 8, 6, 5, 7), (2, 0, 3, 1, 7, 5, 4, 6, 8), (1, 2, 3, 7, 5, 8, 0, 4, 6), (1, 2, 0, 5, 8, 3, 4, 6, 7), (1, 2, 3, 0, 4, 7, 6, 8, 5), (0, 1, 3, 6, 2, 5, 7, 4, 8), (1, 3, 5, 4, 0, 2, 6, 7, 8), (1, 2, 3, 7, 6, 4, 0, 8, 5), (1, 3, 0, 7, 2, 5, 4, 6, 8), (1, 2, 3, 4, 8, 7, 6, 0, 5), (1, 0, 2, 6, 4, 3, 7, 8, 5), (1, 3, 5, 4, 2, 8, 6, 7, 0), (4, 1, 2, 5, 0, 3, 6, 7, 8), (1, 5, 2, 4, 7, 0, 6, 8, 3), (1, 2, 3, 6, 8, 4, 7, 0, 5), (1, 2, 3, 6, 5, 8, 7, 0, 4), (0, 2, 3, 1, 6, 4, 7, 8, 5), (1, 2, 3, 0, 7, 6, 4, 8, 5), (4, 1, 2, 6, 0, 3, 7, 5, 8), (1, 3, 0, 6, 2, 5, 7, 4, 8), (1, 0, 3, 4, 2, 7, 6, 8, 5), (4, 1, 3, 6, 2, 0, 7, 8, 5), (1, 0, 3, 5, 2, 8, 4, 6, 7), (1, 0, 2, 6, 5, 3, 7, 4, 8), (1, 2, 3, 7, 0, 8, 4, 5, 6), (1, 2, 3, 5, 8, 7, 4, 6, 0), (1, 3, 0, 4, 2, 8, 6, 5, 7), (1, 2, 3, 5, 6, 8, 0, 4, 7), (1, 0, 2, 4, 7, 3, 6, 8, 5), (4, 1, 3, 6, 0, 5, 7, 2, 8), (1, 2, 0, 7, 6, 3, 4, 8, 5), (1, 0, 3, 7, 2, 6, 4, 8, 5), (1, 2, 3, 7, 8, 6, 4, 0, 5), (1, 2, 0, 5, 6, 3, 4, 7, 8), (1, 0, 3, 5, 2, 6, 4, 7, 8), (1, 2, 3, 5, 7, 6, 4, 0, 8), (2, 3, 0, 1, 4, 5, 6, 7, 8)]\n",
            "Current state: (1, 2, 0, 7, 5, 3, 4, 6, 8)\n",
            "Frontier: [(1, 2, 3, 0, 5, 6, 4, 7, 8), (1, 2, 3, 7, 6, 5, 0, 4, 8), (1, 0, 2, 4, 8, 3, 6, 5, 7), (0, 2, 3, 1, 6, 5, 7, 4, 8), (4, 1, 2, 6, 5, 0, 7, 8, 3), (2, 0, 3, 1, 5, 8, 4, 6, 7), (1, 5, 2, 0, 7, 3, 4, 6, 8), (1, 5, 2, 0, 4, 3, 6, 7, 8), (0, 1, 3, 4, 2, 8, 6, 5, 7), (1, 2, 3, 6, 4, 8, 5, 0, 7), (4, 1, 3, 2, 0, 5, 6, 7, 8), (1, 5, 2, 4, 3, 8, 6, 7, 0), (1, 0, 3, 6, 2, 4, 7, 8, 5), (1, 5, 0, 4, 3, 2, 6, 7, 8), (1, 5, 2, 4, 7, 0, 6, 8, 3), (0, 1, 3, 7, 2, 5, 4, 6, 8), (2, 4, 3, 1, 0, 5, 6, 7, 8), (0, 2, 3, 1, 4, 8, 6, 5, 7), (2, 0, 3, 1, 7, 5, 4, 6, 8), (1, 2, 3, 7, 5, 8, 0, 4, 6), (1, 2, 0, 5, 8, 3, 4, 6, 7), (1, 2, 3, 0, 4, 7, 6, 8, 5), (0, 1, 3, 6, 2, 5, 7, 4, 8), (1, 3, 5, 4, 0, 2, 6, 7, 8), (1, 2, 3, 7, 6, 4, 0, 8, 5), (1, 3, 0, 7, 2, 5, 4, 6, 8), (1, 2, 3, 4, 8, 7, 6, 0, 5), (1, 0, 2, 6, 4, 3, 7, 8, 5), (1, 3, 5, 4, 2, 8, 6, 7, 0), (4, 1, 2, 5, 0, 3, 6, 7, 8), (2, 3, 0, 1, 4, 5, 6, 7, 8), (1, 2, 3, 6, 8, 4, 7, 0, 5), (1, 2, 3, 6, 5, 8, 7, 0, 4), (0, 2, 3, 1, 6, 4, 7, 8, 5), (1, 2, 3, 0, 7, 6, 4, 8, 5), (4, 1, 2, 6, 0, 3, 7, 5, 8), (1, 3, 0, 6, 2, 5, 7, 4, 8), (1, 0, 3, 4, 2, 7, 6, 8, 5), (4, 1, 3, 6, 2, 0, 7, 8, 5), (1, 0, 3, 5, 2, 8, 4, 6, 7), (1, 0, 2, 6, 5, 3, 7, 4, 8), (1, 2, 3, 7, 0, 8, 4, 5, 6), (1, 2, 3, 5, 8, 7, 4, 6, 0), (1, 3, 0, 4, 2, 8, 6, 5, 7), (1, 2, 3, 5, 6, 8, 0, 4, 7), (1, 0, 2, 4, 7, 3, 6, 8, 5), (4, 1, 3, 6, 0, 5, 7, 2, 8), (1, 2, 0, 7, 6, 3, 4, 8, 5), (1, 0, 3, 7, 2, 6, 4, 8, 5), (1, 2, 3, 7, 8, 6, 4, 0, 5), (1, 2, 0, 5, 6, 3, 4, 7, 8), (1, 0, 3, 5, 2, 6, 4, 7, 8), (1, 2, 3, 5, 7, 6, 4, 0, 8), (1, 0, 2, 7, 5, 3, 4, 6, 8)]\n",
            "Current state: (1, 2, 3, 0, 5, 6, 4, 7, 8)\n",
            "Frontier: [(1, 2, 3, 7, 6, 5, 0, 4, 8), (0, 2, 3, 1, 6, 5, 7, 4, 8), (1, 2, 3, 4, 5, 6, 0, 7, 8), (1, 5, 2, 0, 4, 3, 6, 7, 8), (4, 1, 2, 6, 5, 0, 7, 8, 3), (1, 0, 2, 4, 8, 3, 6, 5, 7), (1, 5, 2, 0, 7, 3, 4, 6, 8), (2, 4, 3, 1, 0, 5, 6, 7, 8), (0, 1, 3, 4, 2, 8, 6, 5, 7), (1, 2, 3, 6, 4, 8, 5, 0, 7), (4, 1, 3, 2, 0, 5, 6, 7, 8), (1, 5, 2, 4, 3, 8, 6, 7, 0), (2, 0, 3, 1, 5, 8, 4, 6, 7), (1, 5, 0, 4, 3, 2, 6, 7, 8), (1, 5, 2, 4, 7, 0, 6, 8, 3), (0, 1, 3, 7, 2, 5, 4, 6, 8), (1, 2, 3, 0, 7, 6, 4, 8, 5), (0, 2, 3, 1, 4, 8, 6, 5, 7), (2, 0, 3, 1, 7, 5, 4, 6, 8), (1, 2, 3, 7, 5, 8, 0, 4, 6), (1, 2, 0, 5, 8, 3, 4, 6, 7), (1, 2, 3, 0, 4, 7, 6, 8, 5), (0, 1, 3, 6, 2, 5, 7, 4, 8), (1, 3, 5, 4, 0, 2, 6, 7, 8), (1, 2, 3, 7, 6, 4, 0, 8, 5), (1, 3, 0, 7, 2, 5, 4, 6, 8), (1, 0, 3, 6, 2, 4, 7, 8, 5), (1, 0, 2, 6, 4, 3, 7, 8, 5), (1, 3, 5, 4, 2, 8, 6, 7, 0), (4, 1, 2, 5, 0, 3, 6, 7, 8), (2, 3, 0, 1, 4, 5, 6, 7, 8), (1, 2, 3, 6, 8, 4, 7, 0, 5), (1, 2, 3, 6, 5, 8, 7, 0, 4), (0, 2, 3, 1, 6, 4, 7, 8, 5), (1, 0, 2, 7, 5, 3, 4, 6, 8), (4, 1, 2, 6, 0, 3, 7, 5, 8), (1, 3, 0, 6, 2, 5, 7, 4, 8), (1, 0, 3, 4, 2, 7, 6, 8, 5), (4, 1, 3, 6, 2, 0, 7, 8, 5), (1, 0, 3, 5, 2, 8, 4, 6, 7), (1, 0, 2, 6, 5, 3, 7, 4, 8), (1, 2, 3, 7, 0, 8, 4, 5, 6), (1, 2, 3, 5, 8, 7, 4, 6, 0), (1, 3, 0, 4, 2, 8, 6, 5, 7), (1, 2, 3, 5, 6, 8, 0, 4, 7), (1, 0, 2, 4, 7, 3, 6, 8, 5), (4, 1, 3, 6, 0, 5, 7, 2, 8), (1, 2, 0, 7, 6, 3, 4, 8, 5), (1, 0, 3, 7, 2, 6, 4, 8, 5), (1, 2, 3, 7, 8, 6, 4, 0, 5), (1, 2, 0, 5, 6, 3, 4, 7, 8), (1, 0, 3, 5, 2, 6, 4, 7, 8), (1, 2, 3, 5, 7, 6, 4, 0, 8), (0, 2, 3, 1, 5, 6, 4, 7, 8), (1, 2, 3, 4, 8, 7, 6, 0, 5)]\n",
            "Current state: (1, 2, 3, 7, 6, 5, 0, 4, 8)\n",
            "Frontier: [(1, 2, 3, 4, 5, 6, 0, 7, 8), (0, 2, 3, 1, 6, 5, 7, 4, 8), (1, 5, 2, 0, 7, 3, 4, 6, 8), (1, 5, 2, 0, 4, 3, 6, 7, 8), (4, 1, 2, 6, 5, 0, 7, 8, 3), (1, 0, 2, 4, 8, 3, 6, 5, 7), (1, 5, 2, 4, 7, 0, 6, 8, 3), (2, 4, 3, 1, 0, 5, 6, 7, 8), (0, 1, 3, 4, 2, 8, 6, 5, 7), (1, 2, 3, 6, 4, 8, 5, 0, 7), (4, 1, 3, 2, 0, 5, 6, 7, 8), (1, 5, 2, 4, 3, 8, 6, 7, 0), (2, 0, 3, 1, 5, 8, 4, 6, 7), (1, 5, 0, 4, 3, 2, 6, 7, 8), (2, 3, 0, 1, 4, 5, 6, 7, 8), (0, 1, 3, 7, 2, 5, 4, 6, 8), (1, 2, 3, 0, 7, 6, 4, 8, 5), (0, 2, 3, 1, 4, 8, 6, 5, 7), (2, 0, 3, 1, 7, 5, 4, 6, 8), (1, 2, 3, 7, 5, 8, 0, 4, 6), (1, 2, 0, 5, 8, 3, 4, 6, 7), (1, 2, 3, 0, 4, 7, 6, 8, 5), (0, 1, 3, 6, 2, 5, 7, 4, 8), (1, 3, 5, 4, 0, 2, 6, 7, 8), (1, 2, 3, 7, 6, 4, 0, 8, 5), (1, 3, 0, 7, 2, 5, 4, 6, 8), (1, 0, 3, 6, 2, 4, 7, 8, 5), (1, 0, 2, 6, 4, 3, 7, 8, 5), (1, 3, 5, 4, 2, 8, 6, 7, 0), (4, 1, 2, 5, 0, 3, 6, 7, 8), (1, 2, 3, 4, 8, 7, 6, 0, 5), (1, 2, 3, 6, 8, 4, 7, 0, 5), (1, 2, 3, 6, 5, 8, 7, 0, 4), (0, 2, 3, 1, 6, 4, 7, 8, 5), (1, 0, 2, 7, 5, 3, 4, 6, 8), (4, 1, 2, 6, 0, 3, 7, 5, 8), (1, 3, 0, 6, 2, 5, 7, 4, 8), (1, 0, 3, 4, 2, 7, 6, 8, 5), (4, 1, 3, 6, 2, 0, 7, 8, 5), (1, 0, 3, 5, 2, 8, 4, 6, 7), (1, 0, 2, 6, 5, 3, 7, 4, 8), (1, 2, 3, 7, 0, 8, 4, 5, 6), (1, 2, 3, 5, 8, 7, 4, 6, 0), (1, 3, 0, 4, 2, 8, 6, 5, 7), (1, 2, 3, 5, 6, 8, 0, 4, 7), (1, 0, 2, 4, 7, 3, 6, 8, 5), (4, 1, 3, 6, 0, 5, 7, 2, 8), (1, 2, 0, 7, 6, 3, 4, 8, 5), (1, 0, 3, 7, 2, 6, 4, 8, 5), (1, 2, 3, 7, 8, 6, 4, 0, 5), (1, 2, 0, 5, 6, 3, 4, 7, 8), (1, 0, 3, 5, 2, 6, 4, 7, 8), (1, 2, 3, 5, 7, 6, 4, 0, 8), (0, 2, 3, 1, 5, 6, 4, 7, 8)]\n",
            "Current state: (1, 2, 3, 4, 5, 6, 0, 7, 8)\n",
            "Depth Limit of 11.0 reached\n"
          ]
        },
        {
          "ename": "AttributeError",
          "evalue": "'NoneType' object has no attribute 'state'",
          "output_type": "error",
          "traceback": [
            "\u001b[1;31m---------------------------------------------------------------------------\u001b[0m",
            "\u001b[1;31mAttributeError\u001b[0m                            Traceback (most recent call last)",
            "Input \u001b[1;32mIn [49]\u001b[0m, in \u001b[0;36m<cell line: 2>\u001b[1;34m()\u001b[0m\n\u001b[0;32m      1\u001b[0m state \u001b[38;5;241m=\u001b[39m astar((\u001b[38;5;241m1\u001b[39m,\u001b[38;5;241m2\u001b[39m,\u001b[38;5;241m3\u001b[39m,\u001b[38;5;241m4\u001b[39m,\u001b[38;5;241m5\u001b[39m,\u001b[38;5;241m0\u001b[39m,\u001b[38;5;241m6\u001b[39m,\u001b[38;5;241m7\u001b[39m,\u001b[38;5;241m8\u001b[39m), (\u001b[38;5;241m1\u001b[39m,\u001b[38;5;241m2\u001b[39m,\u001b[38;5;241m3\u001b[39m,\u001b[38;5;241m4\u001b[39m,\u001b[38;5;241m5\u001b[39m,\u001b[38;5;241m6\u001b[39m,\u001b[38;5;241m7\u001b[39m,\u001b[38;5;241m8\u001b[39m,\u001b[38;5;241m0\u001b[39m),h2)\n\u001b[1;32m----> 2\u001b[0m \u001b[38;5;28mprint\u001b[39m(\u001b[43mstate\u001b[49m\u001b[38;5;241;43m.\u001b[39;49m\u001b[43mstate\u001b[49m)\n",
            "\u001b[1;31mAttributeError\u001b[0m: 'NoneType' object has no attribute 'state'"
          ]
        }
      ],
      "source": [
        "state = astar((1,2,3,4,5,0,6,7,8), (1,2,3,4,5,6,7,8,0),h2)\n",
        "print(state.state)"
      ]
    },
    {
      "cell_type": "code",
      "execution_count": null,
      "metadata": {
        "id": "iExNVJrdkYke",
        "outputId": "e8a92c9f-b1ed-4466-a7b3-3a5f30fc44a6"
      },
      "outputs": [
        {
          "name": "stdout",
          "output_type": "stream",
          "text": [
            "None\n"
          ]
        },
        {
          "ename": "AttributeError",
          "evalue": "'NoneType' object has no attribute 'parent'",
          "output_type": "error",
          "traceback": [
            "\u001b[1;31m---------------------------------------------------------------------------\u001b[0m",
            "\u001b[1;31mAttributeError\u001b[0m                            Traceback (most recent call last)",
            "Input \u001b[1;32mIn [50]\u001b[0m, in \u001b[0;36m<cell line: 3>\u001b[1;34m()\u001b[0m\n\u001b[0;32m      1\u001b[0m \u001b[38;5;28mprint\u001b[39m(state)\n\u001b[0;32m      2\u001b[0m s \u001b[38;5;241m=\u001b[39m state\n\u001b[1;32m----> 3\u001b[0m \u001b[38;5;28;01mwhile\u001b[39;00m \u001b[43ms\u001b[49m\u001b[38;5;241;43m.\u001b[39;49m\u001b[43mparent\u001b[49m:\n\u001b[0;32m      4\u001b[0m     \u001b[38;5;28mprint\u001b[39m(s\u001b[38;5;241m.\u001b[39mparent)\n\u001b[0;32m      5\u001b[0m     s \u001b[38;5;241m=\u001b[39m s\u001b[38;5;241m.\u001b[39mparent\n",
            "\u001b[1;31mAttributeError\u001b[0m: 'NoneType' object has no attribute 'parent'"
          ]
        }
      ],
      "source": [
        "print(state)\n",
        "s = state\n",
        "while s.parent:\n",
        "    print(s.parent)\n",
        "    s = s.parent"
      ]
    },
    {
      "cell_type": "code",
      "execution_count": null,
      "metadata": {
        "id": "fGBCfIIDkYke"
      },
      "outputs": [],
      "source": []
    },
    {
      "cell_type": "code",
      "execution_count": null,
      "metadata": {
        "id": "zz82MC9IkYke"
      },
      "outputs": [],
      "source": []
    },
    {
      "cell_type": "code",
      "execution_count": null,
      "metadata": {
        "id": "TX_MEUiAkYkf"
      },
      "outputs": [],
      "source": []
    }
  ],
  "metadata": {
    "kernelspec": {
      "display_name": "Python 3 (ipykernel)",
      "language": "python",
      "name": "python3"
    },
    "language_info": {
      "codemirror_mode": {
        "name": "ipython",
        "version": 3
      },
      "file_extension": ".py",
      "mimetype": "text/x-python",
      "name": "python",
      "nbconvert_exporter": "python",
      "pygments_lexer": "ipython3",
      "version": "3.9.12"
    },
    "colab": {
      "provenance": []
    }
  },
  "nbformat": 4,
  "nbformat_minor": 0
}